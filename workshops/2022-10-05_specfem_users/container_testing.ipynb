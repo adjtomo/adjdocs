{
 "cells": [
  {
   "cell_type": "markdown",
   "id": "b842c714",
   "metadata": {},
   "source": [
    "# SPECFEM Users Workshop (Oct. 5-7, 2022)\n",
    "-------------------------\n",
    "\n",
    "## Container Testing Instructions\n",
    "\n",
    ">__NOTE:__ These instructions should be run from inside the Docker container, using Jupyter Lab. The Docker container should have the adjTomo toolkit installed (SeisFlows, Pyatoa, PySEP), as well as SPECFEM2D and SPECEFM3D compiled with MPI. Simply `Cell -> run all` or run cells one by one to test out each of the SeisFlows examples.\n",
    "\n",
    "**Relevant Links:** \n",
    "- Workshop announcement: https://sites.google.com/alaska.edu/carltape/home/research/specfem2022?authuser=0\n",
    "- adjTomo Container: https://github.com/SeisSCOPED/adjtomo\n",
    "- adjTomo Org Page: https://github.com/adjTomo\n",
    "- SeisFlows docs: https://seisflows.readthedocs.io/en/devel/\n",
    "- Pyatoa docs: https://pyatoa.readthedocs.io/en/devel/\n",
    "- PySEP readme: https://github.com/uafgeotools/pysep#readme"
   ]
  },
  {
   "cell_type": "markdown",
   "id": "9c96ee39",
   "metadata": {},
   "source": [
    "## Testing SPECFEM2D\n",
    "\n",
    "We want to make sure we can run SPECFEM2D natively by running the example problem using MPI."
   ]
  },
  {
   "cell_type": "code",
   "execution_count": null,
   "id": "362d8989",
   "metadata": {},
   "outputs": [],
   "source": [
    "%cd /home/scoped/specfem2d\n",
    "\n",
    "# Convenience function to edit the SPECFEM Par_file from the command line\n",
    "! seisflows sempar -P DATA/Par_file nproc 4  # change number of processors from 1 to 4\n",
    "\n",
    "! mpirun -n 4 bin/xmeshfem2D\n",
    "! mpirun -n 4 bin/xspecfem2D"
   ]
  },
  {
   "cell_type": "markdown",
   "id": "1237c326",
   "metadata": {},
   "source": [
    "Using the navigation menu on the left, navigate to:\n",
    "\n",
    "`/home/scoped/specfem2d/OUTPUT_FILES`\n",
    "\n",
    "open any of the `forward_image*.jpg` files and see that the wavefront makes sense. It should look like a layered halfspace with topography and a cavity in the second layer."
   ]
  },
  {
   "cell_type": "markdown",
   "id": "7476b731",
   "metadata": {},
   "source": [
    "## SeisFlows Setup\n",
    "\n",
    "Some directory bookkeeping to make sure we keep the container `/home` directory free of clutter"
   ]
  },
  {
   "cell_type": "code",
   "execution_count": null,
   "id": "782e6d13",
   "metadata": {},
   "outputs": [],
   "source": [
    "%cd /home/scoped/work\n",
    "! mkdir example_1 example_2 example_2a example_3 "
   ]
  },
  {
   "cell_type": "markdown",
   "id": "3ec75623",
   "metadata": {},
   "source": [
    "## Example 1: Homogeneous Halfspace Inversion\n",
    "\n",
    "See [SeisFlows Example \\#1 docs page](https://seisflows.readthedocs.io/en/devel/specfem2d_example.html#example-1-homogenous-halfspace-inversion) for guidance on what is going on"
   ]
  },
  {
   "cell_type": "code",
   "execution_count": 2,
   "id": "8ad8dfc0",
   "metadata": {},
   "outputs": [
    {
     "name": "stdout",
     "output_type": "stream",
     "text": [
      "No existing SPECFEM2D repo given, default to: /home/bchow/REPOSITORIES/adjdocs/workshops/2022-10-05_specfem_users/specfem2d\r\n",
      "\r\n",
      "                                    @@@@@@@@@@                        \r\n",
      "                               .@@@@.    .%&(  %@.          \r\n",
      "                            @@@@   @@@@   &@@@@@@ ,%@       \r\n",
      "                         @@@@   @@@,  /@@              @    \r\n",
      "                        @@@   @@@@   @@@              @     \r\n",
      "                      @@@@   @@@@   @@@                @  @ \r\n",
      "                      @@@   @@@@   ,@@@                @ @  \r\n",
      "                     @@@@   @@@@    @@@@              @@ @ @\r\n",
      "                     @@@@   @@@@@    @@@@@          @@@ @@ @\r\n",
      "                     @@@@    @@@@@     @@@@@@@@@@@@@@  @@  @\r\n",
      "                      @@@@    @@@@@@        @@@&     @@@  @ \r\n",
      "                      @@@@@     @@@@@@@@         %@@@@#  @@ \r\n",
      "                        @@@@#      @@@@@@@@@@@@@@@@@   @@   \r\n",
      "                         &@@@@@          @@@@(       @@&    \r\n",
      "                            @@@@@@@             /@@@@       \r\n",
      "                                @@@@@@@@@@@@@@@@@\r\n",
      "                                    @@@@@@@@@@          \r\n",
      "\r\n",
      "\r\n",
      "================================================================================\r\n",
      "                              SEISFLOWS EXAMPLE 1                               \r\n",
      "                              ///////////////////                               \r\n",
      "This is a [SPECFEM2D] [WORKSTATION] example, which will run an inversion to\r\n",
      "assess misfit between two homogeneous halfspace models with slightly different\r\n",
      "velocities. [1 events, 1 station, 1 iterations]. The tasks involved include:\r\n",
      "\r\n",
      "1. (optional) Download, configure, compile SPECFEM2D\r\n",
      "2. [Setup] a SPECFEM2D working directory\r\n",
      "3. [Setup] starting model from 'Tape2007' example\r\n",
      "4. [Setup] target model w/ perturbed starting model\r\n",
      "5. [Setup] a SeisFlows working directory\r\n",
      "6. [Run] the inversion workflow\r\n",
      "================================================================================\r\n"
     ]
    }
   ],
   "source": [
    "# (optional) Print help dialogue\n",
    "! seisflows examples 1"
   ]
  },
  {
   "cell_type": "code",
   "execution_count": null,
   "id": "f0e86932",
   "metadata": {},
   "outputs": [],
   "source": [
    "# Run Example 1 with 2 processors\n",
    "%cd /home/scoped/work/example_1\n",
    "! seisflows examples run 1 -r /home/scoped/specfem2d --with_mpi --nproc 2"
   ]
  },
  {
   "cell_type": "code",
   "execution_count": null,
   "id": "6d9f6885",
   "metadata": {},
   "outputs": [],
   "source": [
    "# Plots the initial and final models, as well as the gradient \n",
    "! seisflows plot2d MODEL_INIT vs --savefig m_init_vs.png\n",
    "! seisflows plot2d MODEL_TRUE vs --savefig m_true_vs.png\n",
    "! seisflows plot2d MODEL_01 vs --savefig m_01_vs.png\n",
    "! seisflows plot2d GRADIENT_01 vs_kernel --savefig g_01_vs.png"
   ]
  },
  {
   "cell_type": "markdown",
   "id": "080a0662",
   "metadata": {},
   "source": [
    "Using the navigation menu on the left, navigate to:\n",
    "\n",
    "`/home/scoped/work/example_1`\n",
    "\n",
    "and click on the .png files that were created to look at the results of this simple inversion. They should match the figures shown in the documentation page."
   ]
  },
  {
   "cell_type": "markdown",
   "id": "5284ce77",
   "metadata": {},
   "source": [
    "## Example 2: Checkerboard inversion \n",
    "\n",
    "See [SeisFlows Example \\#2 docs page](https://seisflows.readthedocs.io/en/devel/specfem2d_example.html#example-2-checkerboard-inversion-w-pyaflowa-l-bfgs) for guidance on what is going on"
   ]
  },
  {
   "cell_type": "code",
   "execution_count": 3,
   "id": "664b7832",
   "metadata": {},
   "outputs": [
    {
     "name": "stdout",
     "output_type": "stream",
     "text": [
      "No existing SPECFEM2D repo given, default to: /home/bchow/REPOSITORIES/adjdocs/workshops/2022-10-05_specfem_users/specfem2d\n",
      "\n",
      "                                    @@@@@@@@@@                        \n",
      "                               .@@@@.    .%&(  %@.          \n",
      "                            @@@@   @@@@   &@@@@@@ ,%@       \n",
      "                         @@@@   @@@,  /@@              @    \n",
      "                        @@@   @@@@   @@@              @     \n",
      "                      @@@@   @@@@   @@@                @  @ \n",
      "                      @@@   @@@@   ,@@@                @ @  \n",
      "                     @@@@   @@@@    @@@@              @@ @ @\n",
      "                     @@@@   @@@@@    @@@@@          @@@ @@ @\n",
      "                     @@@@    @@@@@     @@@@@@@@@@@@@@  @@  @\n",
      "                      @@@@    @@@@@@        @@@&     @@@  @ \n",
      "                      @@@@@     @@@@@@@@         %@@@@#  @@ \n",
      "                        @@@@#      @@@@@@@@@@@@@@@@@   @@   \n",
      "                         &@@@@@          @@@@(       @@&    \n",
      "                            @@@@@@@             /@@@@       \n",
      "                                @@@@@@@@@@@@@@@@@\n",
      "                                    @@@@@@@@@@          \n",
      "\n",
      "\n",
      "================================================================================\n",
      "                              SEISFLOWS EXAMPLE 2                               \n",
      "                              ///////////////////                               \n",
      "This is a [SPECFEM2D] [WORKSTATION] example, which will run an inversion to\n",
      "assess misfit between a starting homogeneous halfspace model and a target\n",
      "checkerboard model. This example problem uses the [PYAFLOWA] preprocessing\n",
      "module and the [LBFGS] optimization algorithm. In this example, windowing in\n",
      "Pyaflowa is turnd OFF.[4 events, 32 stations, 2 iterations]. The tasks involved\n",
      "include:\n",
      "\n",
      "1. (optional) Download, configure, compile SPECFEM2D\n",
      "2. [Setup] a SPECFEM2D working directory\n",
      "3. [Setup] starting model from 'Tape2007' example\n",
      "4. [Setup] target model w/ perturbed starting model\n",
      "5. [Setup] a SeisFlows working directory\n",
      "6. [Run] the inversion workflow\n",
      "================================================================================\n"
     ]
    }
   ],
   "source": [
    "# (optional) Print help dialogue\n",
    "! seisflows examples 2"
   ]
  },
  {
   "cell_type": "code",
   "execution_count": null,
   "id": "bcab88e5",
   "metadata": {},
   "outputs": [],
   "source": [
    "# Run Example 2 with 1 processor\n",
    "%cd /home/scoped/work/example_2\n",
    "! seisflows examples run 2 -r /home/scoped/specfem2d --with_mpi"
   ]
  },
  {
   "cell_type": "code",
   "execution_count": null,
   "id": "8eea45dc",
   "metadata": {},
   "outputs": [],
   "source": [
    "# Plots the target and final models, as well as the gradient \n",
    "! seisflows plot2d MODEL_TRUE vs --savefig m_true_vs.png\n",
    "! seisflows plot2d MODEL_02 vs --savefig m_02_vs.png\n",
    "! seisflows plot2d GRADIENT_02 vs_kernel --savefig g_02_vs.png"
   ]
  },
  {
   "cell_type": "markdown",
   "id": "6a5c41ab",
   "metadata": {},
   "source": [
    "Using the navigation menu on the left, navigate to:\n",
    "\n",
    "`/home/scoped/work/example_2`\n",
    "\n",
    "and click on the .png files that were created to look at the results of this simple inversion. They should match the figures shown in the documentation page."
   ]
  },
  {
   "cell_type": "markdown",
   "id": "0514c5d4",
   "metadata": {},
   "source": [
    "## Example 2a: Re-create a Kernel from Tape et al. 2007\n",
    "\n",
    "See [SeisFlows Example \\#2a docs page](https://seisflows.readthedocs.io/en/devel/specfem2d_example.html#re-creating-kernels-from-tape-et-al-2007) for guidance on what is going on.\n",
    "\n",
    "Feel free to choose which event ID you're running by changing the integer after `--event_id` below. Tape et al. show results for Event IDs 1 through 7."
   ]
  },
  {
   "cell_type": "code",
   "execution_count": null,
   "id": "17cbb567",
   "metadata": {},
   "outputs": [],
   "source": [
    "# Run Example 2 for only 1 iteration, and for a given event ID\n",
    "%cd /home/scoped/work/example_2a\n",
    "! seisflows examples run 2 -r /home/scoped/specfem2d --with_mpi --niter 1 --event_id 7"
   ]
  },
  {
   "cell_type": "code",
   "execution_count": null,
   "id": "4c729f09",
   "metadata": {},
   "outputs": [],
   "source": [
    "# Plots the event kernel\n",
    "! seisflows plot2d GRADIENT_01 vs_kernel --savefig g_01_vs.png"
   ]
  },
  {
   "cell_type": "markdown",
   "id": "38c8f03f",
   "metadata": {},
   "source": [
    "Using the navigation menu on the left, navigate to:\n",
    "\n",
    "`/home/scoped/work/example_2a`\n",
    "\n",
    "and click on the .png files that were created to look at the results. Make sure that the kernel looks like one of the panels provided in Figure 9 of Tape et al."
   ]
  },
  {
   "cell_type": "markdown",
   "id": "cd618d83",
   "metadata": {},
   "source": [
    "## Example 3: En-masse Forward Simulations\n",
    "\n",
    "See [SeisFlows Example \\#3 docs page](https://seisflows.readthedocs.io/en/devel/specfem2d_example.html#example-3-en-masse-forward-simulations) for guidance on what is going on."
   ]
  },
  {
   "cell_type": "code",
   "execution_count": 4,
   "id": "1ea1148a",
   "metadata": {},
   "outputs": [
    {
     "name": "stdout",
     "output_type": "stream",
     "text": [
      "No existing SPECFEM2D repo given, default to: /home/bchow/REPOSITORIES/adjdocs/workshops/2022-10-05_specfem_users/specfem2d\r\n",
      "\r\n",
      "                                    @@@@@@@@@@                        \r\n",
      "                               .@@@@.    .%&(  %@.          \r\n",
      "                            @@@@   @@@@   &@@@@@@ ,%@       \r\n",
      "                         @@@@   @@@,  /@@              @    \r\n",
      "                        @@@   @@@@   @@@              @     \r\n",
      "                      @@@@   @@@@   @@@                @  @ \r\n",
      "                      @@@   @@@@   ,@@@                @ @  \r\n",
      "                     @@@@   @@@@    @@@@              @@ @ @\r\n",
      "                     @@@@   @@@@@    @@@@@          @@@ @@ @\r\n",
      "                     @@@@    @@@@@     @@@@@@@@@@@@@@  @@  @\r\n",
      "                      @@@@    @@@@@@        @@@&     @@@  @ \r\n",
      "                      @@@@@     @@@@@@@@         %@@@@#  @@ \r\n",
      "                        @@@@#      @@@@@@@@@@@@@@@@@   @@   \r\n",
      "                         &@@@@@          @@@@(       @@&    \r\n",
      "                            @@@@@@@             /@@@@       \r\n",
      "                                @@@@@@@@@@@@@@@@@\r\n",
      "                                    @@@@@@@@@@          \r\n",
      "\r\n",
      "\r\n",
      "================================================================================\r\n",
      "                              SEISFLOWS EXAMPLE 3                               \r\n",
      "                              ///////////////////                               \r\n",
      "This is a [SPECFEM2D] [WORKSTATION] example, which will run forward simulations\r\n",
      "to generate synthetic seismograms through a homogeneous halfspace starting\r\n",
      "model. This example uses no preprocessing or optimization modules. [10 events,\r\n",
      "25 stations] The tasks involved include:\r\n",
      "\r\n",
      "1. (optional) Download, configure, compile SPECFEM2D\r\n",
      "2. [Setup] a SPECFEM2D working directory\r\n",
      "3. [Setup] starting model from 'Tape2007' example\r\n",
      "4. [Setup] a SeisFlows working directory\r\n",
      "5. [Run] the forward simulation workflow\r\n",
      "================================================================================\r\n"
     ]
    }
   ],
   "source": [
    "# (optional) Print help dialogue\n",
    "! seisflows examples 3"
   ]
  },
  {
   "cell_type": "code",
   "execution_count": null,
   "id": "dc7c4df3",
   "metadata": {},
   "outputs": [],
   "source": [
    "# Run Example 2 for only 1 iteration, and for a given event ID\n",
    "%cd /home/scoped/work/example_3\n",
    "! seisflows examples run 3 -r /home/scoped/specfem2d --with_mpi"
   ]
  },
  {
   "cell_type": "code",
   "execution_count": null,
   "id": "dcb73f0c",
   "metadata": {},
   "outputs": [],
   "source": [
    "# Plots one synthetic waveform exported by the Solver\n",
    "! seisflows plotst output/solver/001/syn/AA.S000000.BXY.semd --savefig AA.S000000.BXY.semd.png\n",
    "\n",
    "# Plots multiple synthetic waveforms exported by the Solver\n",
    "! seisflows plotst output/solver/001/syn/AA.S00000?.BXY.semd --savefig AA.S00000n.BXY.semd.png"
   ]
  },
  {
   "cell_type": "markdown",
   "id": "df7b2b4e",
   "metadata": {},
   "source": [
    "Using the navigation menu on the left, navigate to:\n",
    "\n",
    "`/home/scoped/work/example_3`\n",
    "\n",
    "and click on the .png files that were created to look at the waveforms. They should be relatively simple since this is a homogeneous halfspace model"
   ]
  },
  {
   "cell_type": "markdown",
   "id": "1222b8bf",
   "metadata": {},
   "source": [
    "## Testing SPECFEM3D\n",
    "\n",
    "We want to make sure we can run SPECFEM3D natively by running the homogeneous halfspace example problem using MPI.\n",
    "\n",
    ">__NOTE:__ This doesn't work right now"
   ]
  },
  {
   "cell_type": "code",
   "execution_count": null,
   "id": "028fe870",
   "metadata": {},
   "outputs": [],
   "source": [
    "%cd /home/scoped/specfem3d/EXAMPLES/homogeneous_halfspace\n",
    "\n",
    "! mpirun -n 4 bin/xmeshfem3D"
   ]
  },
  {
   "cell_type": "markdown",
   "id": "e261c854",
   "metadata": {},
   "source": [
    "## Testing PySEP\n",
    "\n",
    "Just want to make sure PySEP and RecSec work as RecSec will be used to plot SPECFEM2D synthetics during the workshop."
   ]
  },
  {
   "cell_type": "code",
   "execution_count": null,
   "id": "5387595a",
   "metadata": {},
   "outputs": [],
   "source": [
    "%cd /home/scoped/work\n",
    "\n",
    "# Download data for an example Anchorange event\n",
    "! pysep -p mtuq_workshop_2022 -e 2009-04-07T201255_ANCHORAGE.yaml"
   ]
  },
  {
   "cell_type": "code",
   "execution_count": null,
   "id": "23fb4637",
   "metadata": {},
   "outputs": [],
   "source": [
    "# Test RECord SECtion tool\n",
    "! recsec --pysep_path 2009-04-07T201255_SOUTHERN_ALASKA/SAC \\\n",
    "    --min_period 10 --max_period 100 --move_out 4 --zero_pad_s 100 100 \\\n",
    "    --save 2009-04-07T201255_SOUTHERN_ALASKA/recsec_test.png"
   ]
  },
  {
   "cell_type": "markdown",
   "id": "912656c6",
   "metadata": {},
   "source": [
    "Using the navigation menu on the left, navigate to:\n",
    "\n",
    "`/home/scoped/work/2009-04-07T201255_SOUTHERN_ALASKA`\n",
    "\n",
    "Open the `recsec_test.png` file to look at the created record section, and have a look in the `SAC/` directory to see all the waveforms downloaded."
   ]
  },
  {
   "cell_type": "markdown",
   "id": "286c602e",
   "metadata": {},
   "source": [
    "*All done. Thanks :)*"
   ]
  }
 ],
 "metadata": {
  "kernelspec": {
   "display_name": "Python 3 (ipykernel)",
   "language": "python",
   "name": "python3"
  },
  "language_info": {
   "codemirror_mode": {
    "name": "ipython",
    "version": 3
   },
   "file_extension": ".py",
   "mimetype": "text/x-python",
   "name": "python",
   "nbconvert_exporter": "python",
   "pygments_lexer": "ipython3",
   "version": "3.7.12"
  }
 },
 "nbformat": 4,
 "nbformat_minor": 5
}
