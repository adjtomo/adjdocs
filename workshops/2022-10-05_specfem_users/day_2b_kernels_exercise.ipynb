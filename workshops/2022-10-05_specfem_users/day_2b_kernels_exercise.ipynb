{
 "cells": [
  {
   "cell_type": "markdown",
   "id": "347bc0f7-6dbe-454c-a95a-8469d8efe1c2",
   "metadata": {},
   "source": [
    "# SPECFEM Users Workshop -- Day 2 (Oct. 6, 2022)\n",
    "## Day 2b: Kernel Exercise\n",
    "\n",
    "\n",
    "- In this notebook we will have participants run their own adjoint simulation using Day 2a as a guide \n",
    "- We will use two homogeneous halfspace models for simplicity, building on the exercise from Day 1b  \n",
    "- Adjoint simulations are key for performing seismic imaging (Day 3) as their results guide iterative model updates during the inverse problem  \n",
    "- These instructions should be run from inside the Docker container, using Jupyter Lab (see *Docker Preamble* in Day 0). \n",
    "\n",
    "-----------\n",
    "\n",
    "**Relevant Links:** \n",
    "- Today's Notebook: https://github.com/adjtomo/adjdocs/blob/main/workshops/2022-10-05_specfem_users/day_2b_kernels_exercise.ipynb\n",
    "- Completed Notebook https://github.com/adjtomo/adjdocs/blob/main/workshops/2022-10-05_specfem_users/completed_notebooks/day_2b_kernels_exercise.ipynb\n",
    "- Day 0 Notebook (Container Testing): https://github.com/adjtomo/adjdocs/blob/main/workshops/2022-10-05_specfem_users/completed_notebooks/day_0_container_testing.ipynb\n",
    "- Day 1A Notebook (Intro SPECFEM): https://github.com/adjtomo/adjdocs/blob/main/workshops/2022-10-05_specfem_users/completed_notebooks/day_1a_intro_specfem2d.ipynb\n",
    "- Day 1B Notebook (Fwd. Simulations): https://github.com/adjtomo/adjdocs/blob/main/workshops/2022-10-05_specfem_users/completed_notebooks/day_1b_forward_simulations.ipynb\n",
    "- Day 2A Notebook (Adj. Simulations): https://github.com/adjtomo/adjdocs/blob/main/workshops/2022-10-05_specfem_users/completed_notebooks/day_2a_kernels.ipynb\n",
    "\n",
    "**Jupyter Quick Tips:**\n",
    "\n",
    "- **Run cells** one-by-one by hitting the $\\blacktriangleright$ button at the top, or by hitting `Shift + Enter`\n",
    "- **Run all cells** by hitting the $\\blacktriangleright\\blacktriangleright$ button at the top, or by running `Run -> Run All Cells`\n",
    "- **Currently running cells** that are still processing will have a `[*]` symbol next to them\n",
    "- **Finished cells** will have a `[1]` symbol next to them. The number inside the brackets represents what order this cell has been run in.\n",
    "- Commands that start with `!` are Bash commands (i.e., commands you would run from the terminal)\n",
    "- Commands that start with `%` are Jupyter Magic commands."
   ]
  },
  {
   "cell_type": "markdown",
   "id": "c0acd55c-e9b3-4448-a327-ea23b797d6a5",
   "metadata": {
    "tags": []
   },
   "source": [
    "-----------\n",
    "## 0) Setting Up a SPECFEM2D Working Directory\n",
    "\n",
    "- Let's set up a clean working directory to run SPECFEM2D  \n",
    "- We will be doing all our work in the directory `/home/scoped/work/day_2/exercise`, all the following cells assume that we are in this directory  "
   ]
  },
  {
   "cell_type": "code",
   "execution_count": null,
   "id": "797fb508-998d-470a-8142-7e3e61a063c4",
   "metadata": {},
   "outputs": [],
   "source": [
    "# Python packages we might use in this notebook\n",
    "import numpy as np\n",
    "import matplotlib.pyplot as plt\n",
    "from IPython.display import Image\n",
    "from scipy.integrate import simps"
   ]
  },
  {
   "cell_type": "code",
   "execution_count": null,
   "id": "a7c386f6-0c75-4d44-b532-a1455eefd1cc",
   "metadata": {},
   "outputs": [],
   "source": [
    "# Make correct dir. and move there\n",
    "! mkdir -p /home/scoped/work/day_2/exercise\n",
    "%cd /home/scoped/work/day_2/exercise\n",
    "\n",
    "# Symlink the executables and copy the relevant DATA/ directory\n",
    "! ln -s /home/scoped/specfem2d/bin .\n",
    "! cp -r /home/scoped/specfem2d/EXAMPLES/Tape2007/DATA .\n",
    "! cp -f DATA/Par_file_Tape2007_onerec DATA/Par_file\n",
    "\n",
    "# Ensure that SPECFEM outputs required files for adjoint simulations\n",
    "! seisflows sempar -P DATA/Par_file save_model binary\n",
    "! seisflows sempar -P DATA/Par_file setup_with_binary_database 1\n",
    "\n",
    "! mkdir OUTPUT_FILES\n",
    "\n",
    "! ls"
   ]
  },
  {
   "cell_type": "markdown",
   "id": "e6404755-a37c-40bf-aab5-377f46f57e9d",
   "metadata": {},
   "source": [
    "------------\n",
    "## 1) Target Model Forward Simulations\n",
    "\n",
    "- We'll use the homogeneous halfspace defined by default in the example as our target model\n",
    "- We need to set up the working directory before running our simulation\n",
    "\n",
    "### a) STATIONS\n",
    "- Use the first 25 stations listed in the stations file \n",
    "- Or, using what you learned in Day 1, generate your own STATIONS file with an interesting configuration"
   ]
  },
  {
   "cell_type": "code",
   "execution_count": null,
   "id": "c931b1f7-6aed-4d07-b3d8-a23c3cda3e46",
   "metadata": {},
   "outputs": [],
   "source": []
  },
  {
   "cell_type": "markdown",
   "id": "fba99890-1233-463b-a579-693f48b0644c",
   "metadata": {},
   "source": [
    "### b) SOURCE\n",
    "- Set one of the 25 sources listed in the DATA/ directory as your source file\n",
    "- Remember that SPECFEM2D is expecting a file called SOURCE"
   ]
  },
  {
   "cell_type": "code",
   "execution_count": null,
   "id": "ffd0a5cc-d0a5-405c-83a4-e4a3aeb3c195",
   "metadata": {},
   "outputs": [],
   "source": []
  },
  {
   "cell_type": "markdown",
   "id": "19d32129-3855-4ece-b649-1690b3661c74",
   "metadata": {},
   "source": [
    "### c) Run the Mesher and Solver  \n",
    "\n",
    "1) Tell SPECFEM to use your STATIONS file, and not it's internal definition of stations\n",
    "2) Run your simulation in **parallel** using 4 cores\n",
    "    - *Remember* that you need to tell both SPECFEM and MPI that you are planning to run 4 processes  \n",
    "\n",
    "The remainder of the `Par_file` should already be set up appropriately"
   ]
  },
  {
   "cell_type": "code",
   "execution_count": null,
   "id": "6f33370d-7095-4072-9937-74175e411fcd",
   "metadata": {},
   "outputs": [],
   "source": []
  },
  {
   "cell_type": "markdown",
   "id": "b6732e2f-3474-4439-b133-d568d023b977",
   "metadata": {},
   "source": [
    "### d) Save Results\n",
    "- Make sure you **save the seismograms** output by SPECFEM somewhere safe  \n",
    "- Subsequent simulations will **overwrite** files in the DATA/ and OUTPUT_FILES/ directory  \n"
   ]
  },
  {
   "cell_type": "code",
   "execution_count": null,
   "id": "4859243d-3be1-40fc-afa6-fd11debac2c2",
   "metadata": {},
   "outputs": [],
   "source": []
  },
  {
   "cell_type": "markdown",
   "id": "211041b7-0881-4958-adcb-9cf31f7d590e",
   "metadata": {},
   "source": [
    "## 2) Initial Model Forward Simulations\n",
    "\n",
    "- Now we want to edit the model definition to create a 'starting' model\n",
    "- We'll use what we learned in the [Day 1B exercise](https://github.com/adjtomo/adjdocs/blob/main/workshops/2022-10-05_specfem_users/completed_notebooks/day_1b_forward_simulations.ipynb) to change the model parameters\n",
    "\n",
    "### a) Edit Velocity Model\n",
    "- The velocity model is defined in the `Par_file`\n",
    "- **Decrease** the velocity values (Vp and Vs) of the starting model by 20\\%  "
   ]
  },
  {
   "cell_type": "code",
   "execution_count": null,
   "id": "b3ef0a5b-bc38-4694-b874-218a87cc14b6",
   "metadata": {},
   "outputs": [],
   "source": []
  },
  {
   "cell_type": "markdown",
   "id": "7896be89-0e76-4b90-a448-2afcd49ef2f4",
   "metadata": {},
   "source": [
    "### b) Edit the `Par_file`\n",
    "\n",
    "1) Tell SPECFEM to save the forward wavefield after the simulation  \n",
    "2) Tell SPECFEM to output binary database files "
   ]
  },
  {
   "cell_type": "markdown",
   "id": "1446249a-c2c8-4e18-b854-1fa00c80a6df",
   "metadata": {},
   "source": [
    "### c) Run the Mesher, Solver and Save Results  \n",
    "\n",
    "1) Run your simulation in **parallel** using 4 cores\n",
    "2) After your simulation, **save the seismograms** output by SPECFEM somewhere safe  "
   ]
  },
  {
   "cell_type": "markdown",
   "id": "3fa4b06e-7cb6-4d62-965f-d42842c9b703",
   "metadata": {},
   "source": [
    "## 3) Quantify Misfit, Generate Adjoint Sources\n",
    "\n",
    "- You should now have **two sets of synthetics**, one generated by your initial model, another by your target model\n",
    "- We now want to generate adjoint sources for each pair of synthetics\n",
    "\n",
    "### a) Define your Misfit Function\n",
    "\n",
    "- Let's use a cross correlation traveltime misfit function\n",
    "- The cross correlation misfit is defined: $\\chi (\\mathbf{m}) = \\frac{1}{2} \\left[ T^{obs} - T(\\mathbf{m}) \\right] ^ 2$, \n",
    "- Where $T^{obs}$ is the observed traveltime, and $T(\\mathbf{m})$ is the\n",
    "predicted traveltime in Earth model $m$\n",
    "\n",
    "\n",
    ">__Adjoint Source Equation:__ $f^{\\dagger}(t) = - \\left[ T^{obs} - T(\\mathbf{m}) \\right] ~ \\frac{1}{N} ~\n",
    "    \\partial_t \\mathbf{s}(T - t, \\mathbf{m})$\n",
    "\n",
    "### b) Generate Adjoint Sources\n",
    "\n",
    "**Using a Python approach, for each pair of seismograms you must:**\n",
    "1) Load in both data and synthetic seismogram (use `numpy.loadtxt`; see Day 2A; Section 2C)\n",
    "2) Calculate the time shift $\\left[ T^{obs} - T(\\mathbf{m})\\right]$ using the ObsPy's cross correlation function (https://docs.obspy.org/master/packages/autogen/obspy.signal.cross_correlation.correlate.html) \n",
    "    - The correlate function returns an array of correlation values\n",
    "    - Use the `xcorr_max` to find the time shift related to the peak cross correlation\n",
    "    - The time shift should be a **single value**\n",
    "3) Assume the normalization factor $N$ is -1 (incorrect but simplified for convenience)\n",
    "4) Differentiate the synthetic waveform, $\\partial_t \\mathbf{s}(t, \\mathbf{m})$,  using NumPy diff (https://numpy.org/doc/stable/reference/generated/numpy.diff.html)\n",
    "5) Time reverse and flip the differentiated synthetic waveform $\\partial_t \\mathbf{s}(T - t, \\mathbf{m})$\n",
    "6) Save the corresponding adjoint source in the `SEM/` directory (using `numpy.savetxt`; see Day 2A; Section 3A)\n",
    "    - Remember to format the adjoint source the same as the input synthetics\n",
    "    - Remember that adjoing sources must mimic the synthetic filename, but end with *.adj*"
   ]
  },
  {
   "cell_type": "markdown",
   "id": "6c88da47-7d2d-47ae-9a20-e97e34f3c1c4",
   "metadata": {},
   "source": [
    "## 4) Run Adjoint Simulations\n",
    "\n",
    "- Remember to tell SPECFEM that this is an adjoint simulation (not a forward simulation)\n",
    "- Make sure that your adjoint sources are stored in the `SEM/` directory  \n",
    "- Make sure your DATABASE files are available in the *OUTPUT_FILES/* directory\n",
    "- Remember you do **not** need to run the mesher, only the solver\n",
    "- Check the output log file and kernel files to make sure you ran an adjoint simulation (not forward)"
   ]
  },
  {
   "cell_type": "code",
   "execution_count": null,
   "id": "5efa727f-2973-4777-a0b5-e0340343f6b6",
   "metadata": {},
   "outputs": [],
   "source": []
  },
  {
   "cell_type": "markdown",
   "id": "7b4b6172-d231-4ecf-b392-fcd3e1c6b977",
   "metadata": {},
   "source": [
    "## 5) Smooth Kernel\n",
    "- Smooth your Vp and Vs kernels by 10km in the horizontal direction and 10 km in the vertical\n",
    "- Make sure that SPECFEM can find the appropriate files\n",
    "- Look at Day 2A Section 4 if you need help  "
   ]
  },
  {
   "cell_type": "code",
   "execution_count": null,
   "id": "90a6d185-d8c3-4549-8449-680bc4bc750b",
   "metadata": {},
   "outputs": [],
   "source": []
  },
  {
   "cell_type": "markdown",
   "id": "6f009532-97f8-4143-9d27-21ef83cee1f1",
   "metadata": {},
   "source": [
    "## 6) Visualize Results\n",
    "- Use SeisFlows (or NumPy + Matplotlib) to visualize your kernel results\n",
    "- Does your kernel make sense?\n",
    "- Can you plot the sources and stations on top of the kernel figure?"
   ]
  },
  {
   "cell_type": "code",
   "execution_count": null,
   "id": "0def5150-09c7-409e-99f2-623c9186c05e",
   "metadata": {},
   "outputs": [],
   "source": []
  }
 ],
 "metadata": {
  "kernelspec": {
   "display_name": "Python 3 (ipykernel)",
   "language": "python",
   "name": "python3"
  },
  "language_info": {
   "codemirror_mode": {
    "name": "ipython",
    "version": 3
   },
   "file_extension": ".py",
   "mimetype": "text/x-python",
   "name": "python",
   "nbconvert_exporter": "python",
   "pygments_lexer": "ipython3",
   "version": "3.10.6"
  }
 },
 "nbformat": 4,
 "nbformat_minor": 5
}
