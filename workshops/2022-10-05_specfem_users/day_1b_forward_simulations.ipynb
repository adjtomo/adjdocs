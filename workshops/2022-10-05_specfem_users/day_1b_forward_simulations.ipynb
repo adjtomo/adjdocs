{
 "cells": [
  {
   "cell_type": "markdown",
   "id": "347bc0f7-6dbe-454c-a95a-8469d8efe1c2",
   "metadata": {},
   "source": [
    "# SPECFEM Users Workshop -- Day 1 (Oct. 5, 2022)\n",
    "\n",
    "# !!! TO DO: add section on SPECFEM3D forward simulations? !!!\n",
    "\n",
    "## Part 1B: Forward Simulations\n",
    "\n",
    "Following up on Part 1A, this notebook allows Users to play around with their own SPECFEM2D homogeneous halfspace example. This is meant to familiarize Users with setting `SOURCE` and `STATION` attributes, adjust velocity model parameters, and assess their simulation work.\n",
    "\n",
    "-----------\n",
    "\n",
    "### Relevant Information\n",
    "\n",
    ">__NOTE:__ These instructions should be run from inside the Docker container, using Jupyter Lab. The Docker container should have the adjTomo toolkit installed (SeisFlows, Pyatoa, PySEP), as well as SPECFEM2D and SPECEFM3D compiled with MPI. \n",
    "\n",
    "**Relevant Links:** \n",
    "- Day 1 Slides !!! ADD THIS !!!\n",
    "- [Today's Notebook](https://github.com/adjtomo/adjdocs/blob/main/workshops/2022-10-05_specfem_users/day_1b_forward_simulations.ipynb)\n",
    "- Completed Notebook !!! ADD THIS !!!\n",
    "\n",
    "**Jupyter Quick Tips:**\n",
    "\n",
    "- **Run cells** one-by-one by hitting the $\\blacktriangleright$ button at the top, or by hitting `Shift + Enter`\n",
    "- **Currently running cells** that are still processing will have a `[*]` symbol next to them\n",
    "- **Finished cells** will have a `[1]` symbol next to them. The number inside the brackets represents what order this cell has been run in.\n",
    "- Commands that start with `!` are Bash commands (i.e., commands you would run from the terminal)\n",
    "- Commands that start with `%` are Jupyter Magic commands.\n"
   ]
  },
  {
   "cell_type": "markdown",
   "id": "17fed39d-3309-4957-b254-66c67ca131be",
   "metadata": {},
   "source": [
    "## 1) Setting Up \n",
    "\n",
    "It is often desireable to run SPECFEM outside of the cloned repository, in order to keep files and outputs manageable. The trick here is that SPECFEM only requires 3 compenents for a sucessful simulation, the `bin/`, `DATA/`, and `OUTPUT_FILES/` directories. In this section we will set up a SPECFEM2D working directory that we can play around with.\n",
    "\n",
    ">__NOTE:__ We will be doing all our work in the directory /home/scoped/work_day_1. All the following cells assume that we are in this directory, so you must evaluate the '%cd' command to ensure that cells work as expected."
   ]
  },
  {
   "cell_type": "code",
   "execution_count": null,
   "id": "a7c386f6-0c75-4d44-b532-a1455eefd1cc",
   "metadata": {},
   "outputs": [],
   "source": [
    "! mkdir /home/scoped/work_day_1\n",
    "%cd /home/scoped/work_day_1"
   ]
  },
  {
   "cell_type": "code",
   "execution_count": null,
   "id": "ffb6873c-a114-4320-ad14-602f0030467f",
   "metadata": {},
   "outputs": [],
   "source": [
    "# Symlink the binary files, and copy the relevant DATA/ directory\n",
    "! ln -s /home/scoped/specfem2d/bin .\n",
    "! cp -r /home/scoped/specfem2d/EXAMPLES/Tape2007/DATA .\n",
    "! mkdir OUTPUT_FILES"
   ]
  },
  {
   "cell_type": "code",
   "execution_count": null,
   "id": "79b9ddce-b831-4840-bd71-8099f7efe952",
   "metadata": {},
   "outputs": [],
   "source": [
    "! ls"
   ]
  },
  {
   "cell_type": "markdown",
   "id": "e6404755-a37c-40bf-aab5-377f46f57e9d",
   "metadata": {},
   "source": [
    "### 2) Tape et al. 2007 Example\n",
    "\n",
    "We will be working with an Example problem from the [Tape et al. 2007 GJI publication](https://academic.oup.com/gji/article/168/3/1105/929373), which pre-defines a starting model, seismic sources and station locations. For now we will just be working with a homogeneous halfspace model.\n",
    "\n",
    ">__NOTE:__ We will be using Python (NumPy and Matplotlib) to visualize the Example problem setup, however in your own research you can use any language to help you visualize and understand your problem."
   ]
  },
  {
   "cell_type": "code",
   "execution_count": null,
   "id": "1a6f77cb-7fe9-4904-8b67-9c4cc01fa5c2",
   "metadata": {},
   "outputs": [],
   "source": [
    "! ls DATA/"
   ]
  },
  {
   "cell_type": "markdown",
   "id": "45306979-343e-4c4e-b789-883b68f9c13d",
   "metadata": {},
   "source": [
    "### a) The Homogeneous Halfspace Model\n",
    "\n",
    "The homogeneous halfspace model in this example is defined in the `Par_file`, on Line 255. We can use the `seisflows sempar velocity_model` command to look at its values."
   ]
  },
  {
   "cell_type": "code",
   "execution_count": null,
   "id": "750276b8-24a9-48df-98f9-fdfee1ccbc68",
   "metadata": {},
   "outputs": [],
   "source": [
    "! seisflows sempar -P DATA/Par_file_Tape2007_onerec velocity_model"
   ]
  },
  {
   "cell_type": "markdown",
   "id": "60e680ca-b9d9-4782-8e75-12cf3f8ecc7a",
   "metadata": {},
   "source": [
    "According to the `Par_file` comments, the model parameter values represent the following:  \n",
    "`model_number 1 rho Vp Vs 0 0 QKappa Qmu  0 0 0 0 0 0`. \n",
    "\n",
    "Therefore, the homogeneous halfspace model defines a region with P-wave velocity $V_p=5.8$km/s and S-wave velocity $V_s=3.5$km/s.\n",
    "\n",
    "We can understand the structure of the mesh by looking at the `Par_file` and the `interfaces_Tape2007.dat` file. The `Par_file` defines the X dimension of the mesh"
   ]
  },
  {
   "cell_type": "code",
   "execution_count": null,
   "id": "d37b7b2c-f83c-4719-9ce1-ffd50656f1eb",
   "metadata": {},
   "outputs": [],
   "source": [
    "! head -305 DATA/Par_file_Tape2007_onerec | tail -n 25"
   ]
  },
  {
   "cell_type": "code",
   "execution_count": null,
   "id": "782e1f9f-58df-4f81-b744-dbd67896f806",
   "metadata": {},
   "outputs": [],
   "source": [
    "! cat DATA/interfaces_Tape2007.dat"
   ]
  },
  {
   "cell_type": "markdown",
   "id": "3f1ed3bc-e50a-4942-89be-34acd56077ea",
   "metadata": {},
   "source": [
    "From the files above, we can see that the X dimension of our mesh ranges 0m to 480000.0m, and the Z dimension of our mesh also ranges 0m to 480000.0m. Each dimension is separated into 40 elements (defined by `nxmin`, `nxmax` etc. in the `Par_file` and defined by the layer numbers in the interfaces file. That means each spectral element in our 2D mesh spans 12000.0m. Also note that above we determined that the $V_s$ model has a homogeneous value of 3.5 km/s\n",
    "\n",
    "We can make a simple plot using Matplotlib to illustrate what our mesh might look like"
   ]
  },
  {
   "cell_type": "code",
   "execution_count": null,
   "id": "0e8a6c6c-373b-431a-a3ca-5e7e3915d5df",
   "metadata": {},
   "outputs": [],
   "source": [
    "# Visualizing the homogeneous halfspace model\n",
    "import numpy as np\n",
    "import matplotlib.pyplot as plt\n",
    "\n",
    "\n",
    "def plot_homogeneous_halfspace():\n",
    "    \"\"\"Plots a representation of the SPECFEM2D homogeneous halfspace model\"\"\"\n",
    "    # Sets the X and Z dimensions of our mesh\n",
    "    x = np.arange(0, 480000, 4000)\n",
    "    z = np.arange(0, 480000, 4000)\n",
    "    \n",
    "    # Reformat the 1D arrays into 2D\n",
    "    xv, zv = np.meshgrid(x, z)\n",
    "\n",
    "    # Set a homogeneous value of Vs=3.5km/s \n",
    "    vs = 3.5 * np.ones(np.shape(xv))\n",
    "\n",
    "    # Plot the arrays as a homogeneous halfspace\n",
    "    plt.tricontourf(xv.flatten(), zv.flatten(), vs.flatten(), cmap=\"seismic_r\", vmin=3.1, vmax=4.)\n",
    "    plt.colorbar(label=\"Vs [km/s]\", format=\"%.1f\")\n",
    "    plt.title(\"2D Homogeneous Halfspace Model\\n Vs=3.5km/s\")\n",
    "    \n",
    "# Calls the function we just defined\n",
    "plot_homogeneous_halfspace()"
   ]
  },
  {
   "cell_type": "markdown",
   "id": "7dbbfc22-a140-4160-87b0-bda887572f8f",
   "metadata": {},
   "source": [
    "### b) Visualizing Source-Receiver Geometry\n",
    "\n",
    "We can similarly plot the SOURCES and STATIONS available to see what the experiemental setup looks like.\n",
    "We can use Python to grab Cartesian coordinate values from these files."
   ]
  },
  {
   "cell_type": "code",
   "execution_count": null,
   "id": "5bc2d6a4-b8aa-4a9b-bfcb-37938915b492",
   "metadata": {},
   "outputs": [],
   "source": [
    "# Grab STATIONS data\n",
    "! head DATA/STATIONS_checker\n",
    "\n",
    "# Small code snippet to grab coordinates from STATIONS file\n",
    "sta_x, sta_z = np.genfromtxt(\"DATA/STATIONS_checker\", dtype=float, usecols=[2, 3]).T\n",
    "print(sta_x[:10])"
   ]
  },
  {
   "cell_type": "code",
   "execution_count": null,
   "id": "2ab712ad-d2a6-4c5b-9eb7-2fcd81afd5fb",
   "metadata": {},
   "outputs": [],
   "source": [
    "# There are 25 sources\n",
    "# `xs` is defined on line 2, `zs` on line 3\n",
    "! ls DATA/SOURCE_???\n",
    "! echo\n",
    "! head DATA/SOURCE_001"
   ]
  },
  {
   "cell_type": "code",
   "execution_count": null,
   "id": "b771c1f0-d11f-4087-9206-f9e146857106",
   "metadata": {},
   "outputs": [],
   "source": [
    "# Small code snippet to grab coordinates from SOURCE files\n",
    "ev_x, ev_z = [], []\n",
    "for i in range(1, 26):\n",
    "    source_file = f\"DATA/SOURCE_{i:0>3}\"\n",
    "    with open(source_file, \"r\") as f:\n",
    "        lines = f.readlines()\n",
    "    # Trying to break apart the following line\n",
    "    # 'xs = 299367.72      # source location x in meters\\n'\n",
    "    xs = float(lines[2].split(\"=\")[1].split(\"#\")[0].strip())\n",
    "    zs = float(lines[3].split(\"=\")[1].split(\"#\")[0].strip())\n",
    "    \n",
    "    ev_x.append(xs)\n",
    "    ev_z.append(zs)\n",
    "\n",
    "print(ev_x[:10])"
   ]
  },
  {
   "cell_type": "code",
   "execution_count": null,
   "id": "9859aa1b-500c-4a82-b28e-e3b558a09a5c",
   "metadata": {},
   "outputs": [],
   "source": [
    "# Plot SOURCES and STATIONS together. Annotate names\n",
    "plot_homogeneous_halfspace()\n",
    "plt.scatter(ev_x, ev_z, c=\"y\", marker=\"*\", s=100, edgecolor=\"k\")\n",
    "plt.scatter(sta_x, sta_z, c=\"c\", marker=\"v\", s=20, edgecolor=\"k\")\n",
    "plt.title(\"SOURCE-RECEIVER GEOMETRY\")"
   ]
  },
  {
   "cell_type": "code",
   "execution_count": null,
   "id": "b3fc21b9-2d3b-448e-894a-e5b24613b492",
   "metadata": {},
   "outputs": [],
   "source": [
    "# Plot SOURCES next to source names\n",
    "plot_homogeneous_halfspace()\n",
    "for i, (x, z) in enumerate(zip(ev_x, ev_z)):\n",
    "    plt.scatter(ev_x, ev_z, c=\"y\", marker=\"*\", s=100, edgecolor=\"k\")\n",
    "    plt.text(x, z, f\"{i:0>3}\")\n",
    "plt.title(\"SOURCES\")"
   ]
  },
  {
   "cell_type": "code",
   "execution_count": null,
   "id": "76bbb1fc-143b-465c-a602-fecf18db2577",
   "metadata": {
    "tags": []
   },
   "outputs": [],
   "source": [
    "# Plot SOURCES and STATIONS together. Annotate names\n",
    "plot_homogeneous_halfspace()\n",
    "for i, (x, z) in enumerate(zip(sta_x, sta_z)):\n",
    "    plt.scatter(x, z, c=\"c\", marker=\"v\", s=8)\n",
    "    plt.text(x, z, f\"{i:0>3}\", fontsize=9)\n",
    "plt.title(\"STATIONS\")"
   ]
  },
  {
   "cell_type": "markdown",
   "id": "608f10cc-ec85-4ef3-af58-6d272595a6e7",
   "metadata": {},
   "source": [
    "In the above figures, the upside-down blue triangles represent the 132 receivers in this example, while the 25 yellow stars are the sources. Now that we are familiar with our experimental setup, we can run SPECFEM2D to generate synthetics."
   ]
  },
  {
   "cell_type": "markdown",
   "id": "311aa16b-ea8b-4e4d-963f-be0f2934befd",
   "metadata": {},
   "source": [
    "## 2) Running the Example\n",
    "\n",
    "To run the example, we'll have to do a some setup of our working directory to get files in the correct place. "
   ]
  },
  {
   "cell_type": "code",
   "execution_count": null,
   "id": "6cb2d57b-c55a-4896-a728-34a50cca59a1",
   "metadata": {},
   "outputs": [],
   "source": [
    "! ls DATA"
   ]
  },
  {
   "cell_type": "markdown",
   "id": "3a108d69-3f38-4957-84a4-a1524cf2e363",
   "metadata": {},
   "source": [
    "### a) Choose a Source file\n",
    "\n",
    "SPECFEM2D will look for a file named `SOURCE` in the *DATA/* directory. There are 25 sources to choose from. You can have a look at the SOURCE plot we created in the previous section to choose which SOURCE\n",
    "you'd like to run. By default the notebook choose SOURCE_001 as the main source."
   ]
  },
  {
   "cell_type": "code",
   "execution_count": null,
   "id": "ec99617a-eceb-47bb-a6dd-d1250baeb9d0",
   "metadata": {},
   "outputs": [],
   "source": [
    "# > CHOOSE your source file here by replacing 'SOURCE_001'\n",
    "! cp -f DATA/SOURCE_001 DATA/SOURCE"
   ]
  },
  {
   "cell_type": "code",
   "execution_count": null,
   "id": "3cf699aa-d077-469a-baab-c8a18c69986d",
   "metadata": {},
   "outputs": [],
   "source": [
    "# > Make sure that the SOURCE name printed below matches choice\n",
    "! head -1 DATA/SOURCE"
   ]
  },
  {
   "cell_type": "markdown",
   "id": "8128b017-4b09-471e-82e1-e870163fdc4c",
   "metadata": {},
   "source": [
    "### b) Choosing Stations\n",
    "\n",
    "The `STATIONS` file defines 132 different station locations, as visualized earlier. We can choose what stations we use by copying over a subset of the original station list.\n",
    "By default the example chooses to use all 132 stations. \n",
    "\n",
    ">__NOTE:__ Because the wavefield is simulated in the entire domain, and individual synthetic seismograms simply extract the wavefield at a chosen location, computational expense is not tied to the number of stations. In other words, choosing 1 or 132 stations results in the same computational expense./"
   ]
  },
  {
   "cell_type": "code",
   "execution_count": null,
   "id": "9817cd6b-0a1a-429c-85e2-82a2c6e300cf",
   "metadata": {},
   "outputs": [],
   "source": [
    "! head DATA/STATIONS_checker"
   ]
  },
  {
   "cell_type": "code",
   "execution_count": null,
   "id": "820a30c4-995a-40f4-af31-d191df9de2a3",
   "metadata": {},
   "outputs": [],
   "source": [
    "# Write out a NEW stations file by choosing station numbers\n",
    "# Change the range, or write your own list to choose station values\n",
    "# e.g., STATION_CHOICE = [0, 1, 2, 3]\n",
    "\n",
    "STATION_NUMBER_CHOICE = range(0, 132) \n",
    "\n",
    "# Read the existing stations file\n",
    "stations = open(\"DATA/STATIONS_checker\", \"r\").readlines()\n",
    "\n",
    "# Write out only User defined stations\n",
    "with open(\"DATA/STATIONS\", \"w\") as f:\n",
    "    for i in STATION_NUMBER_CHOICE:\n",
    "        f.write(stations[i])"
   ]
  },
  {
   "cell_type": "code",
   "execution_count": null,
   "id": "b8562560-71b7-47a5-99ab-b248bacaa98a",
   "metadata": {},
   "outputs": [],
   "source": [
    "! tail DATA/STATIONS"
   ]
  },
  {
   "cell_type": "markdown",
   "id": "434e7b88-c8df-445a-8b27-4aeca090ab79",
   "metadata": {},
   "source": [
    "### c) Setting up the `Par_file`\n",
    "\n",
    "We need to change a few key parameters in the `Par_file` to run SPECFEM2D with desired behavior. We'll explain each of the parameter changes below, and use the `seisflows sempar` command to make the changes.\n",
    "Optionally, you are welcome to open the `Par_file` directly (by double clicking) and editing parameters yourself. Be sure to check your spelling!"
   ]
  },
  {
   "cell_type": "code",
   "execution_count": null,
   "id": "bd334756-1b7f-42ee-9ab7-d5dfe4885924",
   "metadata": {},
   "outputs": [],
   "source": [
    "# Copy in the Example parameter file\n",
    "! cp -f DATA/Par_file_Tape2007_onerec DATA/Par_file\n",
    "\n",
    "! seisflows sempar -P DATA/Par_file nproc 4\n",
    "! seisflows sempar -P DATA/Par_file use_existing_stations .true.\n",
    "! seisflows sempar -P DATA/Par_file save_model binary\n",
    "! seisflows sempar -P DATA/Par_file setup_with_binary_database 1"
   ]
  },
  {
   "cell_type": "markdown",
   "id": "33f9725e-7961-4bfb-8e03-8c6fe182558a",
   "metadata": {},
   "source": [
    "Explanations of the changes we are made include:\n",
    "\n",
    "`NPROC`: Sets the number of MPI processors to partition the mesh and run the simulation with. This MUST match the value following `-n` in the MPI call below.  \n",
    "`use_existing_STATIONS`: Use the STATIONS file we created, as opposed to the `Par_file` definition of stations\n",
    "`setup_with_binary_database`: Writes database files in binary format     \n",
    "`SAVE_MODEL`: Write model files in binary (.bin) format  "
   ]
  },
  {
   "cell_type": "markdown",
   "id": "b4e4902b-4f80-4649-8310-239c09160b7c",
   "metadata": {},
   "source": [
    "### d) Run the example\n",
    "\n",
    "Now that we have set the `Par_file`, the `SOURCE` and `STATIONS` file, we are able to run `xmeshfem2D` and `xspecfem2D` to run our forward simulation."
   ]
  },
  {
   "cell_type": "code",
   "execution_count": null,
   "id": "a7e9f27d-b9c7-4973-94b6-d70c18bb507d",
   "metadata": {},
   "outputs": [],
   "source": [
    "# Ensures we're running with a clean OUTPUT directory\n",
    "! rm -rf OUTPUT_FILES\n",
    "! mkdir OUTPUT_FILES\n",
    "\n",
    "! mpirun -n 4 bin/xmeshfem2D > OUTPUT_FILES/output_meshfem.txt\n",
    "! mpirun -n 4 bin/xspecfem2D > OUTPUT_FILES/output_solver.txt"
   ]
  },
  {
   "cell_type": "markdown",
   "id": "137539fe-a4ea-43de-a2dc-b5b9ba0efcee",
   "metadata": {},
   "source": [
    "### e) Examine Output Files"
   ]
  },
  {
   "cell_type": "markdown",
   "id": "21b7e733-30b7-437d-9271-d18656265804",
   "metadata": {},
   "source": [
    "!!! ANALYZE LOG MESSAGES HERE !!!"
   ]
  },
  {
   "cell_type": "code",
   "execution_count": null,
   "id": "12fa8c43-0427-4e3e-a362-ff8b74bc49f9",
   "metadata": {},
   "outputs": [],
   "source": [
    "! ls OUTPUT_FILES/"
   ]
  },
  {
   "cell_type": "code",
   "execution_count": null,
   "id": "d6c7c0be-dc4a-40e8-b90c-b11a95a62b5e",
   "metadata": {},
   "outputs": [],
   "source": [
    "# We can use the record section tool in PySEP to plot our waveforms\n",
    "! recsec --syn_path OUTPUT_FILES/ --cmtsolution DATA/SOURCE --stations DATA/STATIONS --components Y --cartesian -L INFO "
   ]
  },
  {
   "cell_type": "code",
   "execution_count": null,
   "id": "e19b0360-11bd-43ec-abdd-96795df7dd1f",
   "metadata": {},
   "outputs": [],
   "source": [
    "from IPython.display import Image\n",
    "Image(\"record_section.png\")"
   ]
  },
  {
   "cell_type": "code",
   "execution_count": null,
   "id": "ab3583a6-d390-4935-90ae-9daea4173032",
   "metadata": {},
   "outputs": [],
   "source": [
    "# We can also look at the wavefield snapshots\n",
    "Image(\"OUTPUT_FILES/forward_image000000800.jpg\")"
   ]
  },
  {
   "cell_type": "code",
   "execution_count": null,
   "id": "10c412a1-4e03-479b-84f8-5fdbdf0a2815",
   "metadata": {},
   "outputs": [],
   "source": [
    "# We can also look at the wavefield snapshots\n",
    "Image(\"OUTPUT_FILES/forward_image000001200.jpg\")"
   ]
  },
  {
   "cell_type": "code",
   "execution_count": null,
   "id": "c9ecc03a-4c45-412e-95ac-a8fe8cedc248",
   "metadata": {},
   "outputs": [],
   "source": [
    "# We can also look at the wavefield snapshots\n",
    "Image(\"OUTPUT_FILES/forward_image000002200.jpg\")"
   ]
  },
  {
   "cell_type": "markdown",
   "id": "6fcefb08-43e0-4599-b98f-96bdab8e0f24",
   "metadata": {},
   "source": [
    "## 3) Choose Your Own Adventure\n",
    "\n",
    "Now that we have a working directory that we know produces synthetics, we can play around with our setup.\n",
    "Some things you might try:\n",
    "\n",
    "- Change the parameters of the homogeneous halfspace model defined in the `Par_file` \n",
    "- Define a STATIONS file with a uniform grid of stations to record synthetics throughout the domain\n",
    "- Choose a different source, or increase the energy released by the source (using the moment tensor)"
   ]
  },
  {
   "cell_type": "markdown",
   "id": "0f018695-cf12-40f0-a117-6ce362020471",
   "metadata": {},
   "source": [
    "## 4) Automating Forward Simulations with SeisFlows\n",
    "\n",
    "SeisFlows is an automated workflow tool which takes care of all the tasks required to run SPECFEM. In essence, SeisFlows is a Python wrapper for SPECFEM, which includes modular components for interfacing with various compute systems. It also employs various preprocessing and optimization methods for seismic inversions (to be completed in Day 2, 3). We can automate forward simulations for multiple events in the Example we just ran. SeisFlows Example 3 runs a automated en-masse forward simulations."
   ]
  },
  {
   "cell_type": "code",
   "execution_count": null,
   "id": "a5251add-d2db-492f-87a6-a240c65169d5",
   "metadata": {},
   "outputs": [],
   "source": [
    "# Prints the help dialogue for SeisFlows example 3\n",
    "! seisflows examples 3"
   ]
  },
  {
   "cell_type": "code",
   "execution_count": null,
   "id": "3a23b2bf-02c8-4a40-9a82-748f8ae376e1",
   "metadata": {},
   "outputs": [],
   "source": [
    "# Make sure were running in a clean working directory\n",
    "! mkdir /home/scoped/work_day_1/example_3\n",
    "%cd /home/scoped/work_day_1/example_3\n",
    "\n",
    "# The `example` command will setup and run our forward simulations\n",
    "! seisflows examples run 3 -r /home/scoped/specfem2d/ --with_mpi --nproc 2"
   ]
  },
  {
   "cell_type": "code",
   "execution_count": null,
   "id": "14c38054-3a2b-49c6-84af-ca9db4a45ecb",
   "metadata": {},
   "outputs": [],
   "source": []
  }
 ],
 "metadata": {
  "kernelspec": {
   "display_name": "Python 3 (ipykernel)",
   "language": "python",
   "name": "python3"
  },
  "language_info": {
   "codemirror_mode": {
    "name": "ipython",
    "version": 3
   },
   "file_extension": ".py",
   "mimetype": "text/x-python",
   "name": "python",
   "nbconvert_exporter": "python",
   "pygments_lexer": "ipython3",
   "version": "3.10.6"
  }
 },
 "nbformat": 4,
 "nbformat_minor": 5
}
