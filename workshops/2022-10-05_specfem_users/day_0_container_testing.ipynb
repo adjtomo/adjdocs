{
 "cells": [
  {
   "cell_type": "markdown",
   "id": "306acd82",
   "metadata": {},
   "source": [
    "# SPECFEM Users Workshop (Oct. 5-7, 2022)\n",
    "-------------------------\n",
    "\n",
    "## Container Testing Instructions\n",
    "\n",
    "- Day 0 instructions are meant for Users to test out their Docker container to ensure that things will go smoothly during the workshop.  \n",
    "- Estimated times are provided next to each task to provide a benchmark on how fast thing should run. Benchmarks were run on a 2015 Macbook Pro (OSX 10.14.6) with 3.1GHz Intel Core i7, and 16Gb of ram. \n",
    "- If you run into any issues while running through this notebook, please copy the error message and make note of which cell created the error.\n",
    "- These instructions should be run from inside the Docker container, using Jupyter Lab. The Docker container should have the adjTomo toolkit installed (SeisFlows, Pyatoa, PySEP), as well as SPECFEM2D and SPECEFM3D compiled with MPI. \n",
    "\n",
    "--------------------\n",
    "\n",
    "**Jupyter Quick Tips:**\n",
    "\n",
    "- **Run cells** one-by-one by hitting the $\\blacktriangleright$ button at the top, or by hitting `Shift + Enter`\n",
    "- **Run all cells** by hitting the $\\blacktriangleright\\blacktriangleright$ button at the top, or by running `Run -> Run All Cells`\n",
    "- **Currently running cells** that are still processing will have a `[*]` symbol next to them\n",
    "- **Finished cells** will have a `[1]` symbol next to them. The number inside the brackets represents what order this cell has been run in.\n",
    "- Commands that start with `!` are Bash commands (i.e., commands you would run from the terminal)\n",
    "- Commands that start with `%` are Jupyter Magic commands.\n",
    "- To time a task, put a `%time` before the command (e.g., `%time ! ls`)\n",
    "\n",
    "\n",
    "**Relevant Links:** \n",
    "- Workshop announcement: https://sites.google.com/alaska.edu/carltape/home/research/specfem2022?authuser=0\n",
    "- adjTomo Container: https://github.com/SeisSCOPED/adjtomo\n",
    "- adjTomo Org Page: https://github.com/adjTomo\n",
    "- SeisFlows docs: https://seisflows.readthedocs.io/en/devel/\n",
    "- Pyatoa docs: https://pyatoa.readthedocs.io/en/devel/\n",
    "- PySEP readme: https://github.com/uafgeotools/pysep#readme\n",
    "\n",
    "----------------\n",
    "\n",
    "**Docker Preamble:**  \n",
    "\n",
    "To open this container you will need the latest container.   \n",
    "**> Please run the following from your Terminal**\n",
    "\n",
    "```bash\n",
    "docker pull ghcr.io/seisscoped/adjtomo:ubuntu20.04\n",
    "```\n",
    "\n",
    "To save the results we obtain from inside our container, we will need to mount our local filesystem.  \n",
    "**> Please `cd` (change directory) to am empty working directory before running the following command:**\n",
    "\n",
    "```bash\n",
    "docker run -p 8888:8888 --mount type=bind,source=$(pwd),target=/home/scoped/work --shm-size=1gb ghcr.io/seisscoped/adjtomo:ubuntu20.04 \n",
    "```\n",
    "\n",
    ">__Docker command explanation__:\n",
    "The `pull` command downloads the Docker Image from GitHub. The Docker `run` command launches the Docker container. The `--mount` flag binds our local filesystem (in the current working directory, pwd) with the container's internal filesytem (at location /home/scoped/work). The `--shm-size` flag  tells Docker to give us 512 Megabytes of shared memory, which is required for MPI processes.\n",
    "\n",
    ">__SIGBUS Error__: If you are receiving the error message *Program received signal SIGBUS: Access to an undefined portion of a memory object.*, please `File -> Shut Down` the current container and reopen with a larger value for the `--shm-size` flag above. e.g., `--shm-size=2gb`. \n"
   ]
  },
  {
   "cell_type": "markdown",
   "id": "acddac2f",
   "metadata": {},
   "source": [
    "## 1) Testing SPECFEM2D\n",
    "\n",
    "We want to make sure we can run SPECFEM2D natively by running the example problem using MPI.  \n",
    "**Benchmark time for cell w/ 4 MPI processes: ~60s**"
   ]
  },
  {
   "cell_type": "code",
   "execution_count": null,
   "id": "73f9208c",
   "metadata": {},
   "outputs": [],
   "source": [
    "%cd /home/scoped/specfem2d\n",
    "\n",
    "# Convenience function to edit the SPECFEM Par_file from the command line\n",
    "! seisflows sempar -P DATA/Par_file nproc 4  # change number of processors from 1 to 4\n",
    "\n",
    "! mpirun -n 4 bin/xmeshfem2D\n",
    "! mpirun -n 4 bin/xspecfem2D"
   ]
  },
  {
   "cell_type": "markdown",
   "id": "bf06615e",
   "metadata": {},
   "source": [
    "Using the navigation menu on the left, navigate to:\n",
    "\n",
    "`home -> specfem2d -> OUTPUT_FILES`\n",
    "\n",
    "**Open** any of the `forward_image*.jpg` files and see that the wavefront makes sense. It should look like a layered halfspace with topography and a cavity in the second layer."
   ]
  },
  {
   "cell_type": "markdown",
   "id": "0bf0fdcc",
   "metadata": {},
   "source": [
    "## 2) SeisFlows Setup\n",
    "\n",
    "Some directory bookkeeping to make sure we keep the container `home` directory free of clutter"
   ]
  },
  {
   "cell_type": "code",
   "execution_count": null,
   "id": "958b638f",
   "metadata": {},
   "outputs": [],
   "source": [
    "%cd /home/scoped/work  \n",
    "! mkdir example_1 example_2 example_2a example_3 "
   ]
  },
  {
   "cell_type": "markdown",
   "id": "3ad7e88b",
   "metadata": {},
   "source": [
    "## 3) Example 1: Homogeneous Halfspace Inversion\n",
    "\n",
    "This example runs a 1 iteration inversion for a single source-receiver pair, using two homogeneous halfspace models. See [SeisFlows Example \\#1 docs page](https://seisflows.readthedocs.io/en/devel/specfem2d_example.html#example-1-homogenous-halfspace-inversion) for guidance on what is going on  \n",
    "**Benchmark time for cell w/ 2 MPI processes: ~1m45s**"
   ]
  },
  {
   "cell_type": "code",
   "execution_count": 10,
   "id": "fb1f10fe",
   "metadata": {},
   "outputs": [
    {
     "name": "stdout",
     "output_type": "stream",
     "text": [
      "No existing SPECFEM2D repo given, default to: /home/scoped/work/example_2/specfem2d\n",
      "\n",
      "                                    @@@@@@@@@@                        \n",
      "                               .@@@@.    .%&(  %@.          \n",
      "                            @@@@   @@@@   &@@@@@@ ,%@       \n",
      "                         @@@@   @@@,  /@@              @    \n",
      "                        @@@   @@@@   @@@              @     \n",
      "                      @@@@   @@@@   @@@                @  @ \n",
      "                      @@@   @@@@   ,@@@                @ @  \n",
      "                     @@@@   @@@@    @@@@              @@ @ @\n",
      "                     @@@@   @@@@@    @@@@@          @@@ @@ @\n",
      "                     @@@@    @@@@@     @@@@@@@@@@@@@@  @@  @\n",
      "                      @@@@    @@@@@@        @@@&     @@@  @ \n",
      "                      @@@@@     @@@@@@@@         %@@@@#  @@ \n",
      "                        @@@@#      @@@@@@@@@@@@@@@@@   @@   \n",
      "                         &@@@@@          @@@@(       @@&    \n",
      "                            @@@@@@@             /@@@@       \n",
      "                                @@@@@@@@@@@@@@@@@\n",
      "                                    @@@@@@@@@@          \n",
      "\n",
      "\n",
      "================================================================================\n",
      "                              SEISFLOWS EXAMPLE 1                               \n",
      "                              ///////////////////                               \n",
      "This is a [SPECFEM2D] [WORKSTATION] example, which will run an inversion to\n",
      "assess misfit between two homogeneous halfspace models with slightly different\n",
      "velocities. [1 events, 1 station, 1 iterations]. The tasks involved include:\n",
      "\n",
      "1. (optional) Download, configure, compile SPECFEM2D\n",
      "2. [Setup] a SPECFEM2D working directory\n",
      "3. [Setup] starting model from 'Tape2007' example\n",
      "4. [Setup] target model w/ perturbed starting model\n",
      "5. [Setup] a SeisFlows working directory\n",
      "6. [Run] the inversion workflow\n",
      "================================================================================\n"
     ]
    }
   ],
   "source": [
    "# (optional) Print help dialogue\n",
    "! seisflows examples 1"
   ]
  },
  {
   "cell_type": "code",
   "execution_count": null,
   "id": "dcfc795b",
   "metadata": {},
   "outputs": [],
   "source": [
    "# Run Example 1 with 2 processors\n",
    "%cd /home/scoped/work/example_1\n",
    "%time ! seisflows examples run 1 -r /home/scoped/specfem2d --with_mpi --nproc 2"
   ]
  },
  {
   "cell_type": "code",
   "execution_count": null,
   "id": "ab2c4287",
   "metadata": {},
   "outputs": [],
   "source": [
    "# Plots the initial and final models, as well as the gradient \n",
    "! seisflows plot2d MODEL_INIT vs --savefig m_init_vs.png\n",
    "! seisflows plot2d MODEL_TRUE vs --savefig m_true_vs.png\n",
    "! seisflows plot2d MODEL_01 vs --savefig m_01_vs.png\n",
    "! seisflows plot2d GRADIENT_01 vs_kernel --savefig g_01_vs.png"
   ]
  },
  {
   "cell_type": "markdown",
   "id": "90b452d4",
   "metadata": {},
   "source": [
    "Using the navigation menu on the left, navigate to:\n",
    "\n",
    "`home -> work -> example_1`\n",
    "\n",
    "and **open** each of the .png files that were created to look at the results of this simple inversion. They should match the figures shown in the documentation page."
   ]
  },
  {
   "cell_type": "markdown",
   "id": "5efa3628",
   "metadata": {},
   "source": [
    "## 4) Example 2: Checkerboard inversion \n",
    "\n",
    "This example runs a muti-event, multi-station, inversion to receover a target checkerboard model, starting from a homoegeneous halfspace model. See [SeisFlows Example \\#2 docs page](https://seisflows.readthedocs.io/en/devel/specfem2d_example.html#example-2-checkerboard-inversion-w-pyaflowa-l-bfgs) for guidance on what is going on. We have slimmed down the total Example size to reduce overall compute time.  \n",
    "**Benchmark time for cell: ~4m**"
   ]
  },
  {
   "cell_type": "code",
   "execution_count": 11,
   "id": "e507f4fc",
   "metadata": {},
   "outputs": [
    {
     "name": "stdout",
     "output_type": "stream",
     "text": [
      "No existing SPECFEM2D repo given, default to: /home/scoped/work/example_2/specfem2d\n",
      "\n",
      "                                    @@@@@@@@@@                        \n",
      "                               .@@@@.    .%&(  %@.          \n",
      "                            @@@@   @@@@   &@@@@@@ ,%@       \n",
      "                         @@@@   @@@,  /@@              @    \n",
      "                        @@@   @@@@   @@@              @     \n",
      "                      @@@@   @@@@   @@@                @  @ \n",
      "                      @@@   @@@@   ,@@@                @ @  \n",
      "                     @@@@   @@@@    @@@@              @@ @ @\n",
      "                     @@@@   @@@@@    @@@@@          @@@ @@ @\n",
      "                     @@@@    @@@@@     @@@@@@@@@@@@@@  @@  @\n",
      "                      @@@@    @@@@@@        @@@&     @@@  @ \n",
      "                      @@@@@     @@@@@@@@         %@@@@#  @@ \n",
      "                        @@@@#      @@@@@@@@@@@@@@@@@   @@   \n",
      "                         &@@@@@          @@@@(       @@&    \n",
      "                            @@@@@@@             /@@@@       \n",
      "                                @@@@@@@@@@@@@@@@@\n",
      "                                    @@@@@@@@@@          \n",
      "\n",
      "\n",
      "================================================================================\n",
      "                              SEISFLOWS EXAMPLE 2                               \n",
      "                              ///////////////////                               \n",
      "This is a [SPECFEM2D] [WORKSTATION] example, which will run an inversion to\n",
      "assess misfit between a starting homogeneous halfspace model and a target\n",
      "checkerboard model. This example problem uses the [PYAFLOWA] preprocessing\n",
      "module and the [LBFGS] optimization algorithm. In this example, windowing in\n",
      "Pyaflowa is turnd OFF.[2 events, 4 stations, 1 iterations]. The tasks involved\n",
      "include:\n",
      "\n",
      "1. (optional) Download, configure, compile SPECFEM2D\n",
      "2. [Setup] a SPECFEM2D working directory\n",
      "3. [Setup] starting model from 'Tape2007' example\n",
      "4. [Setup] target model w/ perturbed starting model\n",
      "5. [Setup] a SeisFlows working directory\n",
      "6. [Run] the inversion workflow\n",
      "================================================================================\n"
     ]
    }
   ],
   "source": [
    "# (optional) Print help dialogue\n",
    "! seisflows examples 2 --niter 1 --ntask 2 --nsta 4"
   ]
  },
  {
   "cell_type": "code",
   "execution_count": null,
   "id": "abb3cdce",
   "metadata": {},
   "outputs": [],
   "source": [
    "# Run Example 2 with 1 processor\n",
    "%cd /home/scoped/work/example_2\n",
    "! seisflows examples run 2 -r /home/scoped/specfem2d --with_mpi --niter 1 --ntask 2 --nsta 4"
   ]
  },
  {
   "cell_type": "code",
   "execution_count": null,
   "id": "b617e58e",
   "metadata": {},
   "outputs": [],
   "source": [
    "# Plots the target and final models, as well as the gradient \n",
    "! seisflows plot2d MODEL_TRUE vs --savefig m_true_vs.png\n",
    "! seisflows plot2d MODEL_02 vs --savefig m_02_vs.png\n",
    "! seisflows plot2d GRADIENT_02 vs_kernel --savefig g_02_vs.png"
   ]
  },
  {
   "cell_type": "markdown",
   "id": "a62b9b7f",
   "metadata": {},
   "source": [
    "Using the navigation menu on the left, navigate to:\n",
    "\n",
    "`home -> work -> example_2`\n",
    "\n",
    "and **open** the .png files that were created to look at the results of this simple inversion. They should match the figures shown in the [documentation page](https://seisflows.readthedocs.io/en/devel/specfem2d_example.html#example-2-checkerboard-inversion-w-pyaflowa-l-bfgs)."
   ]
  },
  {
   "cell_type": "markdown",
   "id": "f597bb4c",
   "metadata": {},
   "source": [
    "## 5) Example 2a: Re-create a Kernel from Tape et al. 2007\n",
    "\n",
    "This Example runs Example 2, but for only 1 event, in order to generate an event kernel. See [SeisFlows Example \\#2a docs page](https://seisflows.readthedocs.io/en/devel/specfem2d_example.html#re-creating-kernels-from-tape-et-al-2007) for guidance on what is going on.  \n",
    "**Benchmark time for cell: ~4m**\n",
    "\n",
    ">__NOTE:__\n",
    "You can choose which event ID you're running by changing the integer after `--event_id`. Tape et al. show results for Event IDs 1 through 7."
   ]
  },
  {
   "cell_type": "code",
   "execution_count": null,
   "id": "a5366661",
   "metadata": {},
   "outputs": [],
   "source": [
    "# Run Example 2 for only 1 iteration, and for a given event ID\n",
    "%cd /home/scoped/work/example_2a\n",
    "! seisflows examples run 2 -r /home/scoped/specfem2d --with_mpi --niter 1 --event_id 7"
   ]
  },
  {
   "cell_type": "code",
   "execution_count": null,
   "id": "161cffbc",
   "metadata": {},
   "outputs": [],
   "source": [
    "# Plots the event kernel\n",
    "! seisflows plot2d GRADIENT_01 vs_kernel --savefig g_01_vs.png"
   ]
  },
  {
   "cell_type": "markdown",
   "id": "f09852ba",
   "metadata": {},
   "source": [
    "Using the navigation menu on the left, navigate to:\n",
    "\n",
    "`home -> work -> example_2a`\n",
    "\n",
    "and **open** the .png file that was created. Make sure that the kernel looks like one of the panels provided in [Figure 9 of Tape et al.](https://seisflows.readthedocs.io/en/devel/specfem2d_example.html#re-creating-kernels-from-tape-et-al-2007)\n",
    "\n",
    "----------\n",
    "\n",
    "We can also look at waveform figures generated by `Pyatoa`, a misfit quantification package used by SeisFlows to determine data-synthetic misfit. These can be found be navigating to\n",
    "\n",
    "`home -> work -> example_2 -> output -> pyaflowa -> figures`\n",
    "\n",
    "There is one .pdf file in there, corresponding to waveforms generated during the first iteration (i01) and first step count (s01). If you open the PDF you'll see waveform comparison figures showing time shifts between data and synthetics.\n",
    "\n",
    "-------------\n",
    "\n",
    "If you want to **re-run this example** to generate a new event kernel, you will have to clear out the existing working directory. This is because SeisFlows has a checkpointing feature, which will not allow you to run another workflow within an existing workflow directory."
   ]
  },
  {
   "cell_type": "code",
   "execution_count": null,
   "id": "6e9b451b",
   "metadata": {},
   "outputs": [],
   "source": [
    "! rm -r /home/scoped/work/example_2a\n",
    "! mkdir /home/scoped/work/example_2a\n",
    "! seisflows examples run 2 -r /home/scoped/specfem2d --with_mpi --niter 1 --event_id 5"
   ]
  },
  {
   "cell_type": "markdown",
   "id": "01e238be",
   "metadata": {},
   "source": [
    "## 6) Example 3: En-masse Forward Simulations\n",
    "\n",
    "This Example runs forward simulations for 250 source-receiver pairs. See [SeisFlows Example \\#3 docs page](https://seisflows.readthedocs.io/en/devel/specfem2d_example.html#example-3-en-masse-forward-simulations) for guidance on what is going on.  \n",
    "**Benchmark time for cell: ~4m**"
   ]
  },
  {
   "cell_type": "code",
   "execution_count": 13,
   "id": "bc134163",
   "metadata": {},
   "outputs": [
    {
     "name": "stdout",
     "output_type": "stream",
     "text": [
      "No existing SPECFEM2D repo given, default to: /home/scoped/work/example_2a/specfem2d\n",
      "\n",
      "                                    @@@@@@@@@@                        \n",
      "                               .@@@@.    .%&(  %@.          \n",
      "                            @@@@   @@@@   &@@@@@@ ,%@       \n",
      "                         @@@@   @@@,  /@@              @    \n",
      "                        @@@   @@@@   @@@              @     \n",
      "                      @@@@   @@@@   @@@                @  @ \n",
      "                      @@@   @@@@   ,@@@                @ @  \n",
      "                     @@@@   @@@@    @@@@              @@ @ @\n",
      "                     @@@@   @@@@@    @@@@@          @@@ @@ @\n",
      "                     @@@@    @@@@@     @@@@@@@@@@@@@@  @@  @\n",
      "                      @@@@    @@@@@@        @@@&     @@@  @ \n",
      "                      @@@@@     @@@@@@@@         %@@@@#  @@ \n",
      "                        @@@@#      @@@@@@@@@@@@@@@@@   @@   \n",
      "                         &@@@@@          @@@@(       @@&    \n",
      "                            @@@@@@@             /@@@@       \n",
      "                                @@@@@@@@@@@@@@@@@\n",
      "                                    @@@@@@@@@@          \n",
      "\n",
      "\n",
      "================================================================================\n",
      "                              SEISFLOWS EXAMPLE 3                               \n",
      "                              ///////////////////                               \n",
      "This is a [SPECFEM2D] [WORKSTATION] example, which will run forward simulations\n",
      "to generate synthetic seismograms through a homogeneous halfspace starting\n",
      "model. This example uses no preprocessing or optimization modules. [10 events,\n",
      "25 stations] The tasks involved include:\n",
      "\n",
      "1. (optional) Download, configure, compile SPECFEM2D\n",
      "2. [Setup] a SPECFEM2D working directory\n",
      "3. [Setup] starting model from 'Tape2007' example\n",
      "4. [Setup] a SeisFlows working directory\n",
      "5. [Run] the forward simulation workflow\n",
      "================================================================================\n"
     ]
    }
   ],
   "source": [
    "# (optional) Print help dialogue\n",
    "! seisflows examples 3"
   ]
  },
  {
   "cell_type": "code",
   "execution_count": null,
   "id": "c72ed098",
   "metadata": {},
   "outputs": [],
   "source": [
    "# Run Example 3\n",
    "%cd /home/scoped/work/example_3\n",
    "! seisflows examples run 3 -r /home/scoped/specfem2d --with_mpi"
   ]
  },
  {
   "cell_type": "code",
   "execution_count": null,
   "id": "673351b9",
   "metadata": {},
   "outputs": [],
   "source": [
    "# Plots one synthetic waveform exported by the Solver\n",
    "! seisflows plotst output/solver/001/syn/AA.S000000.BXY.semd --savefig AA.S000000.BXY.semd.png\n",
    "\n",
    "# Plots multiple synthetic waveforms exported by the Solver\n",
    "! seisflows plotst output/solver/001/syn/AA.S00000?.BXY.semd --savefig AA.S00000n.BXY.semd.png"
   ]
  },
  {
   "cell_type": "markdown",
   "id": "0b4a4282",
   "metadata": {},
   "source": [
    "Using the navigation menu on the left, navigate to:\n",
    "\n",
    "`home -> work -> example_3`\n",
    "\n",
    "and **open** the .png files that were created to look at the waveforms. The waveforms should be relatively simple since this is a homogeneous halfspace model."
   ]
  },
  {
   "cell_type": "markdown",
   "id": "dd0c981f",
   "metadata": {},
   "source": [
    "## 7) Testing SPECFEM3D\n",
    "\n",
    "We want to make sure we can run SPECFEM3D natively by running the homogeneous halfspace example problem using MPI.\n",
    "First we need to set up the example directory, and then we'll run a 3D example problem.  \n",
    "**Benchmark time for cell: ~9m**"
   ]
  },
  {
   "cell_type": "code",
   "execution_count": null,
   "id": "620e2692",
   "metadata": {},
   "outputs": [],
   "source": [
    "%cd /home/scoped/specfem3d/EXAMPLES/homogeneous_halfspace\n",
    "\n",
    "! ln -s /home/scoped/specfem3d/bin .\n",
    "! cp -r ./meshfem3D_files ./DATA/meshfem3D_files\n",
    "! mkdir -p OUTPUT_FILES/DATABASES_MPI"
   ]
  },
  {
   "cell_type": "code",
   "execution_count": null,
   "id": "bfdbbcdc",
   "metadata": {},
   "outputs": [],
   "source": [
    "! mpirun -n 4 bin/xmeshfem3D\n",
    "! mpirun -n 4 bin/xgenerate_databases\n",
    "! mpirun -n 4 bin/xspecfem3D"
   ]
  },
  {
   "cell_type": "markdown",
   "id": "52f320c2",
   "metadata": {},
   "source": [
    "Unfortunately we cannot conveniently plot the 3D model with Python. However we can use SeisFlows to plot the waveforms that were generated"
   ]
  },
  {
   "cell_type": "code",
   "execution_count": null,
   "id": "40c560ea",
   "metadata": {},
   "outputs": [],
   "source": [
    "! seisflows plotst OUTPUT_FILES/*semd --savefig specfem3d_synthetics.png"
   ]
  },
  {
   "cell_type": "markdown",
   "id": "2fc42d5b",
   "metadata": {},
   "source": [
    "Using the navigation menu on the left, navigate to:\n",
    "\n",
    "`home -> specfem3d -> EXAMPLES -> homogeneous_halfspace`\n",
    "\n",
    "and **open** the `specfem3d_synthetics.png` file to look at the waveforms. We can see the directivity of the moment tensor in the variation of amplitude of the given waveforms."
   ]
  },
  {
   "cell_type": "markdown",
   "id": "b453ae8f",
   "metadata": {},
   "source": [
    "## 8) Testing PySEP/RecSec\n",
    "\n",
    "Just want to make sure PySEP and RecSec work as RecSec will be used to plot SPECFEM2D synthetics during the workshop."
   ]
  },
  {
   "cell_type": "code",
   "execution_count": null,
   "id": "1cd14a67",
   "metadata": {},
   "outputs": [],
   "source": [
    "%cd /home/scoped/work\n",
    "\n",
    "# Download data for an example Anchorange event\n",
    "! pysep -p mtuq_workshop_2022 -e 2009-04-07T201255_ANCHORAGE.yaml"
   ]
  },
  {
   "cell_type": "code",
   "execution_count": null,
   "id": "9a272f07",
   "metadata": {},
   "outputs": [],
   "source": [
    "# Test RECord SECtion tool\n",
    "! recsec --pysep_path 2009-04-07T201255_SOUTHERN_ALASKA/SAC \\\n",
    "    --min_period 10 --max_period 100 --move_out 4 --zero_pad_s 100 100 \\\n",
    "    --save 2009-04-07T201255_SOUTHERN_ALASKA/recsec_test.png"
   ]
  },
  {
   "cell_type": "markdown",
   "id": "7b292ec7",
   "metadata": {},
   "source": [
    "Using the navigation menu on the left, navigate to:\n",
    "\n",
    "`home -> work -> 2009-04-07T201255_SOUTHERN_ALASKA`\n",
    "\n",
    "This is the directory created by PySEP. Appropriately headed SAC files are downloaded to the directory SAC/. \n",
    "\n",
    "**Open** the `recsec_test.png` file to look at the created record section, and have a look in the `SAC/` directory to see all the waveforms downloaded.\n",
    "\n",
    "### Testing RecSec with SPECFEM2D Synthetics\n",
    "\n",
    "Finally, we can just make sure our record section works with synthetic waveforms.\n",
    "\n",
    ">__NOTE:__ This requires having run the cell(s) in Section (1)."
   ]
  },
  {
   "cell_type": "code",
   "execution_count": null,
   "id": "31520b74",
   "metadata": {},
   "outputs": [],
   "source": [
    "# Try RecSec with SPECFEM2D synthetics\n",
    "# The `--cartesian` flag tells RecSec that the SPECFEM2D domain is cartesian (not geographic)\n",
    "%cd /home/scoped/specfem2d\n",
    "! recsec --syn_path OUTPUT_FILES/ --cmtsolution DATA/SOURCE --stations DATA/STATIONS --cartesian"
   ]
  },
  {
   "cell_type": "markdown",
   "id": "343f78e6",
   "metadata": {},
   "source": [
    "Using the navigation menu on the left, navigate to:\n",
    "\n",
    "`home -> work -> specfem2d`\n",
    "\n",
    "**Open** the `record_section.png` file to look at the created record section.\n",
    "\n",
    "-------------\n",
    "\n",
    "*All done. Thanks :)*"
   ]
  }
 ],
 "metadata": {
  "kernelspec": {
   "display_name": "Python 3 (ipykernel)",
   "language": "python",
   "name": "python3"
  },
  "language_info": {
   "codemirror_mode": {
    "name": "ipython",
    "version": 3
   },
   "file_extension": ".py",
   "mimetype": "text/x-python",
   "name": "python",
   "nbconvert_exporter": "python",
   "pygments_lexer": "ipython3",
   "version": "3.10.6"
  }
 },
 "nbformat": 4,
 "nbformat_minor": 5
}
