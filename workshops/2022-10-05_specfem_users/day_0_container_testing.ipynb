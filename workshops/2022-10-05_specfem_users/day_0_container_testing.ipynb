{
 "cells": [
  {
   "cell_type": "markdown",
   "id": "306acd82",
   "metadata": {},
   "source": [
    "# SPECFEM Users Workshop (Oct. 5-7, 2022)\n",
    "-------------------------\n",
    "\n",
    "## Part 0: Container Testing Instructions\n",
    "\n",
    "- Day 0 instructions are meant for Users to test out their Docker container to ensure that things will go smoothly during the workshop.  \n",
    "- Estimated times are provided next to each task to provide a benchmark on how fast thing should run. \n",
    "- Benchmarks were run on a 2015 Macbook Pro (OSX 10.14.6) with 3.1GHz Intel Core i7, and 16Gb of ram. \n",
    "- If you run into any issues while running through this notebook, please copy the error message and make note of which cell created the error.\n",
    "- These instructions should be run from inside the Docker container, using Jupyter Lab (see *Docker Preamble*). \n",
    "\n",
    "----------------\n",
    "\n",
    "**Docker Preamble:**  \n",
    "\n",
    "To open this container you will need the latest Docker Image:  \n",
    "**> Please run the following from your computer's Terminal**\n",
    "\n",
    "```bash\n",
    "docker pull ghcr.io/seisscoped/adjtomo:ubuntu20.04\n",
    "```\n",
    "\n",
    "To save the results we obtain from inside our container, we will need to mount our local filesystem.  \n",
    "**> Please `cd` (change directory) to am empty working directory before running the following command:**\n",
    "\n",
    "```bash\n",
    "docker run -p 8888:8888 --mount type=bind,source=$(pwd),target=/home/scoped/work --shm-size=1gb ghcr.io/seisscoped/adjtomo:ubuntu20.04 \n",
    "```\n",
    "\n",
    ">__Docker commands explanation__: `pull` downloads the Docker Image from GitHub. `run` launches the container. `--mount`  binds our local filesystem (in the current working directory, pwd) with the container's internal filesytem (at location /home/scoped/work). `--shm-size` tells Docker to give us 1 Gigabyte of shared memory, which is required for MPI processes.\n",
    "\n",
    ">__M1 Macs__: Docker is not well optimized for Macs running M1 chips, as compared to those running Intel chips. This results in Docker running $\\sim$2$-$4x slower on M1 Macs. If you have an M1 we suggest you find an alternative for the workshop (Intel Mac, Windows, Linux) but if that is not possible, you can optimize your container slightly by adding the flag `--platform linux/amd64` to the 'docker run' command above (e.g., `docker run -p 8888:8888 --platform linux/amd64 ...`). With that said, please be prepared for overall slower run times, we will try to accomodate this as much as possible. \n",
    "\n",
    ">__SIGBUS Error__: If you are receiving the error message *Program received signal SIGBUS: Access to an undefined portion of a memory object.*, please `File -> Shut Down` the current container and reopen with a larger value for the `--shm-size` flag above. e.g., `--shm-size=2gb`. \n",
    "\n",
    "--------------------\n",
    "\n",
    "**Jupyter Quick Tips:**\n",
    "\n",
    "- **Run cells** one-by-one by hitting the $\\blacktriangleright$ button at the top, or by hitting `Shift + Enter`\n",
    "- **Run all cells** by hitting the $\\blacktriangleright\\blacktriangleright$ button at the top, or by running `Run -> Run All Cells`\n",
    "- **Currently running cells** that are still processing will have a `[*]` symbol next to them\n",
    "- **Finished cells** will have a `[1]` symbol next to them. The number inside the brackets represents what order this cell has been run in.\n",
    "- Commands that start with `!` are Bash commands (i.e., commands you would run from the terminal)\n",
    "- Commands that start with `%` are Jupyter Magic commands.\n",
    "- To time a task, put a `%time` before the command (e.g., `%time ! ls`)\n",
    "\n",
    "\n",
    "**Relevant Links:** \n",
    "- Today's notebook: https://github.com/adjtomo/adjdocs/blob/main/workshops/2022-10-05_specfem_users/day_0_container_testing.ipynb\n",
    "- Today's completed notebook: https://github.com/adjtomo/adjdocs/blob/main/workshops/2022-10-05_specfem_users/completed_notebooks/day_0_container_testing.ipynb\n",
    "- Workshop announcement: https://sites.google.com/alaska.edu/carltape/home/research/specfem2022?authuser=0\n",
    "- adjTomo Container: https://github.com/SeisSCOPED/adjtomo\n",
    "- adjTomo Org Page: https://github.com/adjTomo\n",
    "- SeisFlows docs: https://seisflows.readthedocs.io/en/devel/\n",
    "- Pyatoa docs: https://pyatoa.readthedocs.io/en/devel/\n",
    "- PySEP readme: https://github.com/uafgeotools/pysep#readme\n",
    "\n",
    "--------------"
   ]
  },
  {
   "cell_type": "code",
   "execution_count": null,
   "id": "5145f5d3-28e6-4865-bcb4-d8f5f2f713de",
   "metadata": {},
   "outputs": [],
   "source": [
    "# 0) Python import for in-notebook visualizations\n",
    "from IPython.display import Image"
   ]
  },
  {
   "cell_type": "markdown",
   "id": "acddac2f",
   "metadata": {},
   "source": [
    "## 1) Testing SPECFEM2D\n",
    "\n",
    "We want to make sure we can run SPECFEM2D natively by running the example problem using MPI.  \n",
    "**Benchmark time for cell w/ 4 MPI processes: ~60s**"
   ]
  },
  {
   "cell_type": "code",
   "execution_count": null,
   "id": "73f9208c",
   "metadata": {},
   "outputs": [],
   "source": [
    "%cd /home/scoped/specfem2d\n",
    "\n",
    "# Convenience function to edit the SPECFEM Par_file from the command line\n",
    "! seisflows sempar -P DATA/Par_file nproc 4  # change number of processors from 1 to 4\n",
    "\n",
    "! mpirun -n 4 bin/xmeshfem2D\n",
    "! mpirun -n 4 bin/xspecfem2D"
   ]
  },
  {
   "cell_type": "markdown",
   "id": "bf06615e",
   "metadata": {},
   "source": [
    "Using the navigation menu on the left, navigate to:\n",
    "\n",
    "`home -> specfem2d -> OUTPUT_FILES`\n",
    "\n",
    "**Open** any of the `forward_image*.jpg` files and see that the wavefront makes sense. It should look like a layered halfspace with topography and 3 layers.\n",
    "One such figure is shown below."
   ]
  },
  {
   "cell_type": "code",
   "execution_count": null,
   "id": "af68efa0-2af0-48dc-91d1-55d0d38d4037",
   "metadata": {},
   "outputs": [],
   "source": [
    "Image(\"OUTPUT_FILES/forward_image000000200.jpg\")"
   ]
  },
  {
   "cell_type": "markdown",
   "id": "a55e46f3-6993-4527-8c72-1baf8c09fad5",
   "metadata": {},
   "source": [
    "### Testing Record Section (RecSec) Tool with SPECMFE2D Synthetics\n",
    "- Make sure we can plot record sections (using PySEP) from SPECFEM2D synthetic waveforms.\n",
    "- Must point RecSec at 1) synthetics, 2) station metadata, 3) source metadata\n",
    "- The `--cartesian` flag tells RecSec that the SPECFEM2D domain is cartesian (not geographic)"
   ]
  },
  {
   "cell_type": "code",
   "execution_count": null,
   "id": "25ad5406-5501-4daa-bd91-2d5b4dca8709",
   "metadata": {},
   "outputs": [],
   "source": [
    "# Try RecSec with SPECFEM2D synthetics\n",
    "! recsec --syn_path OUTPUT_FILES/ --cmtsolution DATA/SOURCE --stations DATA/STATIONS --cartesian"
   ]
  },
  {
   "cell_type": "markdown",
   "id": "e00ae407-4121-42a6-995a-9a4cdba416db",
   "metadata": {},
   "source": [
    "Using the navigation menu on the left, navigate to:\n",
    "\n",
    "`home -> work -> specfem2d`\n",
    "\n",
    "**Open** the `record_section.png` file to look at the created record section.\n"
   ]
  },
  {
   "cell_type": "code",
   "execution_count": null,
   "id": "64f6b625-ae67-4f98-9923-27d770398e5d",
   "metadata": {},
   "outputs": [],
   "source": [
    "Image(\"record_section.png\")"
   ]
  },
  {
   "cell_type": "markdown",
   "id": "0bf0fdcc",
   "metadata": {},
   "source": [
    "## 2) SeisFlows Setup\n",
    "\n",
    "Some directory bookkeeping to make sure we keep the container's `/home` directory free of clutter"
   ]
  },
  {
   "cell_type": "code",
   "execution_count": null,
   "id": "958b638f",
   "metadata": {},
   "outputs": [],
   "source": [
    "%cd /home/scoped/work  \n",
    "\n",
    "! mkdir example_1 example_2 example_2a example_3 "
   ]
  },
  {
   "cell_type": "markdown",
   "id": "545960a8-21c2-47a9-b1e4-75df12038980",
   "metadata": {},
   "source": [
    ">__NOTE:__ Successfully run examples will end with the following log message \n",
    "\n",
    "```\n",
    "================================================================================\n",
    "EXAMPLE COMPLETED SUCCESFULLY\n",
    "================================================================================\n",
    "```"
   ]
  },
  {
   "cell_type": "markdown",
   "id": "3ad7e88b",
   "metadata": {},
   "source": [
    "## 3) Example 1: Homogeneous Halfspace Inversion\n",
    "\n",
    "- This example runs a 1 iteration inversion for a single source-receiver pair, using two homogeneous halfspace models.  \n",
    "- See [SeisFlows Example \\#1 docs page](https://seisflows.readthedocs.io/en/devel/specfem2d_example.html#example-1-homogenous-halfspace-inversion) for guidance on what is going on  \n",
    "- **Benchmark time for cell w/ 2 MPI processes: ~1m45s**"
   ]
  },
  {
   "cell_type": "code",
   "execution_count": null,
   "id": "dcfc795b",
   "metadata": {},
   "outputs": [],
   "source": [
    "# Run Example 1 with 2 processors\n",
    "%cd /home/scoped/work/example_1\n",
    "! seisflows examples run 1 -r /home/scoped/specfem2d --with_mpi --nproc 2"
   ]
  },
  {
   "cell_type": "code",
   "execution_count": null,
   "id": "ab2c4287",
   "metadata": {},
   "outputs": [],
   "source": [
    "# Plots the initial and final models, as well as the gradient \n",
    "! seisflows plot2d MODEL_INIT vs --savefig m_init_vs.png\n",
    "! seisflows plot2d MODEL_TRUE vs --savefig m_true_vs.png\n",
    "! seisflows plot2d GRADIENT_01 vs_kernel --savefig g_01_vs.png\n",
    "! seisflows plot2d MODEL_01 vs --savefig m_01_vs.png"
   ]
  },
  {
   "cell_type": "markdown",
   "id": "90b452d4",
   "metadata": {},
   "source": [
    "Using the navigation menu on the left, navigate to:\n",
    "\n",
    "`home -> work -> example_1`\n",
    "\n",
    "and **open** each of the .png files that were created to look at the results of this simple inversion. They should match the figures shown in the documentation page."
   ]
  },
  {
   "cell_type": "code",
   "execution_count": null,
   "id": "cc295ba5-b920-4821-aa3c-9b71346b6582",
   "metadata": {},
   "outputs": [],
   "source": [
    "Image(\"m_init_vs.png\")"
   ]
  },
  {
   "cell_type": "code",
   "execution_count": null,
   "id": "bcbbcde7-b063-4769-91c4-ea866834611a",
   "metadata": {},
   "outputs": [],
   "source": [
    "Image(\"m_true_vs.png\")"
   ]
  },
  {
   "cell_type": "code",
   "execution_count": null,
   "id": "e8baa59c-f129-4b2f-b89c-b4555dacaacb",
   "metadata": {},
   "outputs": [],
   "source": [
    "Image(\"g_01_vs.png\")"
   ]
  },
  {
   "cell_type": "code",
   "execution_count": null,
   "id": "079c903d-a44e-449f-88cb-2f120ec46207",
   "metadata": {},
   "outputs": [],
   "source": [
    "Image(\"m_01_vs.png\")"
   ]
  },
  {
   "cell_type": "markdown",
   "id": "f597bb4c",
   "metadata": {},
   "source": [
    "## 4) Example 2a: Re-create a Kernel from Tape et al. 2007\n",
    "\n",
    "- This Example runs Example 2, for 1 event and 32 stations, comparing a homogeneous halfspace model with a checkerboard model. It generate a gradient and updated model.  \n",
    "- See [SeisFlows Example \\#2a docs page](https://seisflows.readthedocs.io/en/devel/specfem2d_example.html#re-creating-kernels-from-tape-et-al-2007) for guidance on what is going on.  \n",
    "- **NOTE**: You can choose which event ID you're running by changing the integer after `--event_id`. Tape et al. show results for Event IDs 1 through 7.\n",
    "- **Benchmark time for cell: ~4m**"
   ]
  },
  {
   "cell_type": "code",
   "execution_count": null,
   "id": "a5366661",
   "metadata": {},
   "outputs": [],
   "source": [
    "# Run Example 2 for only 1 iteration, and for a given event ID\n",
    "%cd /home/scoped/work/example_2a\n",
    "! seisflows examples run 2 -r /home/scoped/specfem2d --with_mpi --niter 1 --event_id 7  # <-- Choose your event by changing this value"
   ]
  },
  {
   "cell_type": "code",
   "execution_count": null,
   "id": "161cffbc",
   "metadata": {},
   "outputs": [],
   "source": [
    "# Plots the target and final models, as well as the gradient \n",
    "! seisflows plot2d MODEL_TRUE vs --savefig m_true_vs.png\n",
    "! seisflows plot2d MODEL_01 vs --savefig m_01_vs.png\n",
    "! seisflows plot2d GRADIENT_01 vs_kernel --savefig g_01_vs.png"
   ]
  },
  {
   "cell_type": "markdown",
   "id": "f09852ba",
   "metadata": {},
   "source": [
    "Using the navigation menu on the left, navigate to:\n",
    "\n",
    "`home -> work -> example_2a`\n",
    "\n",
    "and **open** the .png file that was created. Make sure that the kernel looks like one of the panels provided in [Figure 9 of Tape et al.](https://seisflows.readthedocs.io/en/devel/specfem2d_example.html#re-creating-kernels-from-tape-et-al-2007)"
   ]
  },
  {
   "cell_type": "code",
   "execution_count": null,
   "id": "804989f5-6c84-461b-8c06-bf3b4c156df2",
   "metadata": {},
   "outputs": [],
   "source": [
    "Image(\"m_true_vs.png\")"
   ]
  },
  {
   "cell_type": "code",
   "execution_count": null,
   "id": "951fcef6-6e42-443e-b957-2bd46c8ae9d6",
   "metadata": {},
   "outputs": [],
   "source": [
    "Image(\"g_01_vs.png\")"
   ]
  },
  {
   "cell_type": "code",
   "execution_count": null,
   "id": "2a2f0b94-ac80-4192-ac72-37cbdd0f1027",
   "metadata": {},
   "outputs": [],
   "source": [
    "Image(\"m_01_vs.png\")"
   ]
  },
  {
   "cell_type": "markdown",
   "id": "49d08213-97fa-45a7-9fab-75864b4db90c",
   "metadata": {},
   "source": [
    "### Waveform Figures\n",
    "\n",
    "We can also look at waveform figures generated by `Pyatoa`, a misfit quantification package used by SeisFlows to determine data-synthetic misfit. These can be found be navigating to\n",
    "\n",
    "`home -> work -> example_2 -> output -> pyaflowa -> figures`\n",
    "\n",
    "There is one .pdf file in there, corresponding to waveforms generated during the first iteration (i01) and first step count (s01). If you open the PDF you'll see waveform comparison figures showing time shifts between data and synthetics.\n",
    "\n",
    "\n",
    "### Re-running Examples\n",
    "\n",
    "If you want to **re-run this example** to generate a new event kernel, you will have to remove the SeisFlows state file. \n",
    "This bypasses SeisFlows' checkpointing feature, which will not allow you to run another workflow within an existing workflow directory."
   ]
  },
  {
   "cell_type": "code",
   "execution_count": null,
   "id": "6e9b451b",
   "metadata": {},
   "outputs": [],
   "source": [
    "! rm /home/scoped/work/example_2a/sfstate.txt\n",
    "! seisflows examples run 2 -r /home/scoped/specfem2d --with_mpi --niter 1 --event_id 5"
   ]
  },
  {
   "cell_type": "markdown",
   "id": "01e238be",
   "metadata": {
    "tags": []
   },
   "source": [
    "## 5) Example 3: En-masse Forward Simulations\n",
    "\n",
    "- This Example runs forward simulations for 250 source-receiver pairs (10 events, 25 stations). \n",
    "- See [SeisFlows Example \\#3 docs page](https://seisflows.readthedocs.io/en/devel/specfem2d_example.html#example-3-en-masse-forward-simulations) for guidance on what is going on. \n",
    "- **Benchmark time for cell: ~4m**"
   ]
  },
  {
   "cell_type": "code",
   "execution_count": null,
   "id": "c72ed098",
   "metadata": {},
   "outputs": [],
   "source": [
    "# Run Example 3\n",
    "%cd /home/scoped/work/example_3\n",
    "! seisflows examples run 3 -r /home/scoped/specfem2d --with_mpi --nproc 4"
   ]
  },
  {
   "cell_type": "code",
   "execution_count": null,
   "id": "673351b9",
   "metadata": {},
   "outputs": [],
   "source": [
    "# Plots one synthetic waveform exported by the Solver\n",
    "! seisflows plotst output/solver/001/syn/AA.S000000.BXY.semd --savefig AA.S000000.BXY.semd.png\n",
    "\n",
    "# Plots multiple synthetic waveforms exported by the Solver\n",
    "! seisflows plotst output/solver/001/syn/AA.S00000?.BXY.semd --savefig AA.S00000n.BXY.semd.png"
   ]
  },
  {
   "cell_type": "markdown",
   "id": "0b4a4282",
   "metadata": {},
   "source": [
    "Using the navigation menu on the left, navigate to:\n",
    "\n",
    "`home -> work -> example_3`\n",
    "\n",
    "and **open** the .png files that were created to look at the waveforms. The waveforms should be relatively simple since this is a homogeneous halfspace model."
   ]
  },
  {
   "cell_type": "code",
   "execution_count": null,
   "id": "8f1054a2-7f80-42f4-9f37-3fb6f142c7bc",
   "metadata": {},
   "outputs": [],
   "source": [
    "Image(\"AA.S000000.BXY.semd.png\")"
   ]
  },
  {
   "cell_type": "code",
   "execution_count": null,
   "id": "94bd79f5-0558-43ff-9004-e7ed4cacbaa8",
   "metadata": {},
   "outputs": [],
   "source": [
    "Image(\"AA.S000000.BXY.semd.png\")"
   ]
  },
  {
   "cell_type": "markdown",
   "id": "dd0c981f",
   "metadata": {},
   "source": [
    "## 6) Testing SPECFEM3D\n",
    "\n",
    "- We want to make sure we can run SPECFEM3D natively by running the homogeneous halfspace example problem using MPI.\n",
    "- The cell first sets up the example directory, and then runs a 3D example problem with 4 processors.  \n",
    "- We can not easily visualize SPECFEM3D results, so we plot synthetic waveforms as a check.\n",
    "- **Benchmark time for cell: ~9m**"
   ]
  },
  {
   "cell_type": "code",
   "execution_count": null,
   "id": "620e2692",
   "metadata": {},
   "outputs": [],
   "source": [
    "%cd /home/scoped/specfem3d/EXAMPLES/homogeneous_halfspace\n",
    "\n",
    "# Setup example problem\n",
    "! ln -s /home/scoped/specfem3d/bin .\n",
    "! cp -r ./meshfem3D_files ./DATA/meshfem3D_files\n",
    "! mkdir -p OUTPUT_FILES/DATABASES_MPI\n",
    "\n",
    "# Run SPECFEM3D exectuables\n",
    "! mpirun -n 4 bin/xmeshfem3D\n",
    "! mpirun -n 4 bin/xgenerate_databases\n",
    "! mpirun -n 4 bin/xspecfem3D"
   ]
  },
  {
   "cell_type": "code",
   "execution_count": null,
   "id": "40c560ea",
   "metadata": {},
   "outputs": [],
   "source": [
    "# Plots synthetic waveforms as a check\n",
    "! seisflows plotst OUTPUT_FILES/*semd --savefig specfem3d_synthetics.png"
   ]
  },
  {
   "cell_type": "markdown",
   "id": "2fc42d5b",
   "metadata": {},
   "source": [
    "Using the navigation menu on the left, navigate to:\n",
    "\n",
    "`home -> specfem3d -> EXAMPLES -> homogeneous_halfspace`\n",
    "\n",
    "and **open** the `specfem3d_synthetics.png` file to look at the waveforms. We can see the directivity of the moment tensor in the variation of amplitude of the given waveforms."
   ]
  },
  {
   "cell_type": "code",
   "execution_count": null,
   "id": "52cfc39d-8537-4ed0-90ec-9ae9096fb814",
   "metadata": {},
   "outputs": [],
   "source": [
    "Image(\"specfem3d_synthetics.png\")"
   ]
  },
  {
   "cell_type": "markdown",
   "id": "5a07e6bc-08a1-4b6f-a01a-f65d5b42813f",
   "metadata": {},
   "source": [
    "```python\n",
    "All done. Thanks :)\n",
    "```"
   ]
  }
 ],
 "metadata": {
  "kernelspec": {
   "display_name": "Python 3",
   "language": "python",
   "name": "python3"
  },
  "language_info": {
   "codemirror_mode": {
    "name": "ipython",
    "version": 3
   },
   "file_extension": ".py",
   "mimetype": "text/x-python",
   "name": "python",
   "nbconvert_exporter": "python",
   "pygments_lexer": "ipython3",
   "version": "3.7.3"
  }
 },
 "nbformat": 4,
 "nbformat_minor": 5
}
