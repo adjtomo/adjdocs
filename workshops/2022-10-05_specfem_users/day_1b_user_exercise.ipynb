{
 "cells": [
  {
   "cell_type": "markdown",
   "id": "347bc0f7-6dbe-454c-a95a-8469d8efe1c2",
   "metadata": {},
   "source": [
    "# SPECFEM Users Workshop -- Day 1 (Oct. 5, 2022)\n",
    "\n",
    "## Part 1B: Homogeneous Halfspace Model\n",
    "\n",
    "Following up on Part 1A, this notebook allows Users to play around with their own SPECFEM2D homogeneous halfspace example. This is meant to familiarize Users with setting `SOURCE` and `STATION` attributes, adjust velocity model parameters, and assess their simulation work.\n",
    "\n",
    "-----------\n",
    "\n",
    "### 0) Relevant Information\n",
    "\n",
    ">__NOTE:__ These instructions should be run from inside the Docker container, using Jupyter Lab. The Docker container should have the adjTomo toolkit installed (SeisFlows, Pyatoa, PySEP), as well as SPECFEM2D and SPECEFM3D compiled with MPI. \n",
    "\n",
    "**Relevant Links:** \n",
    "- !!! ADD DAY 1 SLIDES HERE !!!\n",
    "- Workshop Material: https://github.com/adjtomo/adjdocs/tree/main/workshops/2022-10-05_specfem_users\n",
    "- Today's Notebook: !!! ADD THIS !!!\n",
    "\n",
    "**Jupyter Quick Tips:**\n",
    "\n",
    "- **Run cells** one-by-one by hitting the `Run` button at the top, or by hitting `Shift + Enter`\n",
    "- **Currently running cells** that are still processing will have a `[*]` symbol next to them\n",
    "- **Finished cells** will have a `[1]` symbol next to them. Where the number inside the brackets represents what order this cell has been run in.\n",
    "- Commands that start with `!` are Bash commands (i.e., commands you would run from the terminal)\n",
    "- Commands that start with `%` are Jupyter Magic commands\n"
   ]
  },
  {
   "cell_type": "markdown",
   "id": "17fed39d-3309-4957-b254-66c67ca131be",
   "metadata": {},
   "source": [
    "## 1) Setting Up \n",
    "\n",
    "It is often desireable to run SPECFEM outside of the cloned repository, in order to keep files and outputs manageable. The trick here is that SPECFEM only requires 3 compenents for a sucessful simulation, the `bin/`, `DATA/`, and `OUTPUT_FILES/` directories. In this section we will set up a SPECFEM2D working directory that we can play around with.\n",
    "\n",
    ">__NOTE:__ We will be doing all our work in the directory /home/scoped/work_day_1. All the following cells assume that we are in this directory, so you must evaluate the '%cd' command to ensure that cells work as expected."
   ]
  },
  {
   "cell_type": "code",
   "execution_count": null,
   "id": "a7c386f6-0c75-4d44-b532-a1455eefd1cc",
   "metadata": {},
   "outputs": [],
   "source": [
    "! mkdir /home/scoped/work_day_1\n",
    "%cd /home/scoped/work_day_1"
   ]
  },
  {
   "cell_type": "code",
   "execution_count": null,
   "id": "ffb6873c-a114-4320-ad14-602f0030467f",
   "metadata": {},
   "outputs": [],
   "source": [
    "# Symlink the binary files, and copy the relevant DATA/ directory\n",
    "! ln -s /home/scoped/specfem2d/bin .\n",
    "! cp -r /home/scoped/specfem2d/EXAMPLES/Tape2007/DATA .\n",
    "! mkdir OUTPUT_FILES"
   ]
  },
  {
   "cell_type": "code",
   "execution_count": null,
   "id": "79b9ddce-b831-4840-bd71-8099f7efe952",
   "metadata": {},
   "outputs": [],
   "source": [
    "! ls"
   ]
  },
  {
   "cell_type": "markdown",
   "id": "e6404755-a37c-40bf-aab5-377f46f57e9d",
   "metadata": {},
   "source": [
    "### 2) Tape et al. 2007 Example\n",
    "\n",
    "We will be working with example data from the [Tape et al. 2007 GJI publication](https://academic.oup.com/gji/article/168/3/1105/929373). This example contains two synthetic models, a number of seismic sources, and a list of 132 station locations. The two synthetic models are 1) a homogeneous halfspace model, and 2) a checkerboard model with approximately $\\pm$10\\% perturbations with respect to the homogeneous halfspace model of (1). "
   ]
  },
  {
   "cell_type": "code",
   "execution_count": null,
   "id": "1a6f77cb-7fe9-4904-8b67-9c4cc01fa5c2",
   "metadata": {},
   "outputs": [],
   "source": [
    "! ls DATA/"
   ]
  },
  {
   "cell_type": "markdown",
   "id": "45306979-343e-4c4e-b789-883b68f9c13d",
   "metadata": {},
   "source": [
    "### a) The Homogeneous Halfspace Model\n",
    "\n",
    "The homogeneous halfspace model in this example is defined in the `Par_file`, on Line 255. We can use the `seisflows sempar velocity_model` command to look at its values."
   ]
  },
  {
   "cell_type": "code",
   "execution_count": null,
   "id": "750276b8-24a9-48df-98f9-fdfee1ccbc68",
   "metadata": {},
   "outputs": [],
   "source": [
    "! seisflows sempar -P DATA/Par_file_Tape2007_onerec velocity_model"
   ]
  },
  {
   "cell_type": "markdown",
   "id": "60e680ca-b9d9-4782-8e75-12cf3f8ecc7a",
   "metadata": {},
   "source": [
    "According to the `Par_file` comments, the model parameter values represent the following:\n",
    "`model_number 1 rho Vp Vs 0 0 QKappa Qmu  0 0 0 0 0 0`. \n",
    "\n",
    "Therefore, the homogeneous halfspace model defines a region with P-wave velocity 5.8km/s and S-wave velocity 3.5km/s."
   ]
  },
  {
   "cell_type": "markdown",
   "id": "464ee1cf-0ad8-4c9e-834e-938e84aa7a40",
   "metadata": {},
   "source": [
    "### b) Visualizing the Checkerboard\n",
    "\n",
    "We can use Matplotlib and NumPy to help us visualize these a bit better. First we'll have a look at the checkerboard model data file, and then we'll plot it directly."
   ]
  },
  {
   "cell_type": "code",
   "execution_count": null,
   "id": "5cf42876-ffe6-4783-b93e-976e9bbe4a6d",
   "metadata": {},
   "outputs": [],
   "source": [
    "# The columns of the data file correspond to the following:\n",
    "# line_no x[m] z[m] density vp[m/s] vs[m/s]\n",
    "! head DATA/model_velocity.dat_checker"
   ]
  },
  {
   "cell_type": "code",
   "execution_count": null,
   "id": "5f482fac-e497-4c37-b64d-68060f5c357a",
   "metadata": {},
   "outputs": [],
   "source": [
    "import numpy as np\n",
    "import matplotlib.pyplot as plt\n",
    "\n",
    "# Only grabbing X, Z, Vs and Vp\n",
    "data = np.genfromtxt(\"DATA/model_velocity.dat_checker\", dtype=float, usecols=[1,2,4,5])\n",
    "chkbd_x, chkbd_z, chkbd_vp, chkbd_vs = data.T"
   ]
  },
  {
   "cell_type": "code",
   "execution_count": null,
   "id": "719c9fc7-d89d-4a4b-a7de-be9e68aaab4f",
   "metadata": {},
   "outputs": [],
   "source": [
    "# Plotting Vp\n",
    "plt.tricontourf(chkbd_x, chkbd_z, chkbd_vp, levels=125, cmap=\"seismic_r\")\n",
    "plt.xlabel(\"X [m]\")\n",
    "plt.ylabel(\"Z [m]\")\n",
    "plt.title(\"Checkerboard Vp [m/s]\")\n",
    "plt.colorbar()"
   ]
  },
  {
   "cell_type": "code",
   "execution_count": null,
   "id": "67bd7641-4128-4578-82c8-9dadfc31be41",
   "metadata": {},
   "outputs": [],
   "source": [
    "# Plotting Vs\n",
    "plt.tricontourf(chkbd_x, chkbd_z, chkbd_vs, levels=125, cmap=\"seismic_r\")\n",
    "plt.xlabel(\"X [m]\")\n",
    "plt.ylabel(\"Z [m]\")\n",
    "plt.title(\"Checkerboard Vs [m/s]\")\n",
    "plt.colorbar()"
   ]
  },
  {
   "cell_type": "markdown",
   "id": "7dbbfc22-a140-4160-87b0-bda887572f8f",
   "metadata": {},
   "source": [
    "### c) Visualizing Source-Receiver Geometry\n",
    "\n",
    "We can similarly plot the SOURCES and STATIONS available to see what the experiemental setup looks like.\n",
    "We can use Python to grab Cartesian coordinate values from these files."
   ]
  },
  {
   "cell_type": "code",
   "execution_count": null,
   "id": "5bc2d6a4-b8aa-4a9b-bfcb-37938915b492",
   "metadata": {},
   "outputs": [],
   "source": [
    "# Grab STATIONS data\n",
    "! head DATA/STATIONS_checker\n",
    "\n",
    "# Small code snippet to grab coordinates from STATIONS file\n",
    "sta_x, sta_z = np.genfromtxt(\"DATA/STATIONS_checker\", dtype=float, usecols=[2, 3]).T\n",
    "print(sta_x[:10])"
   ]
  },
  {
   "cell_type": "code",
   "execution_count": null,
   "id": "2ab712ad-d2a6-4c5b-9eb7-2fcd81afd5fb",
   "metadata": {},
   "outputs": [],
   "source": [
    "# There are 25 sources\n",
    "# `xs` is defined on line 2, `zs` on line 3\n",
    "! ls DATA/SOURCE_???\n",
    "! echo\n",
    "! head DATA/SOURCE_001"
   ]
  },
  {
   "cell_type": "code",
   "execution_count": null,
   "id": "b771c1f0-d11f-4087-9206-f9e146857106",
   "metadata": {},
   "outputs": [],
   "source": [
    "# Small code snippet to grab coordinates from SOURCE files\n",
    "ev_x, ev_z = [], []\n",
    "for i in range(1, 26):\n",
    "    source_file = f\"DATA/SOURCE_{i:0>3}\"\n",
    "    with open(source_file, \"r\") as f:\n",
    "        lines = f.readlines()\n",
    "    # Trying to break apart the following line\n",
    "    # 'xs = 299367.72      # source location x in meters\\n'\n",
    "    xs = float(lines[2].split(\"=\")[1].split(\"#\")[0].strip())\n",
    "    zs = float(lines[3].split(\"=\")[1].split(\"#\")[0].strip())\n",
    "    \n",
    "    ev_x.append(xs)\n",
    "    ev_z.append(zs)\n",
    "\n",
    "print(ev_x[:10])"
   ]
  },
  {
   "cell_type": "code",
   "execution_count": null,
   "id": "9859aa1b-500c-4a82-b28e-e3b558a09a5c",
   "metadata": {},
   "outputs": [],
   "source": [
    "# Plot SOURCES and STATIONS together. Annotate names\n",
    "plt.tricontourf(chkbd_x, chkbd_z, chkbd_vs, levels=250, cmap=\"seismic_r\")\n",
    "plt.scatter(ev_x, ev_z, c=\"y\", marker=\"*\", s=100, edgecolor=\"k\")\n",
    "plt.scatter(sta_x, sta_z, c=\"c\", marker=\"v\", s=20, edgecolor=\"k\")\n",
    "plt.title(\"SOURCE-RECEIVER GEOMETRY\")"
   ]
  },
  {
   "cell_type": "code",
   "execution_count": null,
   "id": "b3fc21b9-2d3b-448e-894a-e5b24613b492",
   "metadata": {},
   "outputs": [],
   "source": [
    "# Plot SOURCES next to source names\n",
    "plt.tricontourf(chkbd_x, chkbd_z, chkbd_vs, levels=250, cmap=\"seismic_r\", alpha=0.1)\n",
    "for i, (x, z) in enumerate(zip(ev_x, ev_z)):\n",
    "    plt.scatter(x, z, c=\"y\", marker=\"*\", s=45)\n",
    "    plt.text(x, z, f\"{i:0>3}\")\n",
    "plt.title(\"SOURCES\")"
   ]
  },
  {
   "cell_type": "code",
   "execution_count": null,
   "id": "76bbb1fc-143b-465c-a602-fecf18db2577",
   "metadata": {
    "tags": []
   },
   "outputs": [],
   "source": [
    "# Plot SOURCES and STATIONS together. Annotate names\n",
    "plt.tricontourf(chkbd_x, chkbd_z, chkbd_vs, levels=250, cmap=\"seismic_r\", alpha=0.1)\n",
    "for i, (x, z) in enumerate(zip(sta_x, sta_z)):\n",
    "    plt.scatter(x, z, c=\"c\", marker=\"v\", s=8)\n",
    "    plt.text(x, z, f\"{i:0>3}\", fontsize=9)\n",
    "plt.title(\"STATIONS\")"
   ]
  },
  {
   "cell_type": "markdown",
   "id": "608f10cc-ec85-4ef3-af58-6d272595a6e7",
   "metadata": {},
   "source": [
    "In the above figures, the upside-down blue triangles represent the 132 receivers in this example, while the 25 yellow stars are the sources. Now that we are familiar with our experimental setup, we can run SPECFEM2D to generate synthetics."
   ]
  },
  {
   "cell_type": "markdown",
   "id": "311aa16b-ea8b-4e4d-963f-be0f2934befd",
   "metadata": {},
   "source": [
    "## 2) Running the Example\n",
    "\n",
    "To run the example, we'll have to do a some setup of our working directory to get files in the correct place. "
   ]
  },
  {
   "cell_type": "code",
   "execution_count": null,
   "id": "6cb2d57b-c55a-4896-a728-34a50cca59a1",
   "metadata": {},
   "outputs": [],
   "source": [
    "! ls DATA"
   ]
  },
  {
   "cell_type": "markdown",
   "id": "3a108d69-3f38-4957-84a4-a1524cf2e363",
   "metadata": {},
   "source": [
    "### a) Choose a Source file\n",
    "\n",
    "SPECFEM2D will look for a file named `SOURCE` in the *DATA/* directory. There are 25 sources to choose from. You can have a look at the SOURCE plot we created in the previous section to choose which SOURCE\n",
    "you'd like to run."
   ]
  },
  {
   "cell_type": "code",
   "execution_count": null,
   "id": "ec99617a-eceb-47bb-a6dd-d1250baeb9d0",
   "metadata": {},
   "outputs": [],
   "source": [
    "# CHOOSE your source file here by replacing 'SOURCE_001'\n",
    "! cp -f DATA/SOURCE_001 DATA/SOURCE"
   ]
  },
  {
   "cell_type": "code",
   "execution_count": null,
   "id": "3cf699aa-d077-469a-baab-c8a18c69986d",
   "metadata": {},
   "outputs": [],
   "source": [
    "! head -1 DATA/SOURCE"
   ]
  },
  {
   "cell_type": "markdown",
   "id": "8128b017-4b09-471e-82e1-e870163fdc4c",
   "metadata": {},
   "source": [
    "### b) Choosing Stations"
   ]
  },
  {
   "cell_type": "code",
   "execution_count": null,
   "id": "9817cd6b-0a1a-429c-85e2-82a2c6e300cf",
   "metadata": {},
   "outputs": [],
   "source": []
  }
 ],
 "metadata": {
  "kernelspec": {
   "display_name": "Python 3 (ipykernel)",
   "language": "python",
   "name": "python3"
  },
  "language_info": {
   "codemirror_mode": {
    "name": "ipython",
    "version": 3
   },
   "file_extension": ".py",
   "mimetype": "text/x-python",
   "name": "python",
   "nbconvert_exporter": "python",
   "pygments_lexer": "ipython3",
   "version": "3.10.6"
  }
 },
 "nbformat": 4,
 "nbformat_minor": 5
}
