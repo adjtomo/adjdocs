{
 "cells": [
  {
   "cell_type": "markdown",
   "id": "347bc0f7-6dbe-454c-a95a-8469d8efe1c2",
   "metadata": {},
   "source": [
    "# SPECFEM Users Workshop -- Day 3 (Oct. 7, 2022)\n",
    "\n",
    "## Part 3: Seismic Imaging with SeisFlows + Pyatoa\n",
    "\n",
    "In this notebook we will bring all of the previous material together run a full seismic inversion to update a starting model. \n",
    "\n",
    "-----------\n",
    "\n",
    "### Relevant Information\n",
    "\n",
    ">__NOTE:__ These instructions should be run from inside the Docker container, using Jupyter Lab. The Docker container should have the adjTomo toolkit installed (SeisFlows, Pyatoa, PySEP), as well as SPECFEM2D and SPECEFM3D compiled with MPI. \n",
    "\n",
    "**Relevant Links:** \n",
    "- Day 2 Slides !!! ADD THIS !!!\n",
    "- [Today's Notebook](https://github.com/adjtomo/adjdocs/blob/main/workshops/2022-10-05_specfem_users/day_2a_kernels.ipynb)\n",
    "- Completed Notebook !!! ADD THIS !!!\n",
    "\n",
    "**Jupyter Quick Tips:**\n",
    "\n",
    "- **Run cells** one-by-one by hitting the $\\blacktriangleright$ button at the top, or by hitting `Shift + Enter`\n",
    "- **Run all cells** by hitting the $\\blacktriangleright\\blacktriangleright$ button at the top, or by running `Run -> Run All Cells`\n",
    "- **Currently running cells** that are still processing will have a `[*]` symbol next to them\n",
    "- **Finished cells** will have a `[1]` symbol next to them. The number inside the brackets represents what order this cell has been run in.\n",
    "- Commands that start with `!` are Bash commands (i.e., commands you would run from the terminal)\n",
    "- Commands that start with `%` are Jupyter Magic commands.\n"
   ]
  },
  {
   "cell_type": "markdown",
   "id": "17fed39d-3309-4957-b254-66c67ca131be",
   "metadata": {},
   "source": [
    "## 1) Background\n",
    "\n",
    "!!! TO DO !!!\n",
    "Potential topics:\n",
    "- Nonlinear optimization algorithms\n",
    "- Line searches\n",
    "- Model perturbations"
   ]
  },
  {
   "cell_type": "markdown",
   "id": "c0acd55c-e9b3-4448-a327-ea23b797d6a5",
   "metadata": {},
   "source": [
    "## 2) Setting Up \n",
    "\n",
    "As with Day 1, we will want to set up a clean working directory to run SPECFEM2D inside. This will help us preserve our cloned repository and reduce file clutter.\n",
    "\n",
    ">__NOTE:__ We will be doing all our work in the directory /home/scoped/work_day_2. All the following cells assume that we are in this directory, so you must evaluate the '%cd' command to ensure that cells work as expected."
   ]
  },
  {
   "cell_type": "code",
   "execution_count": null,
   "id": "a7c386f6-0c75-4d44-b532-a1455eefd1cc",
   "metadata": {},
   "outputs": [],
   "source": [
    "# make sure we're in an empty working directory\n",
    "! mkdir -p /home/scoped/work/day_3/manual_update\n",
    "%cd /home/scoped/work/day_3/manual_update\n",
    "\n",
    "# Run the example and stop after adjoint simulation\n",
    "! seisflows examples setup 2 -r /home/scoped/specfem2d --event_id 1 --nsta 1 --niter 1 --with_mpi\n",
    "! seisflows par stop_after evaluate_gradient_from_kernels\n",
    "! seisflows submit"
   ]
  },
  {
   "cell_type": "markdown",
   "id": "60e6f223-1faa-4eb5-88c6-9f629dd65c2e",
   "metadata": {},
   "source": [
    "TO DO:\n",
    "- Run a manual model update by guessing the perturbation as the negative gradient? Try to follow golden rule or smoething\n",
    "- Attempt one or two updates manually, checking waveform misfit each time\n",
    "- Then run Example 1 to show HH models\n",
    "- Run Example 2 for inversion\n",
    "- Allow users to play around with starting model, preprocessing etc."
   ]
  },
  {
   "cell_type": "code",
   "execution_count": null,
   "id": "bdda7e0a-0c09-417a-9c84-de08e00a190d",
   "metadata": {},
   "outputs": [],
   "source": [
    "! seisflows plot2d GRADIENT_01 vs_kernel --savefig g_01_vs.png"
   ]
  },
  {
   "cell_type": "code",
   "execution_count": null,
   "id": "84469054-4afb-43fd-a5ca-a832ab5ce3f5",
   "metadata": {},
   "outputs": [],
   "source": [
    "from IPython.display import Image\n",
    "Image(\"g_01_vs.png\")"
   ]
  },
  {
   "cell_type": "markdown",
   "id": "1f670a96-8911-4e5a-8d0e-f81c0b8f3842",
   "metadata": {},
   "source": [
    "## 3) Manually Updating a Velocity Model\n",
    "\n",
    "We can use this gradient that was generated using SeisFlows (and manually in yesterday's notebook), to update our initial model. \n",
    "Since we only have one source receiver pair, we can immediately check if the misfit of the waveforms has decreased through our update procedure.\n",
    "To do this we treat our models as linear arrays, and add them together"
   ]
  },
  {
   "cell_type": "code",
   "execution_count": null,
   "id": "ef67b11a-4bf9-41a2-882e-8231398534c9",
   "metadata": {},
   "outputs": [],
   "source": [
    "from seisflows.tools.specfem import Model\n",
    "\n",
    "m_init = Model(\"output/MODEL_INIT\")\n",
    "print(f\"INITIAL MODEL\\n{m_init.model}\")\n",
    "m_init.plot2d(\"vs\")"
   ]
  },
  {
   "cell_type": "code",
   "execution_count": null,
   "id": "d88a09e0-3012-4c12-8edd-e74f771c4173",
   "metadata": {},
   "outputs": [],
   "source": [
    "# Because the Gradient output directory does not contain coordinate information,\n",
    "# we need to grab it from the model, which natively exports to disk with \n",
    "# coordinate information\n",
    "gradient = Model(\"output/GRADIENT_01\")\n",
    "gradient.coordinates = {}\n",
    "gradient.coordinates[\"x\"] = m_init.coordinates[\"x\"]\n",
    "gradient.coordinates[\"z\"] = m_init.coordinates[\"z\"]\n",
    "\n",
    "print(f\"GRADIENT\\n{gradient.model}\")\n",
    "gradient.plot2d(\"vs_kernel\")"
   ]
  },
  {
   "cell_type": "code",
   "execution_count": null,
   "id": "cf712794-451d-4390-a08a-bb340695d64a",
   "metadata": {},
   "outputs": [],
   "source": [
    "# We can use SeisFlows to update the model directly\n",
    "m_update = m_init.copy()\n",
    "m_update.update(vector=m_init.vector - gradient.vector)\n",
    "\n",
    "print(m_update.model)\n",
    "\n",
    "m_update.plot2d(\"vs\")"
   ]
  },
  {
   "cell_type": "markdown",
   "id": "1fdf5112-9f54-4323-8bc2-13efcff4ab57",
   "metadata": {},
   "source": [
    "We can see that because the gradient is **not** well scaled, the model updates only make slight changes to the Vs model (looking at the title). In order to make appreciable changes to the starting model, we need the **scale** the gradient. There are many algorithms which provide scaling estimates for the gradient. One thing we can try, is scaling by GTG$^-1$, or the inverse of the dot product of the gradient itself."
   ]
  },
  {
   "cell_type": "code",
   "execution_count": null,
   "id": "02fd2839-d09f-4cba-b02c-469ed2977845",
   "metadata": {},
   "outputs": [],
   "source": [
    "import numpy as np\n",
    "\n",
    "gtg = np.dot(gradient.vector, gradient.vector)\n",
    "gtg_inverse = gtg ** -1 \n",
    "\n",
    "print(gtg_inverse)"
   ]
  },
  {
   "cell_type": "code",
   "execution_count": null,
   "id": "b4941378-21f9-4869-998e-25f57bb575c1",
   "metadata": {},
   "outputs": [],
   "source": [
    "# We can use SeisFlows to update the model directly\n",
    "m_update = m_init.copy()\n",
    "m_update.update(vector=m_init.vector - (gtg_inverse * gradient.vector))\n",
    "\n",
    "print(m_update.model)\n",
    "\n",
    "m_update.plot2d(\"vs\")"
   ]
  },
  {
   "cell_type": "markdown",
   "id": "31ccb991-0bec-42de-8b05-9c3cb8df55a6",
   "metadata": {},
   "source": [
    "We can see that our gradient is now more well scaled, and has updated our velocity model by at most 100m/s. We can now try to use this updated velocity model to generate **new** synthetics, and calculate waveform misfit. If misfit has reduced from the original model, then we're getting somewhere!"
   ]
  },
  {
   "cell_type": "code",
   "execution_count": null,
   "id": "ff9b780b-c640-4227-934d-299078cb96f0",
   "metadata": {},
   "outputs": [],
   "source": []
  }
 ],
 "metadata": {
  "kernelspec": {
   "display_name": "Python 3 (ipykernel)",
   "language": "python",
   "name": "python3"
  },
  "language_info": {
   "codemirror_mode": {
    "name": "ipython",
    "version": 3
   },
   "file_extension": ".py",
   "mimetype": "text/x-python",
   "name": "python",
   "nbconvert_exporter": "python",
   "pygments_lexer": "ipython3",
   "version": "3.10.6"
  }
 },
 "nbformat": 4,
 "nbformat_minor": 5
}
