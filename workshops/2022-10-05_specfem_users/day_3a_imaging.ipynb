{
 "cells": [
  {
   "cell_type": "markdown",
   "id": "347bc0f7-6dbe-454c-a95a-8469d8efe1c2",
   "metadata": {},
   "source": [
    "# SPECFEM Users Workshop -- Day 3 (Oct. 7, 2022)\n",
    "\n",
    "## Part 3: Seismic Imaging\n",
    "\n",
    "TO DO:\n",
    "- Run a manual model update by guessing the perturbation as the negative gradient? Try to follow golden rule or smoething\n",
    "- Attempt one or two updates manually, checking waveform misfit each time\n",
    "- Then run Example 1 to show HH models\n",
    "- Run Example 2 for inversion\n",
    "- Allow users to play around with starting model, preprocessing etc.\n",
    "\n",
    "- In this notebook we will bring all of the previous material together run a full seismic inversion to update a starting model. \n",
    "!!! ADD TEXT HERE !!!\n",
    "\n",
    "-----------\n",
    "\n",
    "### Relevant Information\n",
    "\n",
    "- These instructions should be run from inside the Docker container, using Jupyter Lab. The Docker container should have the adjTomo toolkit installed (SeisFlows, Pyatoa, PySEP), as well as SPECFEM2D and SPECEFM3D compiled with MPI. \n",
    "\n",
    "**Relevant Links:** \n",
    "- Day 3 Slides !!! ADD THIS !!!\n",
    "- [Today's Notebook](https://github.com/adjtomo/adjdocs/blob/main/workshops/2022-10-05_specfem_users/day_3a_imaging.ipynb)\n",
    "- Completed Notebook !!! ADD THIS !!!\n",
    "\n",
    "**Jupyter Quick Tips:**\n",
    "\n",
    "- **Run cells** one-by-one by hitting the $\\blacktriangleright$ button at the top, or by hitting `Shift + Enter`\n",
    "- **Run all cells** by hitting the $\\blacktriangleright\\blacktriangleright$ button at the top, or by running `Run -> Run All Cells`\n",
    "- **Currently running cells** that are still processing will have a `[*]` symbol next to them\n",
    "- **Finished cells** will have a `[1]` symbol next to them. The number inside the brackets represents what order this cell has been run in.\n",
    "- Commands that start with `!` are Bash commands (i.e., commands you would run from the terminal)\n",
    "- Commands that start with `%` are Jupyter Magic commands.\n"
   ]
  },
  {
   "cell_type": "markdown",
   "id": "17fed39d-3309-4957-b254-66c67ca131be",
   "metadata": {},
   "source": [
    "## 1) Background\n",
    "\n",
    "!!! TO DO !!!\n",
    "Potential topics:\n",
    "- Nonlinear optimization algorithms\n",
    "- Line searches\n",
    "- Model perturbations"
   ]
  },
  {
   "cell_type": "markdown",
   "id": "c0acd55c-e9b3-4448-a327-ea23b797d6a5",
   "metadata": {},
   "source": [
    "## 2) Setting Up \n",
    "\n",
    "- We want to set up a clean working directory to run SPECFEM2D inside. This will help us preserve our cloned repository and reduce file clutter.\n",
    "- We will use SeisFlows to automate an inversion workflow **up to** kernel generation. \n",
    "- SeisFlows will run a forward simulation, calculate misfit, and run an adjoint simulation.\n",
    "- Experimental setup is one source, one receiver, comparing the homogeneous halfspace and checkerboard models.\n",
    "- **Objective**:Generate a misfit kernel which we can use to update our model manually. \n",
    "\n",
    ">__NOTE:__ We will be doing all our work in the directory /home/scoped/work_day_3. All the following cells assume that we are in this directory, so you must evaluate the '%cd' command to ensure that cells work as expected."
   ]
  },
  {
   "cell_type": "code",
   "execution_count": null,
   "id": "93bfc4ea-a94a-4d4d-9453-a7e11c0201d4",
   "metadata": {},
   "outputs": [],
   "source": [
    "import numpy as np\n",
    "import matplotlib.pyplot as plt\n",
    "from IPython.display import Image\n",
    "from scipy.integrate import simps\n",
    "from seisflows.tools.specfem import Model"
   ]
  },
  {
   "cell_type": "code",
   "execution_count": null,
   "id": "a7c386f6-0c75-4d44-b532-a1455eefd1cc",
   "metadata": {},
   "outputs": [],
   "source": [
    "# make sure we're in an empty working directory\n",
    "! mkdir -p /home/scoped/work/day_3/manual_update\n",
    "%cd /home/scoped/work/day_3/manual_update\n",
    "\n",
    "# Run the example and stop after adjoint simulation\n",
    "! seisflows examples setup 2 -r /home/scoped/specfem2d --event_id 1 --nsta 1 --niter 1 --with_mpi\n",
    "! seisflows par stop_after evaluate_gradient_from_kernels\n",
    "! seisflows submit"
   ]
  },
  {
   "cell_type": "markdown",
   "id": "60e6f223-1faa-4eb5-88c6-9f629dd65c2e",
   "metadata": {},
   "source": [
    "-----------\n",
    "\n",
    "You will know that this workflow has completed successfully after the final log message   \n",
    "\n",
    "```bash\n",
    "2022-09-16 19:57:07 (I) | stop workflow at `stop_after`: evaluate_gradient_from_kernels\n",
    "```\n",
    "\n",
    "We can use SeisFlows to plot the Gradient and make sure it looks familiar. Under the hood, the `plot2d` command functions similarly to what we were doing in the previous notebook, that is: loading the underlying gradient using NumPy, and plotting it using Matplotlib."
   ]
  },
  {
   "cell_type": "code",
   "execution_count": null,
   "id": "bdda7e0a-0c09-417a-9c84-de08e00a190d",
   "metadata": {},
   "outputs": [],
   "source": [
    "! seisflows plot2d GRADIENT_01 vs_kernel --savefig g_01_vs.png\n",
    "Image(\"g_01_vs.png\")"
   ]
  },
  {
   "cell_type": "markdown",
   "id": "5b3a1350-8fec-4358-8d8e-4cd0adbe697d",
   "metadata": {},
   "source": [
    "This kernel image is very similar to what we recovered after smoothing our misfit kernel in Day 2, and provides us a great jumping off point for looking into model updates."
   ]
  },
  {
   "cell_type": "markdown",
   "id": "1f670a96-8911-4e5a-8d0e-f81c0b8f3842",
   "metadata": {},
   "source": [
    "## 3) Manually Updating a Velocity Model\n",
    "\n",
    "- We will use this gradient that was generated using SeisFlows to update our initial model. \n",
    "- With only have one source receiver pair, we can immediately check if the misfit of the waveforms has decreased by solving for $\\chi$.\n",
    "- In SeisFlows, we treat models and gradients as linear arrays, so model update can be memory-intensive, but is not CPU intensive.\n",
    "\n",
    "The Model update equation can be simple as \n",
    "\n",
    "$m_{i+1} = m_{i} - \\alpha \\times g$ \n",
    "\n",
    "Where $m_{i}$ is the current model, $m_{i+1}$ is the updated model, $g$ is the gradient and $\\alpha$ is a scale factor.\n",
    "\n",
    "### Initial Model ($m_i$)\n",
    "\n",
    "The initial model is our homogeneous halfspace model"
   ]
  },
  {
   "cell_type": "code",
   "execution_count": null,
   "id": "ef67b11a-4bf9-41a2-882e-8231398534c9",
   "metadata": {},
   "outputs": [],
   "source": [
    "# Load in the initial model binary files, plot\n",
    "m_init = Model(\"output/MODEL_INIT\")\n",
    "print(f\"INITIAL MODEL\\n{m_init.model}\")\n",
    "m_init.plot2d(\"vs\")"
   ]
  },
  {
   "cell_type": "markdown",
   "id": "ca6f760a-54e5-4e74-a0d1-abe49779854a",
   "metadata": {},
   "source": [
    "### Gradient ($g$)\n",
    "\n",
    "The gradient is defined by the interaction of our forward and adjoint wavefields. It represents the gradient of the misfit function and provides a search direction for model update.\n",
    "\n",
    ">__NOTE:__ Because the Gradient output directory does not contain coordinate information, we need to grab it from the model, which natively exports to disk with coordinate information.\n",
    "Otherwise, loading in the Gradient using SeisFlows is identical to loading in models."
   ]
  },
  {
   "cell_type": "code",
   "execution_count": null,
   "id": "d88a09e0-3012-4c12-8edd-e74f771c4173",
   "metadata": {},
   "outputs": [],
   "source": [
    "# Load in Gradient binary files\n",
    "gradient = Model(\"output/GRADIENT_01\")\n",
    "\n",
    "# Assign coordinate information which is used for plotting\n",
    "gradient.coordinates = {}\n",
    "gradient.coordinates[\"x\"] = m_init.coordinates[\"x\"]\n",
    "gradient.coordinates[\"z\"] = m_init.coordinates[\"z\"]\n",
    "\n",
    "print(f\"GRADIENT\\n{gradient.model}\")\n",
    "gradient.plot2d(\"vs_kernel\")"
   ]
  },
  {
   "cell_type": "markdown",
   "id": "fba284cc-4d03-4786-8041-cf6e0834d038",
   "metadata": {},
   "source": [
    "### Updated Model ($m_{i+1}$)\n",
    "\n",
    "The updated model can be found by scaling the gradient and adding the negative gradient to the initial model. \n",
    "Remember that the gradient represents maximum change, and since we are solving a minimization problem, we want to use the inverse gradient."
   ]
  },
  {
   "cell_type": "code",
   "execution_count": null,
   "id": "cf712794-451d-4390-a08a-bb340695d64a",
   "metadata": {},
   "outputs": [],
   "source": [
    "# We can use the SeisFlows Model class to update the model directly\n",
    "m_update = m_init.copy()\n",
    "\n",
    "# No scaling is applied here\n",
    "m_update.update(vector=m_init.vector - gradient.vector)\n",
    "\n",
    "print(m_update.model)\n",
    "\n",
    "m_update.plot2d(\"vs\")"
   ]
  },
  {
   "cell_type": "markdown",
   "id": "1fdf5112-9f54-4323-8bc2-13efcff4ab57",
   "metadata": {},
   "source": [
    "- We can see that because the gradient is **not** well scaled, the model updates only make slight changes to the Vs model ($\\pm.0001$m/s give or take). \n",
    "- In order to make appreciable changes to the starting model, we need the **scale** the gradient. \n",
    "- There are many algorithms which provide scaling estimates for the gradient. \n",
    "- One thing we can try, is scaling by GTG$^{-1}$, or the inverse of the dot product of the gradient itself."
   ]
  },
  {
   "cell_type": "code",
   "execution_count": null,
   "id": "02fd2839-d09f-4cba-b02c-469ed2977845",
   "metadata": {},
   "outputs": [],
   "source": [
    "# Caclulating GTG^-1\n",
    "gtg = np.dot(gradient.vector, gradient.vector)\n",
    "gtg_inverse = gtg ** -1 \n",
    "\n",
    "print(f\"GTG^-1 = {gtg_inverse:.2f}\")"
   ]
  },
  {
   "cell_type": "code",
   "execution_count": null,
   "id": "b4941378-21f9-4869-998e-25f57bb575c1",
   "metadata": {},
   "outputs": [],
   "source": [
    "# Update with a scaled gradient\n",
    "m_update = m_init.copy()\n",
    "m_update.update(vector=m_init.vector - (gtg_inverse * gradient.vector))\n",
    "\n",
    "print(m_update.model)\n",
    "\n",
    "m_update.plot2d(\"vs\")"
   ]
  },
  {
   "cell_type": "markdown",
   "id": "31ccb991-0bec-42de-8b05-9c3cb8df55a6",
   "metadata": {},
   "source": [
    "- The gradient is now more well scaled, and has updated our velocity model at most 25m/s. \n",
    "- We can now try to use this updated velocity model to generate **new** synthetics, and calculate waveform misfit. \n",
    "- If misfit has reduced from the original model, then we're getting somewhere!"
   ]
  },
  {
   "cell_type": "markdown",
   "id": "ec85abf8-6e29-45e1-afb0-203e4a8d55b2",
   "metadata": {},
   "source": [
    "## 4) Forward Simulations w/ Updated Model\n",
    "\n",
    "- We now have an updated model stored in the Python parameter `m_update`. \n",
    "- We'll use this updated model to generate a new set of synthetics\n",
    "- As in Day 2, misfit will be calculated using a waveform misfit. \n",
    "- **Objective**: Determine if we have reduced waveform misfit through model update\n",
    "\n",
    "### Setup SPECFEM2D working directory\n",
    "Let's start out by setting up a new SPECFEM2D working directory where we can manually run the SPECFEM binaries. This is very similar to Day 2."
   ]
  },
  {
   "cell_type": "code",
   "execution_count": null,
   "id": "b51f9509-edc4-4f03-9796-b38dfda61c55",
   "metadata": {},
   "outputs": [],
   "source": [
    "# Setup block for our SPECFEM2D working directory\n",
    "! mkdir /home/scoped/work/day_3/specfem2d_workdir\n",
    "%cd /home/scoped/work/day_3/specfem2d_workdir\n",
    "\n",
    "# Symlink the binary files located in bin/\n",
    "! ln -s /home/scoped/specfem2d/bin .\n",
    "# Copy over the DATA/ directory with Par_file, SOURCE and STATIONS\n",
    "! cp -r /home/scoped/specfem2d/EXAMPLES/Tape2007/DATA .\n",
    "# Pick a pre-defined Par_file \n",
    "! cp DATA/Par_file_Tape2007_onerec DATA/Par_file\n",
    "# Ensure we are using SOURCE #1\n",
    "! cp DATA/SOURCE_001 DATA/SOURCE\n",
    "# Ensure we are using only STATION #1\n",
    "! head -1 DATA/STATIONS_checker > DATA/STATIONS\n",
    "# Create the output directory\n",
    "! mkdir OUTPUT_FILES\n",
    "\n",
    "! ls"
   ]
  },
  {
   "cell_type": "markdown",
   "id": "66c4996b-e361-488e-bae5-3a676a603fa9",
   "metadata": {},
   "source": [
    "### Run SPECFEM2D to get model $m_i$ synthetics\n",
    "\n",
    "- First we'll run SPECFEM2D to get model $m_i$ synthetics\n",
    "- We'll later compare these to the updated model ($m_{i+1}$) synthetics\n",
    "- We'll need to adjust some parameter file parameters before running"
   ]
  },
  {
   "cell_type": "code",
   "execution_count": null,
   "id": "920c0c6b-3c82-4c4c-9a31-2e6e76fcaa99",
   "metadata": {},
   "outputs": [],
   "source": [
    "# Tell SPECFEM to output binary model files\n",
    "! seisflows sempar -P DATA/Par_file save_model binary\n",
    "! seisflows sempar -P DATA/Par_file setup_with_binary_database 1\n",
    "! seisflows sempar -P DATA/Par_file use_existing_stations .true.\n",
    "\n",
    "# Run SPECFEM with the homogeneous halfspace model, 1 source, 1 station\n",
    "! mpirun -n 1 bin/xmeshfem2D > OUTPUT_FILES/output_mesher.txt\n",
    "! mpirun -n 1 bin/xspecfem2D > OUTPUT_FILES/output_solver.txt"
   ]
  },
  {
   "cell_type": "code",
   "execution_count": null,
   "id": "86436ac3-674f-492f-9a39-d7b73505e476",
   "metadata": {},
   "outputs": [],
   "source": [
    "# A succesfully completed solver will write data files\n",
    "! tail -n 30 OUTPUT_FILES/output_solver.txt"
   ]
  },
  {
   "cell_type": "markdown",
   "id": "aa9b52e2-c3a7-4223-8166-c0c5eafb63f3",
   "metadata": {},
   "source": [
    "### Set Updated Model\n",
    "\n",
    "- SPECEFM2D needs to be able to find the updated model we just created. Luckily we can use SeisFlows to write these files in SPECFEM-readable formats.\n",
    "- SPECFEM2D expects model files to be in the DATA/ directory. \n",
    "- We can OVERWRITE the current model parameters \n",
    "- The `Par_file` parameter 'MODEL' must be set to 'gll', which tells SPECFEM to read existing model files\n",
    "\n",
    ">__NOTE__: SPECEFEM**3D** expects model files to be the `LOCAL_PATH` directory, which usually points to OUTPUT_FILES/DATABASES_MPI"
   ]
  },
  {
   "cell_type": "code",
   "execution_count": null,
   "id": "27ef9a7a-1a81-4be9-8475-689c528d4ca5",
   "metadata": {},
   "outputs": [],
   "source": [
    "# First we make sure that the original model files are stored somewhere\n",
    "! mkdir MODEL_INIT\n",
    "! cp -r DATA/*bin MODEL_INIT\n",
    "! cp -r OUTPUT_FILES/*semd MODEL_INIT\n",
    "! ls MODEL_INIT"
   ]
  },
  {
   "cell_type": "code",
   "execution_count": null,
   "id": "5e4e995c-9594-458b-8de2-e0b876347434",
   "metadata": {},
   "outputs": [],
   "source": [
    "# Now we use SeisFlows to write out the model\n",
    "print(m_update.parameters)\n",
    "\n",
    "# This will overwrite the 'Vp' and 'Vs' binary files\n",
    "m_update.write(path=\"DATA\")\n",
    "\n",
    "! ls -l DATA/*.bin"
   ]
  },
  {
   "cell_type": "code",
   "execution_count": null,
   "id": "33d911a4-9821-46ef-91fe-871ca8cc0676",
   "metadata": {},
   "outputs": [],
   "source": [
    "# Update the `Par_file` parameter 'MODEL' to tell SPECFEM to read model files from DATA/\n",
    "! seisflows sempar -P DATA/Par_file model gll"
   ]
  },
  {
   "cell_type": "markdown",
   "id": "343c40c4-302d-4901-b221-4dd0b456d19e",
   "metadata": {},
   "source": [
    "### Run SPECFEM2D with updated model\n",
    "\n",
    "- We can now run `xmeshfem2D` and `xspecfem2D` to retrieve synthetics for our updated model\n",
    "- Since we set `MODEL`==`gll`, SPECFEM2D will know to read the **updated** model files we just wrote\n",
    "- This run will **overwrite** files stored in `OUTPUT_FILES/`. If you want to preserve these, you can copy the directory to a new path"
   ]
  },
  {
   "cell_type": "code",
   "execution_count": null,
   "id": "32f35f69-eeb5-4069-b1b1-10e9825e247d",
   "metadata": {},
   "outputs": [],
   "source": [
    "! mpirun -n 1 bin/xmeshfem2D > OUTPUT_FILES/output_mesher_update.txt\n",
    "! mpirun -n 1 bin/xspecfem2D > OUTPUT_FILES/output_solver_update.txt"
   ]
  },
  {
   "cell_type": "code",
   "execution_count": null,
   "id": "a6ae8578-1bea-44b3-b885-83ba3d90e3b0",
   "metadata": {},
   "outputs": [],
   "source": [
    "# We can confirm that the updated model was used during the simulation by checking the solver log\n",
    "! head -236 OUTPUT_FILES/output_solver_update.txt | tail -n 15"
   ]
  },
  {
   "cell_type": "code",
   "execution_count": null,
   "id": "d2aa6bed-6170-433e-a9d6-0a252754bc1c",
   "metadata": {},
   "outputs": [],
   "source": [
    "# Make sure that the final model files are stored somewhere\n",
    "! mkdir MODEL_UPDATE\n",
    "! cp -r DATA/*.bin MODEL_UPDATE\n",
    "! cp -r OUTPUT_FILES/*semd MODEL_UPDATE\n",
    "! ls MODEL_UPDATE"
   ]
  },
  {
   "cell_type": "markdown",
   "id": "114594fc-7de3-412d-b6a4-662fc4865b8b",
   "metadata": {},
   "source": [
    "## 5) Comparing Synthetics for Initial and Updated Models\n",
    "\n",
    "- We now have 2 synthetic seismograms. 1 for the initial model, 1 for the updated model\n",
    "- If we plot the two waveforms we should see that they differ\n",
    "- The final test would be to check both synthetics against the True model synthetics (checkerboard model)\n",
    "- **Objective**: Determine if our updated model has reduced waveform misfit\n",
    "\n",
    "### Compare Initial and Update synthetics\n",
    "\n",
    "We'll re-use some code snippets from Day 2 to plot synthetics"
   ]
  },
  {
   "cell_type": "code",
   "execution_count": null,
   "id": "232d5237-f5fa-45b4-b70f-b167fa07f7bc",
   "metadata": {},
   "outputs": [],
   "source": [
    "t_init, d_init = np.loadtxt(\"MODEL_INIT/AA.S000000.BXY.semd\").T\n",
    "t_update, d_update = np.loadtxt(\"MODEL_UPDATE/AA.S000000.BXY.semd\").T\n",
    "\n",
    "# Plot both waveforms using Matplotlib\n",
    "plt.plot(t_init, d_init, c=\"r\", label=\"MODEL INIT; SYNTHETIC\")\n",
    "plt.plot(t_update, d_update, c=\"magenta\", label=\"MODEL UPDATE; 'SYNTHETIC'\")\n",
    "plt.plot(t_init, d_init - d_update, c=\"b\", label=\"SYNTHETIC DIFFERENCE\")\n",
    "plt.xlabel(\"Time [s]\")\n",
    "plt.ylabel(\"Displacement [m]\")\n",
    "plt.legend()\n",
    "plt.show()"
   ]
  },
  {
   "cell_type": "markdown",
   "id": "8c8431d4-db9b-4b4d-b148-93181bfb84da",
   "metadata": {},
   "source": [
    "We can see tha the waveform difference is small but present."
   ]
  },
  {
   "cell_type": "markdown",
   "id": "b97a08a2-577a-4103-b2cc-1b7ad338724a",
   "metadata": {},
   "source": [
    "### Generating True/Target model synthetics\n",
    "\n",
    "- The final check here is to calculate waveform misfit for the initial and updated models, with respect to the Target checkerboard model.\n",
    "- We will first need to generate checkerboard synthetics, which was done in Day 2\n",
    "- We will also need to define our waveform misfit function"
   ]
  },
  {
   "cell_type": "code",
   "execution_count": null,
   "id": "11e0c8a9-9fb8-4b3c-aca2-79c7c475d472",
   "metadata": {},
   "outputs": [],
   "source": [
    "# This new par file OVERWRITES the changes we made previously \n",
    "! cp -f DATA/Par_file_Tape2007_132rec_checker DATA/Par_file\n",
    "\n",
    "! seisflows sempar -P DATA/Par_file NSTEP 5000  # to match the other Par_file\n",
    "! seisflows sempar -P DATA/Par_file save_model binary\n",
    "! seisflows sempar -P DATA/Par_file setup_with_binary_database 1\n",
    "\n",
    "# Ensure that SPECFEM can find the checkerboard model by naming it correctly\n",
    "! cp -f DATA/model_velocity.dat_checker DATA/proc000000_model_velocity.dat_input\n",
    "\n",
    "! mpirun -n 1 bin/xmeshfem2D > OUTPUT_FILES/output_mesher_true.txt\n",
    "! mpirun -n 1 bin/xspecfem2D > OUTPUT_FILES/output_solver_true.txt"
   ]
  },
  {
   "cell_type": "code",
   "execution_count": null,
   "id": "f8b39c0a-6b7f-4548-b693-9ec755bfce4f",
   "metadata": {},
   "outputs": [],
   "source": [
    "# Store True model binary files and synthetics\n",
    "! mkdir MODEL_TRUE\n",
    "! cp -r DATA/*.bin MODEL_TRUE\n",
    "! cp -r OUTPUT_FILES/*semd MODEL_TRUE\n",
    "! ls MODEL_TRUE"
   ]
  },
  {
   "cell_type": "code",
   "execution_count": null,
   "id": "fe1f7b1c-393e-4836-912a-99d5174315ca",
   "metadata": {},
   "outputs": [],
   "source": [
    "# Lets plot waveforms again, but with the True model, which will be colored magenta\n",
    "t_true, d_true = np.loadtxt(\"MODEL_TRUE/AA.S000000.BXY.semd\").T\n",
    "\n",
    "plt.plot(t_init, d_init, c=\"r\", label=\"MODEL INIT; SYNTHETIC\")\n",
    "plt.plot(t_true, d_true, c=\"k\", label=\"MODEL TRUE; 'DATA'\")\n",
    "plt.plot(t_update, d_update, c=\"magenta\", label=\"MODEL UPDATE; 'SYNTHETIC'\")\n",
    "plt.plot(t_init, d_init - d_update, c=\"b\", label=\"SYNTHETIC DIFFERENCE\")\n",
    "plt.xlabel(\"Time [s]\")\n",
    "plt.ylabel(\"Displacement [m]\")\n",
    "plt.legend()\n",
    "plt.show()"
   ]
  },
  {
   "cell_type": "markdown",
   "id": "0107ee31-b38d-452d-be69-fcee7a354e3e",
   "metadata": {},
   "source": [
    "### Calculating Misfit\n",
    "\n",
    "- As in Day 2 we will calculate a waveform misfit, whose equation is: $ \\chi = \\frac{1}{2} \\int [d(t)-s(t)]^2 dt~, $\n",
    "- **Objective**: Determine if the model update has reduced waveform misfit\n",
    "\n",
    "\n"
   ]
  },
  {
   "cell_type": "code",
   "execution_count": null,
   "id": "ac696a3a-0b3a-4ec0-b732-b4608d0f77a1",
   "metadata": {},
   "outputs": [],
   "source": [
    "# Integrate using scipy\n",
    "dt = t_true[1] - t_true[0]  # represents the time step, or `dt`. Same for all waveforms\n",
    "\n",
    "misfit_init = 1/2 * simps((d_true - d_init)**2, dx=dt)\n",
    "misfit_update = 1/2 * simps((d_true - d_update)**2, dx=dt)\n",
    "\n",
    "print(f\"misfit_init=={misfit_init:.3E}\")\n",
    "print(f\"misfit_true=={misfit_update:.3E}\")\n",
    "print(f\"difference=={misfit_init - misfit_update:.3E}\")\n"
   ]
  },
  {
   "cell_type": "markdown",
   "id": "898115dc-70ca-4a30-97e3-68ae1f5327c0",
   "metadata": {},
   "source": [
    "---------------\n",
    "\n",
    "**Mission accomplished!**\n",
    "- We have successfully reduced the waveform misfit for a single source receiver pair by updating our velocity model.\n",
    "- The misfit reduction is small, and tied to the gradient and the scale factor chosen\n",
    "- Users could increase the scale factor to achieve a more favorable misfit reduction\n",
    "- Algorithmically, this step is encapsulated in the `line search`, which attempts to find an appropriate scale factor \n",
    "- There are many types of nonlinear optimization algorithms (e.g., gradient descent, L-BFGS) which handle this task\n",
    "- **NOTE** that each evaluation of a line search requires re-running the forward simulation with a trial model\n",
    "- Seismic tomography must be performed **iteratively**, i.e., we need to update our model repeatedly to find an optimal solution"
   ]
  },
  {
   "cell_type": "markdown",
   "id": "f7225260-bed6-4141-92cd-798017472db8",
   "metadata": {},
   "source": [
    "## 6) Automating Inversions using SeisFlows\n",
    "\n",
    "- Of course, now that we have gone through the rigorous manual exercise of updating a velocity model, we can see how SeisFlows automates this procedure.\n",
    "- SeisFlows contains a built-in optimization library, which features gradient-descent, non-linear conjugate gradient (NLCG), and L-BFGS nonlinear optimization alogirthms\n",
    "- This library takes care of the scaling of the gradient, automating the line search and model update\n",
    "- Under the hood, SeisFlows essentialy performs what we just did, scaling the velocity model, re-running forward simulations and comparing misfit values\n",
    "- Misfit is either calculated with the default preprocessing module, or using Pyatoa, a software designed specifically for waveform misfit quantification."
   ]
  },
  {
   "cell_type": "code",
   "execution_count": null,
   "id": "b80930e4-dee7-464b-98c0-18d6618ceb20",
   "metadata": {},
   "outputs": [],
   "source": [
    "! mkdir /home/scoped/work/day_3/sfexample_2\n",
    "%cd /home/scoped/work/day_3/sfexample_2\n",
    "! seisflows examples setup 2 -r /home/scoped/specfem2d --event_id 1 --niter 1 --nsta 1 --with_mpi"
   ]
  },
  {
   "cell_type": "markdown",
   "id": "98f8626c-8654-42fb-b755-f8f2404f59fa",
   "metadata": {},
   "source": [
    "!!! analyze log message above here !!!"
   ]
  },
  {
   "cell_type": "code",
   "execution_count": null,
   "id": "6bb4193b-bd74-4a3d-8dd5-f0caadd38af3",
   "metadata": {},
   "outputs": [],
   "source": [
    "! seisflows submit"
   ]
  },
  {
   "cell_type": "markdown",
   "id": "f44fb922-5577-45e5-bbe1-438f6562b7f7",
   "metadata": {},
   "source": [
    "-------------\n",
    "\n",
    "The task will be finished when you see the log message:\n",
    "\n",
    "```bash\n",
    "////////////////////////////////////////////////////////////////////////////////\n",
    "                             COMPLETE ITERATION 01                              \n",
    "////////////////////////////////////////////////////////////////////////////////\n",
    "2022-09-16 21:25:38 (I) | setting current iteration to: 2\n",
    "```"
   ]
  },
  {
   "cell_type": "code",
   "execution_count": null,
   "id": "410f03f2-152c-48cc-9c58-88b78961e796",
   "metadata": {},
   "outputs": [],
   "source": [
    "! echo \"> output/ contains models, gradients, etc.\"\n",
    "! ls output\n",
    "! echo\n",
    "\n",
    "! echo \"> MODEL directories contain SPECFEM formatted model files\"\n",
    "! ls output/MODEL_INIT\n",
    "! echo\n",
    "\n",
    "! echo \"> GRADIENT directories contain regularized misfit kernels\"\n",
    "! ls output/GRADIENT_01\n",
    "! echo"
   ]
  },
  {
   "cell_type": "code",
   "execution_count": null,
   "id": "fea91f98-8b87-47c8-be18-08f3c7597ece",
   "metadata": {},
   "outputs": [],
   "source": [
    "# Models/gradients can be plotted directly from the command line\n",
    "! seisflows plot2d MODEL_01 vs --savefig m_01_vs.png\n",
    "Image(\"m_01_vs.png\")"
   ]
  },
  {
   "cell_type": "markdown",
   "id": "ec9989ea-c4d9-4200-b91d-2d5f034c0d3b",
   "metadata": {},
   "source": [
    "Under the hood, SeisFlows is simply running a number of individual SPECFEM working directories"
   ]
  },
  {
   "cell_type": "code",
   "execution_count": null,
   "id": "200bbe58-e658-4d38-b8f4-bc4b9a2bfefa",
   "metadata": {},
   "outputs": [],
   "source": [
    "! ls scratch/solver/001"
   ]
  },
  {
   "cell_type": "code",
   "execution_count": null,
   "id": "aa81a944-fde6-4328-8319-f37222d29122",
   "metadata": {},
   "outputs": [],
   "source": []
  }
 ],
 "metadata": {
  "kernelspec": {
   "display_name": "Python 3 (ipykernel)",
   "language": "python",
   "name": "python3"
  },
  "language_info": {
   "codemirror_mode": {
    "name": "ipython",
    "version": 3
   },
   "file_extension": ".py",
   "mimetype": "text/x-python",
   "name": "python",
   "nbconvert_exporter": "python",
   "pygments_lexer": "ipython3",
   "version": "3.10.6"
  }
 },
 "nbformat": 4,
 "nbformat_minor": 5
}
