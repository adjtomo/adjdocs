{
 "cells": [
  {
   "cell_type": "markdown",
   "id": "347bc0f7-6dbe-454c-a95a-8469d8efe1c2",
   "metadata": {},
   "source": [
    "# SPECFEM Users Workshop -- Day 1 (Oct. 5, 2022)\n",
    "\n",
    "## Part 1C: Intro to SPECFEM3D\n",
    "\n",
    "SPECFEM3D follows very similar practices as SPECFEM2D, so what we have learned thus far will help us understand how to run simulations in SPECFEM3D. In this notebook we will be using SPECFEM3D_Cartesian. The best reference on how to set up and use SPECFEM3D_cartesian would be the user [manual](https://github.com/geodynamics/specfem3d/blob/devel/doc/USER_MANUAL/manual_SPECFEM3D_Cartesian.pdf). It has already been set up in our container, and here we will see how to use it. In this short introduction to SPECFEM3D, we will explore the SPECFEM3D repository, and then run small example problems with 3D models, starting with a homogeneous halfspace example. For simplicity we will restrict the 3D models to essentially 1D models in the workshop. Any subsequent use of the term 'SPECFEM3D' will refer to 'SPECFEM3D_cartesian' and not the other variants (SPECFEM3D_GLOBE, etc).\n",
    "\n",
    "-----------\n",
    "\n",
    "### Relevant Information\n",
    "\n",
    ">__NOTE:__ These instructions should be run from inside the Docker container, using Jupyter Lab. The Docker container should have the adjTomo toolkit installed (SeisFlows, Pyatoa, PySEP), as well as SPECFEM2D and SPECEFM3D compiled with MPI. \n",
    "\n",
    "**Relevant Links:** \n",
    "- [Today's Notebook](https://github.com/adjtomo/adjdocs/blob/main/workshops/2022-10-05_specfem_users/day_1c_intro_specfem3d.ipynb)\n",
    "- [SPECFEM3D_Cartesian User Manual](https://github.com/geodynamics/specfem3d/blob/devel/doc/USER_MANUAL/manual_SPECFEM3D_Cartesian.pdf)\n",
    "- [SPECFEM3D_Cartesian GitHub Repository](https://github.com/geodynamics/specfem3d/tree/devel)\n",
    "\n",
    "**Jupyter Quick Tips:**\n",
    "\n",
    "- **Run cells** one-by-one by hitting the $\\blacktriangleright$ button at the top, or by hitting `Shift + Enter`\n",
    "- **Run all cells** by hitting the $\\blacktriangleright\\blacktriangleright$ button at the top, or by running `Run -> Run All Cells`\n",
    "- **Currently running cells** that are still processing will have a `[*]` symbol next to them\n",
    "- **Finished cells** will have a `[1]` symbol next to them. The number inside the brackets represents what order this cell has been run in.\n",
    "- Commands that start with `!` are Bash commands (i.e., commands you would run from the terminal)\n",
    "- Commands that start with `%` are Jupyter Magic commands.\n",
    "- To time a task, put a `%time` before the command (e.g., `%time ! ls`)\n",
    "\n",
    "-----------"
   ]
  },
  {
   "cell_type": "markdown",
   "id": "b5326085-4028-4446-9c9b-2c3438a2c222",
   "metadata": {
    "tags": []
   },
   "source": [
    "### Package exploration"
   ]
  },
  {
   "cell_type": "markdown",
   "id": "e57600e0-0bb3-4185-912b-ac56e317e605",
   "metadata": {},
   "source": [
    "The best way to get started is to look at the cloned SPECFEM3D [repository](https://github.com/geodynamics/specfem3d/tree/devel) structure.\n",
    "\n"
   ]
  },
  {
   "cell_type": "code",
   "execution_count": null,
   "id": "2bf4298c-bfdd-428d-adbe-6423749c8880",
   "metadata": {},
   "outputs": [],
   "source": [
    "# Go to the SPECFEM3D directory\n",
    "%cd /home/scoped/specfem3d"
   ]
  },
  {
   "cell_type": "code",
   "execution_count": null,
   "id": "20c3d071-c7e2-4f36-abe6-85e54b91494d",
   "metadata": {},
   "outputs": [],
   "source": [
    "# Exploring the SPECFEM directory\n",
    "! ls"
   ]
  },
  {
   "cell_type": "markdown",
   "id": "e4331a55-bdf0-466c-bc28-37f824c853d7",
   "metadata": {},
   "source": [
    "The notable sub-folders here are -\n",
    "- bin\n",
    "- DATA\n",
    "- OUTPUT_FILES\n",
    "- EXAMPLES\n",
    "- src"
   ]
  },
  {
   "cell_type": "markdown",
   "id": "6c16730d-1c91-4035-8ea7-1a2c846af57d",
   "metadata": {},
   "source": [
    "Let's look at these folders one by one"
   ]
  },
  {
   "cell_type": "code",
   "execution_count": null,
   "id": "1cf19452-e3c8-4f42-b2c8-660f22675df4",
   "metadata": {},
   "outputs": [],
   "source": [
    "! ls bin"
   ]
  },
  {
   "cell_type": "markdown",
   "id": "881d5a1f-0f3d-4db5-8f76-1ab9421f9457",
   "metadata": {},
   "source": [
    "The 'bin' folder contains binary executable files which are essentially linked compiled fortran code. The important executables for a basic simulation are -\n",
    "- xmeshfem3D\n",
    "- xgenerate_databases\n",
    "- xspecfem3D"
   ]
  },
  {
   "cell_type": "code",
   "execution_count": null,
   "id": "f8c72c78-9042-4425-a297-a7497963e23f",
   "metadata": {},
   "outputs": [],
   "source": [
    "! ls DATA"
   ]
  },
  {
   "cell_type": "markdown",
   "id": "b018aafb-7650-4655-9b93-bf795e64d5e3",
   "metadata": {},
   "source": [
    "The 'DATA' folder is the input files folder and contains files which describe the -\n",
    "- mesh and model - (meshfem3D_files, tomo_files)\n",
    "- source - (CMTSOLUTION, FORCESOLUTION)\n",
    "- station - (STATIONS)"
   ]
  },
  {
   "cell_type": "code",
   "execution_count": null,
   "id": "89522de3-ce38-4285-b4b4-2e715122da6a",
   "metadata": {},
   "outputs": [],
   "source": [
    "! ls OUTPUT_FILES"
   ]
  },
  {
   "cell_type": "markdown",
   "id": "1afb1742-f509-4c38-84b8-35cb43627d61",
   "metadata": {},
   "source": [
    "This 'OUTPUT_FILES' folder contains the output files of any SPECFEM3D job. The DATABASES_MPI folder in the OUTPUT_FILES folder contains the database files generated as a result of a meshing or database generation job. The database files are large in size and should only be written out when needed."
   ]
  },
  {
   "cell_type": "code",
   "execution_count": null,
   "id": "fe2f60b2-7036-4f90-b6c7-9194bf0484d8",
   "metadata": {},
   "outputs": [],
   "source": [
    "! ls EXAMPLES"
   ]
  },
  {
   "cell_type": "markdown",
   "id": "250ae152-71ee-4cec-87ea-abaf771132bb",
   "metadata": {},
   "source": [
    "The 'EXAMPLES' folder contains a variety of examples to provide a quick start, to various ways of running SPECFEM3D simulations, to the user. The recommended example to start with is the [homogeneous_halfspace example](https://github.com/geodynamics/specfem3d/tree/devel/EXAMPLES/homogeneous_halfspace_HEX8_elastic_absorbing_Stacey_5sides). The README files within the folders within \\EXAMPLES guide the user through the steps for each example. Following is a list of some commonly used examples -\n",
    "\n",
    "- homogeneous halfspace -\n",
    "    - internal mesher\n",
    "    - sensitivity kernel\n",
    "    - external source time function\n",
    "    - external source time function\n",
    "- socal1D (meshfem3D_examples/socal1D)\n",
    "- sensitivity_kernels_liutromp2006\n",
    "\n",
    "README files with steps to run these examples should not undermine the detailing provided in the [manual](https://github.com/geodynamics/specfem3d/blob/master/doc/USER_MANUAL) on how to run SPECFEM3D."
   ]
  },
  {
   "cell_type": "code",
   "execution_count": null,
   "id": "b5bb6206-a0bd-4c50-a7c1-b3057627793a",
   "metadata": {},
   "outputs": [],
   "source": [
    "! ls src"
   ]
  },
  {
   "cell_type": "markdown",
   "id": "fe6dcda2-3e3f-493a-8b9b-9748e0fcf37c",
   "metadata": {},
   "source": [
    "The 'src' folder contain the source code for SPECFEM3D. If you want to add or modify some of SPECFEM3D's features, you need to modify one or more of the files in the src subfolders. If you think the features you added would be useful to the broader SPECFEM3D community, please considering making a pull request to the SPECFEM3D GitHub repository so that it can be reviewed and integrated to the package."
   ]
  },
  {
   "cell_type": "markdown",
   "id": "96b11bb2-b7a4-4f1c-8deb-54af4fcea387",
   "metadata": {},
   "source": [
    "-----------"
   ]
  },
  {
   "cell_type": "markdown",
   "id": "3b47774a-5cba-4e9c-b859-ba5a3e1caffa",
   "metadata": {},
   "source": [
    "### Examples"
   ]
  },
  {
   "cell_type": "markdown",
   "id": "17fed39d-3309-4957-b254-66c67ca131be",
   "metadata": {},
   "source": [
    "**Setting Up** \n",
    "\n",
    "It is often desireable to run SPECFEM outside of the cloned repository, in order to keep files and outputs manageable. The trick here is that SPECFEM only requires 3 compenents for a sucessful simulation, the `bin/`, `DATA/`, and `OUTPUT_FILES/` directories. In this section we will set up a SPECFEM3D working directory that we can play around with.\n",
    "\n",
    ">__NOTE:__ We will be doing all our work in the directory `/home/scoped/work_day_1/specfem3d_workdir`. All the following cells assume that we are in this directory, so you must evaluate the '%cd' command to ensure that cells work as expected."
   ]
  },
  {
   "cell_type": "code",
   "execution_count": null,
   "id": "50d22cf1-5f78-4d98-add9-d36ec4aac358",
   "metadata": {},
   "outputs": [],
   "source": [
    "import matplotlib.pyplot as plt\n",
    "import numpy as np\n",
    "from IPython.display import Image"
   ]
  },
  {
   "cell_type": "code",
   "execution_count": null,
   "id": "a7c386f6-0c75-4d44-b532-a1455eefd1cc",
   "metadata": {},
   "outputs": [],
   "source": [
    "! mkdir -p /home/scoped/work/day_1/specfem3d_workdir"
   ]
  },
  {
   "cell_type": "code",
   "execution_count": null,
   "id": "d00e2ce8-2613-45e8-a115-64915c95ed45",
   "metadata": {},
   "outputs": [],
   "source": [
    "%cd /home/scoped/work/day_1/specfem3d_workdir"
   ]
  },
  {
   "cell_type": "code",
   "execution_count": null,
   "id": "ffb6873c-a114-4320-ad14-602f0030467f",
   "metadata": {},
   "outputs": [],
   "source": [
    "# Symlink the binary files, and copy the relevant DATA/ directory\n",
    "! ln -s /home/scoped/specfem3d/bin .\n",
    "! mkdir -p OUTPUT_FILES/DATABASES_MPI\n",
    "! cp -r /home/scoped/specfem3d/EXAMPLES/homogeneous_halfspace/DATA ."
   ]
  },
  {
   "cell_type": "code",
   "execution_count": null,
   "id": "79b9ddce-b831-4840-bd71-8099f7efe952",
   "metadata": {},
   "outputs": [],
   "source": [
    "! ls"
   ]
  },
  {
   "cell_type": "code",
   "execution_count": null,
   "id": "f02461b3-ccf0-4197-b6b2-57b60f256395",
   "metadata": {},
   "outputs": [],
   "source": [
    "! ls DATA"
   ]
  },
  {
   "cell_type": "markdown",
   "id": "4f4b47bb-0b30-4cc0-ad31-57afd3213a45",
   "metadata": {},
   "source": [
    "-----------"
   ]
  },
  {
   "cell_type": "markdown",
   "id": "8049c01a-3857-40ae-a7cc-357288b8621c",
   "metadata": {},
   "source": [
    "**1) Homogeneous halfspace** "
   ]
  },
  {
   "cell_type": "code",
   "execution_count": null,
   "id": "4be55063-bd72-49b6-8d4f-fc2be913286e",
   "metadata": {},
   "outputs": [],
   "source": [
    "! cp -r /home/scoped/specfem3d/EXAMPLES/homogeneous_halfspace/meshfem3D_files DATA/."
   ]
  },
  {
   "cell_type": "code",
   "execution_count": null,
   "id": "ddb2179b-6c6d-410d-bb4f-993512f140cd",
   "metadata": {},
   "outputs": [],
   "source": [
    "## Meshing - discretizes the simulation domain into nodes\n",
    "# Explore the mesh files\n",
    "! ls DATA/meshfem3D_files\n",
    "# Run mesher\n",
    "! mpiexec -np 4 ./bin/xmeshfem3D\n",
    "# Explore the generated mesh files\n",
    "! ls OUTPUT_FILES/DATABASES_MPI"
   ]
  },
  {
   "cell_type": "code",
   "execution_count": null,
   "id": "6eb71586-61bd-4cba-b7e3-7eacfea9cc82",
   "metadata": {},
   "outputs": [],
   "source": [
    "## Database Generation - assigns model values to the mesh nodes\n",
    "# Run database generator\n",
    "! mpiexec -np 4 ./bin/xgenerate_databases\n",
    "# Explore the generated database files\n",
    "! ls OUTPUT_FILES/DATABASES_MPI"
   ]
  },
  {
   "cell_type": "code",
   "execution_count": null,
   "id": "d1257259-6537-4e5e-b015-82d470e3d726",
   "metadata": {},
   "outputs": [],
   "source": [
    "## View the meshing and the Vp model\n",
    "# The following image was generated using Paraview\n",
    "! cp /home/scoped/adjdocs/workshops/2022-10-05_specfem_users/additional_material/day_1c/figures/mesh/example_A.png .\n",
    "Image(\"example_A.png\")"
   ]
  },
  {
   "cell_type": "code",
   "execution_count": null,
   "id": "e0e3337d-a13b-4a72-b344-f746488c66eb",
   "metadata": {},
   "outputs": [],
   "source": [
    "## Simulation - solves for the output quantities (displacement, velocity, acceleration, etc) at the nodes\n",
    "# Explore the solver files\n",
    "! cat DATA/CMTSOLUTION\n",
    "! cat DATA/STATIONS\n",
    "! head -30 DATA/Par_file\n",
    "! head -80 DATA/Par_file | tail -n 22"
   ]
  },
  {
   "cell_type": "code",
   "execution_count": null,
   "id": "8913c3d1-43dd-4571-8829-9825eb1430d8",
   "metadata": {},
   "outputs": [],
   "source": [
    "# View the source station geometry\n",
    "# The following image was generated using Paraview\n",
    "! cp /home/scoped/adjdocs/workshops/2022-10-05_specfem_users/additional_material/day_1c/figures/source_station_geometry/sr.png .\n",
    "Image(\"sr.png\")"
   ]
  },
  {
   "cell_type": "code",
   "execution_count": null,
   "id": "11ef3e3c-5193-422b-bb76-2fd46896d434",
   "metadata": {},
   "outputs": [],
   "source": [
    "# Run solver\n",
    "%time ! mpiexec -np 4 ./bin/xspecfem3D\n",
    "# Tracking progress\n",
    "\n",
    "# Explore the simulation output files\n",
    "! ls OUTPUT_FILES/\n",
    "! ls OUTPUT_FILES/*.semd"
   ]
  },
  {
   "cell_type": "code",
   "execution_count": null,
   "id": "20a6903b-6beb-4984-aefe-213a38acca6e",
   "metadata": {},
   "outputs": [],
   "source": [
    "# Plot the output seismograms\n",
    "\n",
    "X20_Z = np.genfromtxt(\"OUTPUT_FILES/DB.X20.BXZ.semd\", dtype=None, names=(\"time\",\"BXZ\"))\n",
    "X30_Z = np.genfromtxt(\"OUTPUT_FILES/DB.X30.BXZ.semd\", dtype=None, names=(\"time\",\"BXZ\"))\n",
    "X40_Z = np.genfromtxt(\"OUTPUT_FILES/DB.X40.BXZ.semd\", dtype=None, names=(\"time\",\"BXZ\"))\n",
    "X50_Z = np.genfromtxt(\"OUTPUT_FILES/DB.X50.BXZ.semd\", dtype=None, names=(\"time\",\"BXZ\"))\n",
    "\n",
    "t = X20_Z[\"time\"]\n",
    "\n",
    "plt.title(\"Seismograms (Z - component)\")\n",
    "plt.xlabel(\"---- time -->\")\n",
    "plt.ylabel(\"---- displacement -->\")\n",
    "\n",
    "plt.plot(t,X20_Z[\"BXZ\"],label=\"X20\")\n",
    "plt.plot(t,X30_Z[\"BXZ\"],label=\"X30\")\n",
    "plt.plot(t,X40_Z[\"BXZ\"],label=\"X40\")\n",
    "plt.plot(t,X50_Z[\"BXZ\"],label=\"X50\")\n",
    "\n",
    "plt.legend(title=\"Station\")\n",
    "plt.savefig(\"seis.png\")"
   ]
  },
  {
   "cell_type": "code",
   "execution_count": null,
   "id": "8d676b79-52ce-4005-8fd3-3ca68e0df438",
   "metadata": {},
   "outputs": [],
   "source": [
    "# Archive the output files, and the mesh files\n",
    "! mv sr.png OUTPUT_FILES/.\n",
    "! mv example_A.png OUTPUT_FILES/mesh_examples_A.png\n",
    "! mv seis.png OUTPUT_FILES/.\n",
    "! mv OUTPUT_FILES OUTPUT_FILES_example_A\n",
    "! mv DATA/meshfem3D_files DATA/meshfem3D_files_example_A"
   ]
  },
  {
   "cell_type": "markdown",
   "id": "0b445f1e-5559-416c-bb83-095172cec522",
   "metadata": {},
   "source": [
    "-----------"
   ]
  },
  {
   "cell_type": "markdown",
   "id": "a9b4d06d-1fad-4fa1-aba2-a59931168973",
   "metadata": {},
   "source": [
    "**2) Two layered model**\n",
    "- bottom 3/4th of homogeneous halfspace has higher velocity"
   ]
  },
  {
   "cell_type": "code",
   "execution_count": null,
   "id": "8ddc34dd-197d-4563-897a-d6e7d0af986c",
   "metadata": {},
   "outputs": [],
   "source": [
    "# Setup\n",
    "! cp -r /home/scoped/adjdocs/workshops/2022-10-05_specfem_users/additional_material/day_1c/meshfem3D_files/example_B DATA/meshfem3D_files\n",
    "! mkdir -p OUTPUT_FILES/DATABASES_MPI"
   ]
  },
  {
   "cell_type": "code",
   "execution_count": null,
   "id": "910dc81e-587b-45cc-8079-1fecf2e2b658",
   "metadata": {},
   "outputs": [],
   "source": [
    "# Check the difference\n",
    "! ls DATA/meshfem3D_files\n",
    "! diff /home/scoped/adjdocs/workshops/2022-10-05_specfem_users/additional_material/day_1c/meshfem3D_files/example_A/Mesh_Par_file DATA/meshfem3D_files/Mesh_Par_file "
   ]
  },
  {
   "cell_type": "code",
   "execution_count": null,
   "id": "334a56b3-4c72-404b-a2c0-82af019ed9ee",
   "metadata": {},
   "outputs": [],
   "source": [
    "# Run Mesher\n",
    "! mpiexec -np 4 ./bin/xmeshfem3D"
   ]
  },
  {
   "cell_type": "code",
   "execution_count": null,
   "id": "525d326f-0b6c-412a-8cd6-08cdf955f948",
   "metadata": {},
   "outputs": [],
   "source": [
    "# Run Database generation\n",
    "! mpiexec -np 4 ./bin/xgenerate_databases"
   ]
  },
  {
   "cell_type": "code",
   "execution_count": null,
   "id": "25fa4da5-e259-4ce9-a3fb-2888f2145de2",
   "metadata": {},
   "outputs": [],
   "source": [
    "## View the meshing and the Vp model\n",
    "# The following image was generated using Paraview\n",
    "! cp /home/scoped/adjdocs/workshops/2022-10-05_specfem_users/additional_material/day_1c/figures/mesh/example_B.png .\n",
    "Image(\"example_B.png\")"
   ]
  },
  {
   "cell_type": "code",
   "execution_count": null,
   "id": "48f0e1c5-019d-4c43-b6c7-6f723077cb17",
   "metadata": {},
   "outputs": [],
   "source": [
    "# Run solver\n",
    "%time ! mpiexec -np 4 ./bin/xspecfem3D"
   ]
  },
  {
   "cell_type": "code",
   "execution_count": null,
   "id": "30b745c5-6d1d-4050-97a0-a8464c84433d",
   "metadata": {},
   "outputs": [],
   "source": [
    "# Plot the output seismograms\n",
    "\n",
    "X20_Z = np.genfromtxt(\"OUTPUT_FILES/DB.X20.BXZ.semd\", dtype=None, names=(\"time\",\"BXZ\"))\n",
    "X30_Z = np.genfromtxt(\"OUTPUT_FILES/DB.X30.BXZ.semd\", dtype=None, names=(\"time\",\"BXZ\"))\n",
    "X40_Z = np.genfromtxt(\"OUTPUT_FILES/DB.X40.BXZ.semd\", dtype=None, names=(\"time\",\"BXZ\"))\n",
    "X50_Z = np.genfromtxt(\"OUTPUT_FILES/DB.X50.BXZ.semd\", dtype=None, names=(\"time\",\"BXZ\"))\n",
    "\n",
    "t = X20_Z[\"time\"]\n",
    "\n",
    "plt.title(\"Seismograms (Z - component)\")\n",
    "plt.xlabel(\"---- time -->\")\n",
    "plt.ylabel(\"---- displacement -->\")\n",
    "\n",
    "plt.plot(t,X20_Z[\"BXZ\"],label=\"X20\")\n",
    "plt.plot(t,X30_Z[\"BXZ\"],label=\"X30\")\n",
    "plt.plot(t,X40_Z[\"BXZ\"],label=\"X40\")\n",
    "plt.plot(t,X50_Z[\"BXZ\"],label=\"X50\")\n",
    "\n",
    "plt.legend(title=\"Station\")\n",
    "plt.savefig(\"seis.png\")"
   ]
  },
  {
   "cell_type": "code",
   "execution_count": null,
   "id": "76700457-0134-4fb1-84ab-0b1ad77aeb75",
   "metadata": {},
   "outputs": [],
   "source": [
    "# Archive the output files, and the mesh files\n",
    "! mv example_B.png OUTPUT_FILES/mesh_examples_B.png\n",
    "! mv seis.png OUTPUT_FILES/.\n",
    "! mv OUTPUT_FILES OUTPUT_FILES_example_B\n",
    "! mv DATA/meshfem3D_files DATA/meshfem3D_files_example_B"
   ]
  },
  {
   "cell_type": "markdown",
   "id": "10ce2fe4-77a5-4783-bcf5-5163b02a04f3",
   "metadata": {},
   "source": [
    "-----------"
   ]
  },
  {
   "cell_type": "markdown",
   "id": "b5440468-6042-412b-bda6-faf787939954",
   "metadata": {},
   "source": [
    "**3) Two layered model with modified mesh**\n",
    "- higher velocity layer has larger elements"
   ]
  },
  {
   "cell_type": "code",
   "execution_count": null,
   "id": "ec05ab38-468a-4355-9dd7-c57ba4be6462",
   "metadata": {},
   "outputs": [],
   "source": [
    "# Setup\n",
    "! cp -r /home/scoped/adjdocs/workshops/2022-10-05_specfem_users/additional_material/day_1c/meshfem3D_files/example_C DATA/meshfem3D_files\n",
    "! mkdir -p OUTPUT_FILES/DATABASES_MPI"
   ]
  },
  {
   "cell_type": "code",
   "execution_count": null,
   "id": "f0e6ce01-9403-4284-ad6e-11ee4524affe",
   "metadata": {},
   "outputs": [],
   "source": [
    "# Check the difference\n",
    "! ls DATA/meshfem3D_files\n",
    "! diff /home/scoped/adjdocs/workshops/2022-10-05_specfem_users/additional_material/day_1c/meshfem3D_files/example_B/Mesh_Par_file DATA/meshfem3D_files/Mesh_Par_file"
   ]
  },
  {
   "cell_type": "code",
   "execution_count": null,
   "id": "887f96cf-d3a9-4e0a-ae44-3319cd4c8ddc",
   "metadata": {},
   "outputs": [],
   "source": [
    "# Run Mesher\n",
    "! mpiexec -np 4 ./bin/xmeshfem3D"
   ]
  },
  {
   "cell_type": "code",
   "execution_count": null,
   "id": "eb214fd0-b6c9-4bc6-9188-2e6ce5a4794d",
   "metadata": {},
   "outputs": [],
   "source": [
    "# Run Database generation\n",
    "! mpiexec -np 4 ./bin/xgenerate_databases"
   ]
  },
  {
   "cell_type": "code",
   "execution_count": null,
   "id": "d0865cb8-7d63-4666-859d-16492e69edee",
   "metadata": {},
   "outputs": [],
   "source": [
    "## View the meshing and the Vp model\n",
    "# The following image was generated using Paraview\n",
    "! cp /home/scoped/adjdocs/workshops/2022-10-05_specfem_users/additional_material/day_1c/figures/mesh/example_C.png .\n",
    "Image(\"example_C.png\")"
   ]
  },
  {
   "cell_type": "code",
   "execution_count": null,
   "id": "19df6c18-74df-4743-88ac-6360e86a3877",
   "metadata": {},
   "outputs": [],
   "source": [
    "# Run solver\n",
    "%time ! mpiexec -np 4 ./bin/xspecfem3D"
   ]
  },
  {
   "cell_type": "code",
   "execution_count": null,
   "id": "92d6884a-8a44-4806-a95f-a002beebbd26",
   "metadata": {},
   "outputs": [],
   "source": [
    "# Plot the output seismograms\n",
    "\n",
    "X20_Z = np.genfromtxt(\"OUTPUT_FILES/DB.X20.BXZ.semd\", dtype=None, names=(\"time\",\"BXZ\"))\n",
    "X30_Z = np.genfromtxt(\"OUTPUT_FILES/DB.X30.BXZ.semd\", dtype=None, names=(\"time\",\"BXZ\"))\n",
    "X40_Z = np.genfromtxt(\"OUTPUT_FILES/DB.X40.BXZ.semd\", dtype=None, names=(\"time\",\"BXZ\"))\n",
    "X50_Z = np.genfromtxt(\"OUTPUT_FILES/DB.X50.BXZ.semd\", dtype=None, names=(\"time\",\"BXZ\"))\n",
    "\n",
    "t = X20_Z[\"time\"]\n",
    "\n",
    "plt.title(\"Seismograms (Z - component)\")\n",
    "plt.xlabel(\"---- time -->\")\n",
    "plt.ylabel(\"---- displacement -->\")\n",
    "\n",
    "plt.plot(t,X20_Z[\"BXZ\"],label=\"X20\")\n",
    "plt.plot(t,X30_Z[\"BXZ\"],label=\"X30\")\n",
    "plt.plot(t,X40_Z[\"BXZ\"],label=\"X40\")\n",
    "plt.plot(t,X50_Z[\"BXZ\"],label=\"X50\")\n",
    "\n",
    "plt.legend(title=\"Station\")\n",
    "plt.savefig(\"seis.png\")"
   ]
  },
  {
   "cell_type": "code",
   "execution_count": null,
   "id": "78eb737e-e57c-41b9-aff8-88d5705ce8b6",
   "metadata": {},
   "outputs": [],
   "source": [
    "# Archive the output files, and the mesh files\n",
    "! mv example_C.png OUTPUT_FILES/mesh_examples_C.png\n",
    "! mv seis.png OUTPUT_FILES/.\n",
    "! mv OUTPUT_FILES OUTPUT_FILES_example_C\n",
    "! mv DATA/meshfem3D_files DATA/meshfem3D_files_example_C"
   ]
  },
  {
   "cell_type": "markdown",
   "id": "b88cc491-9120-410f-af06-aa4a19aae189",
   "metadata": {},
   "source": [
    "The main take away here is that by increasing the element size for the higher velocity layer, we are able to speed up the simulation greatly without loosing out on the accuracy of results. A note of caution is that changing mesh dimensions with change in velocity can be challenging at times and needs a good amount of care to ensure the accuracy of results. In some cases the numerical solver runs successfully, but the results maybe completely incorrect or maybe overshadowed by artifacts."
   ]
  },
  {
   "cell_type": "markdown",
   "id": "7ecc2297-0eb5-4620-98ba-b379d7db546b",
   "metadata": {},
   "source": [
    "-----------"
   ]
  }
 ],
 "metadata": {
  "kernelspec": {
   "display_name": "Python 3 (ipykernel)",
   "language": "python",
   "name": "python3"
  },
  "language_info": {
   "codemirror_mode": {
    "name": "ipython",
    "version": 3
   },
   "file_extension": ".py",
   "mimetype": "text/x-python",
   "name": "python",
   "nbconvert_exporter": "python",
   "pygments_lexer": "ipython3",
   "version": "3.10.6"
  }
 },
 "nbformat": 4,
 "nbformat_minor": 5
}
