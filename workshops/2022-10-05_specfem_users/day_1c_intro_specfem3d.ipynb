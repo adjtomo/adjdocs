{
 "cells": [
  {
   "cell_type": "markdown",
   "id": "347bc0f7-6dbe-454c-a95a-8469d8efe1c2",
   "metadata": {},
   "source": [
    "# SPECFEM Users Workshop -- Day 1 (Oct. 5, 2022)\n",
    "\n",
    "## Part 1C: Intro to SPECFEM3D\n",
    "\n",
    "SPECFEM3D follows very similar practices as SPECFEM2D, so what we have learned thus far will help us understand how to run simulations in SPECFEM3D.\n",
    "In this notebook we will be using SPECFEM3D_Cartesian, which has been installed and compiled in our container. In this short intro the SPEFEM3D, we will point out key differences between the 2D and 3D codes, and run a small example problem with a 3D homogeneous halfspace model.\n",
    "\n",
    "-----------\n",
    "\n",
    "### Relevant Information\n",
    "\n",
    ">__NOTE:__ These instructions should be run from inside the Docker container, using Jupyter Lab. The Docker container should have the adjTomo toolkit installed (SeisFlows, Pyatoa, PySEP), as well as SPECFEM2D and SPECEFM3D compiled with MPI. \n",
    "\n",
    "**Relevant Links:** \n",
    "- Day 1 Slides !!! ADD THIS !!!\n",
    "- [Today's Notebook](https://github.com/adjtomo/adjdocs/blob/main/workshops/2022-10-05_specfem_users/day_1b_forward_simulations.ipynb)\n",
    "- Completed Notebook !!! ADD THIS !!!\n",
    "\n",
    "**Jupyter Quick Tips:**\n",
    "\n",
    "- **Run cells** one-by-one by hitting the $\\blacktriangleright$ button at the top, or by hitting `Shift + Enter`\n",
    "- **Run all cells** by hitting the $\\blacktriangleright\\blacktriangleright$ button at the top, or by running `Run -> Run All Cells`\n",
    "- **Currently running cells** that are still processing will have a `[*]` symbol next to them\n",
    "- **Finished cells** will have a `[1]` symbol next to them. The number inside the brackets represents what order this cell has been run in.\n",
    "- Commands that start with `!` are Bash commands (i.e., commands you would run from the terminal)\n",
    "- Commands that start with `%` are Jupyter Magic commands.\n",
    "- To time a task, put a `%time` before the command (e.g., `%time ! ls`)\n"
   ]
  },
  {
   "cell_type": "markdown",
   "id": "17fed39d-3309-4957-b254-66c67ca131be",
   "metadata": {},
   "source": [
    "## 1) Setting Up \n",
    "\n",
    "It is often desireable to run SPECFEM outside of the cloned repository, in order to keep files and outputs manageable. The trick here is that SPECFEM only requires 3 compenents for a sucessful simulation, the `bin/`, `DATA/`, and `OUTPUT_FILES/` directories. In this section we will set up a SPECFEM3D working directory that we can play around with.\n",
    "\n",
    ">__NOTE:__ We will be doing all our work in the directory `/home/scoped/work_day_1/specfem3d_workdir`. All the following cells assume that we are in this directory, so you must evaluate the '%cd' command to ensure that cells work as expected."
   ]
  },
  {
   "cell_type": "code",
   "execution_count": 5,
   "id": "a7c386f6-0c75-4d44-b532-a1455eefd1cc",
   "metadata": {},
   "outputs": [
    {
     "name": "stdout",
     "output_type": "stream",
     "text": [
      "/home/scoped/work_day_1/specfem3d_workdir\n"
     ]
    }
   ],
   "source": [
    "! mkdir -p /home/scoped/work/day_1/specfem3d_workdir\n",
    "%cd /home/scoped/work/day_1/specfem3d_workdir"
   ]
  },
  {
   "cell_type": "code",
   "execution_count": 7,
   "id": "ffb6873c-a114-4320-ad14-602f0030467f",
   "metadata": {},
   "outputs": [
    {
     "name": "stdout",
     "output_type": "stream",
     "text": [
      "ln: failed to create symbolic link './bin': File exists\n"
     ]
    }
   ],
   "source": [
    "# Symlink the binary files, and copy the relevant DATA/ directory\n",
    "! ln -s /home/scoped/specfem3d/bin .\n",
    "! cp -r /home/scoped/specfem3d/EXAMPLES/homogeneous_halfspace/DATA .\n",
    "! mkdir -p OUTPUT_FILES/DATABASES_MPI"
   ]
  },
  {
   "cell_type": "code",
   "execution_count": 8,
   "id": "79b9ddce-b831-4840-bd71-8099f7efe952",
   "metadata": {},
   "outputs": [
    {
     "name": "stdout",
     "output_type": "stream",
     "text": [
      "bin  DATA  OUTPUT_FILES\n"
     ]
    }
   ],
   "source": [
    "! ls"
   ]
  },
  {
   "cell_type": "code",
   "execution_count": 9,
   "id": "f02461b3-ccf0-4197-b6b2-57b60f256395",
   "metadata": {},
   "outputs": [
    {
     "name": "stdout",
     "output_type": "stream",
     "text": [
      "CMTSOLUTION\t observation_grid_to_use_for_gravity.txt  STATIONS_ADJOINT\n",
      "FORCESOLUTION\t Par_file\t\t\t\t  STATIONS_FILTERED\n",
      "meshfem3D_files  STATIONS\n"
     ]
    }
   ],
   "source": [
    "! ls DATA"
   ]
  },
  {
   "cell_type": "markdown",
   "id": "f99033e8-8507-4ee5-8675-16ad5a808e19",
   "metadata": {},
   "source": [
    "## 2) Differences between SPECFEM2D and 3D\n",
    "\n",
    "# !!! Bryant to do this !!!"
   ]
  },
  {
   "cell_type": "markdown",
   "id": "b5326085-4028-4446-9c9b-2c3438a2c222",
   "metadata": {},
   "source": [
    "## 3) SPECFEM3D Homogeneous Halfspace example\n",
    "\n",
    "# !!! Aakash to do this !!!\n",
    "\n",
    "If you can, try to follow along with how Day 1B notebook progresses, i.e., \n",
    "- explore the Par_file, point out key parameters for the example\n",
    "- explore the CMTSOLUTION file\n",
    "- explore the STATIONS file\n",
    "- explore the meshfem3D_files directory and what it all means\n",
    "\n",
    "To quickly change `Par_file` parameters, you can use SeisFlows `sempar`. Look at Day 1A and 1B for examples but the call is like:\n",
    "\n",
    "`! seisflows sempar -P DATA/Par_file {key} {val:optional}`\n",
    "\n",
    "for example, to change the `Par_file` parameter `NPROC` to 4 (it is case insensitive)  \n",
    "`! seisflows sempar -P DATA/Par_file nproc 4 `"
   ]
  }
 ],
 "metadata": {
  "kernelspec": {
   "display_name": "Python 3 (ipykernel)",
   "language": "python",
   "name": "python3"
  },
  "language_info": {
   "codemirror_mode": {
    "name": "ipython",
    "version": 3
   },
   "file_extension": ".py",
   "mimetype": "text/x-python",
   "name": "python",
   "nbconvert_exporter": "python",
   "pygments_lexer": "ipython3",
   "version": "3.10.6"
  }
 },
 "nbformat": 4,
 "nbformat_minor": 5
}
