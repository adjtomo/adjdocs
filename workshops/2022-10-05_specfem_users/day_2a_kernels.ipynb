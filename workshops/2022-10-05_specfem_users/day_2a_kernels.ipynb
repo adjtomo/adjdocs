{
 "cells": [
  {
   "cell_type": "markdown",
   "id": "347bc0f7-6dbe-454c-a95a-8469d8efe1c2",
   "metadata": {},
   "source": [
    "# SPECFEM Users Workshop -- Day 2 (Oct. 6, 2022)\n",
    "\n",
    "\n",
    "# TO DO (ctrl+f `!!!`):\n",
    "- Add Day 2 slides (this cell)\n",
    "- Background material (Section 1)\n",
    "- Key SPECFEM3D differences for adjoint simulations (Section 3)\n",
    "- Explain kernel figure (Section 3C)\n",
    "- Add kernel summation example (using xcombine_sem)\n",
    "\n",
    "## Part 2: Kernels and Adjoint Simulations \n",
    "\n",
    "- In this notebook we will build upon the [Day 1 (Forward Simulation)](https://github.com/adjtomo/adjdocs/blob/main/workshops/2022-10-05_specfem_users/day_1b_forward_simulations.ipynb) training \n",
    "- **Objective**: To understand the construction of sensitivity kernels using adjoint simulations. \n",
    "- Adjoint simulations are key for performing seismic imaging as they guide iterative model updates during the inverse problem. \n",
    "- We will introduce the concepts of misfit, adjoint sources, and kernels\n",
    "- We will also show Users how to perform adjoint simulations in SPECFEM2D.\n",
    "- These instructions should be run from inside the Docker container, using Jupyter Lab (see *Docker Preamble* in Day 0). \n",
    "\n",
    "-----------\n",
    "\n",
    "**Relevant Links:** \n",
    "- Day 2 Slides !!! ADD THIS !!!\n",
    "- Today's Notebook: https://github.com/adjtomo/adjdocs/blob/main/workshops/2022-10-05_specfem_users/day_2a_kernels.ipynb\n",
    "- Completed Notebook https://github.com/adjtomo/adjdocs/blob/main/workshops/2022-10-05_specfem_users/completed_notebooks/day_2a_kernels.ipynb\n",
    "- Day 0 Notebook (Container Testing): https://github.com/adjtomo/adjdocs/blob/main/workshops/2022-10-05_specfem_users/completed_notebooks/day_0_container_testing.ipynb\n",
    "- Day 1A Notebook (Intro SPECFEM): https://github.com/adjtomo/adjdocs/blob/main/workshops/2022-10-05_specfem_users/completed_notebooks/day_1a_intro_specfem2d.ipynb\n",
    "- Day 1B Notebook (Fwd. Simulations): https://github.com/adjtomo/adjdocs/blob/main/workshops/2022-10-05_specfem_users/completed_notebooks/day_1b_forward_simulations.ipynb\n",
    "\n",
    "**Jupyter Quick Tips:**\n",
    "\n",
    "- **Run cells** one-by-one by hitting the $\\blacktriangleright$ button at the top, or by hitting `Shift + Enter`\n",
    "- **Run all cells** by hitting the $\\blacktriangleright\\blacktriangleright$ button at the top, or by running `Run -> Run All Cells`\n",
    "- **Currently running cells** that are still processing will have a `[*]` symbol next to them\n",
    "- **Finished cells** will have a `[1]` symbol next to them. The number inside the brackets represents what order this cell has been run in.\n",
    "- Commands that start with `!` are Bash commands (i.e., commands you would run from the terminal)\n",
    "- Commands that start with `%` are Jupyter Magic commands."
   ]
  },
  {
   "cell_type": "markdown",
   "id": "17fed39d-3309-4957-b254-66c67ca131be",
   "metadata": {},
   "source": [
    "## 1) Background\n",
    "\n",
    "!!! TO DO !!!\n",
    "Potential topics:\n",
    "- Misfit functions\n",
    "- Adjoint Sources\n",
    "- Sensitivity kernels\n",
    "- Misfit kernels "
   ]
  },
  {
   "cell_type": "markdown",
   "id": "c0acd55c-e9b3-4448-a327-ea23b797d6a5",
   "metadata": {
    "tags": []
   },
   "source": [
    "## 2) Setting Up a SPECFEM2D Working Directory\n",
    "\n",
    "- As with Day 1, we will want to set up a clean working directory to run SPECFEM2D inside. \n",
    "- This will help us preserve our cloned repository and reduce file clutter.\n",
    "- We will be doing all our work in the directory /home/scoped/work/day_2. \n",
    "- All the following cells assume that we are in this directory, so you must evaluate the '%cd' command to ensure that cells work as expected."
   ]
  },
  {
   "cell_type": "code",
   "execution_count": null,
   "id": "797fb508-998d-470a-8142-7e3e61a063c4",
   "metadata": {},
   "outputs": [],
   "source": [
    "import numpy as np\n",
    "import matplotlib.pyplot as plt\n",
    "from IPython.display import Image\n",
    "from scipy.integrate import simps\n",
    "from seisflows.tools.specfem import Model "
   ]
  },
  {
   "cell_type": "code",
   "execution_count": null,
   "id": "a7c386f6-0c75-4d44-b532-a1455eefd1cc",
   "metadata": {},
   "outputs": [],
   "source": [
    "# Make correct dir. and move there\n",
    "! mkdir -p /home/scoped/work/day_2/specfem2d_workdir\n",
    "%cd /home/scoped/work/day_2/specfem2d_workdir\n",
    "\n",
    "# Symlink the binary files, and copy the relevant DATA/ directory\n",
    "! ln -s /home/scoped/specfem2d/bin .\n",
    "! cp -r /home/scoped/specfem2d/EXAMPLES/Tape2007/DATA .\n",
    "! mkdir OUTPUT_FILES\n",
    "\n",
    "! ls"
   ]
  },
  {
   "cell_type": "markdown",
   "id": "e6404755-a37c-40bf-aab5-377f46f57e9d",
   "metadata": {},
   "source": [
    "## 3) Experimental Setup: Tape et al. 2007 Example Problem\n",
    "\n",
    "- As with Day 1, we will be working with an Example problem from the [Tape et al. 2007 GJI publication](https://academic.oup.com/gji/article/168/3/1105/929373), which pre-defines a starting model, target model, seismic sources and station locations. \n",
    "- We will be revisiting the homogeneous halfspace model we saw in Day 1.\n",
    "- We will also look at a perturbation checkerboard model which defines a smooth checkerboard with $\\pm$10\\% velocity perturbations, overlain ontop of the homogeneous halfspace model. \n",
    "- In the following sections we will visualize these models to help illustrate the experiemental setup.\n",
    "- We will be using Python (NumPy and Matplotlib) to visualize the Example problem setup, however in your own research you can use any language to help you visualize and understand your problem."
   ]
  },
  {
   "cell_type": "markdown",
   "id": "45306979-343e-4c4e-b789-883b68f9c13d",
   "metadata": {},
   "source": [
    "### a) The Homogeneous Halfspace Model\n",
    "\n",
    "- The homogeneous halfspace model in this example is defined in the `Par_file`, \n",
    "- The homogeneous halfspace model defines a region with P-wave velocity 5.8km/s and S-wave velocity 3.5km/s. \n",
    "- This is the same model that we looked at in Day 1B \n",
    "- We will not explore the halfspace model in as much detail as Day 1, but we plot it here for reference."
   ]
  },
  {
   "cell_type": "code",
   "execution_count": null,
   "id": "428d2630-5fe9-496d-97bb-9b8d5415d5b8",
   "metadata": {},
   "outputs": [],
   "source": [
    "def plot_homogeneous_halfspace():\n",
    "    \"\"\"Plots a representation of the SPECFEM2D homogeneous halfspace model\"\"\"\n",
    "    # Sets the X and Z dimensions of our mesh\n",
    "    x = np.arange(0, 480000, 4000)\n",
    "    z = np.arange(0, 480000, 4000)\n",
    "    \n",
    "    # Reformat the 1D arrays into 2D\n",
    "    xv, zv = np.meshgrid(x, z)\n",
    "\n",
    "    # Set a homogeneous value of Vs=3.5km/s \n",
    "    vs = 3.5 * np.ones(np.shape(xv))\n",
    "\n",
    "    # Plot the arrays as a homogeneous halfspace\n",
    "    plt.tricontourf(xv.flatten(), zv.flatten(), vs.flatten(), cmap=\"seismic_r\", vmin=3.1, vmax=4.)\n",
    "    plt.colorbar(label=\"Vs [km/s]\", format=\"%.1f\")\n",
    "    plt.title(\"2D Homogeneous Halfspace Model\\n Vs=3.5km/s\")\n",
    "    \n",
    "# Calls the function we just defined\n",
    "plot_homogeneous_halfspace()"
   ]
  },
  {
   "cell_type": "markdown",
   "id": "464ee1cf-0ad8-4c9e-834e-938e84aa7a40",
   "metadata": {},
   "source": [
    "### b) The Perturbation Checkerboard Model\n",
    "\n",
    "- This Example problem also defines a perturbation checkerboard  \n",
    "- Checkerboard features smoothly varying Gaussian checkers that perturb the homogeneous halfspace model ($V_s$ and $V_p$) by roughly $\\pm$10%.\n",
    "- We can use Matplotlib and NumPy to help us visualize Checkerboard. \n",
    "- First we'll have a look at the checkerboard model data file, and then we'll plot it directly.\n",
    "\n",
    "The columns of the checkerboard model are defined: \n",
    "```bash\n",
    "line_no x[m] z[m] density vp[m/s] vs[m/s]\n",
    "```"
   ]
  },
  {
   "cell_type": "code",
   "execution_count": null,
   "id": "5cf42876-ffe6-4783-b93e-976e9bbe4a6d",
   "metadata": {},
   "outputs": [],
   "source": [
    "# Look at the first few lines of the checkerboard\n",
    "! head DATA/model_velocity.dat_checker"
   ]
  },
  {
   "cell_type": "code",
   "execution_count": null,
   "id": "5f482fac-e497-4c37-b64d-68060f5c357a",
   "metadata": {},
   "outputs": [],
   "source": [
    "# Grab values of X, Z, Vs and Vp for plotting\n",
    "data = np.genfromtxt(\"DATA/model_velocity.dat_checker\", dtype=float, usecols=[1,2,4,5])\n",
    "chkbd_x, chkbd_z, chkbd_vp, chkbd_vs = data.T"
   ]
  },
  {
   "cell_type": "code",
   "execution_count": null,
   "id": "719c9fc7-d89d-4a4b-a7de-be9e68aaab4f",
   "metadata": {},
   "outputs": [],
   "source": [
    "# Plotting Vp\n",
    "plt.tricontourf(chkbd_x, chkbd_z, chkbd_vp, levels=125, cmap=\"seismic_r\")\n",
    "plt.xlabel(\"X [m]\")\n",
    "plt.ylabel(\"Z [m]\")\n",
    "plt.title(\"Checkerboard Vp [m/s]\")\n",
    "plt.colorbar()"
   ]
  },
  {
   "cell_type": "code",
   "execution_count": null,
   "id": "67bd7641-4128-4578-82c8-9dadfc31be41",
   "metadata": {},
   "outputs": [],
   "source": [
    "# Plotting Vs\n",
    "plt.tricontourf(chkbd_x, chkbd_z, chkbd_vs, levels=125, cmap=\"seismic_r\")\n",
    "plt.xlabel(\"X [m]\")\n",
    "plt.ylabel(\"Z [m]\")\n",
    "plt.title(\"Checkerboard Vs [m/s]\")\n",
    "plt.colorbar()"
   ]
  },
  {
   "cell_type": "markdown",
   "id": "7dbbfc22-a140-4160-87b0-bda887572f8f",
   "metadata": {},
   "source": [
    "### c) Visualizing Source-Receiver Geometry\n",
    "\n",
    "- As with Day 1B we can plot the SOURCES and STATIONS to see what the experiemental setup looks like with respect to the Checkerboard model. \n",
    "- These are the same Sources and Stations we plotted on top of the homogeneous halfspace model"
   ]
  },
  {
   "cell_type": "code",
   "execution_count": null,
   "id": "5bc2d6a4-b8aa-4a9b-bfcb-37938915b492",
   "metadata": {},
   "outputs": [],
   "source": [
    "# Small code snippet to grab coordinates from STATIONS file\n",
    "sta_x, sta_z = np.genfromtxt(\"DATA/STATIONS_checker\", dtype=float, usecols=[2, 3]).T"
   ]
  },
  {
   "cell_type": "code",
   "execution_count": null,
   "id": "b771c1f0-d11f-4087-9206-f9e146857106",
   "metadata": {},
   "outputs": [],
   "source": [
    "# Small code snippet to grab coordinates from SOURCE files\n",
    "ev_x, ev_z = [], []\n",
    "for i in range(1, 26):\n",
    "    source_file = f\"DATA/SOURCE_{i:0>3}\"\n",
    "    with open(source_file, \"r\") as f:\n",
    "        lines = f.readlines()\n",
    "    # Trying to break apart the following line\n",
    "    # 'xs = 299367.72      # source location x in meters\\n'\n",
    "    xs = float(lines[2].split(\"=\")[1].split(\"#\")[0].strip())\n",
    "    zs = float(lines[3].split(\"=\")[1].split(\"#\")[0].strip())\n",
    "    \n",
    "    ev_x.append(xs)\n",
    "    ev_z.append(zs)"
   ]
  },
  {
   "cell_type": "code",
   "execution_count": null,
   "id": "9859aa1b-500c-4a82-b28e-e3b558a09a5c",
   "metadata": {},
   "outputs": [],
   "source": [
    "# Plot SOURCES and STATIONS on top of the checkerboard model\n",
    "plt.tricontourf(chkbd_x, chkbd_z, chkbd_vs, levels=250, cmap=\"seismic_r\")\n",
    "plt.scatter(ev_x, ev_z, c=\"y\", marker=\"*\", s=100, edgecolor=\"k\")\n",
    "plt.scatter(sta_x, sta_z, c=\"c\", marker=\"v\", s=20, edgecolor=\"k\")\n",
    "plt.title(\"SOURCE-RECEIVER GEOMETRY\")"
   ]
  },
  {
   "cell_type": "code",
   "execution_count": null,
   "id": "b3fc21b9-2d3b-448e-894a-e5b24613b492",
   "metadata": {},
   "outputs": [],
   "source": [
    "# Plot SOURCES next to source names\n",
    "plt.tricontourf(chkbd_x, chkbd_z, chkbd_vs, levels=250, cmap=\"seismic_r\", alpha=0.1)\n",
    "for i, (x, z) in enumerate(zip(ev_x, ev_z)):\n",
    "    plt.scatter(x, z, c=\"y\", marker=\"*\", edgecolor=\"k\", s=45)\n",
    "    plt.text(x, z, f\"{i+1:0>3}\")  # SOURCE numbering starts at 1\n",
    "plt.title(\"SOURCES\")"
   ]
  },
  {
   "cell_type": "code",
   "execution_count": null,
   "id": "76bbb1fc-143b-465c-a602-fecf18db2577",
   "metadata": {
    "tags": []
   },
   "outputs": [],
   "source": [
    "# Plot SOURCES and STATIONS together. Annotate names\n",
    "plt.tricontourf(chkbd_x, chkbd_z, chkbd_vs, levels=250, cmap=\"seismic_r\", alpha=0.1)\n",
    "for i, (x, z) in enumerate(zip(sta_x, sta_z)):\n",
    "    plt.scatter(x, z, c=\"c\", marker=\"v\", s=8, edgecolor=\"k\")\n",
    "    plt.text(x, z, f\"{i:0>3}\", fontsize=9)\n",
    "plt.title(\"STATIONS\")"
   ]
  },
  {
   "cell_type": "markdown",
   "id": "608f10cc-ec85-4ef3-af58-6d272595a6e7",
   "metadata": {},
   "source": [
    "#### Understanding Source-Receiver Figures\n",
    "\n",
    "- In the above figures, the upside-down blue triangles represent the 132 receivers in this example\n",
    "- The 25 yellow stars are the sources. \n",
    "- Red colors in the checkerboard model represent **slow** velocities with respect to the starting homogeneous halfspace model\n",
    "- Blue colors in the checkerboard model represent **fast** velocities with respect to the starting homogeneous halfspace model\n",
    "- Now that we are familiar with our experimental setup, we can run SPECFEM2D to generate synthetics."
   ]
  },
  {
   "cell_type": "markdown",
   "id": "311aa16b-ea8b-4e4d-963f-be0f2934befd",
   "metadata": {},
   "source": [
    "## 2) Setting up an Adjoint Simulation\n",
    "\n",
    "- The `adjoint simulation` simulates the interaction of a forward wavefield and an adjoint wavefield\n",
    "- The `forward wavefield` is the seismic wavefield propagated from the source location\n",
    "- The `adjoint wavefield` is a time-reversed wavefield which propagates from receiver locations, controlled by adjoint sources\n",
    "- `Adjoint sources` are time-dependent representations of waveform misfit. They are generated by comparing two sets of similar waveforms using a `misfit function`\n",
    "- Each component of each receiver therefore is capable of generating an adjoint source\n",
    "- The adjoint wavefield is a summation of adjoint sources generated from each receiver\n",
    "- The volumetric integration of the interaction between the forward and adjoint wavefields creates a `misfit kernel`\n",
    "- `Misfit kernels` illuminate the parts of the model that the misfit function is sensitive to.  \n",
    "- That is, if we perturb the model in regions highlighted by the misfit kernels, we can affect the misfit function (i.e., data-synthetic comparison)\n",
    "- Below we will illustrate the generation of a misfit kernel"
   ]
  },
  {
   "cell_type": "code",
   "execution_count": null,
   "id": "a567ee7a-579f-4820-ad38-c05ced13cd83",
   "metadata": {},
   "outputs": [],
   "source": [
    "%cd /home/scoped/work/day_2/specfem2d_workdir"
   ]
  },
  {
   "cell_type": "markdown",
   "id": "b4e4902b-4f80-4649-8310-239c09160b7c",
   "metadata": {},
   "source": [
    "### a) Generating 'Data' with a Target Model\n",
    "\n",
    "- We use the Checkerboard model shown above as a `True` or `Target` model. \n",
    "- The `Target` model is used to generate synthetic waveforms that are meant to approximate real world data. \n",
    "- In the case of a real seismic inversion, one would substitute these data with actual waveforms recorded during an earthquake. \n",
    "- In the absence of data, we use synthetic waveforms, making it easier to control the synthetic setup.\n",
    "- We will choose a single source and a single receiver to generate our misfit kernel\n",
    "- Because we have covered this in Day 1, we will quickly move through forward simulations through the Target model"
   ]
  },
  {
   "cell_type": "code",
   "execution_count": null,
   "id": "146304f3-04b0-4fce-ac4c-46b8f42c23d8",
   "metadata": {},
   "outputs": [],
   "source": [
    "# > Choose your SOURCE here. By default we choose SOURCE_001\n",
    "! cp DATA/SOURCE_001 DATA/SOURCE"
   ]
  },
  {
   "cell_type": "code",
   "execution_count": null,
   "id": "fb9ce0eb-949e-4c9e-9f00-f13e8eff749c",
   "metadata": {},
   "outputs": [],
   "source": [
    "# > Choose your STATION here. By default we choose STATION 1\n",
    "STATION_NUMBER_CHOICE = 0\n",
    "\n",
    "# Read the existing stations file\n",
    "stations = open(\"DATA/STATIONS_checker\", \"r\").readlines()\n",
    "\n",
    "# Write out only User defined stations\n",
    "with open(\"DATA/STATIONS\", \"w\") as f:\n",
    "    f.write(stations[STATION_NUMBER_CHOICE])"
   ]
  },
  {
   "cell_type": "code",
   "execution_count": null,
   "id": "883a5828-1d21-432c-9c2c-5f707a2fd897",
   "metadata": {},
   "outputs": [],
   "source": [
    "# Copy the Parameter file and make some adjustments \n",
    "! cp -f DATA/Par_file_Tape2007_132rec_checker DATA/Par_file\n",
    "\n",
    "! seisflows sempar -P DATA/Par_file nproc 1\n",
    "! seisflows sempar -P DATA/Par_file NSTEP 5000  # to match the other Par_file\n",
    "! seisflows sempar -P DATA/Par_file save_model binary\n",
    "! seisflows sempar -P DATA/Par_file setup_with_binary_database 1\n",
    "\n",
    "# Ensure that SPECFEM can find the checkerboard model by naming it correctly\n",
    "! cp -f DATA/model_velocity.dat_checker DATA/proc000000_model_velocity.dat_input\n",
    "\n",
    "# Run Meshfem and SPECFEM SPECFEM2D \n",
    "! mpirun -n 1 bin/xmeshfem2D > OUTPUT_FILES/output_mesher.txt\n",
    "! mpirun -n 1 bin/xspecfem2D > OUTPUT_FILES/output_solver.txt"
   ]
  },
  {
   "cell_type": "code",
   "execution_count": null,
   "id": "18456f55-3a27-4f76-8cd1-0e198e27b445",
   "metadata": {},
   "outputs": [],
   "source": [
    "# We can look at the 'Data' waveform using SeisFlows\n",
    "! ls OUTPUT_FILES/*semd\n",
    "! seisflows plotst OUTPUT_FILES/AA.S000000.BXY.semd --savefig AA.S000000.BXY.semd.png\n",
    "Image(\"AA.S000000.BXY.semd.png\")"
   ]
  },
  {
   "cell_type": "code",
   "execution_count": null,
   "id": "8c19b505-e115-47b5-a833-8b69329f29df",
   "metadata": {},
   "outputs": [],
   "source": [
    "# Lets rename the OUTPUT_FILES so that our subsequent run doesn't overwrite files\n",
    "! mv OUTPUT_FILES OUTPUT_FILES_TRUE\n",
    "! mkdir OUTPUT_FILES"
   ]
  },
  {
   "cell_type": "markdown",
   "id": "718f2d5e-81fd-4990-9e3f-5688676f26ff",
   "metadata": {},
   "source": [
    "### b) Generating Synthetics using Initial Model\n",
    "\n",
    "- Now we want to generate a synthetic waveform using our starting or initial model. \n",
    "- In this example we will use the homogeneous halfspace model as our starting model in order to generate our synthetic waveform. \n",
    "- We use the **same** source and receivers as the Target model, to ensure that we can compare the waveforms generated.\n",
    "- The idea here is that the waveform generated by the Target model and the waveform generated by the Initial model will be different\n",
    "- Waveform differences contain information about the differences in the models that created them (in this case, homogeneous halfspace vs. checkerboard model)."
   ]
  },
  {
   "cell_type": "code",
   "execution_count": null,
   "id": "cb0af2b3-e758-45c8-8241-613c8e4f983d",
   "metadata": {},
   "outputs": [],
   "source": [
    "# The SOURCE and STATIONS files should remain the same,\n",
    "# we only want to tell SPECFEM to use the homogeneous halfspace model\n",
    "! cp -f DATA/Par_file_Tape2007_onerec DATA/Par_file\n",
    "\n",
    "# Set some Par_file parameters to match the previous run\n",
    "! seisflows sempar -P DATA/Par_file nproc 1\n",
    "! seisflows sempar -P DATA/Par_file use_existing_stations .true.\n",
    "! seisflows sempar -P DATA/Par_file save_model binary\n",
    "! seisflows sempar -P DATA/Par_file setup_with_binary_database 1\n",
    "! seisflows sempar -P DATA/Par_file save_forward .true.\n",
    "\n",
    "# Run SPECFEM with the homogeneous halfspace model, defined in the Par_file\n",
    "! mpirun -n 1 bin/xmeshfem2D > OUTPUT_FILES/output_mesher.txt\n",
    "! mpirun -n 1 bin/xspecfem2D > OUTPUT_FILES/output_solver.txt"
   ]
  },
  {
   "cell_type": "markdown",
   "id": "34569ff8-ca90-4b2a-bfd1-dea0968f2596",
   "metadata": {},
   "source": [
    "#### Parameter changes explained\n",
    "\n",
    "- The parameters we have changed are the same as what we explained in Day 1. \n",
    "- However we have a new parameter `save_forward`.\n",
    "- The `save_forward` parameter tells SPECFEM to save a snapshot of the last frame of the wavefield\n",
    "- This snapshot is used to back-construct the forward wavefield during an adjoint simulation"
   ]
  },
  {
   "cell_type": "code",
   "execution_count": null,
   "id": "69c67556-4387-4213-9862-e2fb82ee3d6b",
   "metadata": {},
   "outputs": [],
   "source": [
    "# Again we can look at the waveform. We will compare in the next section\n",
    "! ls OUTPUT_FILES/*semd\n",
    "! seisflows plotst OUTPUT_FILES/AA.S000000.BXY.semd --savefig AA.S000000.BXY.semd.png\n",
    "Image(\"AA.S000000.BXY.semd.png\")"
   ]
  },
  {
   "cell_type": "code",
   "execution_count": null,
   "id": "fddc5907-683a-437e-be8f-4aaae47af31c",
   "metadata": {},
   "outputs": [],
   "source": [
    "# Once again we rename the OUTPUT_FILES so that our subsequent run doesn't overwrite files\n",
    "! cp -r OUTPUT_FILES OUTPUT_FILES_INIT"
   ]
  },
  {
   "cell_type": "markdown",
   "id": "41daf896-6549-4a48-8875-ad2e30d2b15c",
   "metadata": {},
   "source": [
    "### c) Misfit Quantification and Adjoint Sources\n",
    "\n",
    "- We use the term `misfit` to define differences between data and synthetics\n",
    "- Adjoint sources are waveforms proportional to the time-dependent misfit\n",
    "- The chosen misfit function directly affects seismic imaging studies by\n",
    "- There are a large number of different misfit functions available, which compare e.g., phase, amplitude, frequency content, waveform envelopes\n",
    "- To keep things simple, we use a waveform difference misfit function in this notebook\n",
    "- We start out by plotting the two waveforms together to see how they differ. "
   ]
  },
  {
   "cell_type": "code",
   "execution_count": null,
   "id": "d1aff025-1a19-427a-821c-22c463018518",
   "metadata": {},
   "outputs": [],
   "source": [
    "# Read in the two-column ASCII files using NumPy where - t=time; d=data\n",
    "t_init, d_init = np.loadtxt(\"OUTPUT_FILES_INIT/AA.S000000.BXY.semd\").T\n",
    "t_true, d_true = np.loadtxt(\"OUTPUT_FILES_TRUE/AA.S000000.BXY.semd\").T\n",
    "\n",
    "# Plot both waveforms using Matplotlib\n",
    "plt.plot(t_init, d_init, c=\"r\", label=\"MODEL INIT; SYNTHETIC\")\n",
    "plt.plot(t_true, d_true, c=\"k\", label=\"MODEL TRUE; 'DATA'\")\n",
    "plt.xlabel(\"Time [s]\")\n",
    "plt.ylabel(\"Displacement [m]\")\n",
    "plt.legend()\n",
    "plt.show()"
   ]
  },
  {
   "cell_type": "markdown",
   "id": "100a9b97-4dcf-41ef-8d34-46dd56890691",
   "metadata": {},
   "source": [
    "#### Comments on Default Waveform Figure\n",
    "\n",
    "- From the figure above we can see that the `TRUE` synthetic shows a phase delay (negative time shift) with respect to the `INIT` synthetic. \n",
    "- This makes sense if we look at the checkerboard model, which perturbs the initial model in a positive direction (i.e., the `TRUE` model is faster, with respect to the `INIT` model).\n",
    "- If you have chosen a different source or receiver, try to see if the waveform differences (or lack there of) make sense with respect to the checkerboard model we showed above"
   ]
  },
  {
   "cell_type": "markdown",
   "id": "eaabe551-1c95-4404-9857-ac37a52fb7e5",
   "metadata": {
    "tags": []
   },
   "source": [
    "#### Misfit Quantification with Python\n",
    "\n",
    "- We acknowledge that some of this work is modified from Ridvan Orsvuran's [Jupyter Notebook](https://github.com/rdno/simple_2d_kernel/blob/main/Simple_Specfem2D_Kernel.ipynb)\n",
    "- We want to quantify the misfit between the two seismograms. For this example problem we'll use a simple waveform misfit function, defined as: $ \\chi = \\frac{1}{2} \\int [d(t)-s(t)]^2 dt~, $\n",
    "- Where d(t) is the time-dependent 'data' waveform (black trace above), and s(t) is the time-dependent 'synthetic' waveform (red trace above).\n",
    "- We can calculate the misfit using the data traces from above.\n",
    "- In Python we will perform this integration using [Simpson's rule](https://docs.scipy.org/doc/scipy-0.14.0/reference/generated/scipy.integrate.simps.html)."
   ]
  },
  {
   "cell_type": "code",
   "execution_count": null,
   "id": "1846d3d8-f5f3-41a5-bd4a-a4613b72c8c9",
   "metadata": {},
   "outputs": [],
   "source": [
    "# Integrate using scipy\n",
    "dt = t_true[1] - t_true[0]  # dt represents the time step\n",
    "misfit = 1/2 * simps((d_true - d_init)**2, dx=dt)\n",
    "\n",
    "print(f\"misfit={misfit:.3E}\")"
   ]
  },
  {
   "cell_type": "markdown",
   "id": "69668b7b-aef7-4b55-b3a4-a24643362648",
   "metadata": {},
   "source": [
    "#### Adjoint Source with Python\n",
    "\n",
    "- The adjoint source is a time-dependent measure of misfit, which is used to run adjoint simulations. \n",
    "- The equation for the waveform-based adjoint source is given by: $f^\\dagger (t) = s(t) - d(t)$\n",
    "- Where d(t) is the time-dependent 'data' waveform (black trace above), and s(t) is the time-dependent 'synthetic' waveform (red trace above).\n",
    "- We can calculate the adjoint source and plot it alongside our waveforms to visualize the time-dependent misfit between data and synthetic."
   ]
  },
  {
   "cell_type": "code",
   "execution_count": null,
   "id": "979e90b5-82a8-4151-b957-2759c5028ee3",
   "metadata": {},
   "outputs": [],
   "source": [
    "# Calculate the adjoint source using data and synthetic\n",
    "d_adj = d_init - d_true\n",
    "\n",
    "# Plot both waveforms using Matplotlib\n",
    "plt.plot(t_init, d_init, c=\"r\", label=\"MODEL INIT; SYNTHETIC\")\n",
    "plt.plot(t_true, d_true, c=\"k\", label=\"MODEL TRUE; 'DATA'\")\n",
    "plt.plot(t_init, d_adj, c=\"g\", label=\"ADJOINT SOURCE\")\n",
    "plt.xlabel(\"Time [s]\")\n",
    "plt.ylabel(\"Displacement [m]\")\n",
    "plt.xlim([50, 175])\n",
    "plt.legend()\n",
    "plt.show()"
   ]
  },
  {
   "cell_type": "markdown",
   "id": "4bb144a8-196d-48ab-9b39-841a2390cc47",
   "metadata": {},
   "source": [
    "- We can see that the adjoint source is equal to 0 when the waveforms are the same, and peaks when the waveforms are the most different. \n",
    "- The adjoint source will be fed in at receiver locations during an adjoint simulation\n",
    "- The resulting adjoint wavefield will interact with the forward wavefield to illuminate parts of the model that the misfit function is sensitive to."
   ]
  },
  {
   "cell_type": "markdown",
   "id": "0681f486-4af6-4efb-a9c3-56ae30c8c0ca",
   "metadata": {},
   "source": [
    "## 3) Running an Adjoint Simulation"
   ]
  },
  {
   "cell_type": "markdown",
   "id": "a6c71448-499a-4146-a11d-9bed084f6720",
   "metadata": {},
   "source": [
    "- To run an adjoint simulation in SPECFEM2D, we need to make a few changes to the parameter file\n",
    "- Similarly we need to set up some directories so that `xspecfem2D` can find our adjoint source\n",
    "\n",
    "!!! TODO HOW DOES SPECFEM3D differ, also maybe some more explanation here !!!"
   ]
  },
  {
   "cell_type": "code",
   "execution_count": null,
   "id": "b6353b69-0382-4a2f-b9a0-a4433c19a65b",
   "metadata": {},
   "outputs": [],
   "source": [
    "%cd /home/scoped/work/day_2/specfem2d_workdir"
   ]
  },
  {
   "cell_type": "code",
   "execution_count": null,
   "id": "486eccc2-cf23-46a7-bc3f-3d08a741d400",
   "metadata": {},
   "outputs": [],
   "source": [
    "! seisflows sempar -P DATA/Par_file simulation_type 3\n",
    "! seisflows sempar -P DATA/Par_file save_ASCII_kernels .false."
   ]
  },
  {
   "cell_type": "markdown",
   "id": "9584da41-29ff-4b53-b27a-a2777d4d8e72",
   "metadata": {},
   "source": [
    "#### Parameter file changes\n",
    "`simulation_type`: Simulation type 3 tells SPECFEM that we are running an adjoint simulation  \n",
    "`save_ASCII_kernels`: Tells SPECFEM to save the resulting misfit kernel in binary format (not ASCII)"
   ]
  },
  {
   "cell_type": "markdown",
   "id": "ec4bf0d0-8acf-4904-a935-ed619148a5c7",
   "metadata": {},
   "source": [
    "### a) Writing Adjoint Sources\n",
    "\n",
    "**IMPORTANT:** SPECFEM expects adjoint sources in a directory called `SEM/` with a specific format and filename\n",
    "\n",
    "- Adjoint sources should be defined in the same way that the synthetics have been created. \n",
    "- In this case that means two-column ASCII files where the time axis exactly matches the the synthetic outputs. \n",
    "- Filename must also match synthetics, but with a `.adj` suffix; i.e., for synthetic `AA.S000000.BXY.semd`, corresponding adjoint source is: `AA.S000000.BXY.adj`.\n",
    "- We can use Python to write this out in the correct location."
   ]
  },
  {
   "cell_type": "code",
   "execution_count": null,
   "id": "4698c2e8-8126-4e8e-8a99-06edc97dd3bd",
   "metadata": {},
   "outputs": [],
   "source": [
    "# Make the requisite SEM/ directory\n",
    "! mkdir SEM/\n",
    "\n",
    "# Generate the two-column (time, data) format required\n",
    "adjoint_source = np.vstack((t_init, d_adj)).T\n",
    "\n",
    "# Save the .adj file as an ASCII file\n",
    "np.savetxt(\"SEM/AA.S000000.BXY.adj\", adjoint_source)\n",
    "! head SEM/AA.S000000.BXY.adj"
   ]
  },
  {
   "cell_type": "markdown",
   "id": "137539fe-a4ea-43de-a2dc-b5b9ba0efcee",
   "metadata": {},
   "source": [
    "### b) Run `xspecfem2D`\n",
    "\n",
    "- Now that we have the requisite setup in the `Par_file`, and the `SEM/` directory with the `.adj` adjoint source files, we can run the solver `xspecfem2D`. \n",
    "- We do **not** need to re-run the mesher as the adjoint simulations will run on the **same** numerical mesh that we used for our solver."
   ]
  },
  {
   "cell_type": "code",
   "execution_count": null,
   "id": "b904ad4d-74fb-440c-9d82-69dad200e348",
   "metadata": {},
   "outputs": [],
   "source": [
    "! mpirun -n 1 bin/xspecfem2D > OUTPUT_FILES/output_adjsolver.txt"
   ]
  },
  {
   "cell_type": "code",
   "execution_count": null,
   "id": "eba9ff7a-655f-4ba3-a2d6-2e3c859aedfe",
   "metadata": {},
   "outputs": [],
   "source": [
    "# The adjoint solver also produces an informative log file\n",
    "! head OUTPUT_FILES/output_adjsolver.txt"
   ]
  },
  {
   "cell_type": "code",
   "execution_count": null,
   "id": "a57ce5c9-ddce-4aa9-9887-9a94436fae86",
   "metadata": {},
   "outputs": [],
   "source": [
    "# We can tell this is an adjoint simulation because SPECFEM considers adjoint sources\n",
    "! head -338 OUTPUT_FILES/output_adjsolver.txt | tail -n 5"
   ]
  },
  {
   "cell_type": "markdown",
   "id": "bbfb1bdb-bc04-455d-9f4e-3bcd6f1cbcba",
   "metadata": {},
   "source": [
    "### c) Understanding Adjoint Simulation Outputs\n",
    "\n",
    "- Adjoint simulations generate kernel files in the same format as the Databases and model files\n",
    "- Kernels are generated for each quantity that defines the model\n",
    "\n",
    "#### Misfit Kernels\n",
    "\n",
    "- The most important output of the adjoint simulation is the misfit kernel.\n",
    "- These files are named something like `proc*_alpha_kernel.bin`. \n",
    "- Kernels define the volumentric integration of the interaction between the forward wavefield and the adjoint wavefield. \n",
    "- We can look at the kernels for various quantities\n",
    "- Kernel name `alpha` corresponds to $V_p$ and `beta` corresponds to $V_s$. \n",
    "- Just to make these quantities more intuitive (and to play nice with SeisFlows), we'll rename these kernels."
   ]
  },
  {
   "cell_type": "code",
   "execution_count": null,
   "id": "e1196800-a0d3-47ea-8ad3-4266816e243b",
   "metadata": {},
   "outputs": [],
   "source": [
    "# Move the kernels so they don't get overwritten\n",
    "! mkdir KERNELS\n",
    "! cp -r DATA/*.bin KERNELS\n",
    "! cp OUTPUT_FILES/proc000000_alpha_kernel.bin KERNELS/proc000000_vp_kernel.bin \n",
    "! cp OUTPUT_FILES/proc000000_beta_kernel.bin KERNELS/proc000000_vs_kernel.bin "
   ]
  },
  {
   "cell_type": "code",
   "execution_count": null,
   "id": "020e8cd4-fd07-4eaa-a224-d5a7afeef6b6",
   "metadata": {},
   "outputs": [],
   "source": [
    "# Use SeisFlows to visualize the kernel\n",
    "m = Model(\"KERNELS\")\n",
    "m.plot2d(\"vs_kernel\", show=False)\n",
    "\n",
    "# Small code snippet to grab coordinates from SOURCE files\n",
    "source_file = f\"DATA/SOURCE\"\n",
    "with open(source_file, \"r\") as f:\n",
    "    lines = f.readlines()\n",
    "ev_x = float(lines[2].split(\"=\")[1].split(\"#\")[0].strip())\n",
    "ev_z = float(lines[3].split(\"=\")[1].split(\"#\")[0].strip())\n",
    "\n",
    "# Small code snippet to grab coordinates from STATIONS file\n",
    "sta_x, sta_z = np.genfromtxt(\"DATA/STATIONS\", dtype=float, usecols=[2, 3]).T\n",
    "\n",
    "# Plot source and receiver on the kernel figure\n",
    "plt.scatter(ev_x, ev_z, c=\"y\", marker=\"*\", s=200, edgecolor=\"k\")\n",
    "plt.scatter(sta_x, sta_z, c=\"c\", marker=\"v\", s=100, edgecolor=\"k\")"
   ]
  },
  {
   "cell_type": "markdown",
   "id": "ddcedba8-e5ae-477f-9385-6609b3196300",
   "metadata": {},
   "source": [
    "!!! TO DO Explain the kernel image above, !!!\n",
    "\n",
    "#### Adjoint Images\n",
    "\n",
    "- SPECFEM2D also produces adjoint images which document the adjoint wavefield.\n",
    "- These do not show the interaction, but rather adjoint source emanating from the receiver location\n",
    "- This adjoint wavefield interacts with the forward wavefield to generate the kernel we see above"
   ]
  },
  {
   "cell_type": "code",
   "execution_count": null,
   "id": "d0177239-51a8-4063-8241-a847ef7d5a48",
   "metadata": {},
   "outputs": [],
   "source": [
    "Image(\"OUTPUT_FILES/adjoint_image000000200.jpg\")"
   ]
  },
  {
   "cell_type": "code",
   "execution_count": null,
   "id": "7db8edeb-79c9-4cf3-9be5-47b567248dc5",
   "metadata": {},
   "outputs": [],
   "source": [
    "Image(\"OUTPUT_FILES/adjoint_image000000800.jpg\")"
   ]
  },
  {
   "cell_type": "markdown",
   "id": "8745913d-082f-48a1-9f41-1307b4bff930",
   "metadata": {},
   "source": [
    "## 4) Smoothing/Regularizing Kernels\n",
    "\n",
    "- The kernel above contains all the frequency content of the forward-adjoint wavefield interaction\n",
    "- There are many instances in which you might want to regularize a kernel\n",
    "- For example, if your data is band-limited, you may know that you don't have sensitivity to small-scale perturbations\n",
    "- Similarly, due to numerical discretization, areas around the source and receiver will have very large-amplitude, high-frequency kernels\n",
    "- It is often desired to smooth away these small-scale perturbations to get at large-scale structure\n",
    "- Similarly in seismolog, we band-limit data to focus in on certain length scales\n",
    "- We use the SPECFEM executable `xsmooth_sem` to convolve our kernel with a 2D Gaussian\n",
    "- We choose the X and Z half-widths of this Gaussian"
   ]
  },
  {
   "cell_type": "code",
   "execution_count": null,
   "id": "d1d6650a-1db2-44df-b76c-85eed4b92764",
   "metadata": {},
   "outputs": [],
   "source": [
    "# In order to smooth waveforms, we use `xsmooth_sem`. If we run without arguments, we get the USAGE\n",
    "! mpirun -n 1 bin/xsmooth_sem"
   ]
  },
  {
   "cell_type": "markdown",
   "id": "365a47c9-5787-44b6-acaf-934e067b707c",
   "metadata": {},
   "source": [
    " The usage of `xsmooth_sem` is given as\n",
    " ```bash\n",
    " USAGE:  mpirun -np NPROC bin/xsmooth_sem SIGMA_H SIGMA_V KERNEL_NAME INPUT_DIR OUPUT_DIR GPU_MODE\n",
    " ```\n",
    " We will need to choose values and directories to make this work\n",
    "  - `SIGMA_H`: Horizontal smoothing length [m] representing the horizontal half-width of the Gaussian  \n",
    "  - `SIGMA_Z`: Vertical smoothing length [m] representing the vertical half-width of the Gaussian  \n",
    "  - `KERNEL_NAME`: The name of the kernel we want to smooth. Must match filename, so `proc000000_vs_kernel.bin` will correspond to kernel name `vs_kernel`  \n",
    "  - `INPUT_DIR`: where SPECFEM can find the kernel files\n",
    "  - `OUTPUT_DIR`: Where SPECFEM should output the SMOOTHED kernels \n",
    "  - `GPU_MODE`: Use GPU acceleration to speed up the smoothing operation (.true. or .false.)"
   ]
  },
  {
   "cell_type": "code",
   "execution_count": null,
   "id": "f9f48abc-5cb2-43ab-a495-52b014f60562",
   "metadata": {},
   "outputs": [],
   "source": [
    "! mpirun -n 1 bin/xsmooth_sem 5000 5000 vs_kernel KERNELS/ KERNELS/ .false."
   ]
  },
  {
   "cell_type": "code",
   "execution_count": null,
   "id": "4be53dce-d39c-413d-b7ed-63cefe22a6f1",
   "metadata": {},
   "outputs": [],
   "source": [
    "# Smoothed kernels are renamed <KERNEL_NAMEL>_smooth\n",
    "! ls KERNELS\n",
    "\n",
    "# Rename kernel files so we can plot the smooth version with SeisFlows\n",
    "! mv KERNELS/proc000000_vs_kernel.bin KERNELS/proc000000_vs_kernel_raw.bin\n",
    "! mv KERNELS/proc000000_vs_kernel_smooth.bin KERNELS/proc000000_vs_kernel.bin\n",
    "\n",
    "# Use SeisFlows to visualize the kernel\n",
    "m = Model(\"KERNELS\")\n",
    "m.plot2d(\"vs_kernel\", show=False)\n",
    "\n",
    "# Plot source and receiver on the kernel figure\n",
    "plt.scatter(ev_x, ev_z, c=\"y\", marker=\"*\", s=200, edgecolor=\"k\")\n",
    "plt.scatter(sta_x, sta_z, c=\"c\", marker=\"v\", s=100, edgecolor=\"k\")"
   ]
  },
  {
   "cell_type": "markdown",
   "id": "dab78391-c2ce-40f2-ac8e-cd4321d61661",
   "metadata": {},
   "source": [
    "#### Comparing RAW and SMOOTHED kernels\n",
    "\n",
    "- We can compare the kernel above with the raw kernel we showed before\n",
    "- The amplitudes of the smoothed kernel are **smaller** than the raw kernel\n",
    "- The smoothed kernel looks visibly smoother\n",
    "- Much more of the domain in the smoothed kernel shows amplitude of 0"
   ]
  },
  {
   "cell_type": "markdown",
   "id": "7d6cf719-9182-43c7-9777-0244e7d047c1",
   "metadata": {},
   "source": [
    "## 5) Automating Adjoint Simulations with SeisFlows\n",
    "\n",
    "- SeisFlows allows us to automate the entire procedure we just performed manually. \n",
    "- We will use the same example to generate a misfit kernel\n",
    "- Because the actual example problem runs an entire inversion, we use the `stop_after` command to stop the inversion mid-workflow\n",
    "- The example problem will produce a smoothed misfit kernel"
   ]
  },
  {
   "cell_type": "code",
   "execution_count": null,
   "id": "ef84c9d0-37f3-44ec-b083-83ffd43345a8",
   "metadata": {},
   "outputs": [],
   "source": [
    "# make sure we're in an empty working directory\n",
    "! mkdir -p /home/scoped/work/day_2/sfexample_2\n",
    "%cd /home/scoped/work/day_2/sfexample_2\n",
    "\n",
    "# Run the example and stop after adjoint simulation\n",
    "! seisflows examples setup 2 -r /home/scoped/specfem2d --event_id 1 --nsta 1 --niter 1 --with_mpi\n",
    "! seisflows par stop_after evaluate_gradient_from_kernels\n",
    "! seisflows submit"
   ]
  },
  {
   "cell_type": "markdown",
   "id": "5f0bf3cd-9cdf-43e6-a0f7-7fecb52bee63",
   "metadata": {},
   "source": [
    "The previous example cell will be complete after you see the log message \n",
    "```bash\n",
    "2022-09-17 02:35:43 (I) | stop workflow at `stop_after`: evaluate_gradient_from_kernels\n",
    "```"
   ]
  },
  {
   "cell_type": "code",
   "execution_count": null,
   "id": "7f8445fd-a22d-4568-b33b-1a1d50b561c8",
   "metadata": {},
   "outputs": [],
   "source": [
    "# We can use SeisFlows to plot images of the models to confirm\n",
    "! seisflows plot2d MODEL_INIT vs --savefig m_init_vs.png\n",
    "Image(\"m_init_vs.png\")"
   ]
  },
  {
   "cell_type": "code",
   "execution_count": null,
   "id": "9204cf6d-342f-41ad-ac60-2f1943df4a38",
   "metadata": {},
   "outputs": [],
   "source": [
    "# Target Checkerboard model\n",
    "! seisflows plot2d MODEL_TRUE vs --savefig m_true_vs.png\n",
    "Image(\"m_true_vs.png\")"
   ]
  },
  {
   "cell_type": "code",
   "execution_count": null,
   "id": "135b1fc1-0b3b-44e2-9a39-aa3f61492def",
   "metadata": {},
   "outputs": [],
   "source": [
    "# Target Checkerboard model\n",
    "! seisflows plot2d GRADIENT_01 vs_kernel --savefig g_01_vs.png\n",
    "Image(\"g_01_vs.png\")"
   ]
  },
  {
   "cell_type": "markdown",
   "id": "cda3ee0f-6d44-4473-b563-0496914b463b",
   "metadata": {},
   "source": [
    "#### Understaing SeisFlows outputs\n",
    "\n",
    "- Model and kernel files are stored in the output/ directory\n",
    "- Within each solver directory we have run an adjoint simulation\n",
    "- You can see the adjoint sources stored in `scratch/solver/*/traces/adj`\n",
    "- Adjoint sources were created using a cross-correlation traveltime misfit (cc)\n",
    "- The misfit kernel was smoothed with a 5km x 5km Gaussian\n",
    "- We print parameters from the SeisFlows parameter file to show how these were controlled"
   ]
  },
  {
   "cell_type": "code",
   "execution_count": null,
   "id": "5cb11147-cf9a-4809-b0cb-2e7b2fa6101f",
   "metadata": {},
   "outputs": [],
   "source": [
    "# Model and gradient files in the output/ directory\n",
    "! ls output\n",
    "! echo \n",
    "! ls output/MODEL_INIT/\n",
    "! echo\n",
    "! ls output/GRADIENT_01"
   ]
  },
  {
   "cell_type": "code",
   "execution_count": null,
   "id": "6881a391-1c15-4056-86ca-15d3e5e33f36",
   "metadata": {},
   "outputs": [],
   "source": [
    "# Solver directories and their adjoint traces\n",
    "! ls scratch/solver/001\n",
    "! echo\n",
    "! ls scratch/solver/001/traces\n",
    "! echo\n",
    "! ls scratch/solver/001/traces/adj"
   ]
  },
  {
   "cell_type": "code",
   "execution_count": null,
   "id": "657a5de3-e51e-419d-b349-569adaac8926",
   "metadata": {},
   "outputs": [],
   "source": [
    "# SeisFlows parameters which controlled our adjoint simulation\n",
    "! seisflows par adj_src_type  # Adjoint Source Type\n",
    "! seisflows par smooth_h  # Horizontal Smoothing Length\n",
    "! seisflows par smooth_v  # Vertical Smoothing Length"
   ]
  }
 ],
 "metadata": {
  "kernelspec": {
   "display_name": "Python 3 (ipykernel)",
   "language": "python",
   "name": "python3"
  },
  "language_info": {
   "codemirror_mode": {
    "name": "ipython",
    "version": 3
   },
   "file_extension": ".py",
   "mimetype": "text/x-python",
   "name": "python",
   "nbconvert_exporter": "python",
   "pygments_lexer": "ipython3",
   "version": "3.10.6"
  }
 },
 "nbformat": 4,
 "nbformat_minor": 5
}
