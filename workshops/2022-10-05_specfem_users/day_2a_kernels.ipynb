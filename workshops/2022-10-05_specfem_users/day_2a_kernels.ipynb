{
 "cells": [
  {
   "cell_type": "markdown",
   "id": "347bc0f7-6dbe-454c-a95a-8469d8efe1c2",
   "metadata": {},
   "source": [
    "# SPECFEM Users Workshop -- Day 2 (Oct. 6, 2022)\n",
    "\n",
    "## Part 2: Kernels and Adjoint Simulations \n",
    "\n",
    "In this notebook we will build upon the [Day 1 (Forward Simulation)](https://github.com/adjtomo/adjdocs/blob/main/workshops/2022-10-05_specfem_users/day_1b_forward_simulations.ipynb) training to understand the construction of sensitivity kernels using adjoint simulations. These are key for performing seismic imaging as they can be used to guide iterative model updates during the inverse problem. We will introduce the concepts of misfit, adjoint sources, and kernels, as well as show Users how to perform adjoint simulations in SPECFEM2D.\n",
    "\n",
    "-----------\n",
    "\n",
    "### Relevant Information\n",
    "\n",
    ">__NOTE:__ These instructions should be run from inside the Docker container, using Jupyter Lab. The Docker container should have the adjTomo toolkit installed (SeisFlows, Pyatoa, PySEP), as well as SPECFEM2D and SPECEFM3D compiled with MPI. \n",
    "\n",
    "**Relevant Links:** \n",
    "- Day 2 Slides !!! ADD THIS !!!\n",
    "- [Today's Notebook](https://github.com/adjtomo/adjdocs/blob/main/workshops/2022-10-05_specfem_users/day_2a_kernels.ipynb)\n",
    "- Completed Notebook !!! ADD THIS !!!\n",
    "\n",
    "**Jupyter Quick Tips:**\n",
    "\n",
    "- **Run cells** one-by-one by hitting the $\\blacktriangleright$ button at the top, or by hitting `Shift + Enter`\n",
    "- **Run all cells** by hitting the $\\blacktriangleright\\blacktriangleright$ button at the top, or by running `Run -> Run All Cells`\n",
    "- **Currently running cells** that are still processing will have a `[*]` symbol next to them\n",
    "- **Finished cells** will have a `[1]` symbol next to them. The number inside the brackets represents what order this cell has been run in.\n",
    "- Commands that start with `!` are Bash commands (i.e., commands you would run from the terminal)\n",
    "- Commands that start with `%` are Jupyter Magic commands."
   ]
  },
  {
   "cell_type": "markdown",
   "id": "17fed39d-3309-4957-b254-66c67ca131be",
   "metadata": {},
   "source": [
    "## 1) Background\n",
    "\n",
    "!!! TO DO !!!\n",
    "Potential topics:\n",
    "- Misfit functions\n",
    "- Adjoint Sources\n",
    "- Sensitivity kernels\n",
    "- Misfit kernels "
   ]
  },
  {
   "cell_type": "markdown",
   "id": "c0acd55c-e9b3-4448-a327-ea23b797d6a5",
   "metadata": {},
   "source": [
    "## 2) Setting Up \n",
    "\n",
    "As with Day 1, we will want to set up a clean working directory to run SPECFEM2D inside. This will help us preserve our cloned repository and reduce file clutter.\n",
    "\n",
    ">__NOTE:__ We will be doing all our work in the directory /home/scoped/work_day_2. All the following cells assume that we are in this directory, so you must evaluate the '%cd' command to ensure that cells work as expected."
   ]
  },
  {
   "cell_type": "code",
   "execution_count": null,
   "id": "a7c386f6-0c75-4d44-b532-a1455eefd1cc",
   "metadata": {},
   "outputs": [],
   "source": [
    "! mkdir /home/scoped/work/day_2\n",
    "%cd /home/scoped/work/day_2"
   ]
  },
  {
   "cell_type": "code",
   "execution_count": null,
   "id": "ffb6873c-a114-4320-ad14-602f0030467f",
   "metadata": {},
   "outputs": [],
   "source": [
    "# Symlink the binary files, and copy the relevant DATA/ directory\n",
    "! ln -s /home/scoped/specfem2d/bin .\n",
    "! cp -r /home/scoped/specfem2d/EXAMPLES/Tape2007/DATA .\n",
    "! mkdir OUTPUT_FILES"
   ]
  },
  {
   "cell_type": "code",
   "execution_count": null,
   "id": "79b9ddce-b831-4840-bd71-8099f7efe952",
   "metadata": {},
   "outputs": [],
   "source": [
    "! ls"
   ]
  },
  {
   "cell_type": "markdown",
   "id": "e6404755-a37c-40bf-aab5-377f46f57e9d",
   "metadata": {},
   "source": [
    "### 2) Tape et al. 2007 Example\n",
    "\n",
    "As with Day 1, we will be working with an Example problem from the [Tape et al. 2007 GJI publication](https://academic.oup.com/gji/article/168/3/1105/929373), which pre-defines a starting model, seismic sources and station locations. \n",
    "\n",
    "We will be revisiting the homogeneous halfspace model we saw in Day 1, as well as using a perturbation checkerboard model which defines a smooth checkerboard with $\\pm$10\\% velocity perturbations, overlain ontop of the homogeneous halfspace model. In the following sections we will visualize these models to help illustrate the experiemental setup."
   ]
  },
  {
   "cell_type": "code",
   "execution_count": null,
   "id": "1a6f77cb-7fe9-4904-8b67-9c4cc01fa5c2",
   "metadata": {},
   "outputs": [],
   "source": [
    "! ls DATA/"
   ]
  },
  {
   "cell_type": "markdown",
   "id": "45306979-343e-4c4e-b789-883b68f9c13d",
   "metadata": {},
   "source": [
    "### a) The Homogeneous Halfspace Model\n",
    "\n",
    "The homogeneous halfspace model in this example is defined in the `Par_file`, on Line 255. You can use the `seisflows sempar velocity_model` command to look at its values. The homogeneous halfspace model defines a region with P-wave velocity 5.8km/s and S-wave velocity 3.5km/s. We will not explore the halfspace model in as much detail as Day 1, but we plot it here for reference."
   ]
  },
  {
   "cell_type": "code",
   "execution_count": null,
   "id": "428d2630-5fe9-496d-97bb-9b8d5415d5b8",
   "metadata": {},
   "outputs": [],
   "source": [
    "# Visualizing the homogeneous halfspace model\n",
    "import numpy as np\n",
    "import matplotlib.pyplot as plt\n",
    "\n",
    "\n",
    "def plot_homogeneous_halfspace():\n",
    "    \"\"\"Plots a representation of the SPECFEM2D homogeneous halfspace model\"\"\"\n",
    "    # Sets the X and Z dimensions of our mesh\n",
    "    x = np.arange(0, 480000, 4000)\n",
    "    z = np.arange(0, 480000, 4000)\n",
    "    \n",
    "    # Reformat the 1D arrays into 2D\n",
    "    xv, zv = np.meshgrid(x, z)\n",
    "\n",
    "    # Set a homogeneous value of Vs=3.5km/s \n",
    "    vs = 3.5 * np.ones(np.shape(xv))\n",
    "\n",
    "    # Plot the arrays as a homogeneous halfspace\n",
    "    plt.tricontourf(xv.flatten(), zv.flatten(), vs.flatten(), cmap=\"seismic_r\", vmin=3.1, vmax=4.)\n",
    "    plt.colorbar(label=\"Vs [km/s]\", format=\"%.1f\")\n",
    "    plt.title(\"2D Homogeneous Halfspace Model\\n Vs=3.5km/s\")\n",
    "    \n",
    "# Calls the function we just defined\n",
    "plot_homogeneous_halfspace()"
   ]
  },
  {
   "cell_type": "markdown",
   "id": "464ee1cf-0ad8-4c9e-834e-938e84aa7a40",
   "metadata": {},
   "source": [
    "### b) Perturbation Checkerboard Model\n",
    "\n",
    "This Example problem also defines a perturbation checkerboard, which features smoothly varying Gaussian checkers that perturb the homogeneous halfspace model ($V_s$ and $V_p$) by roughly $\\pm$10%.\n",
    "\n",
    "We can use Matplotlib and NumPy to help us visualize these a bit better. First we'll have a look at the checkerboard model data file, and then we'll plot it directly."
   ]
  },
  {
   "cell_type": "code",
   "execution_count": null,
   "id": "5cf42876-ffe6-4783-b93e-976e9bbe4a6d",
   "metadata": {},
   "outputs": [],
   "source": [
    "# The columns of the data file correspond to the following:\n",
    "# line_no x[m] z[m] density vp[m/s] vs[m/s]\n",
    "! head DATA/model_velocity.dat_checker"
   ]
  },
  {
   "cell_type": "code",
   "execution_count": null,
   "id": "5f482fac-e497-4c37-b64d-68060f5c357a",
   "metadata": {},
   "outputs": [],
   "source": [
    "import numpy as np\n",
    "import matplotlib.pyplot as plt\n",
    "\n",
    "# Only grabbing X, Z, Vs and Vp\n",
    "data = np.genfromtxt(\"DATA/model_velocity.dat_checker\", dtype=float, usecols=[1,2,4,5])\n",
    "chkbd_x, chkbd_z, chkbd_vp, chkbd_vs = data.T"
   ]
  },
  {
   "cell_type": "markdown",
   "id": "625c53ab-7ce3-4bf6-b2ee-11514d0bb929",
   "metadata": {},
   "source": [
    "# !!! NOTE THIS IS CURRENTLY BROKEN, WAITING ON PR 1151 (https://github.com/geodynamics/specfem2d/pull/1151) ON SPECFEM2D TO FIX !!!"
   ]
  },
  {
   "cell_type": "code",
   "execution_count": null,
   "id": "719c9fc7-d89d-4a4b-a7de-be9e68aaab4f",
   "metadata": {},
   "outputs": [],
   "source": [
    "# Plotting Vp\n",
    "plt.tricontourf(chkbd_x, chkbd_z, chkbd_vp, levels=125, cmap=\"seismic_r\")\n",
    "plt.xlabel(\"X [m]\")\n",
    "plt.ylabel(\"Z [m]\")\n",
    "plt.title(\"Checkerboard Vp [m/s]\")\n",
    "plt.colorbar()"
   ]
  },
  {
   "cell_type": "code",
   "execution_count": null,
   "id": "67bd7641-4128-4578-82c8-9dadfc31be41",
   "metadata": {},
   "outputs": [],
   "source": [
    "# Plotting Vs\n",
    "plt.tricontourf(chkbd_x, chkbd_z, chkbd_vs, levels=125, cmap=\"seismic_r\")\n",
    "plt.xlabel(\"X [m]\")\n",
    "plt.ylabel(\"Z [m]\")\n",
    "plt.title(\"Checkerboard Vs [m/s]\")\n",
    "plt.colorbar()"
   ]
  },
  {
   "cell_type": "markdown",
   "id": "7dbbfc22-a140-4160-87b0-bda887572f8f",
   "metadata": {},
   "source": [
    "### c) Visualizing Source-Receiver Geometry\n",
    "\n",
    "We can similarly plot the SOURCES and STATIONS available to see what the experiemental setup looks like with respect to the Checkerboard model. This is the same operation performed in Day 1."
   ]
  },
  {
   "cell_type": "code",
   "execution_count": null,
   "id": "5bc2d6a4-b8aa-4a9b-bfcb-37938915b492",
   "metadata": {},
   "outputs": [],
   "source": [
    "# Small code snippet to grab coordinates from STATIONS file\n",
    "sta_x, sta_z = np.genfromtxt(\"DATA/STATIONS_checker\", dtype=float, usecols=[2, 3]).T"
   ]
  },
  {
   "cell_type": "code",
   "execution_count": null,
   "id": "b771c1f0-d11f-4087-9206-f9e146857106",
   "metadata": {},
   "outputs": [],
   "source": [
    "# Small code snippet to grab coordinates from SOURCE files\n",
    "ev_x, ev_z = [], []\n",
    "for i in range(1, 26):\n",
    "    source_file = f\"DATA/SOURCE_{i:0>3}\"\n",
    "    with open(source_file, \"r\") as f:\n",
    "        lines = f.readlines()\n",
    "    # Trying to break apart the following line\n",
    "    # 'xs = 299367.72      # source location x in meters\\n'\n",
    "    xs = float(lines[2].split(\"=\")[1].split(\"#\")[0].strip())\n",
    "    zs = float(lines[3].split(\"=\")[1].split(\"#\")[0].strip())\n",
    "    \n",
    "    ev_x.append(xs)\n",
    "    ev_z.append(zs)"
   ]
  },
  {
   "cell_type": "code",
   "execution_count": null,
   "id": "9859aa1b-500c-4a82-b28e-e3b558a09a5c",
   "metadata": {},
   "outputs": [],
   "source": [
    "# Plot SOURCES and STATIONS together\n",
    "plt.tricontourf(chkbd_x, chkbd_z, chkbd_vs, levels=250, cmap=\"seismic_r\")\n",
    "plt.scatter(ev_x, ev_z, c=\"y\", marker=\"*\", s=100, edgecolor=\"k\")\n",
    "plt.scatter(sta_x, sta_z, c=\"c\", marker=\"v\", s=20, edgecolor=\"k\")\n",
    "plt.title(\"SOURCE-RECEIVER GEOMETRY\")"
   ]
  },
  {
   "cell_type": "code",
   "execution_count": null,
   "id": "b3fc21b9-2d3b-448e-894a-e5b24613b492",
   "metadata": {},
   "outputs": [],
   "source": [
    "# Plot SOURCES next to source names\n",
    "plt.tricontourf(chkbd_x, chkbd_z, chkbd_vs, levels=250, cmap=\"seismic_r\", alpha=0.1)\n",
    "for i, (x, z) in enumerate(zip(ev_x, ev_z)):\n",
    "    plt.scatter(x, z, c=\"y\", marker=\"*\", s=45)\n",
    "    plt.text(x, z, f\"{i:0>3}\")\n",
    "plt.title(\"SOURCES\")"
   ]
  },
  {
   "cell_type": "code",
   "execution_count": null,
   "id": "76bbb1fc-143b-465c-a602-fecf18db2577",
   "metadata": {
    "tags": []
   },
   "outputs": [],
   "source": [
    "# Plot SOURCES and STATIONS together. Annotate names\n",
    "plt.tricontourf(chkbd_x, chkbd_z, chkbd_vs, levels=250, cmap=\"seismic_r\", alpha=0.1)\n",
    "for i, (x, z) in enumerate(zip(sta_x, sta_z)):\n",
    "    plt.scatter(x, z, c=\"c\", marker=\"v\", s=8)\n",
    "    plt.text(x, z, f\"{i:0>3}\", fontsize=9)\n",
    "plt.title(\"STATIONS\")"
   ]
  },
  {
   "cell_type": "markdown",
   "id": "608f10cc-ec85-4ef3-af58-6d272595a6e7",
   "metadata": {},
   "source": [
    "In the above figures, the upside-down blue triangles represent the 132 receivers in this example, while the 25 yellow stars are the sources. Now that we are familiar with our experimental setup, we can run SPECFEM2D to generate synthetics."
   ]
  },
  {
   "cell_type": "markdown",
   "id": "311aa16b-ea8b-4e4d-963f-be0f2934befd",
   "metadata": {},
   "source": [
    "## 2) Setting up an Adjoint Simulation\n",
    "\n",
    "Sensitivity kernels show us what part of our model the waveform is sensitive to.  \n"
   ]
  },
  {
   "cell_type": "markdown",
   "id": "b4e4902b-4f80-4649-8310-239c09160b7c",
   "metadata": {},
   "source": [
    "### a) Generating 'Data' with a Target Model\n",
    "\n",
    "We will use the Checkerboard model shown above as a True or Target model. The Target model is used to generate synthetic waveforms that are meant to approximate real world data. In the case of a real seismic inversion, one would substitute these data with actual waveforms recorded during an earthquake. "
   ]
  },
  {
   "cell_type": "code",
   "execution_count": null,
   "id": "9ec242f2-3d0d-484d-a0b0-7d924148a2d6",
   "metadata": {},
   "outputs": [],
   "source": [
    "# Setting up the SPECFEM2D Par_file\n",
    "! ls DATA"
   ]
  },
  {
   "cell_type": "code",
   "execution_count": null,
   "id": "146304f3-04b0-4fce-ac4c-46b8f42c23d8",
   "metadata": {},
   "outputs": [],
   "source": [
    "# Choose your SOURCE here\n",
    "! cp DATA/SOURCE_001 DATA/SOURCE"
   ]
  },
  {
   "cell_type": "code",
   "execution_count": null,
   "id": "fb9ce0eb-949e-4c9e-9f00-f13e8eff749c",
   "metadata": {},
   "outputs": [],
   "source": [
    "# Write out a NEW stations file by choosing station numbers\n",
    "# Change the range, or write your own list to choose station values\n",
    "# e.g., STATION_CHOICE = [0, 1, 2, 3]\n",
    "\n",
    "STATION_NUMBER_CHOICE = range(0, 1) \n",
    "\n",
    "# Read the existing stations file\n",
    "stations = open(\"DATA/STATIONS_checker\", \"r\").readlines()\n",
    "\n",
    "# Write out only User defined stations\n",
    "with open(\"DATA/STATIONS\", \"w\") as f:\n",
    "    for i in STATION_NUMBER_CHOICE:\n",
    "        f.write(stations[i])"
   ]
  },
  {
   "cell_type": "code",
   "execution_count": null,
   "id": "883a5828-1d21-432c-9c2c-5f707a2fd897",
   "metadata": {},
   "outputs": [],
   "source": [
    "# Copy the Parameter file and make some adjustments \n",
    "! cp -f DATA/Par_file_Tape2007_132rec_checker DATA/Par_file\n",
    "\n",
    "! seisflows sempar -P DATA/Par_file NSTEP 5000  # to match the other Par_file\n",
    "! seisflows sempar -P DATA/Par_file save_model binary\n",
    "! seisflows sempar -P DATA/Par_file setup_with_binary_database 1\n",
    "\n",
    "# Ensure that SPECFEM can find the checkerboard model by naming it correctly\n",
    "! cp -f DATA/model_velocity.dat_checker DATA/proc000000_model_velocity.dat_input"
   ]
  },
  {
   "cell_type": "code",
   "execution_count": null,
   "id": "4413cd82-dc5c-4cfd-b0e7-58864b7cabaf",
   "metadata": {},
   "outputs": [],
   "source": [
    "# Run Meshfem and SPECFEM SPECFEM2D \n",
    "! mpirun -n 1 bin/xmeshfem2D > OUTPUT_FILES/output_mesher.txt\n",
    "! mpirun -n 1 bin/xspecfem2D > OUTPUT_FILES/output_solver.txt"
   ]
  },
  {
   "cell_type": "code",
   "execution_count": null,
   "id": "18456f55-3a27-4f76-8cd1-0e198e27b445",
   "metadata": {},
   "outputs": [],
   "source": [
    "# We can look at the 'Data' waveform using SeisFlows\n",
    "! ls OUTPUT_FILES/*semd\n",
    "! seisflows plotst OUTPUT_FILES/AA.S000000.BXY.semd --savefig AA.S000000.BXY.semd.png\n",
    "\n",
    "from IPython.display import Image\n",
    "Image(\"AA.S000000.BXY.semd.png\")"
   ]
  },
  {
   "cell_type": "code",
   "execution_count": null,
   "id": "8c19b505-e115-47b5-a833-8b69329f29df",
   "metadata": {},
   "outputs": [],
   "source": [
    "# Lets rename the OUTPUT_FILES so that our subsequent run doesn't overwrite files\n",
    "! mv OUTPUT_FILES OUTPUT_FILES_TRUE\n",
    "! mkdir OUTPUT_FILES"
   ]
  },
  {
   "cell_type": "markdown",
   "id": "718f2d5e-81fd-4990-9e3f-5688676f26ff",
   "metadata": {},
   "source": [
    "### b) Generating Synthetics using Initial Model\n",
    "\n",
    "Now we want to generate a synthetic waveform using our starting or initial model. In this example we will use the homogeneous halfspace model as our starting model in order to generate our synthetic waveform. We will use the SAME source and receivers as the Target model, to ensure that we can compare the waveforms generated.\n",
    "\n",
    "The idea here is that the waveform generated by the Target model and the waveform generated by the Initial model will be different, and the differences between these waveforms contains information about the differences in the models that created them (in this case, homogeneous halfspace versus checkerboard model)."
   ]
  },
  {
   "cell_type": "code",
   "execution_count": null,
   "id": "cb0af2b3-e758-45c8-8241-613c8e4f983d",
   "metadata": {},
   "outputs": [],
   "source": [
    "# The SOURCE and STATIONS files should remain the same,\n",
    "# we only want to tell SPECFEM to use the homogeneous halfspace model\n",
    "\n",
    "! cp -f DATA/Par_file_Tape2007_onerec DATA/Par_file\n",
    "\n",
    "! seisflows sempar -P DATA/Par_file use_existing_stations .true.\n",
    "! seisflows sempar -P DATA/Par_file save_model binary\n",
    "! seisflows sempar -P DATA/Par_file setup_with_binary_database 1\n",
    "! seisflows sempar -P DATA/Par_file save_forward .true."
   ]
  },
  {
   "cell_type": "code",
   "execution_count": null,
   "id": "deccb27a-16e3-45c1-8521-4f77fd35aced",
   "metadata": {},
   "outputs": [],
   "source": [
    "# Run SPECFEM with the homogeneous halfspace model, defined in the Par_file\n",
    "! mpirun -n 1 bin/xmeshfem2D > OUTPUT_FILES/output_mesher.txt\n",
    "! mpirun -n 1 bin/xspecfem2D > OUTPUT_FILES/output_solver.txt"
   ]
  },
  {
   "cell_type": "code",
   "execution_count": null,
   "id": "69c67556-4387-4213-9862-e2fb82ee3d6b",
   "metadata": {},
   "outputs": [],
   "source": [
    "# Again we can look at the waveform. We will compare in the next section\n",
    "! ls OUTPUT_FILES/*semd\n",
    "! seisflows plotst OUTPUT_FILES/AA.S000000.BXY.semd --savefig AA.S000000.BXY.semd.png\n",
    "\n",
    "Image(\"AA.S000000.BXY.semd.png\")"
   ]
  },
  {
   "cell_type": "code",
   "execution_count": null,
   "id": "fddc5907-683a-437e-be8f-4aaae47af31c",
   "metadata": {},
   "outputs": [],
   "source": [
    "! cp -r OUTPUT_FILES OUTPUT_FILES_INIT"
   ]
  },
  {
   "cell_type": "markdown",
   "id": "41daf896-6549-4a48-8875-ad2e30d2b15c",
   "metadata": {},
   "source": [
    "### c) Misfit Quantification and Adjoint Sources\n",
    "\n",
    "Let's start out by looking at the two waveforms together to see how they differ. We will end up using this waveform difference (a.k.a 'misfit') information."
   ]
  },
  {
   "cell_type": "code",
   "execution_count": null,
   "id": "d1aff025-1a19-427a-821c-22c463018518",
   "metadata": {},
   "outputs": [],
   "source": [
    "# Read in the two-column ASCII files using NumPy\n",
    "# t: time; d: data\n",
    "t_init, d_init = np.loadtxt(\"OUTPUT_FILES_INIT/AA.S000000.BXY.semd\").T\n",
    "t_true, d_true = np.loadtxt(\"OUTPUT_FILES_TRUE/AA.S000000.BXY.semd\").T\n",
    "\n",
    "# Plot both waveforms using Matplotlib\n",
    "plt.plot(t_init, d_init, c=\"r\", label=\"MODEL INIT; SYNTHETIC\")\n",
    "plt.plot(t_true, d_true, c=\"k\", label=\"MODEL TRUE; 'DATA'\")\n",
    "plt.xlabel(\"Time [s]\")\n",
    "plt.ylabel(\"Displacement [m]\")\n",
    "plt.legend()\n",
    "plt.show()"
   ]
  },
  {
   "cell_type": "markdown",
   "id": "100a9b97-4dcf-41ef-8d34-46dd56890691",
   "metadata": {},
   "source": [
    "From the figure above we can see that the `TRUE` synthetic shows a phase delay (negative time shift) with respect to the `INIT` synthetic. This makes sense if we look at the checkerboard model, which perturbs the initial model in a positive direction (i.e., the `TRUE` model is faster, with respect to the `INIT` model)."
   ]
  },
  {
   "cell_type": "markdown",
   "id": "eaabe551-1c95-4404-9857-ac37a52fb7e5",
   "metadata": {},
   "source": [
    "#### Misfit Quantification with Python\n",
    "\n",
    "!!! Modified from https://github.com/rdno/simple_2d_kernel/blob/main/Simple_Specfem2D_Kernel.ipynb !!!\n",
    "\n",
    "We want to quantify the misfit between the two seismograms. For this example problem we'll use a simple waveform misfit function, defined as:\n",
    "\n",
    "$ \\chi = \\frac{1}{2} \\int [d(t)-s(t)]^2 dt~, $\n",
    "\n",
    "Where d(t) is the time-dependent 'data' waveform (black trace above), and s(t) is the time-dependent 'synthetic' waveform (red trace above).\n",
    "We can therefore calculate the misfit using the data traces from above. In Python we will perform this integration using [Simpson's rule](https://docs.scipy.org/doc/scipy-0.14.0/reference/generated/scipy.integrate.simps.html)."
   ]
  },
  {
   "cell_type": "code",
   "execution_count": null,
   "id": "1846d3d8-f5f3-41a5-bd4a-a4613b72c8c9",
   "metadata": {},
   "outputs": [],
   "source": [
    "# Integrate using scipy\n",
    "from scipy.integrate import simps\n",
    "\n",
    "dt = t_true[1] - t_true[0]  # represents the time step, or `dt`\n",
    "misfit = 1/2 * simps((d_true - d_init)**2, dx=dt)\n",
    "print(f\"misfit=={misfit}\")"
   ]
  },
  {
   "cell_type": "markdown",
   "id": "69668b7b-aef7-4b55-b3a4-a24643362648",
   "metadata": {},
   "source": [
    "#### Adjoint Source with Python\n",
    "\n",
    "The adjoint source is a time-dependent measure of misfit, which is used to run adjoint simulations. The equation for the waveform-based adjoint source is given by:\n",
    "\n",
    "$f^\\dagger (t) = s(t) - d(t).$\n",
    "\n",
    "Pretty simple. We can calculate the adjoint source and plot it alongside our waveforms to visualize the time-dependent misfit between data and synthetic."
   ]
  },
  {
   "cell_type": "code",
   "execution_count": null,
   "id": "979e90b5-82a8-4151-b957-2759c5028ee3",
   "metadata": {},
   "outputs": [],
   "source": [
    "d_adj = d_init - d_true\n",
    "\n",
    "# Plot both waveforms using Matplotlib\n",
    "plt.plot(t_init, d_init, c=\"r\", label=\"MODEL INIT; SYNTHETIC\")\n",
    "plt.plot(t_true, d_true, c=\"k\", label=\"MODEL TRUE; 'DATA'\")\n",
    "plt.plot(t_init, d_adj, c=\"g\", label=\"ADJOINT SOURCE\")\n",
    "plt.xlabel(\"Time [s]\")\n",
    "plt.ylabel(\"Displacement [m]\")\n",
    "plt.xlim([50, 175])\n",
    "plt.legend()\n",
    "plt.show()"
   ]
  },
  {
   "cell_type": "markdown",
   "id": "4bb144a8-196d-48ab-9b39-841a2390cc47",
   "metadata": {},
   "source": [
    "We can see that the adjoint source is equal to 0 when the waveforms are the same, and peaks when the waveforms are the most different. "
   ]
  },
  {
   "cell_type": "markdown",
   "id": "0681f486-4af6-4efb-a9c3-56ae30c8c0ca",
   "metadata": {},
   "source": [
    "## 3) Running and Adjoint Simulation"
   ]
  },
  {
   "cell_type": "markdown",
   "id": "a6c71448-499a-4146-a11d-9bed084f6720",
   "metadata": {},
   "source": [
    "To run an adjoint simulation in SPECFEM2D, we need to make a few changes to the parameter file, and set up some directories so that `xspecfem2D` can find our adjoint source.\n",
    "\n",
    "!!! Some words on `save_forward` saving the last frame of the simulation !!!"
   ]
  },
  {
   "cell_type": "code",
   "execution_count": null,
   "id": "486eccc2-cf23-46a7-bc3f-3d08a741d400",
   "metadata": {},
   "outputs": [],
   "source": [
    "! seisflows sempar -P DATA/Par_file simulation_type 3\n",
    "! seisflows sempar -P DATA/Par_file save_ASCII_kernels .false."
   ]
  },
  {
   "cell_type": "markdown",
   "id": "ec4bf0d0-8acf-4904-a935-ed619148a5c7",
   "metadata": {},
   "source": [
    "### a) Writing Adjoint Sources\n",
    "\n",
    "**SPECFEM expects adjoint sources in a directory called `SEM/` with a specific format and filename** \n",
    "\n",
    "- These adjoint sources should be defined in the same way that the synthetics have been created. \n",
    "- Here that means two-column ASCII files where the time axis exactly matches the the synthetic outputs. \n",
    "- We can use Python to write this out in the correct location.\n",
    "- Filename must match synthetics, but with a `.adj` suffix; i.e., if synthetic is called `AA.S000000.BXY.semd`, corresponding adjoint source must be called `AA.S000000.BXY.adj`."
   ]
  },
  {
   "cell_type": "code",
   "execution_count": null,
   "id": "4698c2e8-8126-4e8e-8a99-06edc97dd3bd",
   "metadata": {},
   "outputs": [],
   "source": [
    "# Make the requisite SEM/ directory\n",
    "! mkdir SEM/\n",
    "\n",
    "# Generate the two-column (time, data) format required\n",
    "adjoint_source = np.vstack((t_init, d_adj)).T\n",
    "print(adjoint_source, \"\\n\")\n",
    "\n",
    "# Save the .adj file as an ASCII file\n",
    "np.savetxt(\"SEM/AA.S000000.BXY.adj\", adjoint_source)\n",
    "! head SEM/AA.S000000.BXY.adj"
   ]
  },
  {
   "cell_type": "markdown",
   "id": "137539fe-a4ea-43de-a2dc-b5b9ba0efcee",
   "metadata": {},
   "source": [
    "### b) Running an Adjoint Simulation\n",
    "\n",
    "Now that we have the requisite setup in the `Par_file`, and the `SEM/` directory with the `.adj` adjoint source files, we can run the solver `xspecfem2D`. We do **not** need to re-run the mesher as the adjoint simulations will run on the **same** numerical mesh that we used for our solver."
   ]
  },
  {
   "cell_type": "code",
   "execution_count": null,
   "id": "b904ad4d-74fb-440c-9d82-69dad200e348",
   "metadata": {},
   "outputs": [],
   "source": [
    "! mpirun -n 1 bin/xspecfem2D > OUTPUT_FILES/output_adjsolver.txt"
   ]
  },
  {
   "cell_type": "markdown",
   "id": "bbfb1bdb-bc04-455d-9f4e-3bcd6f1cbcba",
   "metadata": {},
   "source": [
    "### c) Understanding Adjoint Simulation Outputs\n",
    "\n",
    "!!! Explore the log file here !!!\n",
    "\n",
    "#### Misfit Kernels\n",
    "\n",
    "The most important output of the adjoint simulation is the misfit kernel. These files are named something like `proc*_alpha_kernel.bin`. These define the volumentric integration of the interaction between the forward wavefield and the adjoint wavefield. We can look at the kernels for the quantities alpha, which corresponds to $V_p$ and beta, which corresponds to $V_s$. Just to make these quantities more intuitive (and to play nice with SeisFlows), we'll rename these kernels."
   ]
  },
  {
   "cell_type": "code",
   "execution_count": null,
   "id": "e1196800-a0d3-47ea-8ad3-4266816e243b",
   "metadata": {},
   "outputs": [],
   "source": [
    "! mkdir MODEL\n",
    "! cp -r DATA/*bin MODEL\n",
    "! cp OUTPUT_FILES/proc000000_alpha_kernel.bin MODEL/proc000000_vp_kernel.bin \n",
    "! cp OUTPUT_FILES/proc000000_beta_kernel.bin MODEL/proc000000_vs_kernel.bin "
   ]
  },
  {
   "cell_type": "code",
   "execution_count": null,
   "id": "020e8cd4-fd07-4eaa-a224-d5a7afeef6b6",
   "metadata": {},
   "outputs": [],
   "source": [
    "\n",
    "from seisflows.tools.specfem import Model \n",
    "\n",
    "m = Model(\"MODEL\")\n",
    "m.plot2d(\"vs_kernel\")"
   ]
  },
  {
   "cell_type": "markdown",
   "id": "ddcedba8-e5ae-477f-9385-6609b3196300",
   "metadata": {},
   "source": [
    "#### Adjoint Images\n",
    "\n",
    "SPECFEM2D also produces adjoint images which document the adjoint wavefield."
   ]
  },
  {
   "cell_type": "code",
   "execution_count": null,
   "id": "d0177239-51a8-4063-8241-a847ef7d5a48",
   "metadata": {},
   "outputs": [],
   "source": [
    "Image(\"OUTPUT_FILES/adjoint_image000000200.jpg\")"
   ]
  },
  {
   "cell_type": "code",
   "execution_count": null,
   "id": "7db8edeb-79c9-4cf3-9be5-47b567248dc5",
   "metadata": {},
   "outputs": [],
   "source": [
    "Image(\"OUTPUT_FILES/adjoint_image000000800.jpg\")"
   ]
  },
  {
   "cell_type": "code",
   "execution_count": null,
   "id": "9cbec503-abcc-455b-98be-5510613ea471",
   "metadata": {},
   "outputs": [],
   "source": [
    "Image(\"OUTPUT_FILES/adjoint_image000001400.jpg\")"
   ]
  },
  {
   "cell_type": "markdown",
   "id": "7d6cf719-9182-43c7-9777-0244e7d047c1",
   "metadata": {},
   "source": [
    "## 4) Automating Kernels with SeisFlows\n",
    "\n",
    "SeisFlows allows us to automate this entire procedure. Using the same example, we can generate a misfit kernel"
   ]
  },
  {
   "cell_type": "code",
   "execution_count": null,
   "id": "ef84c9d0-37f3-44ec-b083-83ffd43345a8",
   "metadata": {},
   "outputs": [],
   "source": [
    "# make sure we're in an empty working directory\n",
    "! mkdir -p /home/scoped/work/day_2/sfexample_2\n",
    "%cd /home/scoped/work/day_2/sfexample_2\n",
    "\n",
    "# Run the example and stop after adjoint simulation\n",
    "! seisflows examples setup 2 -r /home/scoped/specfem2d --event_id 1 --nsta 1 --niter 1 --with_mpi\n",
    "! seisflows par stop_after evaluate_gradient_from_kernels\n",
    "! seisflows submit"
   ]
  },
  {
   "cell_type": "code",
   "execution_count": null,
   "id": "7f8445fd-a22d-4568-b33b-1a1d50b561c8",
   "metadata": {},
   "outputs": [],
   "source": [
    "! seisflows plot2d MODEL_INIT vs --savefig m_init_vs.png\n",
    "Image(\"m_init_vs.png\")"
   ]
  },
  {
   "cell_type": "code",
   "execution_count": null,
   "id": "9204cf6d-342f-41ad-ac60-2f1943df4a38",
   "metadata": {},
   "outputs": [],
   "source": [
    "! seisflows plot2d MODEL_TRUE vs --savefig m_true_vs.png\n",
    "Image(\"m_true_vs.png\")"
   ]
  },
  {
   "cell_type": "code",
   "execution_count": null,
   "id": "135b1fc1-0b3b-44e2-9a39-aa3f61492def",
   "metadata": {},
   "outputs": [],
   "source": [
    "! pwd"
   ]
  },
  {
   "cell_type": "code",
   "execution_count": null,
   "id": "e0fd6b06-83e8-4957-8421-bfcc0a919c21",
   "metadata": {},
   "outputs": [],
   "source": []
  }
 ],
 "metadata": {
  "kernelspec": {
   "display_name": "Python 3 (ipykernel)",
   "language": "python",
   "name": "python3"
  },
  "language_info": {
   "codemirror_mode": {
    "name": "ipython",
    "version": 3
   },
   "file_extension": ".py",
   "mimetype": "text/x-python",
   "name": "python",
   "nbconvert_exporter": "python",
   "pygments_lexer": "ipython3",
   "version": "3.10.6"
  }
 },
 "nbformat": 4,
 "nbformat_minor": 5
}
