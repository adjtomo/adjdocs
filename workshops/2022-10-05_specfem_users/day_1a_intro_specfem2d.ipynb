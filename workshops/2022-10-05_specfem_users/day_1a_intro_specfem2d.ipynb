{
 "cells": [
  {
   "cell_type": "markdown",
   "metadata": {},
   "source": [
    "# SPECFEM Users Workshop -- Day 1 (Oct. 5, 2022)\n",
    "\n",
    "## >> TO DO (ctrl + f `!!!`)\n",
    "1) Add link to google slides\n",
    "2) Background material (section 1)\n",
    "3) Analyze mesh parameter and interface file (section 3c)\n",
    "4) Analyze mesher log file (section 3d)\n",
    "5) Analyze solver log file (section 4)\n",
    "\n",
    "## Part 1A: Intro to SPECFEM2D\n",
    "\n",
    "- Day 1A notebook is meant to walk Users through an introduction to `SPECFEM2D`, which includes:\n",
    "    - navigating a SPECFEM2D working directory\n",
    "    - generating a 2D mesh with homogeneous halfspace model\n",
    "    - running forward simulations to generate synthetic seismograms. \n",
    "- We will note important files and key steps to take when running SPECFEM. \n",
    "- **Objective**: Understanding `SPECFEM2D` to help draw parallels with `SPECFEM3D` and better understand of how software like `SeisFlows` automates SPECFEM\n",
    "- These instructions should be run from inside the Docker container, using Jupyter Lab (see *Docker Preamble*). \n",
    "-----------\n",
    "\n",
    "\n",
    "**Relevant Links:** \n",
    "- Day 1 Slides: !!! ADD THIS !!!\n",
    "- Today's Notebook: https://github.com/adjtomo/adjdocs/blob/main/workshops/2022-10-05_specfem_users/day_1a_intro_specfem.ipynb)\n",
    "- Completed Notebook: https://github.com/adjtomo/adjdocs/blob/main/workshops/2022-10-05_specfem_users/completed_notebooks/day_1a_intro_specfem.ipynb\n",
    "- Day 0 Notebook (Container Testing): https://github.com/adjtomo/adjdocs/blob/main/workshops/2022-10-05_specfem_users/day_0_container_testing.ipynb\n",
    "- SPECFEM2D GitHub Repository: https://github.com/geodynamics/specfem2d/tree/devel\n",
    "- SPECFEM2D Manual: https://specfem2d.readthedocs.io/en/latest/\n",
    "\n",
    "**Jupyter Quick Tips:**\n",
    "\n",
    "- **Run cells** one-by-one by hitting the $\\blacktriangleright$ button at the top, or by hitting `Shift + Enter`\n",
    "- **Run all cells** by hitting the $\\blacktriangleright\\blacktriangleright$ button at the top, or by running `Run -> Run All Cells`\n",
    "- **Currently running cells** that are still processing will have a `[*]` symbol next to them\n",
    "- **Finished cells** will have a `[1]` symbol next to them. The number inside the brackets represents what order this cell has been run in.\n",
    "- Commands that start with `!` are Bash commands (i.e., commands you would run from the terminal)\n",
    "- Commands that start with `%` are Jupyter Magic commands.\n",
    "- To time a task, put a `%time` before the command (e.g., `%time ! ls`)\n"
   ]
  },
  {
   "cell_type": "markdown",
   "metadata": {},
   "source": [
    "## 1) Background !!! TODO !!!\n",
    "\n",
    "\n",
    "Potential topics: \n",
    "- Seismic waveforms\n",
    "- Numerical modeling\n",
    "- Spectral element method\n",
    "- Meshes"
   ]
  },
  {
   "cell_type": "markdown",
   "metadata": {},
   "source": [
    "## 2) SPECFEM2D Directory Tour\n",
    "\n",
    "- In this section we will tour around the SPECFEM2D repository, which is located in `/home/scoped/specfem2d`.  \n",
    "- **Note** that this directory will not exactly match a directory you clone from GitHub because we have removed a number of large files and directories in order to keep the size of this container reasonable.\n",
    "- The `devel` branch of all SPECFEM versions contains the most up to date codebase"
   ]
  },
  {
   "cell_type": "code",
   "execution_count": null,
   "metadata": {},
   "outputs": [],
   "source": [
    "import numpy as np\n",
    "import matplotlib.pyplot as plt \n",
    "from IPython.display import Image\n",
    "from seisflows.tools.specfem import Model\n",
    "\n",
    "%cd /home/scoped/specfem2d"
   ]
  },
  {
   "cell_type": "markdown",
   "metadata": {},
   "source": [
    "### a) Binary Executables in *bin/* directory\n",
    "\n",
    "- In this workshop container, we have already downloaded (git clone), configured (choosing compilers and compiler options) and compiled (make all) SPECFEM2D.  \n",
    "- The binary executable files are located in the `bin/` directory. \n",
    "- Each of these executables performs a different function in the package."
   ]
  },
  {
   "cell_type": "code",
   "execution_count": null,
   "metadata": {},
   "outputs": [],
   "source": [
    "# Let's have a look at the executables\n",
    "! ls bin"
   ]
  },
  {
   "cell_type": "markdown",
   "metadata": {},
   "source": [
    "The two most important executables we will be using today are `xmeshfem2D` and `xspecfem2D`. \n",
    "- `xmeshfem2D`: used to generate our numerical mesh, the skeleton of the domain upon which we run our numerical simulations. \n",
    "- `xspecfem2D`: runs the spectral element solver, generating synthetic seismograms for a given source and set of stations.\n",
    "\n",
    "Some other important executables we will use in Day 2:\n",
    "- `xsmooth_sem`: smooths volumentric quantities by convolving them with a 2D Gaussian. Users can define the horizontal and vertical half-widths of the Gaussian.\n",
    "- `xcombine_sem`: combines multiple volumetric quantities, such as summing kernels to form the gradient."
   ]
  },
  {
   "cell_type": "markdown",
   "metadata": {},
   "source": [
    "### b) Metadata in *DATA/* directory\n",
    "\n",
    "- Data that the User will provide to SPECFEM should be stored in the *DATA/* directory. \n",
    "- The most important files that we will concern ourselves with are the `Par_file`, `SOURCE` and `STATIONS` files.\n",
    "\n",
    "    `Par_file`: The parameter file which allows the User to adjust parameters for a given simulation  \n",
    "    `SOURCE`: Defines source characteristics (e.g., moment tensor, force). **NOTE**: SPECFEM2D and SPECFEM3D have a number of different types of available source files (e.g., SOURCE, FORCESOLUTION, CMTSOLUTION)  \n",
    "    `STATIONS`: Defines station codes and locations (either Cartesian or geographic). **NOTE**: In SPECFEM2D, station information may also be defined in the `Par_file`\n",
    "\n",
    "The following commands open these files for the SPECFEM2D example problem"
   ]
  },
  {
   "cell_type": "code",
   "execution_count": null,
   "metadata": {},
   "outputs": [],
   "source": [
    "# Look at the DATA/ directory\n",
    "! ls DATA"
   ]
  },
  {
   "cell_type": "code",
   "execution_count": null,
   "metadata": {},
   "outputs": [],
   "source": [
    "# Illustrates that the Par_file is an ASCII file with key-value pairs\n",
    "! head -38 DATA/Par_file"
   ]
  },
  {
   "cell_type": "code",
   "execution_count": null,
   "metadata": {},
   "outputs": [],
   "source": [
    "# The SPECFEM2D SOURCE file defines a 2D seismic source\n",
    "! cat DATA/SOURCE"
   ]
  },
  {
   "cell_type": "code",
   "execution_count": null,
   "metadata": {},
   "outputs": [],
   "source": [
    "# Sometimes in SPECFEM2D, the Par_file defines station information directly\n",
    "! head -194 DATA/Par_file | tail -n 16"
   ]
  },
  {
   "cell_type": "code",
   "execution_count": null,
   "metadata": {},
   "outputs": [],
   "source": [
    "# However, other examples may define station information using STATIONS files, which is formatted:\n",
    "# STATION NETWORK X[m] Z[m] burial[m] elevation[m]\n",
    "! head -5 EXAMPLES/Tape2007/DATA/STATIONS_checker"
   ]
  },
  {
   "cell_type": "markdown",
   "metadata": {},
   "source": [
    "### c) Results stored in *OUTPUT_FILES/* directory\n",
    "\n",
    "- Any outputs generated by SPECFEM will be stored in the `OUTPUT_FILES/` directory. \n",
    "- Outputs include log and error messages, synthetic seismograms, figures, and database files\n",
    "- Most executables will put their outputs here\n",
    "- **NOTE:** SPECFEM also maintains a DATABASE directory (typically called `DATABASES_MPI/`) which is used to store large database files containing the entire GLL mesh and model. This directory may be the same as `OUTPUT_FILES/`, or may be it's own separate directory."
   ]
  },
  {
   "cell_type": "code",
   "execution_count": null,
   "metadata": {},
   "outputs": [],
   "source": [
    "# Currently empty because we have not run any executables\n",
    "! ls OUTPUT_FILES"
   ]
  },
  {
   "cell_type": "markdown",
   "metadata": {},
   "source": [
    "## 3) Running the mesher `xmeshfem2D` \n",
    "\n",
    "- The first thing we need to do when approaching numerical simulations is to generate our numerical mesh. \n",
    "- There are multiple approaches to meshing, such as using external software like Trellis. \n",
    "- During this workshop we will use SPECFEM's internal meshing software, known as `Meshfem`.\n",
    "- We will use two terms to talk about meshing:  \n",
    "    - *MESH*: a numerical grid which defines coordinate points only (i.e., X and Z in 2D).  \n",
    "    - *MODEL*: parameter values (e.g., seismic velocity) approximating structure, assigned to locations on the MESH.  "
   ]
  },
  {
   "cell_type": "code",
   "execution_count": null,
   "metadata": {},
   "outputs": [],
   "source": [
    "%cd /home/scoped/specfem2d"
   ]
  },
  {
   "cell_type": "markdown",
   "metadata": {},
   "source": [
    "### a) Velocity Model Parameters\n",
    "\n",
    "- In SPECFEM2D, *mesh* and *model* parameters are defined in the `Par_file`.\n",
    "- There are various parameter options we can use to customize our mesher run.\n",
    "- The following parameter set allows us to read input values from the `Par_file`  \n",
    "    `NPROC`: defines the number of processors used to partition the *mesh*  \n",
    "    `MODEL`: set as 'default' which reads *model* parameters from `Par_file`  \n",
    "\n",
    ">__NOTE:__ In SPECFEM3D, mesh files are defined separate from the `Par_file` to provide more control over a 3D domain. These files are typically stored in `specfem3d/DATA/meshfem3D_files`."
   ]
  },
  {
   "cell_type": "code",
   "execution_count": null,
   "metadata": {},
   "outputs": [],
   "source": [
    "# Look at the definition of the model in the Par_file\n",
    "! head -273 DATA/Par_file | tail -n 34"
   ]
  },
  {
   "cell_type": "markdown",
   "metadata": {},
   "source": [
    "- In the output above we can see that our `Par_file` defines 4 separate regions, each with varying values for density and velocity.\n",
    "\n",
    "```bash\n",
    "REG - RHO   VP[m/s] VS[m/s]    - - QKAP QMU  - - - - -\n",
    "1 1 2700.d0 3000.d0 1732.051d0 0 0 9999 9999 0 0 0 0 0 0\n",
    "2 1 2500.d0 2700.d0 0 0 0 9999 9999 0 0 0 0 0 0\n",
    "3 1 2200.d0 2500.d0 1443.375d0 0 0 9999 9999 0 0 0 0 0 0\n",
    "4 1 2200.d0 2200.d0 1343.375d0 0 0 9999 9999 0 0 0 0 0 0\n",
    "```\n",
    "- These regions have **no** sense of space. They only represent material properties.\n",
    "- These regions will be assigned to parts of the *mesh* in the following section\n",
    "\n",
    "### b) Meshfem Parameters\n",
    "\n",
    "- The internal mesher has a set of parameters that allows Users to provide interfaces, geometry, absorbing boundary conditions.\n",
    "- These parameters allow a User to customize a 2D domain to fit their research problem\n",
    "- The *mesh* parameters also distribute *model* properties defined above, to specific parts of the mesh\n"
   ]
  },
  {
   "cell_type": "code",
   "execution_count": null,
   "metadata": {},
   "outputs": [],
   "source": [
    "! head -320 DATA/Par_file | tail -n 29"
   ]
  },
  {
   "cell_type": "code",
   "execution_count": null,
   "metadata": {},
   "outputs": [],
   "source": [
    "# Look at the `interfacesfile` which defines boundary interfaces \n",
    "! cat /home/scoped/specfem2d/EXAMPLES/simple_topography_and_also_a_simple_fluid_layer/DATA/interfaces_simple_topo_curved.dat"
   ]
  },
  {
   "cell_type": "markdown",
   "metadata": {},
   "source": [
    "!!! TO DO ANALYZE MESH PARAMETERS AND INTERFACE FILE !!!"
   ]
  },
  {
   "cell_type": "markdown",
   "metadata": {},
   "source": [
    "### c) Setting Up Meshfem\n",
    "\n",
    "- We need to set a few `Par_file` parameters to tell SPECFEM to output additional files that will facilitate understanding the outputs of `xmeshfem2D`.\n",
    "- We will use the `seisflows sempar` commmand to print and edit values from the SPECFEM2D `Par_file`. This is simply a convenience function but can be replaced by bash commands like 'cat' + 'awk', or by opening the `Par_file` with a text editor.\n",
    "\n",
    "\n",
    "The `sempar` (spectral element method parameter) command syntax is as follows\n",
    "```python\n",
    "seisflows sempar -P <Par_file> <key> <value:optional>\n",
    "```\n",
    "where <Par_file> is the path the SPECFEM `Par_file`, \\<key> represents a parameter in the par file (case-insensitive) and \\<value> is an optional parameter to overwrite an existing parameter. \n",
    "    "
   ]
  },
  {
   "cell_type": "code",
   "execution_count": null,
   "metadata": {},
   "outputs": [],
   "source": [
    "! seisflows sempar -P DATA/Par_file model\n",
    "! seisflows sempar -P DATA/Par_file nproc 4\n",
    "! seisflows sempar -P DATA/Par_file setup_with_binary_database 1\n",
    "! seisflows sempar -P DATA/Par_file save_model binary"
   ]
  },
  {
   "cell_type": "markdown",
   "metadata": {},
   "source": [
    "#### Meshfem Parameter Explanations\n",
    "\n",
    "`MODEL`: Must be 'default' to use the model defined in the `Par_file` (this is the default option)  \n",
    "`NPROC`: Number of MPI processes to run on. The mesh itself is partitioned into `NPROC` sections, each of which is provided to a separate processor.  \n",
    "`setup_with_binary_database`: Writes database files in binary format, whereas by default they are not saved  \n",
    "`SAVE_MODEL`: Write model files in Fortran `binary` format. As opposed to other formats like ASCII\n",
    "\n",
    "#### Database Files\n",
    "\n",
    "- Database files are files in which SPECFEM stores its internal representation of mesh and model\n",
    "- These can take on various formats but in this workshop we store them as Fortran binary files\n",
    "- SPECFEM3D operates in the same manner, storing mesh and model representations in DATABASE files"
   ]
  },
  {
   "cell_type": "markdown",
   "metadata": {},
   "source": [
    "### d) Run Meshfem Executable\n",
    "\n",
    "- This example problem is already set up to run, so we simply execute: `xmeshfem2D` \n",
    "- Under the hood, SPECFEM will look for relevant data in the *DATA/* directory\n",
    "- It then generates our numerical mesh in the *OUTPUT_FILES/* directory. \n",
    "- The *model* will not be output until we run the solver (`xspecfem2D`) later in the notebook\n",
    "- We run the problem with MPI on n=4 processors.\n",
    "- We also redirect the output to a log file so that we can take a look at different parts of it."
   ]
  },
  {
   "cell_type": "code",
   "execution_count": null,
   "metadata": {},
   "outputs": [],
   "source": [
    "! mpirun -n 4 bin/xmeshfem2D > OUTPUT_FILES/output_meshfem2d.txt"
   ]
  },
  {
   "cell_type": "code",
   "execution_count": null,
   "metadata": {},
   "outputs": [],
   "source": [
    "# The log file contains important information on how the mesher ran\n",
    "! head OUTPUT_FILES/output_meshfem2d.txt"
   ]
  },
  {
   "cell_type": "code",
   "execution_count": null,
   "metadata": {},
   "outputs": [],
   "source": [
    "# e.g., the mesher has created our STATIONS File\n",
    "! head -255 OUTPUT_FILES/output_meshfem2d.txt | tail -n 30"
   ]
  },
  {
   "cell_type": "code",
   "execution_count": null,
   "metadata": {},
   "outputs": [],
   "source": [
    "# The STATIONS file matches what the log file tells us \n",
    "! cat DATA/STATIONS"
   ]
  },
  {
   "cell_type": "markdown",
   "metadata": {},
   "source": [
    "!!! TODO Look at other parts of the output log file here !!!!"
   ]
  },
  {
   "cell_type": "code",
   "execution_count": null,
   "metadata": {},
   "outputs": [],
   "source": [
    "# Database files are stored in the OUTPUT_FILES/ directory as FORTRAN binary (.bin) files\n",
    "# The Database stores the internal definition of the numerical mesh\n",
    "! ls OUTPUT_FILES/Database*.bin"
   ]
  },
  {
   "cell_type": "markdown",
   "metadata": {},
   "source": [
    "## 4) Running the solver `xspecfem2D`\n",
    "\n",
    "- The Solver `xspecfem2D` will now take the Database files generated by `xmeshfem2D` and run a forward simulation \n",
    "- `xspecfem2D` uses the provided `SOURCE` and `STATIONS` files. \n",
    "- We will view some of the parameters to look at how the output synthetic seismograms are generated"
   ]
  },
  {
   "cell_type": "code",
   "execution_count": null,
   "metadata": {},
   "outputs": [],
   "source": [
    "%cd /home/scoped/specfem2d"
   ]
  },
  {
   "cell_type": "code",
   "execution_count": null,
   "metadata": {},
   "outputs": [],
   "source": [
    "# Look at the Solver-specific parameters\n",
    "! head -168 DATA/Par_file | tail -n 32"
   ]
  },
  {
   "cell_type": "markdown",
   "metadata": {},
   "source": [
    "### Important Solver Parameters\n",
    "\n",
    "`seismotype`: Sets the units of the output seismograms. This example outputs in units of 'displacement'  \n",
    "`USER_T0`: Defines when the earlist starting time is, prior to time step 0. This allows some zero padding before initiating the source, and is useful e.g., in cases where you have very short source-receiver distances  \n",
    "`save_ASCII_seismograms`: Outputs seismograms in two-column ASCII files."
   ]
  },
  {
   "cell_type": "code",
   "execution_count": null,
   "metadata": {},
   "outputs": [],
   "source": [
    "# Run the solver on 4 cores\n",
    "! mpirun -n 4 bin/xspecfem2D > OUTPUT_FILES/output_solver.txt"
   ]
  },
  {
   "cell_type": "code",
   "execution_count": null,
   "metadata": {},
   "outputs": [],
   "source": [
    "# Again, the log file contains important information on the process\n",
    "! head OUTPUT_FILES/output_solver.txt"
   ]
  },
  {
   "cell_type": "code",
   "execution_count": null,
   "metadata": {},
   "outputs": [],
   "source": [
    "# Mesh and Model parameters are assigned here\n",
    "! head -280 OUTPUT_FILES/output_solver.txt | tail -n 16"
   ]
  },
  {
   "cell_type": "code",
   "execution_count": null,
   "metadata": {},
   "outputs": [],
   "source": [
    "# During the simulation, the log file updates the User on progress\n",
    "! head -1023 OUTPUT_FILES/output_solver.txt | tail -n 33"
   ]
  },
  {
   "cell_type": "code",
   "execution_count": null,
   "metadata": {},
   "outputs": [],
   "source": [
    "# The solver writes out model files at the end of the simulation\n",
    "! head -1400 OUTPUT_FILES/output_solver.txt | tail -n 23"
   ]
  },
  {
   "cell_type": "markdown",
   "metadata": {},
   "source": [
    "!!! TODO Go through more of the solver log here !!!"
   ]
  },
  {
   "cell_type": "markdown",
   "metadata": {},
   "source": [
    "## 5) Understanding SPECFEM2D Output Files\n",
    "\n",
    "- `xspecfem2D` has created a plethora of results\n",
    "- We will have a look one by one to see what each of these files are, and how they can help us understand our simulation.\n",
    "\n",
    "### a) Velocity Model\n",
    "\n",
    "- `xspecfem2D` outputs the velocity model into the *DATA/* directory. \n",
    "- We can use some utility functions written into `SeisFlows` to plot this model to help us visualize our domain.\n",
    "- SPECFEM3D outputs velocity model files in `LOCAL_PATH` which is commonly `OUTPUT_FILES/DATABASES_MPI`\n",
    "- We'll use Python to visualize results from our simulation"
   ]
  },
  {
   "cell_type": "code",
   "execution_count": null,
   "metadata": {},
   "outputs": [],
   "source": [
    "%cd /home/scoped/specfem2d"
   ]
  },
  {
   "cell_type": "code",
   "execution_count": null,
   "metadata": {},
   "outputs": [],
   "source": [
    "# The .bin files define our velocity model\n",
    "! ls DATA/*bin"
   ]
  },
  {
   "cell_type": "code",
   "execution_count": null,
   "metadata": {},
   "outputs": [],
   "source": [
    "# Grab STATION coordinates by reading ACSII files\n",
    "sta_x, sta_z = np.genfromtxt(\"DATA/STATIONS\", dtype=float, usecols=[2, 3]).T\n",
    "sta_id = np.genfromtxt(\"DATA/STATIONS\", dtype=str, usecols=[0]).T\n",
    "\n",
    "# Grab SOURCE coordinates from SOURCE file\n",
    "source_file = f\"DATA/SOURCE\"\n",
    "with open(source_file, \"r\") as f:\n",
    "    lines = f.readlines()\n",
    "    \n",
    "# Trying to break apart the following line\n",
    "# 'xs = 299367.72      # source location x in meters\\n'\n",
    "ev_x = float(lines[2].split(\"=\")[1].split(\"#\")[0].strip())\n",
    "ev_z = float(lines[3].split(\"=\")[1].split(\"#\")[0].strip())"
   ]
  },
  {
   "cell_type": "code",
   "execution_count": null,
   "metadata": {},
   "outputs": [],
   "source": [
    "# We can use SeisFlows to plot this model in 2D as it knows hwo to read .bin files\n",
    "m = Model(path=\"DATA\")\n",
    "m.plot2d(parameter=\"vs\", show=False)\n",
    "\n",
    "# Plot SOURCE and STATIONS on top of the model\n",
    "for x_, z_, id_ in zip(sta_x, sta_z, sta_id):\n",
    "    plt.scatter(float(x_), float(z_), c=\"g\", marker=\"v\", ec=\"k\", s=50)\n",
    "    plt.text(x_, z_, id_)\n",
    "plt.scatter(ev_x, ev_z, c=\"y\", marker=\"*\", ec=\"k\", s=250)"
   ]
  },
  {
   "cell_type": "markdown",
   "metadata": {},
   "source": [
    "- Model above shows shear wave velocities (Vs) in a 2D domain\n",
    "- Our model is defined by 3 distinct layers. \n",
    "    - Top: from Z=3500m down to Z=2000m, features a moderate velocity with topography at the surface (Z>3000m). \n",
    "    - Middle: from Z=2000m down to Z=1000m shows a low velocity zone with a high-velocity column (turquoise square). \n",
    "    - Bottom: from Z=1000m to Z=0m, features a realtively fast velocity. \n",
    "- 22 Station locations (green triangles), along the top boundary, and in a 'borehole' below the event\n",
    "- 1 event, yellow star, colocated with station S0012\n",
    "- Each interface (topography and contact between layers), was defined in a file specified by `Par_file` parameter `interfacesfile`."
   ]
  },
  {
   "cell_type": "code",
   "execution_count": null,
   "metadata": {},
   "outputs": [],
   "source": [
    "# We can compare the interface file with the mesh above\n",
    "! head -39 EXAMPLES/simple_topography_and_also_a_simple_fluid_layer/DATA/interfaces_simple_topo_curved.dat | tail -n 34"
   ]
  },
  {
   "cell_type": "markdown",
   "metadata": {},
   "source": [
    "### b) Synthetic waveforms\n",
    "\n",
    "- During the simulation, `xspecfem2D` initiated the `SOURCE` file at time 0. \n",
    "- Over the course of the simulation, seismic waves propogated outward and were recorded at synthetic receiver locations defined by the `STATIONS` file. \n",
    "- Each `STATION` therefore has a corresponding synthetic seismogram located in the *OUTPUT_FILES/* directory.\n",
    "- We specified output in units of displacement with parameter `seismotype`, so our synthetics have the file extension `.semd`\n",
    "- Here, 'd' stands for displacement. Velocity seismograms would be extension'ed `.semv`, acceleration `.sema`. This is the same in SPECFEM3D\n",
    "- Synthetic waveforms can be generated in a variety of formats. For simplicity we have chosen to output our synthetics in ACSII format. These ASCII files are two columns, representing time and amplitude, respectively."
   ]
  },
  {
   "cell_type": "code",
   "execution_count": null,
   "metadata": {},
   "outputs": [],
   "source": [
    "# We have generated synthetics for each station location shown above\n",
    "! ls OUTPUT_FILES/*.semd"
   ]
  },
  {
   "cell_type": "code",
   "execution_count": null,
   "metadata": {},
   "outputs": [],
   "source": [
    "# The first 10 lines of a seismogram show the two-column (time, amplitude) format\n",
    "! head -10 OUTPUT_FILES/AA.S0001.BXX.semd"
   ]
  },
  {
   "cell_type": "code",
   "execution_count": null,
   "metadata": {},
   "outputs": [],
   "source": [
    "# We can easily plot these using NumPy and Matplotlib\n",
    "data = np.loadtxt(\"OUTPUT_FILES/AA.S0001.BXX.semd\", dtype=float)\n",
    "plt.plot(data[:,0], data[:,1], c=\"k\")\n",
    "plt.title(\"AA.S0001.BXX.semd\")\n",
    "plt.xlabel(\"Time [s]\")\n",
    "plt.ylabel(\"Displacement [m]\")"
   ]
  },
  {
   "cell_type": "code",
   "execution_count": null,
   "metadata": {},
   "outputs": [],
   "source": [
    "# SeisFlows also has a simple command line tool to plot seismograms using ObsPy\n",
    "! seisflows plotst OUTPUT_FILES/AA.S0001.BXX.semd --savefig AA.S0001.BXX.semd.png\n",
    "Image(\"AA.S0001.BXX.semd.png\")"
   ]
  },
  {
   "cell_type": "code",
   "execution_count": null,
   "metadata": {},
   "outputs": [],
   "source": [
    "# We can use PySEP's record section (RecSec) tool to plot SPECFEM2D synthetics\n",
    "# Because SPECFEM2D's SOURCE files don't contain origin time information, RecSec uses a dummy time\n",
    "! recsec --syn_path OUTPUT_FILES/ --cmtsolution DATA/SOURCE --stations DATA/STATIONS --cartesian --overwrite\n",
    "Image(\"record_section.png\")"
   ]
  },
  {
   "cell_type": "markdown",
   "metadata": {},
   "source": [
    "### c) SPECFEM2D Wavefield Snapshots \n",
    "\n",
    "- `xspecfem2D` generates snapshots of the forward wavefield. \n",
    "- These are automatically generated during a simulation as .jpg files\n",
    "- The `Par_file` parameter `NTSTEP_BETWEEN_OUTPUT_IMAGES` controls how often it generates figures during a simulation. \n",
    "- We can see below that `DT`=.0011, so we output images every 0.11s of simulation time. "
   ]
  },
  {
   "cell_type": "code",
   "execution_count": null,
   "metadata": {},
   "outputs": [],
   "source": [
    "# Use sempar to display parameter values\n",
    "! seisflows sempar -P DATA/Par_file ntstep_between_output_images\n",
    "! seisflows sempar -P DATA/Par_file dt"
   ]
  },
  {
   "cell_type": "code",
   "execution_count": null,
   "metadata": {},
   "outputs": [],
   "source": [
    "# Wavefield snapshots every 100 time steps\n",
    "! ls OUTPUT_FILES/*.jpg"
   ]
  },
  {
   "cell_type": "code",
   "execution_count": null,
   "metadata": {},
   "outputs": [],
   "source": [
    "# Forward wavefield at NSTEP=100, T=.11s\n",
    "Image(\"OUTPUT_FILES/forward_image000000100.jpg\")"
   ]
  },
  {
   "cell_type": "code",
   "execution_count": null,
   "metadata": {},
   "outputs": [],
   "source": [
    "# Forward wavefield at NSTEP=400, T=.44s\n",
    "Image(\"OUTPUT_FILES/forward_image000000400.jpg\")"
   ]
  },
  {
   "cell_type": "code",
   "execution_count": null,
   "metadata": {},
   "outputs": [],
   "source": [
    "# Forward wavefield at NSTEP=700, T=.77s\n",
    "Image(\"OUTPUT_FILES/forward_image000000700.jpg\")"
   ]
  },
  {
   "cell_type": "markdown",
   "metadata": {},
   "source": [
    "## 6) Conclusions\n",
    "\n",
    "- In this notebook we explored SPECFEM2D, and learned to run the default example mesh generation and forward simulation.  \n",
    "- We took a look at the most important files required for a simulation, and how User's can manipulate various parameters and files to run their own simulations. \n",
    "- We had a look at the results of a SPECFEM2D simulation, including waveforms, models, and wavefield snapshots."
   ]
  }
 ],
 "metadata": {
  "kernelspec": {
   "display_name": "Python 3 (ipykernel)",
   "language": "python",
   "name": "python3"
  },
  "language_info": {
   "codemirror_mode": {
    "name": "ipython",
    "version": 3
   },
   "file_extension": ".py",
   "mimetype": "text/x-python",
   "name": "python",
   "nbconvert_exporter": "python",
   "pygments_lexer": "ipython3",
   "version": "3.10.6"
  }
 },
 "nbformat": 4,
 "nbformat_minor": 4
}
