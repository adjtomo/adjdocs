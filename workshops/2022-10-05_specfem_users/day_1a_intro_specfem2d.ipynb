{
 "cells": [
  {
   "cell_type": "markdown",
   "metadata": {},
   "source": [
    "# SPECFEM Users Workshop -- Day 1 (Oct. 5, 2022)\n",
    "\n",
    "## Part 1A: Intro to SPECFEM2D\n",
    "\n",
    "This notebook is meant to walk Users through an introduction to `SPECFEM2D`, from a) navigating a SPECFEM2D working directory, to b) generating a mesh, to c) running forward simulations. We make note of important files and steps to take when running forward simulations in SPECFEM. Background material is included to understand the task at hand. Understanding `SPECFEM2D` will help us draw parallels with `SPECFEM3D` in future notebooks. We will also use the information learned here to get a better understanding of how software like `SeisFlows` automate SPECFEM2D.\n",
    "\n",
    "-----------\n",
    "\n",
    "### Relevant Information\n",
    "\n",
    ">__NOTE:__ These instructions should be run from inside the Docker container, using Jupyter Lab. The Docker container should have the adjTomo toolkit installed (SeisFlows, Pyatoa, PySEP), as well as SPECFEM2D and SPECEFM3D compiled with MPI. \n",
    "\n",
    "**Relevant Links:** \n",
    "- Day 1 Slides !!! ADD THIS !!!\n",
    "- [Today's Notebook](https://github.com/adjtomo/adjdocs/blob/main/workshops/2022-10-05_specfem_users/day_1a_intro_specfem.ipynb)\n",
    "- Completed Notebook  !!! ADD THIS !!!\n",
    "\n",
    "**Jupyter Quick Tips:**\n",
    "\n",
    "- **Run cells** one-by-one by hitting the $\\blacktriangleright$ button at the top, or by hitting `Shift + Enter`\n",
    "- **Run all cells** by hitting the $\\blacktriangleright\\blacktriangleright$ button at the top, or by running `Run -> Run All Cells`\n",
    "- **Currently running cells** that are still processing will have a `[*]` symbol next to them\n",
    "- **Finished cells** will have a `[1]` symbol next to them. The number inside the brackets represents what order this cell has been run in.\n",
    "- Commands that start with `!` are Bash commands (i.e., commands you would run from the terminal)\n",
    "- Commands that start with `%` are Jupyter Magic commands.\n",
    "- To time a task, put a `%time` before the command (e.g., `%time ! ls`)\n"
   ]
  },
  {
   "cell_type": "markdown",
   "metadata": {},
   "source": [
    "## 1) Background !!! TODO !!!\n",
    "\n",
    "\n",
    "Potential topics: \n",
    "- Seismic waveforms\n",
    "- Numerical modeling\n",
    "- Spectral element method\n",
    "- Meshes\n"
   ]
  },
  {
   "cell_type": "markdown",
   "metadata": {},
   "source": [
    "## 2) SPECFEM2D Tour\n",
    "\n",
    ">__NOTE__: The `devel` branch of all SPECFEM versions contains the most up to date codebase\n",
    "\n",
    "- GitHub Repository: https://github.com/geodynamics/specfem2d/tree/devel\n",
    "- SPECFEM2D Manual: https://specfem2d.readthedocs.io/en/latest/"
   ]
  },
  {
   "cell_type": "code",
   "execution_count": null,
   "metadata": {},
   "outputs": [],
   "source": [
    "%cd /home/scoped/specfem2d"
   ]
  },
  {
   "cell_type": "markdown",
   "metadata": {},
   "source": [
    "### a) Binary Executables in *bin/* directory\n",
    "\n",
    "In this workshop container, we have already downloaded (git clone), configured (choosing compilers and compiler options) and compiled (make all) SPECFEM2D. The binary executable files are located in the `bin/` directory. Each of these executables performs a different function in the package."
   ]
  },
  {
   "cell_type": "code",
   "execution_count": null,
   "metadata": {},
   "outputs": [],
   "source": [
    "# Let's have a look at the executables\n",
    "! ls bin"
   ]
  },
  {
   "cell_type": "markdown",
   "metadata": {},
   "source": [
    "The two most important executables we will be using today are `xmeshfem2D` and `xspecfem2D`. \n",
    "- `xmeshfem2D` is used to generate our numerical mesh, the skeleton of the domain upon which we run our numerical simulations. \n",
    "- `xspecfem2D` runs the spectral element solver, generating synthetic seismograms for a given source and set of stations.\n",
    "\n",
    "Some other important executables we will use:\n",
    "- `xsmooth_sem` smooths models, gradients and kernels by convolving them with a 2D Gaussian. Users can define the horizontal and vertical half-widths of the Gaussian."
   ]
  },
  {
   "cell_type": "markdown",
   "metadata": {},
   "source": [
    "### b) Metadata in *DATA/* directory\n",
    "\n",
    "Data that the User will provide to SPECFEM should be stored in the *DATA/* directory. The most important files that we will concern ourselves with are the `Par_file`, `SOURCE` and `STATIONS` files.\n",
    "\n",
    "-`Par_file`: The parameter file which allows the User to adjust parameters for a given simulation  \n",
    "-`SOURCE`: Defines source characteristics (e.g., moment tensor, force). **NOTE**: SPECFEM2D and SPECFEM3D have a number of different types of available source files (e.g., SOURCE, FORCESOLUTION, CMTSOLUTION)  \n",
    "-`STATIONS`: Defines station codes and locations (either Cartesian or geographic). **NOTE**: Station information may also be defined in the `Par_file`\n",
    "\n",
    "The following commands open these files for the SPECFEM2D example problem"
   ]
  },
  {
   "cell_type": "code",
   "execution_count": null,
   "metadata": {},
   "outputs": [],
   "source": [
    "! ls DATA"
   ]
  },
  {
   "cell_type": "code",
   "execution_count": null,
   "metadata": {},
   "outputs": [],
   "source": [
    "! head -38 DATA/Par_file"
   ]
  },
  {
   "cell_type": "code",
   "execution_count": null,
   "metadata": {},
   "outputs": [],
   "source": [
    "! cat DATA/SOURCE"
   ]
  },
  {
   "cell_type": "code",
   "execution_count": null,
   "metadata": {},
   "outputs": [],
   "source": [
    "# In this example, the Par_file defines station information directly\n",
    "! head -194 DATA/Par_file | tail -n 16"
   ]
  },
  {
   "cell_type": "code",
   "execution_count": null,
   "metadata": {},
   "outputs": [],
   "source": [
    "# Other examples will define station information using STATIONS files\n",
    "! head -5 EXAMPLES/Tape2007/DATA/STATIONS_checker"
   ]
  },
  {
   "cell_type": "markdown",
   "metadata": {},
   "source": [
    "### c) Results stored in *OUTPUT_FILES/* directory\n",
    "\n",
    "Any outputs generated by SPECFEM will be stored in the `OUTPUT_FILES/` directory. These include log and error messages, synthetic seismograms, figures, and output files of one executable that may be required by another.\n",
    "\n",
    ">__NOTE__: SPECFEM also maintains a DATABASE directory (typically called `DATABASES_MPI/`) which is used to store large database files containing the entire GLL mesh and model, as well as intermediate files such as the saved forward wavefield. This directory may be the same as `OUTPUT_FILES/`, or may be it's own separate directory."
   ]
  },
  {
   "cell_type": "code",
   "execution_count": null,
   "metadata": {},
   "outputs": [],
   "source": [
    "# Currently empty because we have not run any executables\n",
    "! ls OUTPUT_FILES"
   ]
  },
  {
   "cell_type": "markdown",
   "metadata": {},
   "source": [
    "## 3) Running the mesher `xmeshfem2D` \n",
    "\n",
    "The first thing we need to do when approaching numerical simulations is to generate our numerical mesh. There are multiple approaches to meshing, such as using external software such as Trellis. During this workshop we will use SPECFEM's internal meshing software, known as `Meshfem`.\n",
    "\n",
    "### a) Velocity Model Parameters\n",
    "\n",
    "In SPECFEM2D, mesh parameters are defined in the `Par_file`. There are various parameter options we can use to customize our mesher run. The following parameter set allows us to read input values from the `Par_file`\n",
    "\n",
    "`NPROC`: defines the number of processors used to partition the mesh  \n",
    "`MODEL`=default:  \n",
    "\n",
    ">__NOTE:__ In SPECFEM3D, Meshfem files are defined separately to provide more control over a 3D domain. These files are typically stored in `specfem3d/DATA/meshfem3D_files`. We will look at these later in the notebook."
   ]
  },
  {
   "cell_type": "code",
   "execution_count": null,
   "metadata": {},
   "outputs": [],
   "source": [
    "! head -273 DATA/Par_file | tail -n 34"
   ]
  },
  {
   "cell_type": "markdown",
   "metadata": {},
   "source": [
    "In the output above we can see that our `Par_file` defines 4 separate material parameters, each with varying values for density and velocity. \n",
    "\n",
    "### b) Internal Mesher Parameters\n",
    "\n",
    "The internal mesher also has another set of parameters that allows Users to provide interfaces, geometry, absorbing boundary conditions. These parameters are also used to distribute the material properties defined above, to specific regions of the mesh\n"
   ]
  },
  {
   "cell_type": "code",
   "execution_count": null,
   "metadata": {},
   "outputs": [],
   "source": [
    "! head -320 DATA/Par_file | tail -n 29"
   ]
  },
  {
   "cell_type": "markdown",
   "metadata": {},
   "source": [
    "### c) Setting Parameters\n",
    "\n",
    "We will set a few `Par_file` parameters to tell SPECFEM to output a few additional files that will facilitate understanding the outputs of `xmeshfem2D`.\n",
    "\n",
    ">__NOTE:__ We will use the `seisflows sempar` commmand to print and edit values from the SPECFEM2D `Par_file`. This is simply a convenience function but can be replaced by bash commands like 'cat' + 'awk', or by opening the `Par_file` with a text editor."
   ]
  },
  {
   "cell_type": "code",
   "execution_count": null,
   "metadata": {},
   "outputs": [],
   "source": [
    "# seisflows sempar -P ${Par_file} {key} {value:optional}\n",
    "! seisflows sempar -P DATA/Par_file model\n",
    "! seisflows sempar -P DATA/Par_file setup_with_binary_database 1\n",
    "! seisflows sempar -P DATA/Par_file save_model binary"
   ]
  },
  {
   "cell_type": "markdown",
   "metadata": {},
   "source": [
    "-------------\n",
    "Explanations of the changes we are made include:\n",
    "\n",
    "`MODEL`: Must be 'default' to use the model defined in the `Par_file` (default option)  \n",
    "`setup_with_binary_database`: Writes database files in binary format   \n",
    "`SAVE_MODEL`: Write model files in binary format  "
   ]
  },
  {
   "cell_type": "markdown",
   "metadata": {},
   "source": [
    "### d) Run Meshfem Executable\n",
    "\n",
    "Becuse this example problem is already set up for us, we can simply run the executable. `xmeshfem2D` will look for relevant data in the *DATA/* directory, and generate our numerical mesh, and model, in the *OUTPUT_FILES/* directory. \n",
    "\n",
    ">__NOTE__: WE will use MPI to run the executable, but set `-n=1` to specify that this is a serial task. We also redirect the output to a log file so that we can take a look at different parts of it."
   ]
  },
  {
   "cell_type": "code",
   "execution_count": null,
   "metadata": {},
   "outputs": [],
   "source": [
    "# The Par_file NPROC parameter must match the `-n` flag for MPI\n",
    "! seisflows sempar -P DATA/Par_file nproc"
   ]
  },
  {
   "cell_type": "code",
   "execution_count": null,
   "metadata": {},
   "outputs": [],
   "source": [
    "! mpirun -n 1 bin/xmeshfem2D > OUTPUT_FILES/output_meshfem2d.txt"
   ]
  },
  {
   "cell_type": "code",
   "execution_count": null,
   "metadata": {},
   "outputs": [],
   "source": [
    "! ls OUTPUT_FILES"
   ]
  },
  {
   "cell_type": "code",
   "execution_count": null,
   "metadata": {},
   "outputs": [],
   "source": [
    "# We can see that `xmeshfem2D` has created a STATIONS file for us\n",
    "! ls DATA/"
   ]
  },
  {
   "cell_type": "code",
   "execution_count": null,
   "metadata": {},
   "outputs": [],
   "source": [
    "! cat DATA/STATIONS"
   ]
  },
  {
   "cell_type": "markdown",
   "metadata": {},
   "source": [
    "!!! Look at the output log file here !!!!"
   ]
  },
  {
   "cell_type": "markdown",
   "metadata": {},
   "source": [
    "### 4) Running the solver `xspecfem2D`\n",
    "\n",
    "The Solver `xspecfem2D` will now take the Database files generated by `xmeshfem2D` and run a forward simulation using the provided `SOURCE` and `STATIONS` files. The following set of parameters controls how the output synthetic seismograms are generated"
   ]
  },
  {
   "cell_type": "code",
   "execution_count": null,
   "metadata": {},
   "outputs": [],
   "source": [
    "! head -168 DATA/Par_file | tail -n 32"
   ]
  },
  {
   "cell_type": "markdown",
   "metadata": {},
   "source": [
    "Some of the more important parameters explained are:\n",
    "\n",
    "`seismotype`: Sets the units of the output seismograms. This example outputs in units of 'displacement'  \n",
    "`USER_T0`: Defines when the earlist starting time is, prior to time step 0. This allows some zero padding before initiating the source, and is useful e.g., in cases where you have very short source-receiver distances  \n",
    "`save_ASCII_seismograms`: Outputs seismograms in two-column ASCII files. Useful for quick plotting"
   ]
  },
  {
   "cell_type": "code",
   "execution_count": null,
   "metadata": {},
   "outputs": [],
   "source": [
    "! mpirun -n 4 bin/xspecfem2D > OUTPUT_FILES/output_solver.txt"
   ]
  },
  {
   "cell_type": "code",
   "execution_count": null,
   "metadata": {},
   "outputs": [],
   "source": [
    "! ls OUTPUT_FILES"
   ]
  },
  {
   "cell_type": "markdown",
   "metadata": {},
   "source": [
    "!!! Go through the solver log here !!!"
   ]
  },
  {
   "cell_type": "markdown",
   "metadata": {},
   "source": [
    "### 5) Understanding SPECFEM2D Output Files\n",
    "\n",
    "The `xspecfem2D` file has created a plethora of results! Let's have a look one by one to see what each of these files are, and how they can help us understand our simulation.\n",
    "\n",
    "#### a) Velocity Model\n",
    "\n",
    "`xspecfem2D` outputs the velocity model into the *DATA/* directory. We can use some utility functions written into `SeisFlows` to plot this model to help us visualize our domain."
   ]
  },
  {
   "cell_type": "code",
   "execution_count": null,
   "metadata": {},
   "outputs": [],
   "source": [
    "# The .bin files define our velocity model\n",
    "! ls DATA/*bin"
   ]
  },
  {
   "cell_type": "code",
   "execution_count": null,
   "metadata": {},
   "outputs": [],
   "source": [
    "# We can use SeisFlows to plot this model\n",
    "from seisflows.tools.specfem import Model\n",
    "\n",
    "m = Model(path=\"DATA\")\n",
    "m.plot2d(parameter=\"vs\")"
   ]
  },
  {
   "cell_type": "markdown",
   "metadata": {},
   "source": [
    "From the model figure above, which shows shear wave velocities in a 2D domain, we can see that our model is defined by 3 distinct layers. The top layer, from Z=3500m down to Z=2000m, features a moderate velocity with topography at the surface (Z>3000m). The middle layer, from Z=2000m down to Z=1000m shows a low velocity zone with a high-velocity column (turquoise square). Finally, the bottom layer, from Z=1000m to Z=0m, features a realtively fast velocity. \n",
    "\n",
    "Each interface (topography and contact between layers), was defined in a file specified by `Par_file` parameter `interfacesfile`."
   ]
  },
  {
   "cell_type": "code",
   "execution_count": null,
   "metadata": {},
   "outputs": [],
   "source": [
    "! seisflows sempar -P DATA/Par_file interfacesfile"
   ]
  },
  {
   "cell_type": "code",
   "execution_count": null,
   "metadata": {},
   "outputs": [],
   "source": [
    "! cat EXAMPLES/simple_topography_and_also_a_simple_fluid_layer/DATA/interfaces_simple_topo_curved.dat"
   ]
  },
  {
   "cell_type": "markdown",
   "metadata": {},
   "source": [
    "### b) Synthetic waveforms\n",
    "\n",
    "During the simulation, `xspecfem2D` initiated the `SOURCE` file at time 0. Over the course of the simulation, seismic waves propogated outward and were recorded at synthetic receiver locations defined by the `STATIONS` file. Each `STATION` therefore has a corresponding synthetic seismogram located in the *OUTPUT_FILES/* directory.\n",
    "\n",
    ">__NOTE:__ Because we specified that we wanted displacement seismograms with `Par_file` parameter `seismotype`, our synthetics have the file extension `.semd`, where 'd' stands for displacement. Velocity seismograms would be extension'ed `.semv`."
   ]
  },
  {
   "cell_type": "code",
   "execution_count": null,
   "metadata": {},
   "outputs": [],
   "source": [
    "! ls OUTPUT_FILES/*.semd"
   ]
  },
  {
   "cell_type": "markdown",
   "metadata": {},
   "source": [
    "Synthetic waveforms can be generated in a variety of formats. For simplicity we have chosen to output our synthetics in ACSII format. These ASCII files are two columns, representing time and amplitude, respectively."
   ]
  },
  {
   "cell_type": "code",
   "execution_count": null,
   "metadata": {},
   "outputs": [],
   "source": [
    "# The first 10 lines of a seismogram\n",
    "! head -10 OUTPUT_FILES/AA.S0001.BXX.semd"
   ]
  },
  {
   "cell_type": "code",
   "execution_count": null,
   "metadata": {},
   "outputs": [],
   "source": [
    "# We can easily plot these using NumPy and Matplotlib\n",
    "import numpy as np\n",
    "import matplotlib.pyplot as plt\n",
    "\n",
    "data = np.loadtxt(\"OUTPUT_FILES/AA.S0001.BXX.semd\", dtype=float)\n",
    "plt.plot(data[:,0], data[:,1], c=\"k\")\n",
    "plt.title(\"AA.S0001.BXX.semd\")\n",
    "plt.xlabel(\"Time [s]\")\n",
    "plt.ylabel(\"Displacement [m]\")"
   ]
  },
  {
   "cell_type": "code",
   "execution_count": null,
   "metadata": {},
   "outputs": [],
   "source": [
    "# SeisFlows also has a simple command line tool to plot seismograms using ObsPy\n",
    "! seisflows plotst OUTPUT_FILES/AA.S0001.BXX.semd --savefig AA.S0001.BXX.semd.png"
   ]
  },
  {
   "cell_type": "code",
   "execution_count": null,
   "metadata": {},
   "outputs": [],
   "source": [
    "# We need to use IPython to visualize these figures in the notebook\n",
    "from IPython.display import Image\n",
    "Image(\"AA.S0001.BXX.semd.png\")"
   ]
  },
  {
   "cell_type": "code",
   "execution_count": null,
   "metadata": {},
   "outputs": [],
   "source": [
    "# We can use wildcards to plot multiple waveforms at once\n",
    "! seisflows plotst OUTPUT_FILES/AA.S000?.BXX.semd --savefig AA.S000n.BXX.semd.png\n",
    "Image(\"AA.S000n.BXX.semd.png\")"
   ]
  },
  {
   "cell_type": "markdown",
   "metadata": {},
   "source": [
    "### c) SPECFEM2D Figures\n",
    "\n",
    "`xspecfem2D` also generates snapshots of the forward wavefield. These are automatically generated during a simulation as .jpg files. The `Par_file` parameter `NTSTEP_BETWEEN_OUTPUT_IMAGES` controls how often it generates figures during a simulation. We can see below that `DT`=.0011, so we output images every 0.11s of simulation time. "
   ]
  },
  {
   "cell_type": "code",
   "execution_count": null,
   "metadata": {},
   "outputs": [],
   "source": [
    "! seisflows sempar -P DATA/Par_file ntstep_between_output_images\n",
    "! seisflows sempar -P DATA/Par_file dt"
   ]
  },
  {
   "cell_type": "code",
   "execution_count": null,
   "metadata": {},
   "outputs": [],
   "source": [
    "! ls OUTPUT_FILES/*.jpg"
   ]
  },
  {
   "cell_type": "code",
   "execution_count": null,
   "metadata": {},
   "outputs": [],
   "source": [
    "# Forward wavefield at NSTEP=100, T=.11s\n",
    "Image(\"OUTPUT_FILES/forward_image000000100.jpg\")"
   ]
  },
  {
   "cell_type": "code",
   "execution_count": null,
   "metadata": {},
   "outputs": [],
   "source": [
    "# Forward wavefield at NSTEP=400, T=.44s\n",
    "Image(\"OUTPUT_FILES/forward_image000000400.jpg\")"
   ]
  },
  {
   "cell_type": "code",
   "execution_count": null,
   "metadata": {},
   "outputs": [],
   "source": [
    "# Forward wavefield at NSTEP=700, T=.77s\n",
    "Image(\"OUTPUT_FILES/forward_image000000700.jpg\")"
   ]
  },
  {
   "cell_type": "markdown",
   "metadata": {},
   "source": [
    "## 6) Conclusions\n",
    "\n",
    "In this notebook we explored SPECFEM2D, and learned to run the default example mesh generation and forward simulation. We took a look at the most important files required for a simulation, and how User's can manipulate various parameters and files to run their own simulations. Finally we had a look at the results of a SPECFEM2D simulation, including waveforms, models, and wavefield snapshots."
   ]
  }
 ],
 "metadata": {
  "kernelspec": {
   "display_name": "Python 3 (ipykernel)",
   "language": "python",
   "name": "python3"
  },
  "language_info": {
   "codemirror_mode": {
    "name": "ipython",
    "version": 3
   },
   "file_extension": ".py",
   "mimetype": "text/x-python",
   "name": "python",
   "nbconvert_exporter": "python",
   "pygments_lexer": "ipython3",
   "version": "3.10.6"
  }
 },
 "nbformat": 4,
 "nbformat_minor": 4
}
