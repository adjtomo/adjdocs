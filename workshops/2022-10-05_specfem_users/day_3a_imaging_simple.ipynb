{
 "cells": [
  {
   "cell_type": "markdown",
   "id": "347bc0f7-6dbe-454c-a95a-8469d8efe1c2",
   "metadata": {},
   "source": [
    "# SPECFEM Users Workshop -- Day 3 (Oct. 7, 2022)\n",
    "\n",
    "## Part 3A: Seismic Imaging (Simple)\n",
    "\n",
    "- In this notebook we will bring all of the previous material together run a seismic inversion to update a starting model   \n",
    "- **Objective**: Manually update a velocity model and assess change in misfit   \n",
    "- These instructions should be run from inside the Docker container, using Jupyter Lab (see *Docker Preamble* in Day 0)  \n",
    "\n",
    "-----------\n",
    "\n",
    "**Relevant Links:** \n",
    "- Today's Notebook: https://github.com/adjtomo/adjdocs/blob/main/workshops/2022-10-05_specfem_users/day_3a_imaging_simple.ipynb\n",
    "- Completed Notebook: https://github.com/adjtomo/adjdocs/blob/main/workshops/2022-10-05_specfem_users/completed_notebooks/day_3a_imaging_simple.ipynb\n",
    "- Day 0 Notebook (Container Testing): https://github.com/adjtomo/adjdocs/blob/main/workshops/2022-10-05_specfem_users/completed_notebooks/day_0_container_testing.ipynb\n",
    "- Day 1A Notebook (Intro SPECFEM): https://github.com/adjtomo/adjdocs/blob/main/workshops/2022-10-05_specfem_users/completed_notebooks/day_1a_intro_specfem2d.ipynb\n",
    "- Day 1B Notebook (Fwd. Simulations): https://github.com/adjtomo/adjdocs/blob/main/workshops/2022-10-05_specfem_users/completed_notebooks/day_1b_forward_simulations.ipynb\n",
    "- Day 2A Notebook (Adj. Simulations): https://github.com/adjtomo/adjdocs/blob/main/workshops/2022-10-05_specfem_users/completed_notebooks/day_2a_kernels.ipynb\n",
    "\n",
    "**Jupyter Quick Tips:**\n",
    "\n",
    "- **Run cells** one-by-one by hitting the $\\blacktriangleright$ button at the top, or by hitting `Shift + Enter`\n",
    "- **Run all cells** by hitting the $\\blacktriangleright\\blacktriangleright$ button at the top, or by running `Run -> Run All Cells`\n",
    "- **Currently running cells** that are still processing will have a `[*]` symbol next to them\n",
    "- **Finished cells** will have a `[1]` symbol next to them. The number inside the brackets represents what order this cell has been run in.\n",
    "- Commands that start with `!` are Bash commands (i.e., commands you would run from the terminal)\n",
    "- Commands that start with `%` are Jupyter Magic commands.\n"
   ]
  },
  {
   "cell_type": "markdown",
   "id": "c0acd55c-e9b3-4448-a327-ea23b797d6a5",
   "metadata": {},
   "source": [
    "## 1) Run a SeisFlows Example Problem\n",
    "\n",
    "- We will use SeisFlows to automate an inversion workflow **up to** kernel generation, to save time  \n",
    "- SeisFlows will run a forward simulation, calculate misfit, and run an adjoint simulation for one source and one receiver\n",
    "- *Starting model*: homogeneous halfspace / *Target model*: perturbation checkerboard.\n",
    "- **Objective**: Quickly generate an event kernel that we can use to manually update a 2D model  "
   ]
  },
  {
   "cell_type": "code",
   "execution_count": null,
   "id": "93bfc4ea-a94a-4d4d-9453-a7e11c0201d4",
   "metadata": {},
   "outputs": [],
   "source": [
    "# Required Python packages for today's notebook\n",
    "import os\n",
    "import shutil\n",
    "import numpy as np\n",
    "import matplotlib.pyplot as plt\n",
    "from glob import glob\n",
    "from IPython.display import Image\n",
    "from scipy.integrate import simps\n",
    "from seisflows.tools.specfem import Model, read_fortran_binary, write_fortran_binary"
   ]
  },
  {
   "cell_type": "code",
   "execution_count": null,
   "id": "a7c386f6-0c75-4d44-b532-a1455eefd1cc",
   "metadata": {},
   "outputs": [],
   "source": [
    "# Make sure we're in an empty working directory\n",
    "! mkdir -p /home/scoped/work/day_3/sfexample_2\n",
    "%cd /home/scoped/work/day_3/sfexample_2\n",
    "\n",
    "# Run the example and stop after adjoint simulation\n",
    "! seisflows examples setup 2 -r /home/scoped/specfem2d --event_id 1 --nsta 1 --niter 1 --with_mpi\n",
    "! seisflows par stop_after evaluate_gradient_from_kernels\n",
    "! seisflows submit"
   ]
  },
  {
   "cell_type": "markdown",
   "id": "60e6f223-1faa-4eb5-88c6-9f629dd65c2e",
   "metadata": {},
   "source": [
    "-----------\n",
    "\n",
    "You will know that this workflow has completed successfully after the final log message   \n",
    "\n",
    "```bash\n",
    "2022-09-16 19:57:07 (I) | stop workflow at `stop_after`: evaluate_gradient_from_kernels\n",
    "```"
   ]
  },
  {
   "cell_type": "markdown",
   "id": "1f670a96-8911-4e5a-8d0e-f81c0b8f3842",
   "metadata": {},
   "source": [
    "-----------\n",
    "## 2) Manually Update the Starting Model\n",
    "\n",
    "- SeisFlows has generated an event kernel for us  \n",
    "- To provide context we will first visualize the starting and target models, as well as the kernel generated\n",
    "- **Objective**: Use the gradient generated by SeisFlows to update the initial model. \n",
    "- **NOTE**: In SeisFlows, we treat models and gradients as linear arrays, so model update can be memory-intensive, but not CPU intensive.\n",
    "\n",
    ">__MODEL UPDATE:__ The Model update equation *can be* as simple as: $m_{i+1} = m_{i} - \\alpha \\times g$   \n",
    "Where $m_{i}$ is the current model, $m_{i+1}$ is the updated model, $g$ is the gradient and $\\alpha$ is a scale factor."
   ]
  },
  {
   "cell_type": "code",
   "execution_count": null,
   "id": "6a2a1095-1a30-44af-8025-c836a3bfb8cf",
   "metadata": {},
   "outputs": [],
   "source": [
    "# Incase participants get lost, each numbered section \n",
    "# contains the absolute work dir path\n",
    "%cd /home/scoped/work/day_3/sfexample_2"
   ]
  },
  {
   "cell_type": "markdown",
   "id": "fb1bef29-85f7-45af-ad84-0a042ea53a95",
   "metadata": {},
   "source": [
    "\n",
    "### a) Initial Model ($m_i$) and Target Model ($m_{true}$)\n",
    "\n",
    "- The **initial/starting** model is a *homogeneous halfspace* model  \n",
    "- It defines a region with P-wave velocity 5.8km/s and S-wave velocity 3.5km/s  \n",
    "- The **target/true** model is a *perturbation checkerboard* model  \n",
    "- Perturbations are roughly $\\pm$10\\% of the initial homogeneous halfspace Vp and Vs models  \n",
    "- The target model is used to generate 'data', which mimics real-world observations  \n",
    "- We have seen both of these models on Days 1 and 2  \n"
   ]
  },
  {
   "cell_type": "code",
   "execution_count": null,
   "id": "ef67b11a-4bf9-41a2-882e-8231398534c9",
   "metadata": {},
   "outputs": [],
   "source": [
    "# Plot in the initial model Vs model\n",
    "m_init = Model(\"output/MODEL_INIT\")\n",
    "print(f\"INITIAL MODEL\\n{m_init.model}\")\n",
    "m_init.plot2d(\"vs\")"
   ]
  },
  {
   "cell_type": "code",
   "execution_count": null,
   "id": "7cdc9635-8d46-4ef3-9729-1d444fc96153",
   "metadata": {},
   "outputs": [],
   "source": [
    "# Plot in the target model Vs model\n",
    "m_true = Model(\"output/MODEL_TRUE\")\n",
    "print(f\"TARGET MODEL\\n{m_true.model}\")\n",
    "m_true.plot2d(\"vs\")"
   ]
  },
  {
   "cell_type": "markdown",
   "id": "ca6f760a-54e5-4e74-a0d1-abe49779854a",
   "metadata": {},
   "source": [
    "### b) Event Kernel\n",
    "\n",
    "- The **event kernel** is generated through the interaction of the forward and adjoint wavefields  \n",
    "- It is a volumetric quantity proportional to the gradient of the misfit function and provides a *search direction* for model update  \n",
    "- Multiple event kernels summed together form the **misfit kernel**. Because we only have one event, the event and misfit kernels are the same  \n",
    "- SeisFlows has already *smoothed* the kernel with a 2D Gaussian of vertical and horizontal half-widths equal to 5km"
   ]
  },
  {
   "cell_type": "code",
   "execution_count": null,
   "id": "d88a09e0-3012-4c12-8edd-e74f771c4173",
   "metadata": {},
   "outputs": [],
   "source": [
    "# Load in Gradient binary files\n",
    "gradient = Model(\"output/GRADIENT_01\")\n",
    "\n",
    "# Assign coordinate information which is used for plotting\n",
    "# We do this because the Gradient output directory does not contain coordinate information, \n",
    "# so we need to grab it from the model\n",
    "gradient.coordinates = {}\n",
    "gradient.coordinates[\"x\"] = m_init.coordinates[\"x\"]\n",
    "gradient.coordinates[\"z\"] = m_init.coordinates[\"z\"]\n",
    "\n",
    "print(f\"GRADIENT\\n{gradient.model}\")\n",
    "gradient.plot2d(\"vs_kernel\")"
   ]
  },
  {
   "cell_type": "markdown",
   "id": "fba284cc-4d03-4786-8041-cf6e0834d038",
   "metadata": {},
   "source": [
    "### c) Updated Model ($m_{i+1}$)\n",
    "\n",
    "- We generate an updated model by scaling the gradient and adding the negative gradient to the initial model. \n",
    "- The gradient represents positive change, so we want to use the inverse gradient to reduce misfit.\n",
    "- We use the equation $m_{i+1} = m_{i} - \\alpha \\times g$ to update the model.\n",
    "- **Objective**: First we will **not** scale the gradient (i.e., $\\alpha$==1)"
   ]
  },
  {
   "cell_type": "code",
   "execution_count": null,
   "id": "cf712794-451d-4390-a08a-bb340695d64a",
   "metadata": {},
   "outputs": [],
   "source": [
    "# We can use the SeisFlows Model class to update the model directly\n",
    "m_update = m_init.copy()\n",
    "\n",
    "# No scaling is applied here (alpha==1)\n",
    "m_update.update(vector=m_init.vector - gradient.vector)\n",
    "\n",
    "print(m_update.model)\n",
    "\n",
    "# Plot the updated Vs model\n",
    "m_update.plot2d(\"vs\")"
   ]
  },
  {
   "cell_type": "markdown",
   "id": "1fdf5112-9f54-4323-8bc2-13efcff4ab57",
   "metadata": {},
   "source": [
    "- We can see the gradient is **not** well scaled, so model updates only make slight changes to the Vs model (roughly $\\pm.0001$m/s, see figure title). \n",
    "- In order to make significant changes to the starting model, we need the **scale** the gradient. \n",
    "- There are many algorithms which provide scaling estimates for the gradient. \n",
    "\n",
    "--------------\n",
    "\n",
    "For an initial scaling guess, we can scale by: [G$^T$G]$^{-1}$ (i.e,. where G is the gradient)\n"
   ]
  },
  {
   "cell_type": "code",
   "execution_count": null,
   "id": "b4941378-21f9-4869-998e-25f57bb575c1",
   "metadata": {},
   "outputs": [],
   "source": [
    "# Calculate GTG^-1\n",
    "gtg = np.dot(gradient.vector, gradient.vector)\n",
    "gtg_inverse = gtg ** -1 \n",
    "print(f\"GTG^-1 = {gtg_inverse:.2f}\")\n",
    "\n",
    "# Update the starting model with the scaled gradient\n",
    "m_update = m_init.copy()\n",
    "m_update.update(vector=m_init.vector - (gtg_inverse * gradient.vector))\n",
    "print(m_update.model)\n",
    "\n",
    "# Plot the model updated by the scaled gradient\n",
    "m_update.plot2d(\"vs\")"
   ]
  },
  {
   "cell_type": "markdown",
   "id": "31ccb991-0bec-42de-8b05-9c3cb8df55a6",
   "metadata": {},
   "source": [
    "- The gradient is now more well scaled, and has updated our velocity model by at most 25m/s (see figure title). \n",
    "- Let's use this updated velocity model to generate **new** synthetics"
   ]
  },
  {
   "cell_type": "markdown",
   "id": "ec85abf8-6e29-45e1-afb0-203e4a8d55b2",
   "metadata": {},
   "source": [
    "--------------\n",
    "## 3) Run Forward Simulations w/ Updated Model\n",
    "\n",
    "- In Section 2c we generated an updated model, stored in the Python parameter `m_update`. \n",
    "- We want to use this updated model to generate a new set of synthetics\n",
    "- Misfit with respect to the 'data' will be calculated using a waveform misfit (as in Day 2). \n",
    "- **Objective**: Determine if we have reduced waveform misfit through model update\n",
    "- **NOTE:** We will work in `/home/scoped/work/day_3/specfem2d_workdir`. The following cells assume relative paths, so you must evaluate the '%cd' command below."
   ]
  },
  {
   "cell_type": "code",
   "execution_count": null,
   "id": "fc7720f0-3eea-4ddd-9bde-91ebf6b1d50c",
   "metadata": {},
   "outputs": [],
   "source": [
    "# Setup block for our SPECFEM2D working directory\n",
    "! mkdir -p /home/scoped/work/day_3/specfem2d_workdir\n",
    "%cd /home/scoped/work/day_3/specfem2d_workdir"
   ]
  },
  {
   "cell_type": "markdown",
   "id": "575b7305-5c5f-47de-87b4-a1e99147f20b",
   "metadata": {},
   "source": [
    "### a) Setup SPECFEM2D working directory\n",
    "- We first set up a new SPECFEM2D working directory where we can run SPECFEM\n",
    "- Our objective here is to run generate synthetics manually using our new model\n",
    "- This task is very similar to what we did in Days 1 and 2"
   ]
  },
  {
   "cell_type": "code",
   "execution_count": null,
   "id": "b51f9509-edc4-4f03-9796-b38dfda61c55",
   "metadata": {},
   "outputs": [],
   "source": [
    "# Symlink the binary files located in bin/\n",
    "! ln -s /home/scoped/specfem2d/bin .\n",
    "# Copy over the DATA/ directory with Par_file, SOURCE and STATIONS\n",
    "! cp -r /home/scoped/specfem2d/EXAMPLES/Tape2007/DATA .\n",
    "# Pick a pre-defined Par_file set up for the homogeneous halfspace model\n",
    "! cp DATA/Par_file_Tape2007_onerec DATA/Par_file\n",
    "# Ensure we are using SOURCE #1\n",
    "! cp DATA/SOURCE_001 DATA/SOURCE\n",
    "# Ensure we are using only STATION #1\n",
    "! head -1 DATA/STATIONS_checker > DATA/STATIONS\n",
    "# Create the output directory required by SPECFEM\n",
    "! mkdir OUTPUT_FILES\n",
    "\n",
    "! ls"
   ]
  },
  {
   "cell_type": "markdown",
   "id": "66c4996b-e361-488e-bae5-3a676a603fa9",
   "metadata": {},
   "source": [
    "### b) Run SPECFEM2D to get initial model synthetics\n",
    "\n",
    "- First we will run SPECFEM2D to get the initial model ($m_i$) synthetics\n",
    "- Later we'll compare these to the updated model ($m_{i+1}$) synthetics\n"
   ]
  },
  {
   "cell_type": "code",
   "execution_count": null,
   "id": "920c0c6b-3c82-4c4c-9a31-2e6e76fcaa99",
   "metadata": {},
   "outputs": [],
   "source": [
    "# Tell SPECFEM to output FORTRAN binary files, and use the STATIONS file\n",
    "! seisflows sempar -P DATA/Par_file save_model binary\n",
    "! seisflows sempar -P DATA/Par_file setup_with_binary_database 1\n",
    "! seisflows sempar -P DATA/Par_file use_existing_stations .true.\n",
    "\n",
    "# Run SPECFEM with the homogeneous halfspace model, 1 source, 1 station\n",
    "! mpirun -n 1 bin/xmeshfem2D > OUTPUT_FILES/output_mesher.txt\n",
    "! mpirun -n 1 bin/xspecfem2D > OUTPUT_FILES/output_solver.txt\n",
    "\n",
    "# A succesfully completed solver will write data files, expressed in the log\n",
    "! tail -n 30 OUTPUT_FILES/output_solver.txt"
   ]
  },
  {
   "cell_type": "markdown",
   "id": "aa9b52e2-c3a7-4223-8166-c0c5eafb63f3",
   "metadata": {},
   "source": [
    "### c) Set the Updated Model as the 'Current' Model\n",
    "\n",
    "- SPECEFM2D needs to be able to find the updated model we created in Section 3c\n",
    "- SPECFEM2D expects model files to be in the DATA/ directory. (**NOTE**: SPECFEM3D expects them to be in the `LOCAL_PATH` directory)\n",
    "- We can use SeisFlows utilities to write these files in SPECFEM-readable formats\n",
    "- We will OVERWRITE updated parameters (here Vp and Vs) and leave the remainder of the model the same\n",
    "- **IMPORTANT**: The `Par_file` parameter 'MODEL' must be set to `gll`, which tells SPECFEM to read the updated model files we have written"
   ]
  },
  {
   "cell_type": "code",
   "execution_count": null,
   "id": "27ef9a7a-1a81-4be9-8475-689c528d4ca5",
   "metadata": {},
   "outputs": [],
   "source": [
    "# First make sure that the original model files are stored somewhere safe\n",
    "! mkdir MODEL_INIT\n",
    "! cp -r DATA/*bin MODEL_INIT\n",
    "! cp -r OUTPUT_FILES/*semd MODEL_INIT\n",
    "\n",
    "print(f\"parameters to be updated are: {m_update.parameters}\")\n",
    "\n",
    "# SeisFlows will overwrite the 'Vp' and 'Vs' binary files\n",
    "m_update.write(path=\"DATA\")\n",
    "\n",
    "# Update the `Par_file` parameter 'MODEL' to tell SPECFEM to read model files from DATA/\n",
    "! seisflows sempar -P DATA/Par_file model gll"
   ]
  },
  {
   "cell_type": "markdown",
   "id": "343c40c4-302d-4901-b221-4dd0b456d19e",
   "metadata": {},
   "source": [
    "### d) Run Forward Simulations with Updated Model\n",
    "\n",
    "- We can now run `xmeshfem2D` and `xspecfem2D` to retrieve synthetics for our updated model\n",
    "- Because we updated *model* files, we need to **rerun** `xmeshfem2D`. \n",
    "- Since we set `MODEL`==`gll`, SPECFEM2D will know to read the **updated** model files we just wrote (rather than reading internal files)\n",
    "- The forward simulation **overwrites** files stored in `OUTPUT_FILES/`"
   ]
  },
  {
   "cell_type": "code",
   "execution_count": null,
   "id": "32f35f69-eeb5-4069-b1b1-10e9825e247d",
   "metadata": {},
   "outputs": [],
   "source": [
    "# Re-run the mesher and solver with the updated velocity model\n",
    "! mpirun -n 1 bin/xmeshfem2D > OUTPUT_FILES/output_mesher_update.txt\n",
    "! mpirun -n 1 bin/xspecfem2D > OUTPUT_FILES/output_solver_update.txt\n",
    "\n",
    "# Confirm that the updated model was used during the simulation\n",
    "! head -236 OUTPUT_FILES/output_solver_update.txt | tail -n 15\n",
    "\n",
    "# Make sure that the updated model files are stored somewhere safe\n",
    "! mkdir MODEL_UPDATE\n",
    "! cp -r DATA/*.bin MODEL_UPDATE\n",
    "! cp -r OUTPUT_FILES/*semd MODEL_UPDATE"
   ]
  },
  {
   "cell_type": "markdown",
   "id": "114594fc-7de3-412d-b6a4-662fc4865b8b",
   "metadata": {},
   "source": [
    "## 5) Comparing Synthetics for Initial and Updated Models\n",
    "\n",
    "- We now have 2 synthetic seismograms. 1 for the initial model, 1 for the updated model\n",
    "- In a real inversion, we would have 2$\\times$N seismograms, corresonding to N stations \n",
    "- Our first goal is to quantify misfit of the new synthetics against the True model synthetics (checkerboard model)\n",
    "- **Objective**: Determine if our updated model has reduced waveform misfit"
   ]
  },
  {
   "cell_type": "code",
   "execution_count": null,
   "id": "9561e195-64fa-49ba-8b0e-ae9467758f61",
   "metadata": {},
   "outputs": [],
   "source": [
    "%cd /home/scoped/work/day_3/specfem2d_workdir"
   ]
  },
  {
   "cell_type": "markdown",
   "id": "6caf57d6-10e2-4692-aea1-e5fad7be16de",
   "metadata": {},
   "source": [
    "### a) Compare Initial and Update synthetics\n",
    "\n",
    "- We first want to see if the model update changed the synthetic waveforms\n",
    "- We'll re-use some code snippets from Day 2 to plot synthetics\n",
    "- Plot colors are:\n",
    "    - Initial model synthetics: *red*\n",
    "    - Updated model synthetics: *purple*\n",
    "    - Initial - Update (waveform difference): *blue*"
   ]
  },
  {
   "cell_type": "code",
   "execution_count": null,
   "id": "02e8a38d-04a2-4c44-8db5-12e6200e2636",
   "metadata": {},
   "outputs": [],
   "source": [
    "def plot_waveforms(t, data, labels, colors):\n",
    "    \"\"\"Re-usable function to plot synthetic waveforms\"\"\"\n",
    "    for i, d in enumerate(data):\n",
    "        plt.plot(t, d, c=colors[i], label=labels[i])\n",
    "    plt.xlabel(\"Time [s]\")\n",
    "    plt.ylabel(\"Displacement [m]\")\n",
    "    plt.legend()  "
   ]
  },
  {
   "cell_type": "code",
   "execution_count": null,
   "id": "232d5237-f5fa-45b4-b70f-b167fa07f7bc",
   "metadata": {},
   "outputs": [],
   "source": [
    "# Load in the initial, updated synthetics, calculate waveform difference\n",
    "t_init, d_init = np.loadtxt(\"MODEL_INIT/AA.S000000.BXY.semd\").T\n",
    "t_update, d_update = np.loadtxt(\"MODEL_UPDATE/AA.S000000.BXY.semd\").T\n",
    "d_diff = d_init - d_update \n",
    "\n",
    "plot_waveforms(t=t_init, data=[d_init, d_update, d_diff],\n",
    "               labels=[\"initial\", \"update\", \"difference\"],\n",
    "               colors=[\"r\", \"g\", \"b\"])\n",
    "\n",
    "plt.title(\"Initial vs. Updated Model Synthetics\")\n",
    "plt.show()"
   ]
  },
  {
   "cell_type": "markdown",
   "id": "c220dca8-3374-460e-a3be-238775eba840",
   "metadata": {},
   "source": [
    "If we zoom into the time window where the two waveforms are different, we can better identify how the model update has affected the synthetic waveforms.\n",
    "The time window of waveform difference (min/max amplitude of the blue wiggle) spans roughly *T0=60s* to *T1=85s*"
   ]
  },
  {
   "cell_type": "code",
   "execution_count": null,
   "id": "6f4a1f35-93fc-4e84-a277-9b0b931c4886",
   "metadata": {},
   "outputs": [],
   "source": [
    "plot_waveforms(t=t_init, data=[d_init, d_update, d_diff],\n",
    "               labels=[\"initial\", \"update\", \"difference\"],\n",
    "               colors=[\"r\", \"g\", \"b\"])\n",
    "\n",
    "plt.xlim([60, 85])\n",
    "plt.title(\"Initial vs. Updated Model Synthetics\")\n",
    "plt.show()"
   ]
  },
  {
   "cell_type": "code",
   "execution_count": null,
   "id": "54f0a653-613b-4b7f-bcee-82b834322695",
   "metadata": {},
   "outputs": [],
   "source": [
    "# Print min/max values to see if model update has affected waveform amplitude\n",
    "print(f\"INITIAL MODEL WAVEFORM: \\n   MIN={d_init.min():.3f}; MAX={d_init.max():.3f}\")\n",
    "print(f\"TARGET MODEL WAVEFORM:  \\n   MIN={d_update.min():.3f}; MAX={d_update.max():.3f}\")"
   ]
  },
  {
   "cell_type": "markdown",
   "id": "8c8431d4-db9b-4b4d-b148-93181bfb84da",
   "metadata": {},
   "source": [
    "#### Understanding waveform differences\n",
    "\n",
    "- Visually the waveforms look almost the same. \n",
    "- Zooming in on the time window of waveform difference shows small waveform differences\n",
    "- The updated synthetics (green) are slightly *delayed* with respect to the initial model synthetics (red)\n",
    "- Updated synthetics (green) also have slightly larger minimum and maximum amplitudes w.r.t. initial model (red)\n"
   ]
  },
  {
   "cell_type": "markdown",
   "id": "b97a08a2-577a-4103-b2cc-1b7ad338724a",
   "metadata": {},
   "source": [
    "### b) Generate 'Data' using True/Target Model Synthetics\n",
    "\n",
    "- We want to compare our two sets of synthetics against 'data'\n",
    "- 'Data', generated by the checkerboard model, was already created by SeisFlows in Section 2\n",
    "- However we perform this manually here to re-iterate using the input checkerboard model\n",
    "- Misfit is defined as the waveform difference"
   ]
  },
  {
   "cell_type": "code",
   "execution_count": null,
   "id": "11e0c8a9-9fb8-4b3c-aca2-79c7c475d472",
   "metadata": {},
   "outputs": [],
   "source": [
    "# This new par file OVERWRITES the changes we made previously \n",
    "! cp -f DATA/Par_file_Tape2007_132rec_checker DATA/Par_file\n",
    "\n",
    "# Overwrite some default parameters\n",
    "! seisflows sempar -P DATA/Par_file NSTEP 5000  # 4800 -> 5000 to match the other Par_file\n",
    "\n",
    "# Ensure that SPECFEM can find the checkerboard model by name\n",
    "! cp -f DATA/model_velocity.dat_checker DATA/proc000000_model_velocity.dat_input\n",
    "\n",
    "# Re-run mesher and solver for the Target model\n",
    "! mpirun -n 1 bin/xmeshfem2D > OUTPUT_FILES/output_mesher_true.txt\n",
    "! mpirun -n 1 bin/xspecfem2D > OUTPUT_FILES/output_solver_true.txt\n",
    "\n",
    "# Copy waveforms and model into safe place\n",
    "! mkdir -p MODEL_TRUE\n",
    "! cp -r OUTPUT_FILES/*semd MODEL_TRUE"
   ]
  },
  {
   "cell_type": "markdown",
   "id": "74818a1e-7868-4102-b197-004106071a3d",
   "metadata": {},
   "source": [
    "### c) Quantify Misfit between Initial/Update synthetics and Target model data\n",
    "\n",
    "- We can now plot the target model data on top of the waveforms we showed earlier\n",
    "- Target model synthetics (i.e., 'data') are generated using the checkerboard model\n",
    "- Plot colors are:\n",
    "    - Initial model synthetics: *red*\n",
    "    - Updated model synthetics: *purple*\n",
    "    - Initial - Update (waveform difference): *blue*\n",
    "    - Target model: *black*"
   ]
  },
  {
   "cell_type": "code",
   "execution_count": null,
   "id": "fe1f7b1c-393e-4836-912a-99d5174315ca",
   "metadata": {},
   "outputs": [],
   "source": [
    "# Load in Target model synthetics\n",
    "t_true, d_true = np.loadtxt(\"MODEL_TRUE/AA.S000000.BXY.semd\").T\n",
    "\n",
    "# Plot the same as before\n",
    "plot_waveforms(t=t_init, data=[d_init, d_update, d_diff, d_true],\n",
    "               labels=[\"initial\", \"update\", \"difference\", \"target\"],\n",
    "               colors=[\"r\", \"g\", \"b\", \"k\"])\n",
    "\n",
    "plt.title(\"Initial, Updated, Target Model Synthetics\")\n",
    "plt.show()"
   ]
  },
  {
   "cell_type": "code",
   "execution_count": null,
   "id": "ddff13dd-1c85-4d6b-9f3a-bc44d4e2feb6",
   "metadata": {},
   "outputs": [],
   "source": [
    "# Load in Target model synthetics\n",
    "t_true, d_true = np.loadtxt(\"MODEL_TRUE/AA.S000000.BXY.semd\").T\n",
    "\n",
    "# Plot the same as before\n",
    "plot_waveforms(t=t_init, data=[d_init, d_update, d_diff, d_true],\n",
    "               labels=[\"initial\", \"update\", \"difference\", \"target\"],\n",
    "               colors=[\"r\", \"g\", \"b\", \"k\"])\n",
    "\n",
    "plt.title(\"Initial, Updated, Target Model Synthetics\")\n",
    "plt.xlim([60, 85])\n",
    "plt.show()"
   ]
  },
  {
   "cell_type": "markdown",
   "id": "b8b76408-b0f5-4c2c-a62d-be4eab88f732",
   "metadata": {},
   "source": [
    "#### Understanding waveform differences\n",
    "- Target model synthetics (black) are *delayed* compared to initial model synthetics (red), by approximately 3s\n",
    "- Target model synthetics (black) show *larger* amplitudes compared to initial model synthetics (red)\n",
    "- By visual inspection, the updated model synthetics (green) appear to be moving *towards* the target synthetics (black)\n",
    "- Visual inspection is a qualitative measure, we would prefer to **quantify** waveform misfit "
   ]
  },
  {
   "cell_type": "markdown",
   "id": "0107ee31-b38d-452d-be69-fcee7a354e3e",
   "metadata": {},
   "source": [
    "### c) Quantfiying Waveform Misfit\n",
    "\n",
    "- Waveform misfit: $ \\chi = \\frac{1}{2} \\int [d(t)-s(t)]^2 dt~$  (as in Day 2)\n",
    "- In the equation above: $d(t)$ is 'data' and $s(t)$ is 'synthetics'\n",
    "- **Objective**: Determine if the model update has reduced waveform misfit w.r.t initial model"
   ]
  },
  {
   "cell_type": "code",
   "execution_count": null,
   "id": "ac696a3a-0b3a-4ec0-b732-b4608d0f77a1",
   "metadata": {},
   "outputs": [],
   "source": [
    "# Represents the time step, or `dt`. Same for all waveforms\n",
    "dt = t_true[1] - t_true[0]  \n",
    "\n",
    "# Use Simpson's rule for integration\n",
    "misfit_init = 1/2 * simps((d_true - d_init)**2, dx=dt)\n",
    "misfit_update = 1/2 * simps((d_true - d_update)**2, dx=dt)\n",
    "\n",
    "print(f\"misfit_init = {misfit_init:.3E}\")\n",
    "print(f\"misfit_true = {misfit_update:.3E}\")\n",
    "print(f\"init - true = {misfit_init - misfit_update:.3E}\")\n",
    "print(f\"was misfit reduced? -> {bool(misfit_init > misfit_update)}\")"
   ]
  },
  {
   "cell_type": "markdown",
   "id": "898115dc-70ca-4a30-97e3-68ae1f5327c0",
   "metadata": {},
   "source": [
    "---------------\n",
    "\n",
    "**Mission accomplished!**\n",
    "- We have successfully reduced the waveform misfit for a single source receiver pair by updating our velocity model.\n",
    "- The misfit reduction is relatively small; this value is tied to the gradient and chosen scale factor $\\alpha$\n",
    "- We could increase the scale factor to achieve a more favorable misfit reduction, however if we go too far, we may end up increasing the misfit.\n",
    "- Algorithmically, this step is defined as the `line search`, which attempts to search for an appropriate scale factor for model update\n",
    "- There are many types of nonlinear optimization algorithms (e.g., gradient descent, L-BFGS) which are used to determine scale factors in an effort to minimize misfit\n",
    "- **NOTE** each evaluation of a line search requires **re-running** the forward simulation with a trial model, it is therefore ideal to find the best performing algorithm to keep computational costs down \n",
    "- See e.g., [Modrak and Tromp (2016)](https://academic.oup.com/gji/article/206/3/1864/2583505) for exploration of how various algorithms perform in the context of seismic inverison\n"
   ]
  }
 ],
 "metadata": {
  "kernelspec": {
   "display_name": "Python 3 (ipykernel)",
   "language": "python",
   "name": "python3"
  },
  "language_info": {
   "codemirror_mode": {
    "name": "ipython",
    "version": 3
   },
   "file_extension": ".py",
   "mimetype": "text/x-python",
   "name": "python",
   "nbconvert_exporter": "python",
   "pygments_lexer": "ipython3",
   "version": "3.10.6"
  }
 },
 "nbformat": 4,
 "nbformat_minor": 5
}
