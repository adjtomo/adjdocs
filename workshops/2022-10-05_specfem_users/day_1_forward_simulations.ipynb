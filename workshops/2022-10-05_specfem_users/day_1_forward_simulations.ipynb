{
 "cells": [
  {
   "cell_type": "markdown",
   "metadata": {},
   "source": [
    "# SPECFEM Users Workshop -- Day 1 (Oct. 5, 2022)\n",
    "\n",
    "## Forward Simulations in SPECFEM2D and 3D\n",
    "\n",
    "This notebook is meant to walk Users through an introduction to `SPECFEM2D`, from a) navigating a SPECFEM2D working directory, to b) generating a mesh, to c) running forward simulations. We make note of important files and steps to take when running forward simulations in SPECFEM. Background material is included to understand the task at hand, and we also draw parallels with `SPECFEM3D`, illustrating how to mesh and run simulations on a simple 3D domain. At the end of the workshop, we will take a look at how we can use `SeisFlows` to automate SPECFEM2D for running forward simulations.\n",
    "\n",
    "-----------\n",
    "\n",
    "### 0) Relevant Information\n",
    "\n",
    ">__NOTE:__ These instructions should be run from inside the Docker container, using Jupyter Lab. The Docker container should have the adjTomo toolkit installed (SeisFlows, Pyatoa, PySEP), as well as SPECFEM2D and SPECEFM3D compiled with MPI. \n",
    "\n",
    "**Relevant Links:** \n",
    "- !!! ADD DAY 1 SLIDES HERE !!!\n",
    "- Workshop Material: https://github.com/adjtomo/adjdocs/tree/main/workshops/2022-10-05_specfem_users\n",
    "- Today's Notebook: !!! ADD THIS !!!\n",
    "\n",
    "**Jupyter Quick Tips:**\n",
    "\n",
    "- **Run cells** one-by-one by hitting the `Run` button at the top, or by hitting `Shift + Enter`\n",
    "- **Currently running cells** that are still processing will have a `[*]` symbol next to them\n",
    "- **Finished cells** will have a `[1]` symbol next to them. Where the number inside the brackets represents what order this cell has been run in.\n",
    "- Commands that start with `!` are Bash commands (i.e., commands you would run from the terminal)\n",
    "- Commands that start with `%` are Jupyter Magic commands\n"
   ]
  },
  {
   "cell_type": "markdown",
   "metadata": {},
   "source": [
    "## 1) Background !!! TODO !!!\n",
    "\n",
    "\n",
    "Potential topics: \n",
    "- Seismic waveforms\n",
    "- Numerical modeling\n",
    "- Spectral element method\n",
    "- Meshes\n"
   ]
  },
  {
   "cell_type": "markdown",
   "metadata": {},
   "source": [
    "## 2) SPECFEM2D Tour\n",
    "\n",
    ">__NOTE__: The `devel` branch of all SPECFEM versions contains the most up to date codebase\n",
    "\n",
    "- GitHub Repository: https://github.com/geodynamics/specfem2d/tree/devel\n",
    "- SPECFEM2D Manual: https://specfem2d.readthedocs.io/en/latest/"
   ]
  },
  {
   "cell_type": "code",
   "execution_count": null,
   "metadata": {},
   "outputs": [],
   "source": [
    "%cd /home/scoped/specfem2d"
   ]
  },
  {
   "cell_type": "markdown",
   "metadata": {},
   "source": [
    "### a) Binary Executables in *bin/* directory\n",
    "\n",
    "In this workshop container, we have already downloaded (git clone), configured (choosing compilers and compiler options) and compiled (make all) SPECFEM2D. The binary executable files are located in the `bin/` directory. Each of these executables performs a different function in the package."
   ]
  },
  {
   "cell_type": "code",
   "execution_count": null,
   "metadata": {},
   "outputs": [],
   "source": [
    "# Let's have a look at the executables\n",
    "! ls bin"
   ]
  },
  {
   "cell_type": "markdown",
   "metadata": {},
   "source": [
    "The two most important executables we will be using today are `xmeshfem2D` and `xspecfem2D`. \n",
    "- `xmeshfem2D` is used to generate our numerical mesh, the skeleton of the domain upon which we run our numerical simulations. \n",
    "- `xspecfem2D` runs the spectral element solver, generating synthetic seismograms for a given source and set of stations.\n",
    "\n",
    "Some other important executables we will use:\n",
    "- `xsmooth_sem` smooths models, gradients and kernels by convolving them with a 2D Gaussian. Users can define the horizontal and vertical half-widths of the Gaussian."
   ]
  },
  {
   "cell_type": "markdown",
   "metadata": {},
   "source": [
    "### b) Metadata in *DATA/* directory\n",
    "\n",
    "Data that the User will provide to SPECFEM should be stored in the *DATA/* directory. The most important files that we will concern ourselves with are the `Par_file`, `SOURCE` and `STATIONS` files.\n",
    "\n",
    "-`Par_file`: The parameter file which allows the User to adjust parameters for a given simulation  \n",
    "-`SOURCE`: Defines source characteristics (e.g., moment tensor, force). **NOTE**: SPECFEM2D and SPECFEM3D have a number of different types of available source files (e.g., SOURCE, FORCESOLUTION, CMTSOLUTION)  \n",
    "-`STATIONS`: Defines station codes and locations (either Cartesian or geographic). **NOTE**: Station information may also be defined in the `Par_file`\n",
    "\n",
    "The following commands open these files for the SPECFEM2D example problem"
   ]
  },
  {
   "cell_type": "code",
   "execution_count": null,
   "metadata": {},
   "outputs": [],
   "source": [
    "! ls DATA"
   ]
  },
  {
   "cell_type": "code",
   "execution_count": null,
   "metadata": {},
   "outputs": [],
   "source": [
    "! head -38 DATA/Par_file"
   ]
  },
  {
   "cell_type": "code",
   "execution_count": null,
   "metadata": {},
   "outputs": [],
   "source": [
    "! cat DATA/SOURCE"
   ]
  },
  {
   "cell_type": "code",
   "execution_count": null,
   "metadata": {},
   "outputs": [],
   "source": [
    "# In this example, the Par_file defines station information directly\n",
    "! head -194 DATA/Par_file | tail -n 16"
   ]
  },
  {
   "cell_type": "code",
   "execution_count": null,
   "metadata": {},
   "outputs": [],
   "source": [
    "# Other examples will define station information using STATIONS files\n",
    "! head -5 EXAMPLES/Tape2007/DATA/STATIONS_checker"
   ]
  },
  {
   "cell_type": "markdown",
   "metadata": {},
   "source": [
    "### c) Results stored in *OUTPUT_FILES/* directory\n",
    "\n",
    "Any outputs generated by SPECFEM will be stored in the `OUTPUT_FILES/` directory. These include log and error messages, synthetic seismograms, figures, and output files of one executable that may be required by another.\n",
    "\n",
    ">__NOTE__: SPECFEM also maintains a DATABASE directory (typically called `DATABASES_MPI/`) which is used to store large database files containing the entire GLL mesh and model, as well as intermediate files such as the saved forward wavefield. This directory may be the same as `OUTPUT_FILES/`, or may be it's own separate directory."
   ]
  },
  {
   "cell_type": "code",
   "execution_count": null,
   "metadata": {},
   "outputs": [],
   "source": [
    "# Currently empty because we have not run any executables\n",
    "! ls OUTPUT_FILES"
   ]
  },
  {
   "cell_type": "markdown",
   "metadata": {},
   "source": [
    "## 3) Running the mesher `xmeshfem2D` \n",
    "\n",
    "The first thing we need to do when approaching numerical simulations is to generate our numerical mesh. There are multiple approaches to meshing, such as using external software such as Trellis. During this workshop we will use SPECFEM's internal meshing software, known as `Meshfem`.\n",
    "\n",
    "### a) Velocity Model Parameters\n",
    "\n",
    "In SPECFEM2D, mesh parameters are defined in the `Par_file`. There are various parameter options we can use to customize our mesher run. The following parameter set allows us to read input values from the `Par_file`\n",
    "\n",
    "`NPROC`: defines the number of processors used to partition the mesh  \n",
    "`MODEL`=default:  \n",
    "\n",
    ">__NOTE:__ In SPECFEM3D, Meshfem files are defined separately to provide more control over a 3D domain. These files are typically stored in `specfem3d/DATA/meshfem3D_files`. We will look at these later in the notebook."
   ]
  },
  {
   "cell_type": "code",
   "execution_count": null,
   "metadata": {},
   "outputs": [],
   "source": [
    "! head -273 DATA/Par_file | tail -n 34"
   ]
  },
  {
   "cell_type": "markdown",
   "metadata": {},
   "source": [
    "In the output above we can see that our `Par_file` defines 4 separate material parameters, each with varying values for density and velocity. \n",
    "\n",
    "### b) Internal Mesher Parameters\n",
    "\n",
    "The internal mesher also has another set of parameters that allows Users to provide interfaces, geometry, absorbing boundary conditions. These parameters are also used to distribute the material properties defined above, to specific regions of the mesh\n"
   ]
  },
  {
   "cell_type": "code",
   "execution_count": null,
   "metadata": {},
   "outputs": [],
   "source": [
    "! head -320 DATA/Par_file | tail -n 29"
   ]
  },
  {
   "cell_type": "markdown",
   "metadata": {},
   "source": [
    "### c) Setting Parameters\n",
    "\n",
    "We will set a few `Par_file` parameters to tell SPECFEM to output a few additional files that will facilitate understanding the outputs of `xmeshfem2D`.\n",
    "\n",
    ">__NOTE:__ We will use the `seisflows sempar` commmand to print and edit values from the SPECFEM2D `Par_file`. This is simply a convenience function but can be replaced by bash commands like 'cat' + 'awk', or by opening the `Par_file` with a text editor."
   ]
  },
  {
   "cell_type": "code",
   "execution_count": 44,
   "metadata": {},
   "outputs": [
    {
     "name": "stdout",
     "output_type": "stream",
     "text": [
      "MODEL: default\n",
      "\n",
      "\tparameter file 'Data/Par_file' does not exist\n",
      "\n",
      "SAVE_MODEL: default -> binary\n",
      "save_ASCII_kernels: .true. -> .false.\n"
     ]
    }
   ],
   "source": [
    "# seisflows sempar -P ${Par_file} {key} {value:optional}\n",
    "! seisflows sempar -P DATA/Par_file model\n",
    "! seisflows sempar -P DATA/Par_file setup_with_binary_databases 1\n",
    "! seisflows sempar -P DATA/Par_file save_model binary"
   ]
  },
  {
   "cell_type": "markdown",
   "metadata": {},
   "source": [
    "-------------\n",
    "Explanations of the changes we are made include:\n",
    "\n",
    "`MODEL`: Must be 'default' to use the model defined in the `Par_file` (default option)  \n",
    "`setup_with_binary_databases`: Writes database files in binary format   \n",
    "`SAVE_MODEL`: Write model files in binary format  "
   ]
  },
  {
   "cell_type": "markdown",
   "metadata": {},
   "source": [
    "### d) Run Meshfem Executable\n",
    "\n",
    "Becuse this example problem is already set up for us, we can simply run the executable. `xmeshfem2D` will look for relevant data in the *DATA/* directory, and generate our numerical mesh, and model, in the *OUTPUT_FILES/* directory. \n",
    "\n",
    ">__NOTE__: WE will use MPI to run the executable, but set `-n=1` to specify that this is a serial task. We also redirect the output to a log file so that we can take a look at different parts of it."
   ]
  },
  {
   "cell_type": "code",
   "execution_count": 54,
   "metadata": {},
   "outputs": [
    {
     "name": "stdout",
     "output_type": "stream",
     "text": [
      "NPROC: 1\n"
     ]
    }
   ],
   "source": [
    "# The Par_file NPROC parameter must match the `-n` flag for MPI\n",
    "! seisflows sempar -P DATA/Par_file nproc"
   ]
  },
  {
   "cell_type": "code",
   "execution_count": 45,
   "metadata": {},
   "outputs": [],
   "source": [
    "! mpirun -n 1 bin/xmeshfem2D > OUTPUT_FILES/output_meshfem2d.txt"
   ]
  },
  {
   "cell_type": "code",
   "execution_count": 46,
   "metadata": {},
   "outputs": [
    {
     "name": "stdout",
     "output_type": "stream",
     "text": [
      "Database00000.bin   mesh_partition_number.vtk\n",
      "mesh_materials.vtk  output_meshfem2d.txt\n"
     ]
    }
   ],
   "source": [
    "! ls OUTPUT_FILES"
   ]
  },
  {
   "cell_type": "code",
   "execution_count": 47,
   "metadata": {},
   "outputs": [
    {
     "name": "stdout",
     "output_type": "stream",
     "text": [
      "Par_file  SOURCE  STATIONS\n"
     ]
    }
   ],
   "source": [
    "# We can see that `xmeshfem2D` has created a STATIONS file for us\n",
    "! ls DATA/"
   ]
  },
  {
   "cell_type": "code",
   "execution_count": 48,
   "metadata": {},
   "outputs": [
    {
     "name": "stdout",
     "output_type": "stream",
     "text": [
      "S0001    AA          300.0000000         2997.7298909       0.0         0.0\n",
      "S0002    AA          640.0000000         3008.0430011       0.0         0.0\n",
      "S0003    AA          980.0000000         3090.8224062       0.0         0.0\n",
      "S0004    AA         1320.0000000         3283.0303923       0.0         0.0\n",
      "S0005    AA         1660.0000000         3347.8768862       0.0         0.0\n",
      "S0006    AA         2000.0000000         3250.0000000       0.0         0.0\n",
      "S0007    AA         2340.0000000         3197.3138031       0.0         0.0\n",
      "S0008    AA         2680.0000000         3150.9619873       0.0         0.0\n",
      "S0009    AA         3020.0000000         3086.5939051       0.0         0.0\n",
      "S0010    AA         3360.0000000         3042.8523748       0.0         0.0\n",
      "S0011    AA         3700.0000000         3020.6886768       0.0         0.0\n",
      "S0012    AA         2500.0000000         2500.0000000       0.0         0.0\n",
      "S0013    AA         2500.0000000         2250.0000000       0.0         0.0\n",
      "S0014    AA         2500.0000000         2000.0000000       0.0         0.0\n",
      "S0015    AA         2500.0000000         1750.0000000       0.0         0.0\n",
      "S0016    AA         2500.0000000         1500.0000000       0.0         0.0\n",
      "S0017    AA         2500.0000000         1250.0000000       0.0         0.0\n",
      "S0018    AA         2500.0000000         1000.0000000       0.0         0.0\n",
      "S0019    AA         2500.0000000          750.0000000       0.0         0.0\n",
      "S0020    AA         2500.0000000          500.0000000       0.0         0.0\n",
      "S0021    AA         2500.0000000          250.0000000       0.0         0.0\n",
      "S0022    AA         2500.0000000            0.0000000       0.0         0.0\n"
     ]
    }
   ],
   "source": [
    "! cat DATA/STATIONS"
   ]
  },
  {
   "cell_type": "markdown",
   "metadata": {},
   "source": [
    "!!! Look at the output log file here !!!!"
   ]
  },
  {
   "cell_type": "markdown",
   "metadata": {},
   "source": [
    "### 4) Running the solver `xspecfem2D`\n",
    "\n",
    "The Solver `xspecfem2D` will now take the Database files generated by `xmeshfem2D` and run a forward simulation using the provided `SOURCE` and `STATIONS` files. The following set of parameters controls how the output synthetic seismograms are generated"
   ]
  },
  {
   "cell_type": "code",
   "execution_count": 51,
   "metadata": {},
   "outputs": [
    {
     "name": "stdout",
     "output_type": "stream",
     "text": [
      "#-----------------------------------------------------------\n",
      "#\n",
      "# Receivers\n",
      "#\n",
      "#-----------------------------------------------------------\n",
      "\n",
      "# receiver set parameters for recording stations (i.e. recording points)\n",
      "# seismotype : record 1=displ 2=veloc 3=accel 4=pressure 5=curl of displ 6=the fluid potential\n",
      "seismotype                      = 1              # several values can be chosen. For example : 1,2,4\n",
      "\n",
      "# interval in time steps for writing of seismograms\n",
      "# every how many time steps we save the seismograms\n",
      "# (costly, do not use a very small value; if you use a very large value that is larger than the total number\n",
      "#  of time steps of the run, the seismograms will automatically be saved once at the end of the run anyway)\n",
      "NTSTEP_BETWEEN_OUTPUT_SEISMOS   = 10000\n",
      "\n",
      "# set to n to reduce the sampling rate of output seismograms by a factor of n\n",
      "# defaults to 1, which means no down-sampling\n",
      "NTSTEP_BETWEEN_OUTPUT_SAMPLE    = 1\n",
      "\n",
      "# so far, this option can only be used if all the receivers are in acoustic elements\n",
      "USE_TRICK_FOR_BETTER_PRESSURE   = .false.\n",
      "\n",
      "# use this t0 as earliest starting time rather than the automatically calculated one\n",
      "USER_T0                         = 0.0d0\n",
      "\n",
      "# seismogram formats\n",
      "save_ASCII_seismograms          = .true.         # save seismograms in ASCII format or not\n",
      "save_binary_seismograms_single  = .true.         # save seismograms in single precision binary format or not (can be used jointly with ASCII above to save both)\n",
      "save_binary_seismograms_double  = .false.        # save seismograms in double precision binary format or not (can be used jointly with both flags above to save all)\n",
      "SU_FORMAT                       = .false.        # output single precision binary seismograms in Seismic Unix format (adjoint traces will be read in the same format)\n",
      "\n"
     ]
    }
   ],
   "source": [
    "! head -168 DATA/Par_file | tail -n 32"
   ]
  },
  {
   "cell_type": "markdown",
   "metadata": {},
   "source": [
    "Some of the more important parameters explained are:\n",
    "\n",
    "`seismotype`: Sets the units of the output seismograms. This example outputs in units of 'displacement'  \n",
    "`USER_T0`: Defines when the earlist starting time is, prior to time step 0. This allows some zero padding before initiating the source, and is useful e.g., in cases where you have very short source-receiver distances  \n",
    "`save_ASCII_seismograms`: Outputs seismograms in two-column ASCII files. Useful for quick plotting"
   ]
  },
  {
   "cell_type": "code",
   "execution_count": 56,
   "metadata": {},
   "outputs": [],
   "source": [
    "! mpirun -n 1 bin/xspecfem2D > OUTPUT_FILES/output_solver.txt"
   ]
  },
  {
   "cell_type": "code",
   "execution_count": 57,
   "metadata": {},
   "outputs": [
    {
     "name": "stdout",
     "output_type": "stream",
     "text": [
      "AA.S0001.BXX.semd\t    forward_image000000200.jpg\n",
      "AA.S0001.BXZ.semd\t    forward_image000000300.jpg\n",
      "AA.S0002.BXX.semd\t    forward_image000000400.jpg\n",
      "AA.S0002.BXZ.semd\t    forward_image000000500.jpg\n",
      "AA.S0003.BXX.semd\t    forward_image000000600.jpg\n",
      "AA.S0003.BXZ.semd\t    forward_image000000700.jpg\n",
      "AA.S0004.BXX.semd\t    forward_image000000800.jpg\n",
      "AA.S0004.BXZ.semd\t    forward_image000000900.jpg\n",
      "AA.S0005.BXX.semd\t    forward_image000001000.jpg\n",
      "AA.S0005.BXZ.semd\t    forward_image000001100.jpg\n",
      "AA.S0006.BXX.semd\t    forward_image000001200.jpg\n",
      "AA.S0006.BXZ.semd\t    forward_image000001300.jpg\n",
      "AA.S0007.BXX.semd\t    forward_image000001400.jpg\n",
      "AA.S0007.BXZ.semd\t    forward_image000001500.jpg\n",
      "AA.S0008.BXX.semd\t    forward_image000001600.jpg\n",
      "AA.S0008.BXZ.semd\t    mesh_materials.vtk\n",
      "AA.S0009.BXX.semd\t    mesh_partitioning.ps\n",
      "AA.S0009.BXZ.semd\t    mesh_partition_number.vtk\n",
      "AA.S0010.BXX.semd\t    mesh_stability.ps\n",
      "AA.S0010.BXZ.semd\t    mesh_S_wave_dispersion.ps\n",
      "AA.S0011.BXX.semd\t    output_list_stations.txt\n",
      "AA.S0011.BXZ.semd\t    output_meshfem2d.txt\n",
      "AA.S0012.BXX.semd\t    output_solver.txt\n",
      "AA.S0012.BXZ.semd\t    plot_points_per_wavelength_histogram.gnu\n",
      "AA.S0013.BXX.semd\t    plot_source_time_function.txt\n",
      "AA.S0013.BXZ.semd\t    points_per_wavelength_histogram_P_in_fluid.txt\n",
      "AA.S0014.BXX.semd\t    points_per_wavelength_histogram_S_in_solid.txt\n",
      "AA.S0014.BXZ.semd\t    P_velocity_model.ps\n",
      "AA.S0015.BXX.semd\t    Ux_file_single_d.bin\n",
      "AA.S0015.BXZ.semd\t    Uz_file_single_d.bin\n",
      "AA.S0016.BXX.semd\t    vect0000005.ps\n",
      "AA.S0016.BXZ.semd\t    vect0000100.ps\n",
      "AA.S0017.BXX.semd\t    vect0000200.ps\n",
      "AA.S0017.BXZ.semd\t    vect0000300.ps\n",
      "AA.S0018.BXX.semd\t    vect0000400.ps\n",
      "AA.S0018.BXZ.semd\t    vect0000500.ps\n",
      "AA.S0019.BXX.semd\t    vect0000600.ps\n",
      "AA.S0019.BXZ.semd\t    vect0000700.ps\n",
      "AA.S0020.BXX.semd\t    vect0000800.ps\n",
      "AA.S0020.BXZ.semd\t    vect0000900.ps\n",
      "AA.S0021.BXX.semd\t    vect0001000.ps\n",
      "AA.S0021.BXZ.semd\t    vect0001100.ps\n",
      "AA.S0022.BXX.semd\t    vect0001200.ps\n",
      "AA.S0022.BXZ.semd\t    vect0001300.ps\n",
      "Database00000.bin\t    vect0001400.ps\n",
      "forward_image000000005.jpg  vect0001500.ps\n",
      "forward_image000000100.jpg  vect0001600.ps\n"
     ]
    }
   ],
   "source": [
    "! ls OUTPUT_FILES"
   ]
  },
  {
   "cell_type": "markdown",
   "metadata": {},
   "source": [
    "!!! Go through the solver log here !!!"
   ]
  },
  {
   "cell_type": "markdown",
   "metadata": {},
   "source": [
    "### 5) Understanding SPECFEM2D Output Files\n",
    "\n",
    "The `xspecfem2D` file has created a plethora of results! Let's have a look one by one to see what each of these files are, and how they can help us understand our simulation.\n",
    "\n",
    "#### a) Velocity Model\n",
    "\n",
    "`xspecfem2D` outputs the velocity model into the *DATA/* directory. We can use some utility functions written into `SeisFlows` to plot this model to help us visualize our domain."
   ]
  },
  {
   "cell_type": "code",
   "execution_count": 60,
   "metadata": {},
   "outputs": [
    {
     "name": "stdout",
     "output_type": "stream",
     "text": [
      "DATA/proc000000_jacobian.bin\t DATA/proc000000_vp.bin  DATA/proc000000_z.bin\n",
      "DATA/proc000000_NSPEC_ibool.bin  DATA/proc000000_vs.bin\n",
      "DATA/proc000000_rho.bin\t\t DATA/proc000000_x.bin\n"
     ]
    }
   ],
   "source": [
    "# The .bin files define our velocity model\n",
    "! ls DATA/*bin"
   ]
  },
  {
   "cell_type": "code",
   "execution_count": 63,
   "metadata": {},
   "outputs": [
    {
     "data": {
      "image/png": "[encoded data removed]",
      "text/plain": [
       "<Figure size 766.097x642.724 with 2 Axes>"
      ]
     },
     "metadata": {},
     "output_type": "display_data"
    }
   ],
   "source": [
    "# We can use SeisFlows to plot this model\n",
    "from seisflows.tools.specfem import Model\n",
    "\n",
    "m = Model(path=\"DATA\")\n",
    "m.plot2d(parameter=\"vs\")"
   ]
  },
  {
   "cell_type": "code",
   "execution_count": null,
   "metadata": {},
   "outputs": [],
   "source": []
  }
 ],
 "metadata": {
  "kernelspec": {
   "display_name": "Python 3 (ipykernel)",
   "language": "python",
   "name": "python3"
  },
  "language_info": {
   "codemirror_mode": {
    "name": "ipython",
    "version": 3
   },
   "file_extension": ".py",
   "mimetype": "text/x-python",
   "name": "python",
   "nbconvert_exporter": "python",
   "pygments_lexer": "ipython3",
   "version": "3.10.6"
  }
 },
 "nbformat": 4,
 "nbformat_minor": 4
}
