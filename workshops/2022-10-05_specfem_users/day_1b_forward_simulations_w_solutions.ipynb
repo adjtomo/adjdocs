{
 "cells": [
  {
   "cell_type": "markdown",
   "id": "347bc0f7-6dbe-454c-a95a-8469d8efe1c2",
   "metadata": {},
   "source": [
    "# SPECFEM Users Workshop -- Day 1 (Oct. 5, 2022)\n",
    "## Day 1B: Forward Simulations\n",
    "\n",
    "- Here we build upon material learned in Day 1A  \n",
    "- This notebook allows Users to play around with their own SPECFEM2D homogeneous halfspace example\n",
    "- **Objective:** Familiarize Users with setting `SOURCE` and `STATION` attributes, adjusting velocity model parameters, and assess simulation results.\n",
    "- These instructions should be run from inside the Docker container, using Jupyter Lab (see *Docker Preamble* in Day 0). \n",
    "\n",
    "-----------\n",
    "\n",
    "**Relevant Links:** \n",
    "- Day 1 Slides !!! ADD THIS !!!\n",
    "- Today's Notebook: https://github.com/adjtomo/adjdocs/blob/main/workshops/2022-10-05_specfem_users/day_1b_forward_simulations.ipynb\n",
    "- Completed Notebook https://github.com/adjtomo/adjdocs/blob/main/workshops/2022-10-05_specfem_users/completed_notebooks/day_1b_forward_simulations.ipynb)\n",
    "- Day 0 Notebook (Container Testing): https://github.com/adjtomo/adjdocs/blob/main/workshops/2022-10-05_specfem_users/day_0_container_testing.ipynb\n",
    "\n",
    "**Jupyter Quick Tips:**\n",
    "\n",
    "- **Run cells** one-by-one by hitting the $\\blacktriangleright$ button at the top, or by hitting `Shift + Enter`\n",
    "- **Run all cells** by hitting the $\\blacktriangleright\\blacktriangleright$ button at the top, or by running `Run -> Run All Cells`\n",
    "- **Currently running cells** that are still processing will have a `[*]` symbol next to them\n",
    "- **Finished cells** will have a `[1]` symbol next to them. The number inside the brackets represents what order this cell has been run in.\n",
    "- Commands that start with `!` are Bash commands (i.e., commands you would run from the terminal)\n",
    "- Commands that start with `%` are Jupyter Magic commands.\n",
    "- To time a task, put a `%time` before the command (e.g., `%time ! ls`)\n"
   ]
  },
  {
   "cell_type": "markdown",
   "id": "17fed39d-3309-4957-b254-66c67ca131be",
   "metadata": {},
   "source": [
    "------\n",
    "## 1) Set Up a SPECFEM Working Directory\n",
    "\n",
    "- It is often desireable to run SPECFEM outside of the cloned repository, in order to keep files and outputs manageable  \n",
    "- The trick here is that SPECFEM **only** requires 3 compenents for a sucessful simulation, the `bin/`, `DATA/`, and `OUTPUT_FILES/` directories  \n",
    "- **NOTE:** We will working in the directory `/home/scoped/work/day_1/specfem2d_workdir`. All the following cells assume that we are in this directory  "
   ]
  },
  {
   "cell_type": "code",
   "execution_count": null,
   "id": "112187f5-8bbc-400a-ae1e-2e73927b8832",
   "metadata": {},
   "outputs": [],
   "source": [
    "# Python packages required for this notebook\n",
    "import numpy as np\n",
    "import matplotlib.pyplot as plt\n",
    "from IPython.display import Image"
   ]
  },
  {
   "cell_type": "code",
   "execution_count": null,
   "id": "a7c386f6-0c75-4d44-b532-a1455eefd1cc",
   "metadata": {},
   "outputs": [],
   "source": [
    "# Create the correct dir. and move there\n",
    "! mkdir -p /home/scoped/work/day_1/specfem2d_workdir\n",
    "%cd /home/scoped/work/day_1/specfem2d_workdir\n",
    "\n",
    "# Symlink the executables, copy example DATA/, create empty OUTPUT_FILES\n",
    "! ln -s /home/scoped/specfem2d/bin .\n",
    "! cp -r /home/scoped/specfem2d/EXAMPLES/Tape2007/DATA .\n",
    "! mkdir OUTPUT_FILES\n",
    "\n",
    "! ls"
   ]
  },
  {
   "cell_type": "markdown",
   "id": "e6404755-a37c-40bf-aab5-377f46f57e9d",
   "metadata": {},
   "source": [
    "## 2) Experimental Setup: Tape et al. 2007 Example Problem\n",
    "\n",
    "- We will be working with an Example problem from the [Tape et al. 2007 GJI publication](https://academic.oup.com/gji/article/168/3/1105/929373)\n",
    "- [GitHub repository location of the example problem](https://github.com/geodynamics/specfem2d/tree/devel/EXAMPLES/Tape2007)\n",
    "- This example pre-defines two models (homogeneous halfspace, checkerboard), multiple (25) seismic sources, and multiple (132) stations  \n",
    "- In this section we will use a homogeneous halfspace model  \n",
    "- In your own research you can use any language to help you visualize and understand your problem, here we use Python  "
   ]
  },
  {
   "cell_type": "code",
   "execution_count": null,
   "id": "1a6f77cb-7fe9-4904-8b67-9c4cc01fa5c2",
   "metadata": {},
   "outputs": [],
   "source": [
    "! ls DATA/"
   ]
  },
  {
   "cell_type": "markdown",
   "id": "5d25b21b-88bd-49ad-a004-2546a25033c7",
   "metadata": {},
   "source": [
    "The above example problem defines:\n",
    "- `Par_file` for a homogeneous halfspace model in `Par_file_Tape2007_onerec`\n",
    "- `Par_file` for a checkerboard model in `Par_file_Tape2007_132rec_checker`\n",
    "- `Mesh` files in: *interfaces_Tape2007.dat* and the `Par_file_*`\n",
    "- `Model` files in: *model_velocity.dat_checker*\n",
    "- `Source` files in: the 25 *SOURCE_???* files\n",
    "- `Stations`: in the *STATIONS_checker* file"
   ]
  },
  {
   "cell_type": "markdown",
   "id": "45306979-343e-4c4e-b789-883b68f9c13d",
   "metadata": {},
   "source": [
    "### a) The Homogeneous Halfspace Model\n",
    "\n",
    "- The homogeneous halfspace model in this example is defined internally, in the `Par_file`\n",
    "- A homogeneous halfspace defines single set of properties for the entire domain  \n",
    "- You can find the velocity model in the `Par_file`\n",
    "- Here we use the utility `seisflows sempar velocity_model` command to look at model values  "
   ]
  },
  {
   "cell_type": "code",
   "execution_count": null,
   "id": "750276b8-24a9-48df-98f9-fdfee1ccbc68",
   "metadata": {},
   "outputs": [],
   "source": [
    "# Bash commands to look at the Par_file\n",
    "! head -262 DATA/Par_file_Tape2007_onerec | tail -31\n",
    "! echo \"...\"\n",
    "# SeisFlows utility function to look at the Par_file\n",
    "! seisflows sempar -P DATA/Par_file_Tape2007_onerec velocity_model"
   ]
  },
  {
   "cell_type": "markdown",
   "id": "60e680ca-b9d9-4782-8e75-12cf3f8ecc7a",
   "metadata": {},
   "source": [
    "According to the `Par_file` comments, the model parameter values represent the following:  \n",
    "\n",
    "```bash\n",
    "model_number 1 rho Vp Vs 0 0 QKappa Qmu  0 0 0 0 0 0\n",
    "1 1 2600.d0 5800.d0 3500.0d0 0 0 10.d0 10.d0 0 0 0 0 0 0\n",
    "```\n",
    "\n",
    "- The homogeneous halfspace model defines a region with P-wave velocity $V_p=5.8$km/s and S-wave velocity $V_s=3.5$km/s.\n",
    "- The halfspace is also defined by density and attenuation\n",
    "- We can understand the structure of the mesh by looking at the `Par_file` and the `interfaces_Tape2007.dat` file. "
   ]
  },
  {
   "cell_type": "code",
   "execution_count": null,
   "id": "d37b7b2c-f83c-4719-9ce1-ffd50656f1eb",
   "metadata": {},
   "outputs": [],
   "source": [
    "# Look at Mesh parameters to view the size of the domain\n",
    "! head -305 DATA/Par_file_Tape2007_onerec | tail -n 25"
   ]
  },
  {
   "cell_type": "code",
   "execution_count": null,
   "id": "782e1f9f-58df-4f81-b744-dbd67896f806",
   "metadata": {},
   "outputs": [],
   "source": [
    "# Look at interface parameters \n",
    "! cat DATA/interfaces_Tape2007.dat"
   ]
  },
  {
   "cell_type": "markdown",
   "id": "3f1ed3bc-e50a-4942-89be-34acd56077ea",
   "metadata": {},
   "source": [
    "#### Understanding the Mesh parameters\n",
    "\n",
    "- From the files above, we can see that the X and Z dimensions of our mesh range from 0m to 480000.0m\n",
    "- Each dimension is separated into 40 elements (defined by `nxmin`, `nxmax` etc. in the `Par_file` and defined by the layer numbers in the interfaces file)  \n",
    "- That means each spectral element in our 2D mesh spans 12000.0m  (12km)\n",
    "- Also note that above we previously learned that the $V_s$ model has a homogeneous value of 3.5 km/s\n",
    "\n",
    "#### Visualizing the Model\n",
    "We can make a simple plot using Matplotlib to illustrate what our mesh might look like"
   ]
  },
  {
   "cell_type": "code",
   "execution_count": null,
   "id": "0e8a6c6c-373b-431a-a3ca-5e7e3915d5df",
   "metadata": {},
   "outputs": [],
   "source": [
    "def plot_homogeneous_halfspace():\n",
    "    \"\"\"Plots a representation of the SPECFEM2D homogeneous halfspace model\"\"\"\n",
    "    # Sets the X and Z dimensions of our mesh\n",
    "    x = np.arange(0, 480000, 4000)\n",
    "    z = np.arange(0, 480000, 4000)\n",
    "    \n",
    "    # Reformat the 1D arrays into 2D\n",
    "    xv, zv = np.meshgrid(x, z)\n",
    "\n",
    "    # Set a homogeneous value of Vs=3.5km/s \n",
    "    vs = 3.5 * np.ones(np.shape(xv))\n",
    "\n",
    "    # Plot the arrays as a homogeneous halfspace\n",
    "    plt.tricontourf(xv.flatten(), zv.flatten(), vs.flatten(), cmap=\"seismic_r\", vmin=3.1, vmax=4.)\n",
    "    plt.colorbar(label=\"Vs [km/s]\", format=\"%.1f\")\n",
    "    plt.title(\"2D Homogeneous Halfspace Model\\n Vs=3.5km/s\")\n",
    "    \n",
    "# Calls the function we just defined\n",
    "plot_homogeneous_halfspace()"
   ]
  },
  {
   "cell_type": "markdown",
   "id": "7dbbfc22-a140-4160-87b0-bda887572f8f",
   "metadata": {},
   "source": [
    "### b) Visualizing Source-Receiver Geometry\n",
    "\n",
    "- We can similarly plot the SOURCES and STATIONS available to see what the experiemental setup looks like  \n",
    "- This is the same Python-based approach we took in the Day 1A notebook"
   ]
  },
  {
   "cell_type": "code",
   "execution_count": null,
   "id": "b771c1f0-d11f-4087-9206-f9e146857106",
   "metadata": {},
   "outputs": [],
   "source": [
    "# Grab coordinates from STATIONS file\n",
    "sta_x, sta_z = np.genfromtxt(\"DATA/STATIONS_checker\", dtype=float, usecols=[2, 3]).T\n",
    "\n",
    "# Grab coordinates from each SOURCE file\n",
    "ev_x, ev_z = [], []\n",
    "for i in range(1, 26):\n",
    "    source_file = f\"DATA/SOURCE_{i:0>3}\"\n",
    "    with open(source_file, \"r\") as f:\n",
    "        lines = f.readlines()\n",
    "    # Trying to break apart the following line\n",
    "    # 'xs = 299367.72      # source location x in meters\\n'\n",
    "    xs = float(lines[2].split(\"=\")[1].split(\"#\")[0].strip())\n",
    "    zs = float(lines[3].split(\"=\")[1].split(\"#\")[0].strip())\n",
    "    \n",
    "    ev_x.append(xs)\n",
    "    ev_z.append(zs)\n",
    "    \n",
    "# Plot SOURCES and STATIONS together. Annotate names\n",
    "plot_homogeneous_halfspace()\n",
    "plt.scatter(ev_x, ev_z, c=\"y\", marker=\"*\", s=100, edgecolor=\"k\")\n",
    "plt.scatter(sta_x, sta_z, c=\"c\", marker=\"v\", s=20, edgecolor=\"k\")\n",
    "plt.title(\"SOURCE-RECEIVER GEOMETRY\")"
   ]
  },
  {
   "cell_type": "code",
   "execution_count": null,
   "id": "b3fc21b9-2d3b-448e-894a-e5b24613b492",
   "metadata": {},
   "outputs": [],
   "source": [
    "# Plot SOURCES next to source names\n",
    "plot_homogeneous_halfspace()\n",
    "for i, (x, z) in enumerate(zip(ev_x, ev_z)):\n",
    "    plt.scatter(ev_x, ev_z, c=\"y\", marker=\"*\", s=100, edgecolor=\"k\")\n",
    "    plt.text(x, z, f\"{i+1:0>3}\")  # SOURCE numbering starts at 1\n",
    "plt.title(f\"SOURCES; N={len(ev_x)}\")"
   ]
  },
  {
   "cell_type": "code",
   "execution_count": null,
   "id": "76bbb1fc-143b-465c-a602-fecf18db2577",
   "metadata": {
    "tags": []
   },
   "outputs": [],
   "source": [
    "# Plot STATIONS with their names\n",
    "# Because STATIONS are so close, numbers will be jumbled.\n",
    "plot_homogeneous_halfspace()\n",
    "for i, (x, z) in enumerate(zip(sta_x, sta_z)):\n",
    "    plt.scatter(x, z, c=\"c\", marker=\"v\", s=8)\n",
    "    plt.text(x, z, f\"{i:0>3}\", fontsize=9)\n",
    "plt.title(f\"STATIONS; N={len(sta_x)}\")"
   ]
  },
  {
   "cell_type": "markdown",
   "id": "608f10cc-ec85-4ef3-af58-6d272595a6e7",
   "metadata": {},
   "source": [
    "- Upside-down blue triangles represent the 132 receivers in this example\n",
    "- The 25 yellow stars are the sources. "
   ]
  },
  {
   "cell_type": "markdown",
   "id": "311aa16b-ea8b-4e4d-963f-be0f2934befd",
   "metadata": {},
   "source": [
    "----------\n",
    "## 2) Running SPECFEM2D\n",
    "\n",
    "- Before we run the example, we need to do some organizational bookkeeping  \n",
    "- We will choose ONE of our source files to act as our source\n",
    "- We will choose ONE stations to act as our station file  "
   ]
  },
  {
   "cell_type": "markdown",
   "id": "3a108d69-3f38-4957-84a4-a1524cf2e363",
   "metadata": {},
   "source": [
    "### a) Choosing a Source file\n",
    "\n",
    "- SPECFEM2D will look for a file named `SOURCE` in the *DATA/* directory to define its source"
   ]
  },
  {
   "cell_type": "code",
   "execution_count": null,
   "id": "ec99617a-eceb-47bb-a6dd-d1250baeb9d0",
   "metadata": {},
   "outputs": [],
   "source": [
    "# Choose SOURCE_001 as our SOURCE File\n",
    "! cp -f DATA/SOURCE_001 DATA/SOURCE\n",
    "\n",
    "# > Make sure that the SOURCE name printed below matches choice\n",
    "! head -1 DATA/SOURCE"
   ]
  },
  {
   "cell_type": "markdown",
   "id": "8128b017-4b09-471e-82e1-e870163fdc4c",
   "metadata": {},
   "source": [
    "### b) Choosing Stations\n",
    "\n",
    "- SPECFEM2D will look for a file named `STATIONS` in the *DATA/* directory to define its stations\n",
    "- The `STATIONS_checker` file defines 132 different station locations  \n",
    "- We can choose what stations we use by copying over a subset of the original station list.\n",
    "- We only want **one** of the 132 stations for this simulation  \n",
    "- You can do this with Python, Bash, a text editor, etc.\n",
    "- **NOTE**: Individual synthetic seismograms simply extract the simulated wavefield at a location, i.e., computational expense is not tied to the number of stations. "
   ]
  },
  {
   "cell_type": "code",
   "execution_count": null,
   "id": "820a30c4-995a-40f4-af31-d191df9de2a3",
   "metadata": {},
   "outputs": [],
   "source": [
    "# Write out a NEW stations file by choosing station numbers\n",
    "! head -1 DATA/STATIONS_checker > DATA/STATIONS"
   ]
  },
  {
   "cell_type": "code",
   "execution_count": null,
   "id": "b8562560-71b7-47a5-99ab-b248bacaa98a",
   "metadata": {},
   "outputs": [],
   "source": [
    "! cat DATA/STATIONS"
   ]
  },
  {
   "cell_type": "markdown",
   "id": "434e7b88-c8df-445a-8b27-4aeca090ab79",
   "metadata": {},
   "source": [
    "### c) Setting up the `Par_file`\n",
    "\n",
    "- SPECFEM2D will look for a file called `Par_file` in the *DATA/* directory to set its parameters\n",
    "- We will copy over the `Par_file_Tape2007_onerec` to define our parameter file  \n",
    "- We need to change a few key parameters in the `Par_file` to run SPECFEM2D with desired behavior.  \n",
    "- We use the `seisflows sempar` command to make the changes but this can be done with a text editor, Bash etc."
   ]
  },
  {
   "cell_type": "code",
   "execution_count": null,
   "id": "bd334756-1b7f-42ee-9ab7-d5dfe4885924",
   "metadata": {},
   "outputs": [],
   "source": [
    "# Copy in the Example parameter file\n",
    "! cp -f DATA/Par_file_Tape2007_onerec DATA/Par_file\n",
    "\n",
    "# Set some necessary parameters for later in the Par_file\n",
    "! seisflows sempar -P DATA/Par_file nproc 4\n",
    "! seisflows sempar -P DATA/Par_file use_existing_stations .true."
   ]
  },
  {
   "cell_type": "markdown",
   "id": "33f9725e-7961-4bfb-8e03-8c6fe182558a",
   "metadata": {},
   "source": [
    "#### Par_file parameter changes\n",
    "\n",
    "`NPROC`: Sets the number of MPI processors to partition the mesh and run the simulation with. This MUST match the value following `-n` in the MPI call below.    \n",
    "`use_existing_STATIONS`: Use the STATIONS file we created, as opposed to the `Par_file` definition of stations  "
   ]
  },
  {
   "cell_type": "markdown",
   "id": "b4e4902b-4f80-4649-8310-239c09160b7c",
   "metadata": {},
   "source": [
    "### d) Run the example\n",
    "\n",
    "- Now that we have set the `Par_file`, the `SOURCE` and `STATIONS` file, we are able to run `xmeshfem2D` and `xspecfem2D` to run our forward simulation.\n",
    "- We use 4 MPI processes to run this homogeneous halfspace simulation\n",
    "- We expect only **one** synthetic seismogram to be output from this simulation  "
   ]
  },
  {
   "cell_type": "code",
   "execution_count": null,
   "id": "a7e9f27d-b9c7-4973-94b6-d70c18bb507d",
   "metadata": {},
   "outputs": [],
   "source": [
    "# Ensures we're running with a clean OUTPUT directory\n",
    "! rm -rf OUTPUT_FILES\n",
    "! mkdir OUTPUT_FILES\n",
    "\n",
    "! mpirun -n 4 bin/xmeshfem2D > OUTPUT_FILES/output_meshfem.txt\n",
    "! mpirun -n 4 bin/xspecfem2D > OUTPUT_FILES/output_solver.txt"
   ]
  },
  {
   "cell_type": "markdown",
   "id": "137539fe-a4ea-43de-a2dc-b5b9ba0efcee",
   "metadata": {},
   "source": [
    "### e) Examine Output Files\n",
    "\n",
    "- Confirm that we have created **one** displacement seismogram\n",
    "- Look at the forward simulation figures to see if things make sense\n"
   ]
  },
  {
   "cell_type": "code",
   "execution_count": null,
   "id": "12fa8c43-0427-4e3e-a362-ff8b74bc49f9",
   "metadata": {},
   "outputs": [],
   "source": [
    "! ls OUTPUT_FILES/\n",
    "! echo\n",
    "! ls OUTPUT_FILES/*.semd"
   ]
  },
  {
   "cell_type": "code",
   "execution_count": null,
   "id": "d6c7c0be-dc4a-40e8-b90c-b11a95a62b5e",
   "metadata": {},
   "outputs": [],
   "source": [
    "# We can use the record section tool in PySEP to plot our waveforms\n",
    "! recsec --syn_path OUTPUT_FILES/ --cmtsolution DATA/SOURCE --stations DATA/STATIONS --components Y --cartesian -L INFO \n",
    "Image(\"record_section.png\")"
   ]
  },
  {
   "cell_type": "code",
   "execution_count": null,
   "id": "ab3583a6-d390-4935-90ae-9daea4173032",
   "metadata": {},
   "outputs": [],
   "source": [
    "# We can also look at the wavefield snapshots\n",
    "Image(\"OUTPUT_FILES/forward_image000000800.jpg\")"
   ]
  },
  {
   "cell_type": "code",
   "execution_count": null,
   "id": "10c412a1-4e03-479b-84f8-5fdbdf0a2815",
   "metadata": {},
   "outputs": [],
   "source": [
    "# We can also look at the wavefield snapshots\n",
    "Image(\"OUTPUT_FILES/forward_image000001200.jpg\")"
   ]
  },
  {
   "cell_type": "code",
   "execution_count": null,
   "id": "c9ecc03a-4c45-412e-95ac-a8fe8cedc248",
   "metadata": {},
   "outputs": [],
   "source": [
    "# We can also look at the wavefield snapshots\n",
    "Image(\"OUTPUT_FILES/forward_image000002200.jpg\")"
   ]
  },
  {
   "cell_type": "markdown",
   "id": "6fcefb08-43e0-4599-b98f-96bdab8e0f24",
   "metadata": {},
   "source": [
    "---------------------\n",
    "## 3) Forward Simulation Exercise\n",
    "\n",
    "- Participants will now be asked to edit simulation parameters to run their own unique simulation\n",
    "- Some things that you are asked to try include:\n",
    "    1) Change the parameters of the homogeneous halfspace model defined in the `Par_file` \n",
    "    2) Define a STATIONS file with a uniform grid of stations to record synthetics throughout the domain\n",
    "    3) Choose a different source, or increase the energy released by the source (using the moment tensor)\n",
    "    4) Re-run the mesher and solver to get new synthetics\n",
    "    5) Analyze the new results in comparison to the old results"
   ]
  },
  {
   "cell_type": "code",
   "execution_count": null,
   "id": "6b9a5277-4a40-42aa-8fca-9b8046f0e84a",
   "metadata": {},
   "outputs": [],
   "source": [
    "! rm -rf /home/scoped/work/day_1/exercise\n",
    "! mkdir -p /home/scoped/work/day_1/exercise\n",
    "%cd /home/scoped/work/day_1/exercise\n",
    "\n",
    "# Symlink the executables, copy example DATA/, create empty OUTPUT_FILES\n",
    "! ln -s /home/scoped/specfem2d/bin .\n",
    "! cp -r /home/scoped/specfem2d/EXAMPLES/Tape2007/DATA .\n",
    "! mkdir OUTPUT_FILES\n",
    "\n",
    "# Set the Par_file\n",
    "! cp DATA/Par_file_Tape2007_onerec DATA/Par_file\n",
    "\n",
    "! ls"
   ]
  },
  {
   "cell_type": "markdown",
   "id": "8cd26365-87e4-40bd-800f-868afbd69676",
   "metadata": {
    "tags": []
   },
   "source": [
    "#### Step 1: Edit the Velocity Model\n",
    "- Change the velocity model parameters in the homogeneous halfspace model\n",
    "- This model is defined in the `Par_file`\n",
    "- Try **increasing** seismic velocity (Vp and Vs) by 10\\%\n",
    "- You can use Python, Bash, `seisflows sempar` or a Text Editor to do this  "
   ]
  },
  {
   "cell_type": "code",
   "execution_count": null,
   "id": "12f536c7-8cb0-4dcd-af29-6820767144ae",
   "metadata": {},
   "outputs": [],
   "source": [
    "# Figure out current values\n",
    "! seisflows sempar -P DATA/Par_file velocity_model"
   ]
  },
  {
   "cell_type": "code",
   "execution_count": null,
   "id": "a6cdfdaa-cb30-4118-ab5f-f3f2fd275c64",
   "metadata": {},
   "outputs": [],
   "source": [
    "vp = 5800. \n",
    "vs = 3500. * 1.1\n",
    "\n",
    "print(f\"vp={vp}; vs={vs}\")"
   ]
  },
  {
   "cell_type": "code",
   "execution_count": null,
   "id": "652544c7-a0aa-4865-b55c-e47d879a99d4",
   "metadata": {},
   "outputs": [],
   "source": [
    "# Overwrite the current velocity model with a +10% model\n",
    "! seisflows sempar -P DATA/Par_file velocity_model \"1 1 2600.d0 6380.d0 3850.0d0 0 0 10.d0 10.d0 0 0 0 0 0 0\""
   ]
  },
  {
   "cell_type": "markdown",
   "id": "6c61455a-91a7-49fd-a1c4-68da1576bd64",
   "metadata": {},
   "source": [
    "#### Step 2: Create a New STATIONS File\n",
    "- Define a STATIONS file that covers the entier domain with a uniform grid spacing of dx=100km and dz=100km starting at (0, 0)\n",
    "- Use Python/NumPy or simply write out a new text file with the text editor\n",
    "- Look at *DATA/STATIONS_checker* for an example of how the file should look\n",
    "- **NOTE**: The last two columns (burial, elevation) can be 0."
   ]
  },
  {
   "cell_type": "code",
   "execution_count": null,
   "id": "e694e065-ae22-433b-9642-ab942d32e41a",
   "metadata": {},
   "outputs": [],
   "source": [
    "# Par_file defines the 'X' dimension of the mesh\n",
    "! head -293 DATA/Par_file | tail -n 3"
   ]
  },
  {
   "cell_type": "code",
   "execution_count": null,
   "id": "af01db33-d257-4614-97c2-a64dc1849e40",
   "metadata": {},
   "outputs": [],
   "source": [
    "# Interfaces defines the 'Z' dimension of the mesh\n",
    "! cat DATA/interfaces_Tape2007.dat"
   ]
  },
  {
   "cell_type": "code",
   "execution_count": null,
   "id": "87933592-9a21-4469-a137-55aba4623735",
   "metadata": {},
   "outputs": [],
   "source": [
    "# Loop through X and Z discretizations of 40km\n",
    "i = 0\n",
    "with open(\"DATA/STATIONS\", \"w\") as f:\n",
    "    for x in range(0, 480000, 100000):\n",
    "        for z in range(0, 480000, 100000):\n",
    "            f.write(f\"S{i:0>6} AA {x:9.2f} {z:9.2f} 0. 0.\\n\")\n",
    "            i += 1\n",
    "            \n",
    "! cat DATA/STATIONS"
   ]
  },
  {
   "cell_type": "markdown",
   "id": "b1b6e9be-74d5-4362-9fe6-ab424f2a47c6",
   "metadata": {},
   "source": [
    "#### Step 3: Choose and edit a SOURCE file\n",
    "\n",
    "- Use `SOURCE_010` as your simulation source\n",
    "- Change the moment tensor (Mxx, Mzz, Mxz) to make this an explosive source"
   ]
  },
  {
   "cell_type": "code",
   "execution_count": null,
   "id": "9401f2f6-2dfb-48b2-a57c-c04b03a3eb0b",
   "metadata": {},
   "outputs": [],
   "source": [
    "! cp DATA/SOURCE_010 DATA/SOURCE\n",
    "! head -51 DATA/SOURCE | tail -n 3"
   ]
  },
  {
   "cell_type": "code",
   "execution_count": null,
   "id": "95d2adb6-09f0-4a01-91f9-958c3c94907c",
   "metadata": {},
   "outputs": [],
   "source": [
    "lines = open(\"DATA/SOURCE\", \"r\").readlines()\n",
    "for i, line in enumerate(lines):\n",
    "    for value in [\"Mxx\", \"Mzz\", \"Mxz\"]:\n",
    "        if value in line:\n",
    "            lines[i] = f\"{value} = 1.0\\n\"\n",
    "\n",
    "with open(\"DATA/SOURCE\", \"w\") as f:\n",
    "    f.writelines(lines)\n",
    "    \n",
    "! head -51 DATA/SOURCE | tail -n 3"
   ]
  },
  {
   "cell_type": "markdown",
   "id": "c5f9886a-46bf-4834-8a5f-099c9da6aefd",
   "metadata": {},
   "source": [
    "#### Step 4: Run the Solver and Analyze Outputs\n",
    "\n",
    "- Run the mesher and solver with your new experimental setup\n",
    "- **Remember** to tell SPECFEM to use your `STATIONS` file and not its internal representation of stations\n",
    "- **Remember** to tell SPECFEM that we want to run this with 4 processors\n",
    "- Look at the source images to see if your explosion makes sense\n",
    "- Plot waveforms output from your gridded stations"
   ]
  },
  {
   "cell_type": "code",
   "execution_count": null,
   "id": "266dfdbc-63cb-4087-983e-0b99863c2266",
   "metadata": {},
   "outputs": [],
   "source": [
    "! seisflows sempar -P DATA/Par_file nproc 4\n",
    "! seisflows sempar -P DATA/Par_file use_existing_stations .true.\n",
    "\n",
    "! mpirun -n 4 bin/xmeshfem2D > OUTPUT_FILES/output_mesher.txt\n",
    "! mpirun -n 4 bin/xspecfem2D > OUTPUT_FILES/output_solver.txt\n",
    "\n",
    "! tail OUTPUT_FILES/output_solver.txt"
   ]
  },
  {
   "cell_type": "code",
   "execution_count": null,
   "id": "ba373148-dbc6-48d3-95f1-6226b66c6398",
   "metadata": {},
   "outputs": [],
   "source": [
    "Image(\"OUTPUT_FILES/forward_image000001200.jpg\")"
   ]
  },
  {
   "cell_type": "code",
   "execution_count": null,
   "id": "ff0ebd14-ac04-4f5c-ae0d-701330d389f9",
   "metadata": {},
   "outputs": [],
   "source": [
    "! seisflows plotst OUTPUT_FILES/AA.S000000.BXY.semd --save AA.S000000.BXY.png\n",
    "Image(\"AA.S000000.BXY.png\")"
   ]
  },
  {
   "cell_type": "markdown",
   "id": "0f018695-cf12-40f0-a117-6ce362020471",
   "metadata": {},
   "source": [
    "-----------\n",
    "## 4) Optional: Automating Forward Simulations with SeisFlows\n",
    "\n",
    "- `SeisFlows` is an automated workflow tool which takes care of all the tasks required to run SPECFEM. \n",
    "- SeisFlows employs various preprocessing and optimization methods for seismic inversions (to be seen in Day 2 & 3). \n",
    "- We can automate forward simulations for multiple events in the Example we just ran. \n",
    "- SeisFlows Example \\#3 runs a automated en-masse forward simulations."
   ]
  },
  {
   "cell_type": "code",
   "execution_count": null,
   "id": "3a23b2bf-02c8-4a40-9a82-748f8ae376e1",
   "metadata": {},
   "outputs": [],
   "source": [
    "# Make sure were running in a clean working directory\n",
    "! mkdir /home/scoped/work/day_1/sfexample_3\n",
    "%cd /home/scoped/work/day_1/sfexample_3\n",
    "\n",
    "# The `example` command will setup and run our forward simulations\n",
    "! seisflows examples run 3 -r /home/scoped/specfem2d/ --with_mpi --nproc 2"
   ]
  },
  {
   "cell_type": "markdown",
   "id": "55f1cc63-9f08-4cb5-a440-f19efa5e1956",
   "metadata": {},
   "source": [
    "#### Understanding SeisFlows outputs\n",
    "\n",
    "- The example problem ran 10 simulations for 10 different sources (SOURCE_001 -> SOURCE_010)\n",
    "- It used a homogeneous halfspace model, the same as shown above\n",
    "- Each simulation output synthetic seismograms related to 25 station locations (Stations 1 -> 25)\n",
    "- Each Solver directory is itself a small SPECFEM working directory\n",
    "- SeisFlows stores its results in the `output/` directory\n",
    "- In the example, we have told SeisFlows to export synthetic waveforms generated by the solver"
   ]
  },
  {
   "cell_type": "code",
   "execution_count": null,
   "id": "0bb78c93-8e47-41e4-90b5-e6bab7c9cfd4",
   "metadata": {},
   "outputs": [],
   "source": [
    "# Each Solver directory is a SPECFEM working directory\n",
    "! ls scratch/solver\n",
    "! echo\n",
    "! ls scratch/solver/001"
   ]
  },
  {
   "cell_type": "code",
   "execution_count": null,
   "id": "d4b6cadd-b571-4005-b989-e136e19283d9",
   "metadata": {},
   "outputs": [],
   "source": [
    "# We ran through a homogeneous halfspace model !!! WRONG, FIX ME !!!\n",
    "! seisflows plot2d MODEL_INIT vs --savefig m_init_vs.png\n",
    "Image(\"m_init_vs.png\")"
   ]
  },
  {
   "cell_type": "code",
   "execution_count": null,
   "id": "bdb9c8d8-9899-43fe-b2f6-b8c2bdfb9795",
   "metadata": {},
   "outputs": [],
   "source": [
    "# Each solver exported its synthetics to the output/ directory\n",
    "! ls output/solver\n",
    "! echo\n",
    "!ls output/solver/001/syn"
   ]
  },
  {
   "cell_type": "code",
   "execution_count": null,
   "id": "548a2eea-ecff-40cd-84db-f7c8c4a82826",
   "metadata": {},
   "outputs": [],
   "source": [
    "# We can plot synthetics for a single station using RecSec\n",
    "! recsec --syn_path \"output/solver/001/syn\" --cmtsolution 'specfem2d_workdir/DATA/SOURCE_001' --stations 'specfem2d_workdir/DATA/STATIONS' --components Y --cartesian --save \"s01_recsec.png\"\n",
    "Image(\"s01_recsec.png\")"
   ]
  }
 ],
 "metadata": {
  "kernelspec": {
   "display_name": "Python 3 (ipykernel)",
   "language": "python",
   "name": "python3"
  },
  "language_info": {
   "codemirror_mode": {
    "name": "ipython",
    "version": 3
   },
   "file_extension": ".py",
   "mimetype": "text/x-python",
   "name": "python",
   "nbconvert_exporter": "python",
   "pygments_lexer": "ipython3",
   "version": "3.10.6"
  }
 },
 "nbformat": 4,
 "nbformat_minor": 5
}
