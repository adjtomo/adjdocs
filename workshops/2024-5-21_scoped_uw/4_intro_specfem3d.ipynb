{
 "cells": [
  {
   "cell_type": "markdown",
   "id": "347bc0f7-6dbe-454c-a95a-8469d8efe1c2",
   "metadata": {},
   "source": [
    "# 2024 SCOPED Workshop — Wavefield Simulations Using SPECFEM\n",
    "## Notebook 3: Intro to SPECFEM3D\n",
    "\n",
    "- SPECFEM3D_Cartesian follows very similar practices as SPECFEM2D.  \n",
    "- In this short introduction, we will explore the SPECFEM3D repository, and then run a small example homogeneous halfspace example. \n",
    "- These instructions should be run from inside the Docker container, using Jupyter Lab (see instructions [here](https://github.com/adjtomo/adjdocs/blob/main/readmes/docker_image_install.md)).\n",
    "\n",
    "-----------\n",
    "\n",
    "**Relevant Links:** \n",
    "- Today's Notebook: https://github.com/adjtomo/adjdocs/blob/main/workshops/2024-5-21_scoped_uw/4_intro_specfem3d.ipynb  \n",
    "- SPECFEM3D_Cartesian User Manual: https://github.com/geodynamics/specfem3d/blob/devel/doc/USER_MANUAL/manual_SPECFEM3D_Cartesian.pdf\n",
    "- SPECFEM3D_Cartesian GitHub Repository: https://github.com/geodynamics/specfem3d/tree/devel  \n",
    "\n",
    "**Jupyter Quick Tips:**\n",
    "\n",
    "- **Run cells** one-by-one by hitting the $\\blacktriangleright$ button at the top, or by hitting `Shift + Enter`\n",
    "- **Run all cells** by hitting the $\\blacktriangleright\\blacktriangleright$ button at the top, or by running `Run -> Run All Cells`\n",
    "- **Currently running cells** that are still processing will have a `[*]` symbol next to them\n",
    "- **Finished cells** will have a `[1]` symbol next to them. The number inside the brackets represents what order this cell has been run in.\n",
    "- Commands that start with `!` are Bash commands (i.e., commands you would run from the terminal)\n",
    "- Commands that start with `%` are Jupyter Magic commands.\n",
    "- To time a task, put a `%time` before the command (e.g., `%time ! ls`)"
   ]
  },
  {
   "cell_type": "markdown",
   "id": "b5326085-4028-4446-9c9b-2c3438a2c222",
   "metadata": {
    "tags": []
   },
   "source": [
    "------------\n",
    "## 1) Package Exploration\n",
    "\n",
    "Let's get started by looking at the SPECFEM3D repository."
   ]
  },
  {
   "cell_type": "code",
   "execution_count": null,
   "id": "3e541fc3-732e-4e4c-9da9-90a227cdb857",
   "metadata": {},
   "outputs": [],
   "source": [
    "# Python packages we will need for this notebook\n",
    "import matplotlib.pyplot as plt\n",
    "import numpy as np\n",
    "from IPython.display import Image"
   ]
  },
  {
   "cell_type": "code",
   "execution_count": null,
   "id": "2bf4298c-bfdd-428d-adbe-6423749c8880",
   "metadata": {},
   "outputs": [],
   "source": [
    "# Go to the SPECFEM3D directory\n",
    "%cd /home/scoped/specfem3d\n",
    "\n",
    "# Exploring the SPECFEM3D directory\n",
    "! ls"
   ]
  },
  {
   "cell_type": "markdown",
   "id": "e4331a55-bdf0-466c-bc28-37f824c853d7",
   "metadata": {},
   "source": [
    "Among the many folders (and files) listed above, the most notable ones are -\n",
    "- `bin/`\n",
    "- `DATA/`\n",
    "- `OUTPUT_FILES/`\n",
    "- `EXAMPLES/`\n",
    "- `src/`\n",
    "\n",
    "Let's look at these folders one by one.\n",
    "\n",
    "### 1a) ' bin/ ' directory"
   ]
  },
  {
   "cell_type": "code",
   "execution_count": null,
   "id": "1cf19452-e3c8-4f42-b2c8-660f22675df4",
   "metadata": {},
   "outputs": [],
   "source": [
    "! ls bin"
   ]
  },
  {
   "cell_type": "markdown",
   "id": "881d5a1f-0f3d-4db5-8f76-1ab9421f9457",
   "metadata": {},
   "source": [
    "- The `bin/` folder contains binary executable files which are essentially linked compiled fortran code generated after compiling various programs available with this package  \n",
    "- The most essential executables for a basic simulation are:  \n",
    "    - `xmeshfem3D`: also called SPECFEM3D's internal mesher, this program discretizes the simulation domain into small elements  \n",
    "    - `xgenerate_databases`: this database generation program assigns model parameter values to the elements  \n",
    "    - `xspecfem3D`: also called the solver, this program uses the mesh and the corresponding model parameter values assigned to the mesh elements, for numerically solving the wave equation  \n",
    "    \n",
    "### 1b) ' DATA/ ' directory\n"
   ]
  },
  {
   "cell_type": "code",
   "execution_count": null,
   "id": "f8c72c78-9042-4425-a297-a7497963e23f",
   "metadata": {},
   "outputs": [],
   "source": [
    "! ls DATA"
   ]
  },
  {
   "cell_type": "markdown",
   "id": "b018aafb-7650-4655-9b93-bf795e64d5e3",
   "metadata": {},
   "source": [
    "The `DATA/` folder is the input files folder and contains files and folders which describe the -\n",
    "- mesh: (`meshfem3D_files/`)\n",
    "- model: (`meshfem3D_files/`, `tomo_files/`)\n",
    "- source: (`CMTSOLUTION`, `FORCESOLUTION`)\n",
    "- station: (`STATIONS`)\n",
    "\n",
    "### 1c) ' OUTPUT_FILES/ ' directory\n"
   ]
  },
  {
   "cell_type": "code",
   "execution_count": null,
   "id": "89522de3-ce38-4285-b4b4-2e715122da6a",
   "metadata": {},
   "outputs": [],
   "source": [
    "! ls OUTPUT_FILES"
   ]
  },
  {
   "cell_type": "markdown",
   "id": "1afb1742-f509-4c38-84b8-35cb43627d61",
   "metadata": {},
   "source": [
    "- This `OUTPUT_FILES/` folder contains the output files of any SPECFEM3D job.   \n",
    "- The `DATABASES_MPI/` folder in the `OUTPUT_FILES/` folder contains the database files generated as a result of a meshing or database generation job. The database files can be very large in size.  \n",
    "- Other job files like log files for the various programs as well as the output seismograms are directly generated in the `OUTPUT_FILES/` folder.\n",
    "\n",
    "### 1d) ' src/ ' directory"
   ]
  },
  {
   "cell_type": "code",
   "execution_count": null,
   "id": "b5bb6206-a0bd-4c50-a7c1-b3057627793a",
   "metadata": {},
   "outputs": [],
   "source": [
    "! ls src"
   ]
  },
  {
   "cell_type": "markdown",
   "id": "fe6dcda2-3e3f-493a-8b9b-9748e0fcf37c",
   "metadata": {},
   "source": [
    "- The `src/` folder contains the source code for the various programs in SPECFEM3D.  \n",
    "- If you want to add to or modify some of SPECFEM3D's features, you need to modify one or more of the files in the 'src/' subfolders. \n",
    "- If you think the features you added would be useful to the broader SPECFEM3D community, please consider making a pull request to the SPECFEM3D github [repository](https://github.com/geodynamics/specfem3d/tree/devel) so that it can be reviewed and integrated to the package.  \n",
    "\n",
    "### 1e) ' EXAMPLES/ ' directory"
   ]
  },
  {
   "cell_type": "code",
   "execution_count": null,
   "id": "fe2f60b2-7036-4f90-b6c7-9194bf0484d8",
   "metadata": {},
   "outputs": [],
   "source": [
    "! ls EXAMPLES"
   ]
  },
  {
   "cell_type": "markdown",
   "id": "250ae152-71ee-4cec-87ea-abaf771132bb",
   "metadata": {},
   "source": [
    "- The `EXAMPLES/` folder contains a variety of examples to provide a quick start to the user on how to use SPECFEM3D and its various features. \n",
    "- The README files within the example folders within `EXAMPLES/` guide the user through the steps to run each example.  \n",
    "- Some of the highly recommended examples to start with, depending on your need to run SPECFEM3D, are:\n",
    "    - `homogeneous_halfspace/` - a simple homogeneous halfspace model based simulation\n",
    "    - `meshfem3D_examples/socal1D/` - a layered model based simulation\n",
    "    - `sensitivity_kernels_liutromp2006/` - adjoint simulations to generate the kernels in [Liu&Tromp 2006](https://pubs.geoscienceworld.org/ssa/bssa/article/96/6/2383/146674/Finite-Frequency-Kernels-Based-on-Adjoint-Methods)\n",
    "\n",
    ">__NOTE:__ README files, with steps to run these examples, should not undermine the detailing provided in the [manual](https://github.com/geodynamics/specfem3d/blob/master/doc/USER_MANUAL) on how to run SPECFEM3D.\n",
    "\n"
   ]
  },
  {
   "cell_type": "markdown",
   "id": "f8f4422f-78e7-4624-82be-ebc3f3f9d59b",
   "metadata": {},
   "source": [
    "- Here we will start with the `homogeneous halfspace/` example, and then move on to running simulations with layered models.  \n",
    "- We will also discuss some strategies to design meshes using SPECFEM3D's internal mesher.  "
   ]
  },
  {
   "cell_type": "markdown",
   "id": "96b11bb2-b7a4-4f1c-8deb-54af4fcea387",
   "metadata": {},
   "source": [
    "-----------"
   ]
  },
  {
   "cell_type": "markdown",
   "id": "3b47774a-5cba-4e9c-b859-ba5a3e1caffa",
   "metadata": {
    "tags": []
   },
   "source": [
    "## 2) Setting Up Simulations\n",
    "\n",
    "- It is often desirable to run SPECFEM outside of the cloned SPECFEM repository, in order to keep files and outputs manageable. \n",
    "- SPECFEM3D only requires the following 3 directories for a successful run -\n",
    "    - `bin/` (with compiled executables)\n",
    "    - `DATA/` (with the necessary input files)\n",
    "    - `OUTPUT_FILES/`\n",
    "\n",
    "In this section we will set up a separate SPECFEM3D working directory to work with.\n",
    "\n",
    ">__NOTE:__ The following cells assume that we are in the directory `/home/scoped/work/day_1/specfem3d_workdir`, so we must evaluate the '%cd' command (if needed) to ensure that cells work as expected."
   ]
  },
  {
   "cell_type": "code",
   "execution_count": null,
   "id": "d00e2ce8-2613-45e8-a115-64915c95ed45",
   "metadata": {},
   "outputs": [],
   "source": [
    "# Create separate working directory for SPECFEM3D\n",
    "! mkdir -p /home/scoped/work/day_1/specfem3d_workdir\n",
    "\n",
    "# Go to the SPECFEM3D working directory\n",
    "%cd /home/scoped/work/day_1/specfem3d_workdir\n",
    "\n",
    "# Symlink the binary files, and copy the relevant DATA/ directory\n",
    "! ln -s /home/scoped/specfem3d/bin .\n",
    "! mkdir -p OUTPUT_FILES/DATABASES_MPI\n",
    "\n",
    "# Look at the work directory\n",
    "! ls"
   ]
  },
  {
   "cell_type": "markdown",
   "id": "143a9beb-d574-456c-b9e9-b805347caa3f",
   "metadata": {},
   "source": [
    "- The work directory now has the `bin/` and the `OUTPUT_FILES/` folders.\n",
    "- The `DATA/` folder will be added in the subsequent sections depending on the example we want to run."
   ]
  },
  {
   "cell_type": "markdown",
   "id": "4f4b47bb-0b30-4cc0-ad31-57afd3213a45",
   "metadata": {},
   "source": [
    "-----------"
   ]
  },
  {
   "cell_type": "markdown",
   "id": "8049c01a-3857-40ae-a7cc-357288b8621c",
   "metadata": {},
   "source": [
    "## 3) Homogeneous Halfspace Simulations\n",
    "\n",
    "A SPECFEM3D simulation primarily involves three steps -\n",
    "- meshing\n",
    "- database generation\n",
    "- solving the wave equation\n",
    "\n",
    "We will go through these steps in the following example."
   ]
  },
  {
   "cell_type": "markdown",
   "id": "0098f1e7-43ab-4dea-8e43-f058bbe031a7",
   "metadata": {},
   "source": [
    "This example creates a homogeneous halfspace, i.e. a single volume block with a\n",
    "constant elastic material property, using SPECFEM3D's internal mesher, and runs a\n",
    "forward simulation."
   ]
  },
  {
   "cell_type": "code",
   "execution_count": null,
   "id": "4be55063-bd72-49b6-8d4f-fc2be913286e",
   "metadata": {},
   "outputs": [],
   "source": [
    "# Copy necessary input files for the homogeneous halfspace example\n",
    "! cp -r /home/scoped/specfem3d/EXAMPLES/homogeneous_halfspace/DATA .\n",
    "! cp -r /home/scoped/specfem3d/EXAMPLES/homogeneous_halfspace/meshfem3D_files DATA/.\n",
    "\n",
    "# Look at the DATA directory\n",
    "! ls DATA"
   ]
  },
  {
   "cell_type": "markdown",
   "id": "3e990f07-68c0-4869-a102-481a229d55d4",
   "metadata": {},
   "source": [
    "### Step 1) Meshing\n",
    "\n",
    "Here we generate the numerical mesh, or the discretization of our domain into finite elements"
   ]
  },
  {
   "cell_type": "code",
   "execution_count": null,
   "id": "ddb2179b-6c6d-410d-bb4f-993512f140cd",
   "metadata": {},
   "outputs": [],
   "source": [
    "# Explore the mesh files\n",
    "! ls DATA/meshfem3D_files"
   ]
  },
  {
   "cell_type": "code",
   "execution_count": null,
   "id": "fe4420a6-35dd-4297-8fe6-ba479173ddac",
   "metadata": {},
   "outputs": [],
   "source": [
    "# Check the Mesh_Par_file\n",
    "! cat DATA/meshfem3D_files/Mesh_Par_file"
   ]
  },
  {
   "cell_type": "code",
   "execution_count": null,
   "id": "c0f8e1ca-5b13-4278-8cd3-fc7519551533",
   "metadata": {},
   "outputs": [],
   "source": [
    "# Run mesher (xmeshfem3D)\n",
    "! mpiexec -np 4 ./bin/xmeshfem3D\n",
    "\n",
    "# Look at the generated mesh files\n",
    "! ls OUTPUT_FILES/DATABASES_MPI"
   ]
  },
  {
   "cell_type": "markdown",
   "id": "5b4b34d4-63ea-41de-b145-1841bfeabf55",
   "metadata": {},
   "source": [
    "### Step 2) Database Generation: Model assignment to mesh\n",
    "\n",
    "We generate database files which stores the GLL model to be used for simulations."
   ]
  },
  {
   "cell_type": "code",
   "execution_count": null,
   "id": "6eb71586-61bd-4cba-b7e3-7eacfea9cc82",
   "metadata": {},
   "outputs": [],
   "source": [
    "# Run database generator (xgenerate_databases)\n",
    "! mpiexec -np 4 ./bin/xgenerate_databases\n",
    "\n",
    "# Explore the generated database files\n",
    "! ls OUTPUT_FILES/DATABASES_MPI"
   ]
  },
  {
   "cell_type": "code",
   "execution_count": null,
   "id": "d1257259-6537-4e5e-b015-82d470e3d726",
   "metadata": {},
   "outputs": [],
   "source": [
    "# View the meshing and the Vp model\n",
    "# The following image was generated using Paraview\n",
    "! cp /home/scoped/adjdocs/workshops/2022-10-05_specfem_users/additional_material/day_1c/figures/mesh/example_A.png .\n",
    "Image(\"example_A.png\")"
   ]
  },
  {
   "cell_type": "markdown",
   "id": "8580bcb8-ff37-4c3e-862b-7fed57e80721",
   "metadata": {},
   "source": [
    "**Fig.** The homogeneous halfspace velocity (Vp) model and mesh. The model spans 134 km in the 'X' and 'Y' directions, and 60 km in the 'Z' direction. The mesh has 36 elements in the 'X' and 'Y' directions, and has 16 elements in the 'Z' direction. The halfspace has a Vp value of 2.8 km/s."
   ]
  },
  {
   "cell_type": "markdown",
   "id": "1a72ccd8-8dd0-4193-9ec3-24b52dcbd14f",
   "metadata": {},
   "source": [
    "#### Step 3) Simulation: Solving the wave equation\n",
    "\n",
    "Finally, we run the numerical solver to simulation seismic wave propagation within our mesh and model"
   ]
  },
  {
   "cell_type": "code",
   "execution_count": null,
   "id": "01919eeb-04b1-4f45-a0c4-c2b3a81148e0",
   "metadata": {},
   "outputs": [],
   "source": [
    "# Check the source definition\n",
    "! cat DATA/CMTSOLUTION"
   ]
  },
  {
   "cell_type": "markdown",
   "id": "f59a185a-4c13-40ed-a280-f55095ce3290",
   "metadata": {},
   "source": [
    "Read more about the CMTSOLUTION files [here](https://www.sciencedirect.com/science/article/pii/S0031920112000696?via%3Dihub)."
   ]
  },
  {
   "cell_type": "code",
   "execution_count": null,
   "id": "411d7c9e-dce4-41e1-8dc2-14a7c57a10a0",
   "metadata": {},
   "outputs": [],
   "source": [
    "# Check the stations file\n",
    "! cat DATA/STATIONS"
   ]
  },
  {
   "cell_type": "code",
   "execution_count": null,
   "id": "8913c3d1-43dd-4571-8829-9825eb1430d8",
   "metadata": {},
   "outputs": [],
   "source": [
    "# View the meshing and the Vp model (figure pre-generated using ParaView)\n",
    "! cp /home/scoped/adjdocs/workshops/2022-10-05_specfem_users/additional_material/day_1c/figures/source_station_geometry/sr.png .\n",
    "Image(\"sr.png\")"
   ]
  },
  {
   "cell_type": "markdown",
   "id": "f131bf10-e1a8-4f58-8782-998f7279d852",
   "metadata": {},
   "source": [
    "**Fig.** The source station geometry, in the homogeneous halfspace domain with the 'Y' dimension cut in half. The source and stations are placed on the plane of the slice. The source is at the center of the grid, while the stations are equally spaced on a section along the surface."
   ]
  },
  {
   "cell_type": "code",
   "execution_count": null,
   "id": "07e0b96c-470b-4f37-a005-20b369afed36",
   "metadata": {},
   "outputs": [],
   "source": [
    "# Check the Par_file\n",
    "! head -30 DATA/Par_file"
   ]
  },
  {
   "cell_type": "code",
   "execution_count": null,
   "id": "06090c90-d08c-45a1-8cb4-32c7b2963514",
   "metadata": {},
   "outputs": [],
   "source": [
    "! head -80 DATA/Par_file | tail -n 22"
   ]
  },
  {
   "cell_type": "code",
   "execution_count": null,
   "id": "11ef3e3c-5193-422b-bb76-2fd46896d434",
   "metadata": {},
   "outputs": [],
   "source": [
    "# Run the solver (xspecfem3D)\n",
    "%time ! mpiexec -np 4 ./bin/xspecfem3D"
   ]
  },
  {
   "cell_type": "markdown",
   "id": "c5c5fb5e-3580-4b0f-b37c-b880506afded",
   "metadata": {},
   "source": [
    ">__NOTE:__ solver runs should take ~5 minutes or less on a recent (as of 2022) laptop.\n",
    "\n",
    "Note the wall time for the simulation."
   ]
  },
  {
   "cell_type": "code",
   "execution_count": null,
   "id": "39ad16d7-67bd-4e42-a606-0a07a2e0868d",
   "metadata": {},
   "outputs": [],
   "source": [
    "# Look at the simulation output files\n",
    "! ls OUTPUT_FILES/"
   ]
  },
  {
   "cell_type": "code",
   "execution_count": null,
   "id": "7dfa0b35-0a7b-47cf-a908-69239701fc29",
   "metadata": {},
   "outputs": [],
   "source": [
    "# Explore the seismograms\n",
    "! head -25 OUTPUT_FILES/DB.X50.BXZ.semd "
   ]
  },
  {
   "cell_type": "code",
   "execution_count": null,
   "id": "20a6903b-6beb-4984-aefe-213a38acca6e",
   "metadata": {},
   "outputs": [],
   "source": [
    "# Plot the seismograms\n",
    "X20_Z = np.genfromtxt(\"OUTPUT_FILES/DB.X20.BXZ.semd\", dtype=None, names=(\"time\",\"BXZ\"))\n",
    "X30_Z = np.genfromtxt(\"OUTPUT_FILES/DB.X30.BXZ.semd\", dtype=None, names=(\"time\",\"BXZ\"))\n",
    "X40_Z = np.genfromtxt(\"OUTPUT_FILES/DB.X40.BXZ.semd\", dtype=None, names=(\"time\",\"BXZ\"))\n",
    "X50_Z = np.genfromtxt(\"OUTPUT_FILES/DB.X50.BXZ.semd\", dtype=None, names=(\"time\",\"BXZ\"))\n",
    "\n",
    "t = X20_Z[\"time\"]\n",
    "\n",
    "plt.title(\"Seismograms (Z - component)\")\n",
    "plt.xlabel(\"---- time -->\")\n",
    "plt.ylabel(\"---- displacement -->\")\n",
    "\n",
    "plt.plot(t,X20_Z[\"BXZ\"],label=\"X20\")\n",
    "plt.plot(t,X30_Z[\"BXZ\"],label=\"X30\")\n",
    "plt.plot(t,X40_Z[\"BXZ\"],label=\"X40\")\n",
    "plt.plot(t,X50_Z[\"BXZ\"],label=\"X50\")\n",
    "\n",
    "plt.legend(title=\"Station\")\n",
    "plt.savefig(\"seis.png\")"
   ]
  },
  {
   "cell_type": "code",
   "execution_count": null,
   "id": "fc2fb761-2a0e-49ba-836b-fa482b7547ac",
   "metadata": {},
   "outputs": [],
   "source": [
    "# We can also use the RecordSection tool to plot our synthetics\n",
    "! recsec --syn_path OUTPUT_FILES --source DATA/CMTSOLUTION --stations DATA/STATIONS --components XYZ --scale_by normalize \n",
    "Image(\"record_section.png\")"
   ]
  },
  {
   "cell_type": "code",
   "execution_count": null,
   "id": "8d676b79-52ce-4005-8fd3-3ca68e0df438",
   "metadata": {},
   "outputs": [],
   "source": [
    "# Let's remove the large sized database files to reduce storage requirements\n",
    "! rm -rf /home/scoped/work/day_1/specfem3d_workdir/OUTPUT_FILES/DATABASES_MPI"
   ]
  },
  {
   "cell_type": "markdown",
   "id": "a58c718b-4a8d-4e9c-ba7c-ab9ffb0f1625",
   "metadata": {},
   "source": [
    "**Congratulations! You have reached your destination.**"
   ]
  }
 ],
 "metadata": {
  "kernelspec": {
   "display_name": "Python 3 (ipykernel)",
   "language": "python",
   "name": "python3"
  },
  "language_info": {
   "codemirror_mode": {
    "name": "ipython",
    "version": 3
   },
   "file_extension": ".py",
   "mimetype": "text/x-python",
   "name": "python",
   "nbconvert_exporter": "python",
   "pygments_lexer": "ipython3",
   "version": "3.12.3"
  }
 },
 "nbformat": 4,
 "nbformat_minor": 5
}
