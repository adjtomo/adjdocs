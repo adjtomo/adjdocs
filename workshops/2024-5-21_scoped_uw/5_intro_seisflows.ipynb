{
 "cells": [
  {
   "cell_type": "markdown",
   "id": "347bc0f7-6dbe-454c-a95a-8469d8efe1c2",
   "metadata": {},
   "source": [
    "# 2024 SCOPED Workshop — Wavefield Simulations Using SPECFEM\n",
    "\n",
    "## Notebook 5: Introduction to SeisFlows\n",
    "\n",
    "- In this notebook we will introduce two open-source Python packages for facilitating/automating seismic imaging  \n",
    "- **Objective**: To introduce and tour around SeisFlows and Pyatoa, and see how they can be used to simplify working with SPECFEM     \n",
    "- These instructions should be run from inside a Docker container, using Jupyter Lab (see instructions [here](https://github.com/adjtomo/adjdocs/blob/main/readmes/docker_image_install.md)).  \n",
    "-----------\n",
    "\n",
    "**Relevant Links:** \n",
    "- This Notebook: https://github.com/adjtomo/adjdocs/blob/main/workshops/2024-5-21_scoped_uw/5_intro_seisflows.ipynb\n",
    "\n",
    "**adjTomo Software Suite:** \n",
    "- adjTomo: https://github.com/adjtomo\n",
    "- SeisFlows GitHub Page: https://github.com/adjtomo/seisflows\n",
    "- SeisFlows Documentation: https://seisflows.readthedocs.io/en/latest/\n",
    "\n",
    "\n",
    "**Jupyter Quick Tips:**\n",
    "\n",
    "- **Run cells** one-by-one by hitting the $\\blacktriangleright$ button at the top, or by hitting `Shift + Enter`\n",
    "- **Run all cells** by hitting the $\\blacktriangleright\\blacktriangleright$ button at the top, or by running `Run -> Run All Cells`\n",
    "- **Currently running cells** that are still processing will have a `[*]` symbol next to them\n",
    "- **Finished cells** will have a `[1]` symbol next to them. The number inside the brackets represents what order this cell has been run in.\n",
    "- Commands that start with `!` are Bash commands (i.e., commands you would run from the terminal)\n",
    "- Commands that start with `%` are Jupyter Magic commands."
   ]
  },
  {
   "cell_type": "markdown",
   "id": "c0acd55c-e9b3-4448-a327-ea23b797d6a5",
   "metadata": {},
   "source": [
    "----------\n",
    "## 0) Background\n",
    "\n",
    "- Full waveform inversion / adjoint tomography is an algorithmically and computationally complex procedure  \n",
    "- For real-world regional scale inversion, the number of events and stations can range from tens to hundreds  \n",
    "- For 3 component seismograms, this can reach tens of thousands of waveforms and misfit quantification calculations over the course of hundreds of simulations  \n",
    "- Automated workflow tools cut down on human time and operator error when running repetitive and iterative inversions  \n",
    "- They also free up research time to focus on details of an inversion, rather than implementation\n",
    "\n",
    "![fwi_workflow](https://user-images.githubusercontent.com/23055374/194435095-8def121f-edc7-4408-be46-c0b84352ac6c.png)\n",
    "\n",
    "\n",
    "### SeisFlows\n",
    "\n",
    "- SeisFlows is one available tool for automating forward and adjoint simulations, as well as seismic inversions. \n",
    "- It comes with a built-in command line tool, and is written completely in Python  \n",
    "- It provides `system` modules that allow it to interact with a variety of compute systems (laptops to HPC) using the same interface  \n",
    "- SPECFEM2D and local capabilities allow quick prototyping and facilitate transition to 3D runs on clusters\n",
    "- **BOTTOM LINE**: If you can successfully set up a forward problem yourself, then SeisFlows can take it from there and run the inverse problem.\n",
    "\n",
    "### Pyatoa\n",
    "\n",
    "- *Python's Adjoint Tomography Operations Assistant*: an ObsPy-like Python package used for misfit quantification  \n",
    "- High-level wrapper for Pyflex, Pyadjoint, PyASDF, Pandas and ObsPy, all focused on the seismic imaging problem  \n",
    "- Takes care of visualization and inversion assessment, implemented directly in the SeisFlows package but also operates as a standalone package \n",
    "- Motivated by tools and functionality I wish I had when performing a seismic inversion  "
   ]
  },
  {
   "cell_type": "code",
   "execution_count": null,
   "id": "ff08ecab-113f-42e7-a411-99345a98de06",
   "metadata": {},
   "outputs": [],
   "source": [
    "! seisflows -h"
   ]
  },
  {
   "cell_type": "markdown",
   "id": "8fdc87c6-9a67-4ca6-9094-6ef0510a767b",
   "metadata": {},
   "source": [
    "---------\n",
    "## 1) Automating the Forward Problem\n",
    "\n",
    "- We'll first show how SeisFlows automates the forward problem  \n",
    "- Users will need to supply starting model as well as real data or a target model  \n",
    "- A single `parameters.yaml` file controls all of the SeisFlows workflow  \n",
    "\n",
    "### 1a) Setting Up a SeisFlows Example Problem\n",
    "\n",
    "- This setup procedure does exactly what we did in Day 1B, takes the Tape 2007 example problem and runs a forward simulation \n",
    "- This particular example uses the perturbation checkerboard model as the underlying model  \n",
    "- See https://seisflows.readthedocs.io/en/devel/specfem2d_example.html for more examples\n",
    "- See https://seisflows.readthedocs.io/en/devel/2D_example_walkthrough.html to figure out what's going on under the hood  "
   ]
  },
  {
   "cell_type": "code",
   "execution_count": null,
   "id": "93bfc4ea-a94a-4d4d-9453-a7e11c0201d4",
   "metadata": {},
   "outputs": [],
   "source": [
    "# Required Python packages for today's notebook\n",
    "from pyasdf import ASDFDataSet\n",
    "from pyatoa import Inspector\n",
    "from IPython.display import Image"
   ]
  },
  {
   "cell_type": "code",
   "execution_count": null,
   "id": "a7c386f6-0c75-4d44-b532-a1455eefd1cc",
   "metadata": {},
   "outputs": [],
   "source": [
    "# Make sure we're in an empty working directory\n",
    "! rm -r /home/scoped/work/intro_seisflows\n",
    "! mkdir -p /home/scoped/work/intro_seisflows\n",
    "\n",
    "%cd /home/scoped/work/intro_seisflows\n",
    "\n",
    "# Setup Example 3, en-masse forward simulations. Don't run\n",
    "! seisflows examples setup 3 -r  /home/scoped/specfem2d/ --with_mpi --nproc 1"
   ]
  },
  {
   "cell_type": "code",
   "execution_count": null,
   "id": "0b8ec2ec-e88d-4cc5-ba5c-814da249e017",
   "metadata": {},
   "outputs": [],
   "source": [
    "# Under the hood, the example SETUP procedure has run a forward simulation to generate our starting model  \n",
    "! ls \n",
    "! echo\n",
    "# Similar to the working directories we have been using during Days 1-3\n",
    "! ls specfem2d_workdir\n",
    "! echo\n",
    "# OUTPUT_FILES contains model parameters\n",
    "! ls specfem2d_workdir/OUTPUT_FILES_INIT\n",
    "! echo\n",
    "# \n",
    "! ls specfem2d_workdir/OUTPUT_FILES_INIT/*.bin"
   ]
  },
  {
   "cell_type": "markdown",
   "id": "bc00f71a-7e46-47bf-99e4-9568b5ba3443",
   "metadata": {},
   "source": [
    "### 1b) The SeisFlows `parameters.yaml` file\n",
    "\n",
    "- Similar to the SPECFEM `Par_file`, the SeisFlows `parameters.yaml` file controls the SeisFlows workflow\n",
    "- Each 'module' of SeisFlows has a separate set of parameters\n",
    "- The 'modules' of SeisFlows include: \n",
    "    - **Workflow:** the type of workflow and collection of tasks to run (e.g., forward, migration, inversion)  \n",
    "    - **System:** controls interaction with the compute system (e.g., workstation, Slurm, Chinook)   \n",
    "    - **Solver:** choose *which* external solver SeisFlows will interact with (i.e, specfem2d, 3d, 3d_globe (W.I.P.))\n",
    "    - **Preprocess:** the preprocessing module to use for generating adjoint sources (i.e, default, Pyaflowa)\n",
    "    - **Optimize:** the nonlinear optimization algorithm to use for model updates (e.g., gradient descent, L-BFGS)"
   ]
  },
  {
   "cell_type": "code",
   "execution_count": null,
   "id": "b9935f36-5a96-4b4c-a4bf-a40038c50551",
   "metadata": {},
   "outputs": [],
   "source": [
    "# Looking at the available modules\n",
    "! head -n 33 parameters.yaml"
   ]
  },
  {
   "cell_type": "code",
   "execution_count": null,
   "id": "85e32c01-0463-44c9-a0c5-46b822f3ddd2",
   "metadata": {},
   "outputs": [],
   "source": [
    "# Workflow: Forward parameters\n",
    "! head -n 75 parameters.yaml | tail -n 42"
   ]
  },
  {
   "cell_type": "code",
   "execution_count": null,
   "id": "616b3a74-89f5-4ff2-8549-77205cfe5c27",
   "metadata": {},
   "outputs": [],
   "source": [
    "# Solver: SPECFEM2D parameters\n",
    "! head -n 213 parameters.yaml | tail -n 78"
   ]
  },
  {
   "cell_type": "markdown",
   "id": "6d428765-fdd0-4f51-9210-c96af6d43807",
   "metadata": {},
   "source": [
    "### 1c) Shared `DATA/` Directory\n",
    "\n",
    "- SeisFlows borrows files from the SPECFEM *DATA/* directory but requires some special formatting  \n",
    "- SeisFlows will look for `ntask` events with the prefix `source_prefix`\n",
    "- Therefore, in this case all source files must be in the form `SOURCE_*`\n",
    "- The suffix can be event names, ID numbers etc. They will be used to name and identify events during a workflow  \n"
   ]
  },
  {
   "cell_type": "code",
   "execution_count": null,
   "id": "32edd9db-9a78-4573-a78f-3ae3c6c26d5c",
   "metadata": {},
   "outputs": [],
   "source": [
    "! seisflows par ntask\n",
    "! seisflows par source_prefix\n",
    "! echo\n",
    "! ls specfem2d_workdir/DATA/SOURCE_*"
   ]
  },
  {
   "cell_type": "markdown",
   "id": "a6c774b2-4fd2-49e4-a415-8864d0af36f3",
   "metadata": {},
   "source": [
    "#### Required Paths\n",
    "\n",
    "- SeisFlows needs to know the path to the *DATA/* directory to grab these files  \n",
    "- SeisFlows also needs to know the path to the *bin/* directory so it can run SPECFEM executables  \n",
    "- Finally, SeisFlows needs to know the path to your **model** files. The User is responsible for generating their mesh and model!  \n",
    "- Additionally, SeisFlows maintains its own internal directory structure  "
   ]
  },
  {
   "cell_type": "code",
   "execution_count": null,
   "id": "31f44c3a-801f-4c44-b4d9-9b9a819e2475",
   "metadata": {},
   "outputs": [],
   "source": [
    "! tail -n 63 parameters.yaml"
   ]
  },
  {
   "cell_type": "markdown",
   "id": "bb5053b8-72b3-41e6-9509-e6ac4689e3b5",
   "metadata": {},
   "source": [
    "### 1d) Swapping Modules\n",
    "\n",
    "- SeisFlows can easily 'swap' modules from one to another  \n",
    "- Used to facilitate the transition from a 2D, local, development environment, to a 3D HPC run  \n",
    "- Replaces parameter set for **one** module only, leaving the others the same "
   ]
  },
  {
   "cell_type": "code",
   "execution_count": null,
   "id": "e35a9d1f-7f76-4000-987d-d74a94ddfd3f",
   "metadata": {},
   "outputs": [],
   "source": [
    "! seisflows print modules"
   ]
  },
  {
   "cell_type": "code",
   "execution_count": null,
   "id": "8037fcc7-36ac-481e-b6ff-cfbea14e6c11",
   "metadata": {},
   "outputs": [],
   "source": [
    "! seisflows par preprocess"
   ]
  },
  {
   "cell_type": "code",
   "execution_count": null,
   "id": "04e8a591-b903-43d3-9bd7-7ec096070085",
   "metadata": {},
   "outputs": [],
   "source": [
    "! seisflows swap preprocess default"
   ]
  },
  {
   "cell_type": "code",
   "execution_count": null,
   "id": "2939fd67-4a21-4441-a08e-368c4f87aa36",
   "metadata": {},
   "outputs": [],
   "source": [
    "! head -316 parameters.yaml | tail -n 103"
   ]
  },
  {
   "cell_type": "code",
   "execution_count": null,
   "id": "5fcd35d5-5677-49fe-acae-9b1ecd609bcb",
   "metadata": {},
   "outputs": [],
   "source": [
    "# Re-setting the preprocess module to None\n",
    "! seisflows swap preprocess null"
   ]
  },
  {
   "cell_type": "markdown",
   "id": "ba18054a-e058-47cf-8a6e-574a1e40dc4e",
   "metadata": {},
   "source": [
    "### 1e) Submit a Workflow\n",
    "\n",
    "- Independent of your system, workflow etc., SeisFlows has only one entry point for running a workflow (`seisflows submit`)\n",
    "- Under the hood, SeisFlows is doing what we manually did in the workshop, i.e., \n",
    "    - Generating working directories for each source\n",
    "    - Checking acceptability of model parameters  \n",
    "    - Setting the parameter file correctly for a forward simulation  \n",
    "    - Running `xmeshfem2D` and `xspecfem2D` for each of the 10 sources  \n",
    " "
   ]
  },
  {
   "cell_type": "code",
   "execution_count": null,
   "id": "802b63ea-2d19-4127-b847-f2d92c43ef8f",
   "metadata": {},
   "outputs": [],
   "source": [
    "! seisflows submit"
   ]
  },
  {
   "cell_type": "markdown",
   "id": "fed116d1-69c6-48d3-a8ec-a64d78ef4014",
   "metadata": {},
   "source": [
    "The workflow will be **complete** after it runs `xspecfem2D` for `source 010`"
   ]
  },
  {
   "cell_type": "markdown",
   "id": "7ca7195d-c929-45f4-8feb-41faf9022e1c",
   "metadata": {},
   "source": [
    "### 1f) Understanding a SeisFlows Working Directory\n",
    "\n",
    "- Similar to SPECFEM, SeisFlows outputs log files, and output files  \n",
    "- Most of the heavy lifting is done in the *scratch/* directory  \n",
    "- Any files that should be saved permanently (seismograms, updated models during inversion) are storred in the *output/* directory  \n",
    "- Any important log information (previously-used parameter files, error messages) are stored in the *logs/* directory  \n",
    "- SeisFlows has an internal checkpointing routine, which takes advantage of the *sflog.txt* **state** file  \n",
    "- See https://seisflows.readthedocs.io/en/devel/working_directory.html for more details"
   ]
  },
  {
   "cell_type": "code",
   "execution_count": null,
   "id": "7a0ac68d-ef60-4d36-a5df-20db1f10f7d9",
   "metadata": {},
   "outputs": [],
   "source": [
    "# All of the SeisFlows workflow is contained here\n",
    "! ls"
   ]
  },
  {
   "cell_type": "code",
   "execution_count": null,
   "id": "f39e5f32-0d16-47f9-b21f-fff1089e77a2",
   "metadata": {},
   "outputs": [],
   "source": [
    "# Model files are stored in the output/ directory\n",
    "! ls output\n",
    "! echo\n",
    "! ls output/MODEL_INIT\n",
    "\n",
    "# We can use SeisFlows command line tools to plot the initial model\n",
    "! seisflows plot2d MODEL_INIT vs --save output/m_init_vs.png\n",
    "Image(\"output/m_init_vs.png\")"
   ]
  },
  {
   "cell_type": "code",
   "execution_count": null,
   "id": "41d49dc9-0e4b-4d07-9f51-89e0b400c00b",
   "metadata": {},
   "outputs": [],
   "source": [
    "# Synthetic seismograms output by the solvers are stored here as well\n",
    "! ls output/solver\n",
    "! echo\n",
    "! ls output/solver/001\n",
    "! echo\n",
    "! ls output/solver/001/syn"
   ]
  },
  {
   "cell_type": "code",
   "execution_count": null,
   "id": "b57a0d32-4f09-418b-9274-095be164aac5",
   "metadata": {},
   "outputs": [],
   "source": [
    "# We can use the RecSec to plot synthetics\n",
    "! recsec --syn_path output/solver/001/syn/ --source specfem2d_workdir/DATA/SOURCE_001 --stations specfem2d_workdir/DATA/STATIONS --components Y --scale_by normalize --save output/record_section.png\n",
    "Image(\"output/record_section.png\")"
   ]
  },
  {
   "cell_type": "markdown",
   "id": "9c630ad3-98e8-4c1d-9ddc-72d4f87ea83c",
   "metadata": {},
   "source": [
    "### `scratch/` directory\n",
    "\n",
    "- The active working directory of SeisFlows where all of the heavy lifting takes place  \n",
    "- Each module in the SeisFlows package may have it’s own sub-directory where it stores temporary work data  \n",
    "- Additionally, we have two eval*/ directories where objective function evaluation (eval_func) and gradient evaluation (eval_grad) files are stored  "
   ]
  },
  {
   "cell_type": "code",
   "execution_count": null,
   "id": "046a347e-3bf2-4167-83e6-68aafc06718b",
   "metadata": {},
   "outputs": [],
   "source": [
    "! ls scratch"
   ]
  },
  {
   "cell_type": "code",
   "execution_count": null,
   "id": "299ad913-91f1-4b8b-b75b-457cf7253c17",
   "metadata": {},
   "outputs": [],
   "source": [
    "! ls scratch/solver"
   ]
  },
  {
   "cell_type": "code",
   "execution_count": null,
   "id": "99d791c1-c2b4-4b85-8d6f-76a97d7f0edb",
   "metadata": {},
   "outputs": [],
   "source": [
    "# Each solver directory is simply a SPECFEM workding directory controlled by SeisFlows\n",
    "# The main solver is used for tasks which are not mandatory for all events (e.g., smoothing)  \n",
    "! ls scratch/solver/001"
   ]
  },
  {
   "cell_type": "markdown",
   "id": "796a3507-d06c-46a5-aad0-9f68af4aef01",
   "metadata": {},
   "source": [
    "-----------\n",
    "## 2) Exercise: Run an Inversion w/ SeisFlows\n",
    "\n",
    "- Okay, now that we have solved the forward problem, we can tackle the inverse problem\n",
    "- We will take our current working directory and make adjustments to the required modules to run an inversion\n",
    "- First we'll clean up our working directory prior to getting started"
   ]
  },
  {
   "cell_type": "code",
   "execution_count": null,
   "id": "5a736c33-7deb-42ee-9cf3-b1feadc2a1c7",
   "metadata": {},
   "outputs": [],
   "source": [
    "# Move to the SeisFlows working directory\n",
    "%cd /home/scoped/work/intro_seisflows\n",
    "! ls "
   ]
  },
  {
   "cell_type": "markdown",
   "id": "0c3cda3f-bf6f-49cb-a47d-084d7868689f",
   "metadata": {},
   "source": [
    "------------\n",
    "In order to run our inversion, we will need a few components we did not have in the Forward problem, \n",
    "these tasks will help guide you into setting up your inversion. Much of the code you will need is available\n",
    "in previous notebooks. \n",
    "\n",
    "### Task 1) Create 'Data'\n",
    "\n",
    "#### Background\n",
    "- To run an inversion, we need some kind of 'data' to compare to our synthetics, the data-synthetic differences (i.e., **misfit**) will guide the inversion.\n",
    "- Often tomographers will run **synthetic inversions**, where are data consist of synthetic waveforms generated using a **target model**.\n",
    "- In this example, we will take the data we just created in our forward simulations to use as our **target synthetics**.\n",
    "\n",
    "#### Exercise Tasks\n",
    "1) Identify `path_data` in the 'parameters.yaml' file, this is where SeisFlows expects waveform data  \n",
    "   - You can open the file with the file manager, or use `seisflows par`\n",
    "2) Create the required directory structure in `path_data`, which follows the format `{path_data}/{event_id}/`   \n",
    "   - Each source requires its own sub-directory\n",
    "   - Follow the source naming convention we covered earlier\n",
    "3) Move or copy the synthetics generated by the forward problem we just ran into the directories you created in (2)  \n",
    "   - Remember that synthetics are stored in: `scratch/solver/{event_id}/traces/syn/*`  \n",
    "   - You can do this manually, with bash commands or with Python*)\n",
    "4) Confirm that you have `ntask` sub-directories in `path_data`, each containing synthetic waveform data"
   ]
  },
  {
   "cell_type": "code",
   "execution_count": null,
   "id": "28e53e23-75c9-4d18-afee-b8b283722de4",
   "metadata": {},
   "outputs": [],
   "source": [
    "# Space for Task 1"
   ]
  },
  {
   "cell_type": "markdown",
   "id": "a4ac0db5-1724-4b93-a453-a06f29669f53",
   "metadata": {},
   "source": [
    "---------------\n",
    "### Task 2) Generate a new 'Starting Model'\n",
    "\n",
    "- Because our 'data' was generated using the checkerboard model shown above, we need a new 'starting model'\n",
    "- If we do not change our starting model, the synthetics we generate will be the same as our **target synthetics**, resulting in 0 misfit\n",
    "- Let's modify the model located in `specfem2d_workdir`, there are two approaches with (1) being easier than (2).  \n",
    "\n",
    "#### Exercise Tasks\n",
    "\n",
    "**Option 1 (Homogeneous Halfspace):**\n",
    "1) Change the value of parameter `Model` in `specfem2d_workdir/DATA/Par_file` from `gll` -> `Default`\n",
    "    - You can do this manually or use `seisflows sempar`\n",
    "    - This will tell the internal mesher to use the parameter file definition of the model, which is a homogeneous halfspace\n",
    "2) Rerun `xmeshfem2D` and `xspecfem2D` to generate the required Model files. You can find the syntax for running these commands in previous notebooks.\n",
    "3) Reset `Model` parameter to `gll` for the inversion\n",
    "   - We do this because the actual inversion uses this option to be able to update model parameters\n",
    "\n",
    "**Option 2 (Checkerboard Perturbation):**\n",
    ">Warning: This requires some Python skill\n",
    "1) Change the value of parameter `Model` in `specfem2d_workdir/DATA/Par_file` from `gll` -> `legacy`\n",
    "    - This will tell the internal mesher to read model values from the file `model_velocity.dat_input`\n",
    "2) Find the file that defines the lgacy model values in `specfem2d_workdir/DATA` \n",
    "3) Modify this file in order to perturb the checkerboard model\n",
    "    - The easiest thing to do is increase or decrease P and S-wave velocity structure by some percentage of their original value (5%?)\n",
    "    - The column structure of this file is: `index, x-coordinate [m], y-coordinate [m], density, Vp [m/s], Vs [m/s]`\n",
    "    - Probably best to use Python to read, write and modify the file (e.g., with NumPy `loadtxt` and `savetxt`)\n",
    "5) Rerun `xmeshfem2D` and `xspecfem2D` to generate the required Model files. You can find these commands in previous notebooks.\n",
    "6) Reset `Model` parameter to `gll` for the inversion\n",
    "   - We do this because the actual inversion uses this option to be able to update model parameters\n"
   ]
  },
  {
   "cell_type": "code",
   "execution_count": null,
   "id": "e9c58d55-fb17-4e84-804f-297fc9a32b3d",
   "metadata": {},
   "outputs": [],
   "source": [
    "# Space for Task 2"
   ]
  },
  {
   "cell_type": "markdown",
   "id": "572618ca-8d9f-4545-9571-9e65de33aa0c",
   "metadata": {},
   "source": [
    "----------------\n",
    "### Task 3) Set up your SeisFlows Parameter File\n",
    "\n",
    "- Now we need to modify our existing parameter file to switch our workflow from Forward simulations to Inversion\n",
    "- Inversion workflows require additional modules for `preprocess` for data-synthetic comparisons, \n",
    "- They also require an `optimize` module which is in charge of model updates\n",
    "- We will use the `seisflows swap` command which swaps in the set of parameters associated with a given module\n",
    "- You can use the command `seisflows print modules` to check the available choices for each module\n",
    "\n",
    "#### Exercise Tasks\n",
    "\n",
    "1) `Swap` the `preprocess` module to option: `default`\n",
    "    - SeisFlows currently has two preprocessing modules, 'Default' and 'Pyaflowa'\n",
    "    - Both modules perform similar functionality, but Pyaflowa provides richer features such as windowing, improved data storage, and plotting\n",
    "2) `Swap` the `optimize` module to option: `gradient`\n",
    "    - The optimize module takes care of gradient regularization and model updates\n",
    "    - Other optimization modules include L-BFGS and Nonlinear Conjugate Gradient (NLCG)\n",
    "3) `Swap` the `workflow` module to option: `inversion`\n",
    "    - The `inversion` submodule builds upon the forward simulation and adds in functionality for generating kernels and updating models\n",
    "    - Other workflow modules include: Forward, Migration (for generating kernels), and NoiseInversion (for ambient noise adjoint tomography)\n",
    "4) Change the location of `path_model_init` which points to your starting model.  \n",
    "   - Note: in (2) we generated a starting model in `specfem2d_workdir/OUTPUT_FILES`\n",
    "   - You might use the command `seisflows par` to change parameters from the command line, or do this manually\n",
    "\n",
    "#### Optional Tasks\n",
    "- Have a look through the remainder of the parameter file, are there parameters you think would be useful to change?\n",
    "- You can run the Inversion as is, but advanced Users may play around with filtering (preprocess module) and smoothing (solver module) ."
   ]
  },
  {
   "cell_type": "code",
   "execution_count": null,
   "id": "78493896-593c-4cea-ae3e-4d5a73a6ee9c",
   "metadata": {},
   "outputs": [],
   "source": [
    "# Space for Task 3"
   ]
  },
  {
   "cell_type": "markdown",
   "id": "ff733799-0b2d-453f-8154-f57f7c367dfc",
   "metadata": {},
   "source": [
    "--------------\n",
    "### Task 4) Clean Up The Working Directory\n",
    "\n",
    "- Run `seisflows clean` to delete all of the files from the previous Forward simulation, getting ready for our inversion.\n",
    "- You can use the `-f/--force` option to skip over any 'are you sure about that?' prompts."
   ]
  },
  {
   "cell_type": "code",
   "execution_count": null,
   "id": "299c7c0c-02a5-4e67-ab94-5d274a126a02",
   "metadata": {},
   "outputs": [],
   "source": [
    "# Space for Task 4"
   ]
  },
  {
   "cell_type": "markdown",
   "id": "0e0c733f-f522-4617-9c73-36ab12fb1551",
   "metadata": {},
   "source": [
    "-------------\n",
    "### Task 5) Ready to Run? Check and See!\n",
    "\n",
    "- When your data are ready, and your parameter file is setup, you can perform a sanity check \n",
    "- Run `seisflows check` to perform a number of internal checks that makes sure paths and parameters are set properly  \n",
    "- If you receive any error messages from `seisflows check`, please fix them and re-run `seisflows check` to see if new errors pop up."
   ]
  },
  {
   "cell_type": "code",
   "execution_count": null,
   "id": "a70479e6-b751-4a1b-a977-f404a44dfc62",
   "metadata": {},
   "outputs": [],
   "source": [
    "# Space for Task 5"
   ]
  },
  {
   "cell_type": "markdown",
   "id": "16a4d650-8c4f-4935-a68e-a2f650d8be88",
   "metadata": {},
   "source": [
    "### Task 6) Let's go!\n",
    "\n",
    "If you think you're ready, run `seisflows submit` to start your inversion. "
   ]
  },
  {
   "cell_type": "code",
   "execution_count": null,
   "id": "1226fa1f-2836-4eb0-a501-64c8d587881d",
   "metadata": {},
   "outputs": [],
   "source": [
    "# Space for Task 6"
   ]
  }
 ],
 "metadata": {
  "kernelspec": {
   "display_name": "Python 3 (ipykernel)",
   "language": "python",
   "name": "python3"
  },
  "language_info": {
   "codemirror_mode": {
    "name": "ipython",
    "version": 3
   },
   "file_extension": ".py",
   "mimetype": "text/x-python",
   "name": "python",
   "nbconvert_exporter": "python",
   "pygments_lexer": "ipython3",
   "version": "3.12.3"
  }
 },
 "nbformat": 4,
 "nbformat_minor": 5
}
