{
 "cells": [
  {
   "cell_type": "markdown",
   "id": "347bc0f7-6dbe-454c-a95a-8469d8efe1c2",
   "metadata": {},
   "source": [
    "# 2024 SCOPED Workshop — Wavefield Simulations Using SPECFEM\n",
    "## Notebook 2: Forward Simulations — Exercise Solutions\n",
    "\n",
    "- Here we build upon material learned in Notebook 1\n",
    "- This notebook allows Users to play around with their own SPECFEM2D homogeneous halfspace example in an exercise  \n",
    "- **Objective:** Familiarize Users with setting `SOURCE` and `STATION` attributes, adjusting velocity model parameters, and assessing simulation results.\n",
    "- These instructions should be run from inside a Docker container, using Jupyter Lab (see instructions [here](https://github.com/adjtomo/adjdocs/blob/main/readmes/docker_image_install.md)).  \n",
    "\n",
    "-----------\n",
    "\n",
    "**Relevant Links:** \n",
    "- This Notebook: https://github.com/adjtomo/adjdocs/blob/main/workshops/2024-5-21_scoped_uw/2_forward_simulations.ipynb\n",
    "\n",
    "**Jupyter Quick Tips:**\n",
    "\n",
    "- **Run cells** one-by-one by hitting the $\\blacktriangleright$ button at the top, or by hitting `Shift + Enter`\n",
    "- **Run all cells** by hitting the $\\blacktriangleright\\blacktriangleright$ button at the top, or by running `Run -> Run All Cells`\n",
    "- **Currently running cells** that are still processing will have a `[*]` symbol next to them\n",
    "- **Finished cells** will have a `[1]` symbol next to them. The number inside the brackets represents what order this cell has been run in.\n",
    "- Commands that start with `!` are Bash commands (i.e., commands you would run from the terminal)\n",
    "- Commands that start with `%` are Jupyter Magic commands.\n",
    "- To time a task, put a `%time` before the command (e.g., `%time ! ls`)\n"
   ]
  },
  {
   "cell_type": "code",
   "execution_count": null,
   "id": "8f91e266-8d06-4ef5-ad68-acf30b1e3c16",
   "metadata": {},
   "outputs": [],
   "source": [
    "# Python packages required for this notebook\n",
    "import numpy as np\n",
    "import matplotlib.pyplot as plt\n",
    "from IPython.display import Image"
   ]
  },
  {
   "cell_type": "markdown",
   "id": "6fcefb08-43e0-4599-b98f-96bdab8e0f24",
   "metadata": {},
   "source": [
    "---------------------\n",
    "## 4) Forward Simulation Exercise\n",
    "\n",
    "- Participants will now be asked to edit simulation parameters to run their own simulation  \n",
    "- Some things that you are asked to try include:\n",
    "    1) Change the parameters of the homogeneous halfspace model defined in the `Par_file` \n",
    "    2) Define a *STATIONS* file with a uniform grid of stations to record synthetics throughout the domain\n",
    "    3) Choose a different source, or increase the energy released by the source (using the moment tensor)\n",
    "    4) Re-run the mesher and solver to get new synthetics\n",
    "    5) Analyze the new results in comparison to the old results\n",
    "- First we set up a working directory for you  "
   ]
  },
  {
   "cell_type": "code",
   "execution_count": null,
   "id": "6b9a5277-4a40-42aa-8fca-9b8046f0e84a",
   "metadata": {},
   "outputs": [],
   "source": [
    "! rm -rf /home/scoped/work/exercise_1\n",
    "! mkdir -p /home/scoped/work/exercise_1\n",
    "%cd /home/scoped/work/exercise_1\n",
    "\n",
    "# Symlink the executables, copy example DATA/, create empty OUTPUT_FILES\n",
    "! ln -s /home/scoped/specfem2d/bin .\n",
    "! cp -r /home/scoped/specfem2d/EXAMPLES/Tape2007/DATA .\n",
    "! mkdir OUTPUT_FILES\n",
    "\n",
    "# Set the Par_file\n",
    "! cp DATA/Par_file_Tape2007_onerec DATA/Par_file\n",
    "\n",
    "! ls"
   ]
  },
  {
   "cell_type": "markdown",
   "id": "8cd26365-87e4-40bd-800f-868afbd69676",
   "metadata": {
    "tags": []
   },
   "source": [
    "#### Task 1: Edit the Velocity Model\n",
    "- Change the velocity model parameters in the homogeneous halfspace model\n",
    "- Remember, the velocity model is defined in the `Par_file`\n",
    "- Try **increasing** seismic velocity (Vp and Vs) by 10\\%\n",
    "- You can use Python, Bash, `seisflows sempar` or a Text Editor to do this  "
   ]
  },
  {
   "cell_type": "code",
   "execution_count": null,
   "id": "652544c7-a0aa-4865-b55c-e47d879a99d4",
   "metadata": {},
   "outputs": [],
   "source": [
    "# Figure out current values\n",
    "! seisflows sempar -P DATA/Par_file velocity_model"
   ]
  },
  {
   "cell_type": "code",
   "execution_count": null,
   "id": "9601785b-282e-4f0d-93e6-a7785c4d24e1",
   "metadata": {},
   "outputs": [],
   "source": [
    "# Values figured out from the Par_file, increased by 10%\n",
    "vp = 5800. * 1.1\n",
    "vs = 3500. * 1.1\n",
    "\n",
    "print(f\"vp={vp:.2f}; vs={vs:.2f}\")"
   ]
  },
  {
   "cell_type": "code",
   "execution_count": null,
   "id": "a6a2fbff-96c1-436e-9c9f-5fecf13ec865",
   "metadata": {},
   "outputs": [],
   "source": [
    "# Overwrite the current velocity model with a +10% model\n",
    "! seisflows sempar -P DATA/Par_file velocity_model \"1 1 2600.d0 6380.d0 3850.0d0 0 0 10.d0 10.d0 0 0 0 0 0 0\""
   ]
  },
  {
   "cell_type": "markdown",
   "id": "6c61455a-91a7-49fd-a1c4-68da1576bd64",
   "metadata": {},
   "source": [
    "#### Task 2: Create a New STATIONS File\n",
    "- Define a STATIONS file that covers the **entire** domain with a uniform grid spacing of: \n",
    "    - dx = 80km \n",
    "    - dz = 80km\n",
    "    - x_start = 0km\n",
    "    - z_start = 0km\n",
    "- **Or** Create your own station configuration. Some examples: spiral, concentric rings, dense linear array (like DAS)\n",
    "- You can find the X and Z dimensions of the mesh in the `Par_file` and the `interfaces` file, respectively  \n",
    "- Use Python/NumPy to loop values, or simply write out a text file manually with the text editor\n",
    "- *Look* at *DATA/STATIONS_checker* for an example of how the file should look\n",
    "- **NOTE**: The last two columns (burial, elevation) can be set to 0  "
   ]
  },
  {
   "cell_type": "code",
   "execution_count": null,
   "id": "87933592-9a21-4469-a137-55aba4623735",
   "metadata": {},
   "outputs": [],
   "source": [
    "# Par_file defines the 'X' dimension of the mesh\n",
    "! head -293 DATA/Par_file | tail -n 3"
   ]
  },
  {
   "cell_type": "code",
   "execution_count": null,
   "id": "9f410ffc-a8d1-472d-9f35-aca9cbf1d327",
   "metadata": {},
   "outputs": [],
   "source": [
    "# Interfaces defines the 'Z' dimension of the mesh\n",
    "! cat DATA/interfaces_Tape2007.dat"
   ]
  },
  {
   "cell_type": "code",
   "execution_count": null,
   "id": "aa600cf4-0c81-4cad-acdc-5ab811f7eb47",
   "metadata": {},
   "outputs": [],
   "source": [
    "# Loop through X and Z discretizations of 40km\n",
    "i = 0\n",
    "with open(\"DATA/STATIONS\", \"w\") as f:\n",
    "    for x in range(0, 480000 + 1, 80000):\n",
    "        for z in range(0, 480000 + 1, 80000):\n",
    "            f.write(f\"S{i:0>6} AA {x:9.2f} {z:9.2f} 0. 0.\\n\")\n",
    "            i += 1\n",
    "            \n",
    "! cat DATA/STATIONS"
   ]
  },
  {
   "cell_type": "markdown",
   "id": "b1b6e9be-74d5-4362-9fe6-ab424f2a47c6",
   "metadata": {},
   "source": [
    "#### Task 3: Choose and edit a SOURCE file\n",
    "\n",
    "- Use one of the original sources as a template for your new source\n",
    "- **Set** the location of your source in the exact **middle** of your domain (or a location of your choice!)  \n",
    "- **Set** the moment tensor (Mxx, Mzz, Mxz) of your event to make this an **explosive** source (or a mechanism of your choice!)  \n",
    "- Don't change the scaling on the moment tensor  "
   ]
  },
  {
   "cell_type": "code",
   "execution_count": null,
   "id": "95d2adb6-09f0-4a01-91f9-958c3c94907c",
   "metadata": {},
   "outputs": [],
   "source": [
    "# 008 is roughly middle. Figure out what the current moment tensor components are\n",
    "! cp DATA/SOURCE_008 DATA/SOURCE\n",
    "! head -51 DATA/SOURCE | tail -n 3"
   ]
  },
  {
   "cell_type": "code",
   "execution_count": null,
   "id": "683dd391-72df-4a63-8c59-570ac8e86120",
   "metadata": {},
   "outputs": [],
   "source": [
    "lines = open(\"DATA/SOURCE\", \"r\").readlines()\n",
    "for i, line in enumerate(lines):\n",
    "    if \"xs\" in line:\n",
    "        lines[i] = \"xs = 240000\\n\"\n",
    "    elif \"zs\" in line: \n",
    "        lines[i] = \"zs = 240000\\n\"\n",
    "    else:\n",
    "        for value in [\"Mxx\", \"Mzz\", \"Mxz\"]:\n",
    "            if value in line:\n",
    "                lines[i] = f\"{value} = 1.0\\n\"\n",
    "\n",
    "with open(\"DATA/SOURCE\", \"w\") as f:\n",
    "    f.writelines(lines)\n",
    "    \n",
    "# Check the file\n",
    "! head -5 DATA/SOURCE\n",
    "! echo\n",
    "! head -51 DATA/SOURCE | tail -n 3"
   ]
  },
  {
   "cell_type": "markdown",
   "id": "c5f9886a-46bf-4834-8a5f-099c9da6aefd",
   "metadata": {},
   "source": [
    "#### Task 4: Run the Solver and Analyze Outputs\n",
    "\n",
    "- Run the mesher and solver with your new experimental setup and 4 MPI processes  \n",
    "- **Remember** to tell SPECFEM to use your `STATIONS` file and not its internal representation of stations\n",
    "- **Remember** to tell SPECFEM that we want to run this with 4 processors\n",
    "- Look at the source images to see if your explosion makes sense\n",
    "- Plot waveforms output from your gridded stations"
   ]
  },
  {
   "cell_type": "code",
   "execution_count": null,
   "id": "eb64e05c-d47a-49eb-a2a8-95df8e9189ae",
   "metadata": {},
   "outputs": [],
   "source": [
    "! seisflows sempar -P DATA/Par_file nproc 4\n",
    "! seisflows sempar -P DATA/Par_file use_existing_stations .true.\n",
    "\n",
    "! mpirun -n 4 bin/xmeshfem2D > OUTPUT_FILES/output_mesher.txt\n",
    "! mpirun -n 4 bin/xspecfem2D > OUTPUT_FILES/output_solver.txt\n",
    "\n",
    "! tail OUTPUT_FILES/output_solver.txt"
   ]
  },
  {
   "cell_type": "code",
   "execution_count": null,
   "id": "26c2ad29-00bc-45d0-9ba5-4f9e1c7eb871",
   "metadata": {},
   "outputs": [],
   "source": [
    "# Check your station configuration and source location\n",
    "Image(\"OUTPUT_FILES/forward_image000001200.jpg\")"
   ]
  }
 ],
 "metadata": {
  "kernelspec": {
   "display_name": "Python 3 (ipykernel)",
   "language": "python",
   "name": "python3"
  },
  "language_info": {
   "codemirror_mode": {
    "name": "ipython",
    "version": 3
   },
   "file_extension": ".py",
   "mimetype": "text/x-python",
   "name": "python",
   "nbconvert_exporter": "python",
   "pygments_lexer": "ipython3",
   "version": "3.12.3"
  }
 },
 "nbformat": 4,
 "nbformat_minor": 5
}
