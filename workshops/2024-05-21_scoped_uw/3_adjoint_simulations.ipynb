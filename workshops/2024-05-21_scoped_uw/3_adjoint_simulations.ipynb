{
 "cells": [
  {
   "cell_type": "markdown",
   "id": "347bc0f7-6dbe-454c-a95a-8469d8efe1c2",
   "metadata": {},
   "source": [
    "# 2024 SCOPED Workshop — Wavefield Simulations Using SPECFEM\n",
    "## Notebook 3: Kernels and Adjoint Simulations \n",
    "\n",
    "- In this notebook we will build upon the forward simulation training \n",
    "- Participants will learn about adjoint simulations and their role in seismic imaging\n",
    "- We will run adjoint simulations using synthetic data  \n",
    "- **Objective**: Introduce the concepts of: misfit, adjoint sources, and kernels and run an adjoint simulation  \n",
    "- Adjoint simulations are key for performing seismic imaging (Day 3) as their results guide iterative model updates during the inverse problem  \n",
    "- These instructions should be run from inside a Docker container, using Jupyter Lab (see instructions [here](https://github.com/adjtomo/adjdocs/blob/main/readmes/docker_image_install.md)).  \n",
    "-----------\n",
    "\n",
    "**Relevant Links:** \n",
    "- This Notebook: https://github.com/adjtomo/adjdocs/blob/main/workshops/2024-5-21_scoped_uw/3_adjoint_simulations.ipynb\n",
    "\n",
    "**Jupyter Quick Tips:**\n",
    "\n",
    "- **Run cells** one-by-one by hitting the $\\blacktriangleright$ button at the top, or by hitting `Shift + Enter`\n",
    "- **Run all cells** by hitting the $\\blacktriangleright\\blacktriangleright$ button at the top, or by running `Run -> Run All Cells`\n",
    "- **Currently running cells** that are still processing will have a `[*]` symbol next to them\n",
    "- **Finished cells** will have a `[1]` symbol next to them. The number inside the brackets represents what order this cell has been run in.\n",
    "- Commands that start with `!` are Bash commands (i.e., commands you would run from the terminal)\n",
    "- Commands that start with `%` are Jupyter Magic commands."
   ]
  },
  {
   "cell_type": "markdown",
   "id": "c0acd55c-e9b3-4448-a327-ea23b797d6a5",
   "metadata": {
    "tags": []
   },
   "source": [
    "-----------\n",
    "## 0) Motivation\n",
    "\n",
    "- In this Notebook we will be running adjoint simulations  \n",
    "- Our aim here is to generate a simple kernel as in the following figure from [Tape et al. (2007)](https://academic.oup.com/gji/article/168/3/1105/929373)  \n",
    "- In this notebook, we will manually assemble all the necessary ingredients to generate our kernel  \n",
    "\n",
    "![tape_2007_f5](https://user-images.githubusercontent.com/23055374/194212440-d55bde92-6ff3-42e1-9d35-d151c3567a45.jpeg)\n",
    "\n",
    "-----------\n",
    "## 1) Setting Up a SPECFEM2D Working Directory\n",
    "\n",
    "- As with Day 1, before we start we want to set up a clean working directory to run SPECFEM2D  \n",
    "- Reminder that SPECFEM only requires the *bin/*, *DATA/* and *OUTPUT_FILES/* directories to run most exectuables  \n",
    "- This will help us preserve our cloned repository and reduce file clutter  \n",
    "- We will be doing all our work in the directory `/home/scoped/work/day_2`, all the following cells assume that we are in this directory  "
   ]
  },
  {
   "cell_type": "code",
   "execution_count": null,
   "id": "797fb508-998d-470a-8142-7e3e61a063c4",
   "metadata": {},
   "outputs": [],
   "source": [
    "# Python packages we will use in this notebook\n",
    "import numpy as np\n",
    "import matplotlib.pyplot as plt\n",
    "from IPython.display import Image\n",
    "from scipy.integrate import simpson\n",
    "from seisflows.tools.model import Model \n",
    "from pyatoa import Config, Manager, logger\n",
    "from pysep.utils.io import read_sem"
   ]
  },
  {
   "cell_type": "code",
   "execution_count": null,
   "id": "a7c386f6-0c75-4d44-b532-a1455eefd1cc",
   "metadata": {},
   "outputs": [],
   "source": [
    "# Make correct dir. and move there\n",
    "! mkdir -p /home/scoped/work/kernels\n",
    "%cd /home/scoped/work/kernels\n",
    "\n",
    "# Symlink the executables and copy the relevant DATA/ directory\n",
    "! ln -s /home/scoped/specfem2d/bin .\n",
    "! cp -r /home/scoped/specfem2d/EXAMPLES/Tape2007/DATA .\n",
    "! mkdir OUTPUT_FILES\n",
    "\n",
    "! ls"
   ]
  },
  {
   "cell_type": "markdown",
   "id": "e6404755-a37c-40bf-aab5-377f46f57e9d",
   "metadata": {},
   "source": [
    "------------\n",
    "## 2) Experimental Setup: Tape et al. 2007 Example Problem\n",
    "\n",
    "- As with Notebook 2, we will be working with an example problem from the [Tape et al. 2007 GJI publication](https://academic.oup.com/gji/article/168/3/1105/929373)\n",
    "- We will be revisiting the **homogeneous halfspace** model we saw in Notebook 1.\n",
    "- We will also see a **perturbation checkerboard** model which defines a checkerboard with $\\pm$10\\% velocity perturbations  \n",
    "- The perturbation checkerboard is overlain ontop of the homogeneous halfspace model    \n",
    "- Here we use Python (NumPy and Matplotlib) to visualize the Example problem setup  \n",
    "- In your own research you may use their own preferred tools to visualize their experimental setup  "
   ]
  },
  {
   "cell_type": "code",
   "execution_count": null,
   "id": "c931b1f7-6aed-4d07-b3d8-a23c3cda3e46",
   "metadata": {},
   "outputs": [],
   "source": [
    "# Incase participants get lost, each numbered section \n",
    "# contains the absolute work dir path\n",
    "%cd /home/scoped/work/kernels"
   ]
  },
  {
   "cell_type": "markdown",
   "id": "45306979-343e-4c4e-b789-883b68f9c13d",
   "metadata": {},
   "source": [
    "### 2a) Homogeneous Halfspace Model\n",
    "\n",
    "- The homogeneous halfspace model example is defined in the `Par_file`, \n",
    "- It defines a region with P-wave velocity $V_p=$5.8km/s and S-wave velocity $V_s$=3.5km/s  \n",
    "- This is the **same model** that we looked at in Day 1B. We plot it below for reference  "
   ]
  },
  {
   "cell_type": "code",
   "execution_count": null,
   "id": "428d2630-5fe9-496d-97bb-9b8d5415d5b8",
   "metadata": {},
   "outputs": [],
   "source": [
    "def plot_homogeneous_halfspace():\n",
    "    \"\"\"\n",
    "    Plots a representation of the SPECFEM2D \n",
    "    homogeneous halfspace model\n",
    "    \"\"\"\n",
    "    # Sets the X and Z dimensions of our mesh\n",
    "    x = np.arange(0, 480000, 4000)\n",
    "    z = np.arange(0, 480000, 4000)\n",
    "    \n",
    "    # Reformat the 1D arrays into 2D\n",
    "    xv, zv = np.meshgrid(x, z)\n",
    "\n",
    "    # Set a homogeneous value of Vs=3.5km/s \n",
    "    vs = 3.5 * np.ones(np.shape(xv))\n",
    "\n",
    "    # Plot the arrays as a homogeneous halfspace\n",
    "    plt.tricontourf(xv.flatten(), zv.flatten(), vs.flatten(), \n",
    "                    cmap=\"seismic_r\", vmin=3.1, vmax=4.)\n",
    "    plt.colorbar(label=\"Vs [km/s]\", format=\"%.1f\")\n",
    "    plt.xlabel(\"X [m]\")\n",
    "    plt.ylabel(\"Z [m]\")\n",
    "    plt.title(\"2D Homogeneous Halfspace Model\\n Vs=3.5km/s\")\n",
    "    \n",
    "# Calls the function we just defined\n",
    "plot_homogeneous_halfspace()"
   ]
  },
  {
   "cell_type": "markdown",
   "id": "464ee1cf-0ad8-4c9e-834e-938e84aa7a40",
   "metadata": {},
   "source": [
    "### 2b) Perturbation Checkerboard Model\n",
    "\n",
    "- The checkerboard model features smoothly varying 2D Gaussians which perturbs the homogeneous halfspace model ($V_s$ and $V_p$) by roughly $\\pm$10%  \n",
    "- The checkerboard model is defined by an **external** velocity model file: *DATA/model_velocity.dat_checker*\n",
    "- SPECFEM can read external files of various formats to define the velocity model. \n",
    "- **SPECFEM3D NOTE**: In SPECFEM3D we typically use [external tomography files (.xyz)](https://specfem3d.readthedocs.io/en/latest/13_changing_the_model/#using-external-tomographic-earth-models) which defines coordinates (X, Y, Z) and material properties (e.g., Vp, Vs, rho, Q)\n",
    "- The following checkerboard model file similarly defines coordinates and material properties    \n",
    "\n",
    "The columns of the checkerboard model are defined: \n",
    "```bash\n",
    "line_number x[m] z[m] density vp[m/s] vs[m/s]\n",
    "```"
   ]
  },
  {
   "cell_type": "code",
   "execution_count": null,
   "id": "5cf42876-ffe6-4783-b93e-976e9bbe4a6d",
   "metadata": {},
   "outputs": [],
   "source": [
    "# Look at the first few lines of the checkerboard model\n",
    "! head DATA/model_velocity.dat_checker"
   ]
  },
  {
   "cell_type": "code",
   "execution_count": null,
   "id": "5f482fac-e497-4c37-b64d-68060f5c357a",
   "metadata": {},
   "outputs": [],
   "source": [
    "# Grab values of X, Z, Vs and Vp for plotting\n",
    "chkbd_x, chkbd_z, chkbd_vp, chkbd_vs = np.genfromtxt(\"DATA/model_velocity.dat_checker\", dtype=float, usecols=[1,2,4,5]).T\n",
    "\n",
    "def plot_checkerboard(x, z, c, label, alpha=1):\n",
    "    \"\"\"Simple re-usable model plotting function\"\"\"\n",
    "    plt.tricontourf(x, z, c, levels=125, cmap=\"seismic_r\", alpha=alpha)\n",
    "    plt.xlabel(\"X [m]\")\n",
    "    plt.ylabel(\"Z [m]\")\n",
    "    plt.title(\"Checkerboard Model\")\n",
    "    plt.colorbar(label=label)\n",
    "    \n",
    "plot_checkerboard(chkbd_x, chkbd_z, chkbd_vp, label=\"Vp [m/s]\")"
   ]
  },
  {
   "cell_type": "code",
   "execution_count": null,
   "id": "67bd7641-4128-4578-82c8-9dadfc31be41",
   "metadata": {},
   "outputs": [],
   "source": [
    "plot_checkerboard(chkbd_x, chkbd_z, chkbd_vs, label=\"Vs [m/s]\")"
   ]
  },
  {
   "cell_type": "markdown",
   "id": "bface18d-9f30-4ea0-808e-a5282e615fb3",
   "metadata": {},
   "source": [
    "#### Understanding the checkerboard\n",
    "- The mean (perturbed) velocity is equal to the homogeneous halfspace counterpart  \n",
    "- **red/warm** colors equal *relatively* **slow** velocities\n",
    "- **blue/cold** colors equal *relatively* **fast** velocities\n",
    "- This is the typical color convention scheme used in seismic imaging"
   ]
  },
  {
   "cell_type": "markdown",
   "id": "7dbbfc22-a140-4160-87b0-bda887572f8f",
   "metadata": {},
   "source": [
    "### 2c) Visualizing Source-Receiver Geometry\n",
    "\n",
    "- It's useful to plot SOURCES and STATIONS with respect to the checkerboard model  \n",
    "- These figures can give us some idea of how the underlying model will affect the resulting synthetics \n",
    "- These data grabbing / plotting functions are the same as Day 1  "
   ]
  },
  {
   "cell_type": "code",
   "execution_count": null,
   "id": "b771c1f0-d11f-4087-9206-f9e146857106",
   "metadata": {},
   "outputs": [],
   "source": [
    "# Grab coordinates from STATIONS file\n",
    "sta_x, sta_z = np.genfromtxt(\"DATA/STATIONS_checker\", dtype=float, usecols=[2, 3]).T\n",
    "\n",
    "# Grab coordinates from SOURCE files\n",
    "ev_x, ev_z = [], []\n",
    "for i in range(1, 26):\n",
    "    source_file = f\"DATA/SOURCE_{i:0>3}\"\n",
    "    with open(source_file, \"r\") as f:\n",
    "        lines = f.readlines()\n",
    "    # Trying to break apart the following line\n",
    "    # 'xs = 299367.72      # source location x in meters\\n'\n",
    "    xs = float(lines[2].split(\"=\")[1].split(\"#\")[0].strip())\n",
    "    zs = float(lines[3].split(\"=\")[1].split(\"#\")[0].strip())\n",
    "    \n",
    "    ev_x.append(xs)\n",
    "    ev_z.append(zs)\n",
    "    \n",
    "# Plot SOURCES and STATIONS on top of the checkerboard model\n",
    "plot_checkerboard(chkbd_x, chkbd_z, chkbd_vp, label=\"Vp [m/s]\")\n",
    "plt.scatter(sta_x, sta_z, c=\"c\", marker=\"v\", s=40, edgecolor=\"k\")\n",
    "plt.scatter(ev_x, ev_z, c=\"y\", marker=\"*\", s=150, edgecolor=\"k\")"
   ]
  },
  {
   "cell_type": "code",
   "execution_count": null,
   "id": "b3fc21b9-2d3b-448e-894a-e5b24613b492",
   "metadata": {},
   "outputs": [],
   "source": [
    "# Plot SOURCES next to source names\n",
    "plot_checkerboard(chkbd_x, chkbd_z, chkbd_vp, label=\"Vp [m/s]\", alpha=0.1)\n",
    "\n",
    "for i, (x, z) in enumerate(zip(ev_x, ev_z)):\n",
    "    plt.scatter(x, z, c=\"y\", marker=\"*\", edgecolor=\"k\", s=80)\n",
    "    plt.text(x, z, f\"{i+1:0>3}\", c=\"k\")  # SOURCE numbering starts at 1\n",
    "plt.title(f\"SOURCES; N={len(ev_x)}\")"
   ]
  },
  {
   "cell_type": "code",
   "execution_count": null,
   "id": "76bbb1fc-143b-465c-a602-fecf18db2577",
   "metadata": {
    "tags": []
   },
   "outputs": [],
   "source": [
    "# Plot STATIONS next to source names\n",
    "plot_checkerboard(chkbd_x, chkbd_z, chkbd_vp, label=\"Vp [m/s]\", alpha=0.1)\n",
    "\n",
    "for i, (x, z) in enumerate(zip(sta_x, sta_z)):\n",
    "    plt.scatter(x, z, c=\"c\", marker=\"v\", s=8, edgecolor=\"k\")\n",
    "    plt.text(x, z, f\"{i:0>3}\", fontsize=9)\n",
    "plt.title(f\"STATIONS; N={len(sta_x)}\")"
   ]
  },
  {
   "cell_type": "code",
   "execution_count": null,
   "id": "175b3d15-a4d3-44ea-a4dd-af009105c373",
   "metadata": {},
   "outputs": [],
   "source": [
    "# Plot the experimental setup we'll use for Section 2\n",
    "plot_checkerboard(chkbd_x, chkbd_z, chkbd_vp, label=\"Vp [m/s]\")\n",
    "\n",
    "# Plot SOURCE 1, STATION 1 and a connecting line\n",
    "plt.plot((sta_x[0], ev_x[0]), (sta_z[0], ev_z[0]), c=\"k\", ls=\":\", lw=2, zorder=1)\n",
    "plt.scatter(sta_x[0], sta_z[0], c=\"c\", marker=\"v\", s=100, edgecolor=\"k\")\n",
    "plt.scatter(ev_x[0], ev_z[0], c=\"y\", marker=\"*\", edgecolor=\"k\", s=200)\n",
    "\n",
    "plt.title(f\"SOURCE 01; STATION 01\")"
   ]
  },
  {
   "cell_type": "markdown",
   "id": "608f10cc-ec85-4ef3-af58-6d272595a6e7",
   "metadata": {},
   "source": [
    "#### Understanding Source-Receiver Figures\n",
    "\n",
    "- Upside-down blue triangles represent 132 receivers/stations  \n",
    "- Yellow stars represent 25 sources/events  \n",
    "- Red colors in the checkerboard model represent relatively **slow** velocities \n",
    "- Blue colors in the checkerboard model represent relatively **fast** velocities  \n"
   ]
  },
  {
   "cell_type": "markdown",
   "id": "311aa16b-ea8b-4e4d-963f-be0f2934befd",
   "metadata": {},
   "source": [
    "---------------\n",
    "## 3) Setting up an Adjoint Simulation\n",
    "\n",
    "- In this section we will learn how to set SPECFEM for an adjoint simulation  \n",
    "- We will need to generate adjoint sources (defined below)  \n",
    "- We will also need to make some `Par_file` edits\n",
    "\n",
    "#### Useful Definitions\n",
    "- `Adjoint simulation`: simulates the interaction of a forward and adjoint wavefield\n",
    "- `Forward wavefield`: the seismic wavefield propagated from the source location\n",
    "- `Adjoint wavefield`: a wavefield that propagates from receiver locations, whos time-dependent amplitude is controlled by adjoint sources\n",
    "- `Adjoint source`: time-reversed waveforms input at receiver locations. Typically they contain information about the forward wavefield (sensitivity kernels), or data-synthetic misfit (misfit kernel)  \n",
    "- `Kernel`: The volumetric integration of the interaction between the forward and adjoint wavefields, highlighting regions/parameters of the model that have an effect on the wavefield or misfit  \n",
    "\n",
    "#### Useful Information\n",
    "- SPECFEM saves the forward wavefield and propagates it **backwards in time**  \n",
    "- Adjoint wavefield propagates adjoint sources from each receiver simultaneously (i.e., **1** adjoint simulation per event)\n",
    "- Each component of each receiver therefore is capable of generating an adjoint source  \n",
    "- Adjoint sources can be selectively windowed to isolate certain parts of the synthetic seismogram  \n",
    "\n",
    "![tape_etal_2007_f5](https://user-images.githubusercontent.com/23055374/194212440-d55bde92-6ff3-42e1-9d35-d151c3567a45.jpeg)\n",
    "\n",
    "**[Tape et al. 2007 Figure 5:](https://academic.oup.com/view-large/figure/31726676/168-3-1105-fig005.jpeg)** *Sequence of interactions between the regular and adjoint wavefields during the construction of a traveltime cross‐correlation event kernel K(x). The ⋆ symbol denotes the source, and the Δ symbol denotes the receiver. Each row represents the time‐step indicated on the left... The event kernel shows the region of the current model that gives rise to the discrepancy between the data and the synthetics.*"
   ]
  },
  {
   "cell_type": "code",
   "execution_count": null,
   "id": "a567ee7a-579f-4820-ad38-c05ced13cd83",
   "metadata": {},
   "outputs": [],
   "source": [
    "%cd /home/scoped/work/kernels"
   ]
  },
  {
   "cell_type": "markdown",
   "id": "b4e4902b-4f80-4649-8310-239c09160b7c",
   "metadata": {},
   "source": [
    "### 3a) Generating 'Data' with a Target Model\n",
    "\n",
    "- **Objective:** Generate synthetic seismogram using checkerboard model\n",
    "- In the context of seismic imaging, adjoint sources are proportional to data-synthetic misfit  \n",
    "- We use the checkerboard model shown above as a `True` or `Target` \n",
    "- `Target` model is used to generate synthetic waveforms that are meant to approximate real world data. \n",
    "- In a real seismic inversion, data are actual waveforms recorded during a seismic event  \n",
    "- We will choose a single source and a single receiver to generate our misfit kernel  "
   ]
  },
  {
   "cell_type": "code",
   "execution_count": null,
   "id": "883a5828-1d21-432c-9c2c-5f707a2fd897",
   "metadata": {},
   "outputs": [],
   "source": [
    "# We use SOURCE 1 as our preferred event\n",
    "! cp -f DATA/SOURCE_001 DATA/SOURCE\n",
    "\n",
    "# We take the first line of the STATIONS file as our single station\n",
    "! head -1 DATA/STATIONS_checker > DATA/STATIONS\n",
    "\n",
    "# Copy the Parameter file and make some adjustments \n",
    "! cp -f DATA/Par_file_Tape2007_132rec_checker DATA/Par_file\n",
    "\n",
    "# Set parameters \n",
    "! seisflows sempar -P DATA/Par_file NSTEP 5000  # to match homogeneous halfspace Par_file\n",
    "! seisflows sempar -P DATA/Par_file save_model binary\n",
    "! seisflows sempar -P DATA/Par_file setup_with_binary_database 1\n",
    "\n",
    "# Ensure that SPECFEM can find the checkerboard model by naming it correctly\n",
    "! cp -f DATA/model_velocity.dat_checker DATA/proc000000_model_velocity.dat_input\n",
    "\n",
    "# Run Meshfem and SPECFEM SPECFEM2D \n",
    "! mpirun -n 1 bin/xmeshfem2D > OUTPUT_FILES/output_mesher.txt\n",
    "! mpirun -n 1 bin/xspecfem2D > OUTPUT_FILES/output_solver.txt\n",
    "\n",
    "# Rename the OUTPUT_FILES so that our next run doesn't overwrite files\n",
    "! mv OUTPUT_FILES OUTPUT_FILES_TRUE\n",
    "\n",
    "# Print the log message when the simulation is finished\n",
    "! tail OUTPUT_FILES_TRUE/output_solver.txt"
   ]
  },
  {
   "cell_type": "markdown",
   "id": "80a0ac39-8ea5-4746-811c-5a80d2bdc5f2",
   "metadata": {},
   "source": [
    "#### Parameter changes explained\n",
    "- `NSTEP` (number of time steps) is increased to 5000 to set synthetic waveform length  \n",
    "- `save_model` is set to binary so that SPECFEM outputs FORTRAN binary files defining the model  \n",
    "- `setup_with_binary_database` tells SPECFEM to write DATABASE files rather than discarding them  \n",
    "\n",
    ">__MPI NOTE__: We ran this simulation in serial (`NPROC`==1). If you wanted to this simulation in parallel (`NPROC`>1) you would also need to manually partition the checkerboard model (model_velocity.dat_checker -> proc000???_model_velocity.dat_input). This is a unique caveat of SPECFEM2D's Legacy input model type. Those using external tomography models (.xyz files) will **not** face this requirement."
   ]
  },
  {
   "cell_type": "code",
   "execution_count": null,
   "id": "18456f55-3a27-4f76-8cd1-0e198e27b445",
   "metadata": {},
   "outputs": [],
   "source": [
    "# SPECFEM has generated one synthetic seismogram\n",
    "! ls OUTPUT_FILES_TRUE/*semd\n",
    "\n",
    "# We can look at this 'data' waveform using SeisFlows plot\n",
    "! seisflows plotst OUTPUT_FILES_TRUE/AA.S000000.BXY.semd --savefig AA.S000000.BXY.png\n",
    "Image(\"AA.S000000.BXY.png\")"
   ]
  },
  {
   "cell_type": "markdown",
   "id": "718f2d5e-81fd-4990-9e3f-5688676f26ff",
   "metadata": {},
   "source": [
    "### 3b) Generating Synthetics using Initial Model\n",
    "\n",
    "- **Objective:** generate synthetic waveforms using the homogeneous halfspace model. \n",
    "- In this example we will use the homogeneous halfspace model as our `starting` or `initial` model  \n",
    "- We use the **same** source and receivers as the Target model, to ensure that we can compare the waveforms generated  \n",
    "- We expect that the waveform generated by the `Target` and `Initial` models will **differ**  "
   ]
  },
  {
   "cell_type": "code",
   "execution_count": null,
   "id": "cb0af2b3-e758-45c8-8241-613c8e4f983d",
   "metadata": {},
   "outputs": [],
   "source": [
    "# The SOURCE and STATIONS files should remain the same,\n",
    "# we only want to tell SPECFEM to use the homogeneous halfspace model\n",
    "! cp -f DATA/Par_file_Tape2007_onerec DATA/Par_file\n",
    "\n",
    "# Set some Par_file parameters to match the previous run\n",
    "! seisflows sempar -P DATA/Par_file use_existing_stations .true.\n",
    "! seisflows sempar -P DATA/Par_file save_model binary\n",
    "! seisflows sempar -P DATA/Par_file setup_with_binary_database 1\n",
    "! seisflows sempar -P DATA/Par_file save_forward .true.\n",
    "\n",
    "# Run SPECFEM with the homogeneous halfspace model, defined in the Par_file\n",
    "! rm -r OUTPUT_FILES\n",
    "! mkdir OUTPUT_FILES\n",
    "! mpirun -n 1 bin/xmeshfem2D > OUTPUT_FILES/output_mesher.txt\n",
    "! mpirun -n 1 bin/xspecfem2D > OUTPUT_FILES/output_solver.txt\n",
    "\n",
    "# Copy the OUTPUT_FILES so that our subsequent run doesn't overwrite files\n",
    "# We do this because the adjoint simulation will require DATABASE files located within\n",
    "! cp -r OUTPUT_FILES OUTPUT_FILES_INIT\n",
    "\n",
    "# Print the log message when the simulation is finished\n",
    "! tail OUTPUT_FILES_INIT/output_solver.txt"
   ]
  },
  {
   "cell_type": "markdown",
   "id": "34569ff8-ca90-4b2a-bfd1-dea0968f2596",
   "metadata": {},
   "source": [
    "#### Parameter changes explained\n",
    "\n",
    "- The parameters we have changed are the same as in Subsection (a)\n",
    "- The new `save_forward` parameter tells SPECFEM to save a snapshot of the last frame of the wavefield  \n",
    "- This snapshot is used to back-construct the forward wavefield during an adjoint simulation"
   ]
  },
  {
   "cell_type": "code",
   "execution_count": null,
   "id": "b1c1f952-5dde-4255-926c-6c8400a4e7ec",
   "metadata": {},
   "outputs": [],
   "source": [
    "# Look at the resulting outputs of the `save_forward` parameter\n",
    "! diff -qr OUTPUT_FILES_INIT/ OUTPUT_FILES_TRUE/ | grep 'Only'"
   ]
  },
  {
   "cell_type": "code",
   "execution_count": null,
   "id": "69c67556-4387-4213-9862-e2fb82ee3d6b",
   "metadata": {},
   "outputs": [],
   "source": [
    "# Again we can look at the waveform. We will compare in the next section\n",
    "! ls OUTPUT_FILES_INIT/*semd\n",
    "\n",
    "! seisflows plotst OUTPUT_FILES_INIT/AA.S000000.BXY.semd --savefig AA.S000000.BXY.png\n",
    "Image(\"AA.S000000.BXY.png\")"
   ]
  },
  {
   "cell_type": "code",
   "execution_count": null,
   "id": "3bd0121b-3778-444e-b6c0-d6aa3c661e3b",
   "metadata": {},
   "outputs": [],
   "source": [
    "! head OUTPUT_FILES/AA.S000000.BXY.semd"
   ]
  },
  {
   "cell_type": "markdown",
   "id": "41daf896-6549-4a48-8875-ad2e30d2b15c",
   "metadata": {},
   "source": [
    "### 3c) Misfit Quantification and Adjoint Sources\n",
    "\n",
    "- We use the term `misfit` to define differences between data and synthetics\n",
    "- Misfit can be defined based on a number of factors such as: phase, amplitude, or waveform differences\n",
    "- Adjoint sources are waveforms proportional to the time-dependent misfit\n",
    "- The chosen misfit function directly influences adjoint simulations and seismic imaging studies by extension  "
   ]
  },
  {
   "cell_type": "code",
   "execution_count": null,
   "id": "d1aff025-1a19-427a-821c-22c463018518",
   "metadata": {},
   "outputs": [],
   "source": [
    "# Read in the two-column ASCII files using NumPy where - t=time; d=data\n",
    "t_init, d_init = np.loadtxt(\"OUTPUT_FILES_INIT/AA.S000000.BXY.semd\").T\n",
    "t_true, d_true = np.loadtxt(\"OUTPUT_FILES_TRUE/AA.S000000.BXY.semd\").T\n",
    "\n",
    "# Plot both waveforms using Matplotlib\n",
    "plt.plot(t_init, d_init, c=\"r\", label=\"MODEL INIT; SYNTHETIC\")\n",
    "plt.plot(t_true, d_true, c=\"k\", label=\"MODEL TRUE; 'DATA'\")\n",
    "plt.xlabel(\"Time [s]\")\n",
    "plt.ylabel(\"Displacement [m]\")\n",
    "plt.legend()\n",
    "plt.show()"
   ]
  },
  {
   "cell_type": "code",
   "execution_count": null,
   "id": "ce9ad764-f43e-4243-93f6-6bb982190d30",
   "metadata": {},
   "outputs": [],
   "source": [
    "# Zoom in on waveform figure ignoring T<50s\n",
    "plt.plot(t_init, d_init, c=\"r\", label=\"MODEL INIT; SYNTHETIC\")\n",
    "plt.plot(t_true, d_true, c=\"k\", label=\"MODEL TRUE; 'DATA'\")\n",
    "plt.xlabel(\"Time [s]\")\n",
    "plt.ylabel(\"Displacement [m]\")\n",
    "plt.xlim((50,250))\n",
    "plt.legend()\n",
    "plt.show()"
   ]
  },
  {
   "cell_type": "markdown",
   "id": "100a9b97-4dcf-41ef-8d34-46dd56890691",
   "metadata": {},
   "source": [
    "#### Comments on Default Waveform Figure\n",
    "\n",
    "- `INIT` (red) synthetic shows a phase delay (negative time shift) with respect to the `TRUE` synthetic (black)  \n",
    "- This reflects that longer relative path length in the red/slow potion of the checkerboard  "
   ]
  },
  {
   "cell_type": "markdown",
   "id": "eaabe551-1c95-4404-9857-ac37a52fb7e5",
   "metadata": {
    "tags": []
   },
   "source": [
    "------------\n",
    "## 4) Misfit Quantification\n",
    "\n",
    "- **Objective**: Quantify the misfit between data and synthetic and generate adjoint source using Python and showing alternatives with Pyatoa\n",
    "- Misfit function will be defined by waveform misfit (also known as objective function)\n",
    "- Adjoint source defines the gradient of the misfit function\n",
    "- *Acknowledging that some of this section is modified from Ridvan Orsvuran's [Jupyter Notebook](https://github.com/rdno/simple_2d_kernel/blob/main/Simple_Specfem2D_Kernel.ipynb)*  \n",
    "\n",
    "\n",
    "### 4a) Misfit Calculation with Python\n",
    "- Waveform misfit function: $ \\chi = \\frac{1}{2} \\int [s(t)-d(t)]^2 dt~$  \n",
    "    - d(t): time-dependent 'data' waveform (black trace Section 2c)\n",
    "    - s(t): time-dependent 'synthetic' waveform (red trace Section 2c)  \n",
    "- In Python we will perform the integration step using using [Simpson's rule](https://docs.scipy.org/doc/scipy-0.14.0/reference/generated/scipy.integrate.simps.html)  "
   ]
  },
  {
   "cell_type": "code",
   "execution_count": null,
   "id": "1846d3d8-f5f3-41a5-bd4a-a4613b72c8c9",
   "metadata": {},
   "outputs": [],
   "source": [
    "# Integrate using scipy\n",
    "dt = t_true[1] - t_true[0]  # dt represents the time step\n",
    "misfit = 1/2 * simpson((d_true - d_init)**2, dx=dt)\n",
    "\n",
    "print(f\"misfit={misfit:.3E}\")"
   ]
  },
  {
   "cell_type": "markdown",
   "id": "69668b7b-aef7-4b55-b3a4-a24643362648",
   "metadata": {},
   "source": [
    "### 4b) Adjoint Source with Python\n",
    "\n",
    "- The adjoint source is a time-dependent measure of misfit  \n",
    "- It is defined as the **gradient** of the misfit function  \n",
    "- Waveform adjoint source: $f^\\dagger (t) = s(t) - d(t)$"
   ]
  },
  {
   "cell_type": "code",
   "execution_count": null,
   "id": "979e90b5-82a8-4151-b957-2759c5028ee3",
   "metadata": {},
   "outputs": [],
   "source": [
    "# Calculate the adjoint source using data and synthetic\n",
    "d_adj = d_init - d_true\n",
    "\n",
    "# Plot both waveforms using Matplotlib\n",
    "plt.plot(t_init, d_init, c=\"r\", label=\"MODEL INIT; SYNTHETIC\")\n",
    "plt.plot(t_true, d_true, c=\"k\", label=\"MODEL TRUE; 'DATA'\")\n",
    "plt.plot(t_init, d_adj, c=\"g\", label=\"ADJOINT SOURCE\")\n",
    "plt.xlabel(\"Time [s]\")\n",
    "plt.ylabel(\"Displacement [m]\")\n",
    "plt.xlim([50, 175])\n",
    "plt.legend()\n",
    "plt.show()"
   ]
  },
  {
   "cell_type": "markdown",
   "id": "4bb144a8-196d-48ab-9b39-841a2390cc47",
   "metadata": {},
   "source": [
    "#### Understanding the waveform adjoint source figure  \n",
    "- We can see that the adjoint source is equal to 0 when the waveforms are the same and peaks when the waveforms are the most different  \n",
    "- In this case we only have one component of an adjoint source (Y)\n",
    "- The adjoint source will be fed in at receiver locations during an adjoint simulation  \n",
    "- The resulting adjoint wavefield interacts with the forward wavefield to illuminate parts of the model that the misfit function is sensitive to  "
   ]
  },
  {
   "cell_type": "markdown",
   "id": "0681f486-4af6-4efb-a9c3-56ae30c8c0ca",
   "metadata": {},
   "source": [
    "-----------\n",
    "\n",
    "## 5) Running an Adjoint Simulation\n",
    "- To run an adjoint simulation in SPECFEM2D, we need to make a few changes to the parameter file\n",
    "- We will use our Python-derived adjoint source, which needs to be placed in a directory locateable by SPECFEM \n",
    "- **COMPONENT NOTE:** SPECFEM expects adjoint sources for **ALL** components, even if they do not have adjoint sources. These should just be waveforms with amplitude 0  \n",
    "- **SPECFEM3D NOTE:** SPECFEM3D also requires a *DATA/STATIONS_ADJOINT* file, which defines stations that have corresponding adjoint sources. \n",
    "- **TIME AXIS NOTE:** SPECFEM does **not** expect adjoint sources to be time-reversed. It does this internally  "
   ]
  },
  {
   "cell_type": "code",
   "execution_count": null,
   "id": "b6353b69-0382-4a2f-b9a0-a4433c19a65b",
   "metadata": {},
   "outputs": [],
   "source": [
    "%cd /home/scoped/work/kernels"
   ]
  },
  {
   "cell_type": "markdown",
   "id": "ec4bf0d0-8acf-4904-a935-ed619148a5c7",
   "metadata": {},
   "source": [
    "### 5a) Writing Adjoint Sources\n",
    "\n",
    "**IMPORTANT:** SPECFEM expects adjoint sources in a directory called `SEM/` with a specific format and filename\n",
    "\n",
    "- Adjoint sources should be defined in the same way that the synthetics have been created   \n",
    "- In this case that means two-column ASCII files where the time axis exactly matches the the synthetic outputs   \n",
    "- Filename must also match synthetics, but with a `.adj` suffix; i.e., for synthetic `AA.S000000.BXY.semd`, corresponding adjoint source is: `AA.S000000.BXY.adj`  "
   ]
  },
  {
   "cell_type": "code",
   "execution_count": null,
   "id": "4698c2e8-8126-4e8e-8a99-06edc97dd3bd",
   "metadata": {},
   "outputs": [],
   "source": [
    "# Make the requisite SEM/ directory\n",
    "! mkdir SEM/\n",
    "\n",
    "# Generate the two-column (time, data) format required\n",
    "adjoint_source = np.vstack((t_init, d_adj)).T\n",
    "\n",
    "# Save the .adj file as an ASCII file\n",
    "np.savetxt(\"SEM/AA.S000000.BXY.adj\", adjoint_source)\n",
    "! head SEM/AA.S000000.BXY.adj"
   ]
  },
  {
   "cell_type": "markdown",
   "id": "137539fe-a4ea-43de-a2dc-b5b9ba0efcee",
   "metadata": {},
   "source": [
    "### 5b) Run `xspecfem2D`\n",
    "\n",
    "- Now that we have the required setup in the `Par_file`, and the `SEM/` directory with the `.adj` adjoint source files, we can run the solver `xspecfem2D`  \n",
    "- We do **not** need to re-run the mesher as the adjoint simulations will run on the **same** numerical mesh that we used for our solver  \n",
    "\n",
    "#### Parameter file changes\n",
    "`simulation_type`: Simulation type 3 tells SPECFEM that we are running an adjoint simulation  \n",
    "`save_ASCII_kernels`: Tells SPECFEM to save the resulting misfit kernel in binary format (not ASCII)"
   ]
  },
  {
   "cell_type": "code",
   "execution_count": null,
   "id": "b904ad4d-74fb-440c-9d82-69dad200e348",
   "metadata": {},
   "outputs": [],
   "source": [
    "# Set the parameter file for an adjoint simulation\n",
    "! seisflows sempar -P DATA/Par_file simulation_type 3\n",
    "! seisflows sempar -P DATA/Par_file save_ASCII_kernels .false.\n",
    "\n",
    "! mpirun -n 1 bin/xspecfem2D > OUTPUT_FILES/output_adjsolver.txt\n",
    "\n",
    "# The adjoint solver also produces an informative log file\n",
    "! tail OUTPUT_FILES/output_adjsolver.txt\n",
    "\n",
    "# We can check this was an adjoint simulation because SPECFEM considers adjoint sources\n",
    "! echo\n",
    "! head -347 OUTPUT_FILES/output_adjsolver.txt | tail -n 5"
   ]
  },
  {
   "cell_type": "markdown",
   "id": "bbfb1bdb-bc04-455d-9f4e-3bcd6f1cbcba",
   "metadata": {},
   "source": [
    "### 5c) Understanding Adjoint Simulation Outputs\n",
    "\n",
    "- Adjoint simulations generate kernel files in the same format as the Databases and model files\n",
    "- Kernels are generated for each quantity that defines the model\n",
    "\n",
    "#### Event Kernel\n",
    "\n",
    "- The most important output of the adjoint simulation is the event kernel  \n",
    "- These files are named something like `proc*_alpha_kernel.bin` (here alpha==Vp)  \n",
    "- Kernels define the volumentric integration of the interaction between the forward and adjoint wavefields   \n",
    "- We'll rename these kernels to make them more intutive (alpha $\\rightarrow V_p$; beta $\\rightarrow V_s$)  "
   ]
  },
  {
   "cell_type": "code",
   "execution_count": null,
   "id": "e1196800-a0d3-47ea-8ad3-4266816e243b",
   "metadata": {},
   "outputs": [],
   "source": [
    "# Copy over the Model files so SeisFlows has access to coordinate information\n",
    "! cp -r DATA/*.bin OUTPUT_FILES\n",
    "\n",
    "# Rename alpha and beta kernels\n",
    "! cp OUTPUT_FILES/proc000000_alpha_kernel.bin OUTPUT_FILES/proc000000_vp_kernel.bin \n",
    "! cp OUTPUT_FILES/proc000000_beta_kernel.bin OUTPUT_FILES/proc000000_vs_kernel.bin "
   ]
  },
  {
   "cell_type": "code",
   "execution_count": null,
   "id": "020e8cd4-fd07-4eaa-a224-d5a7afeef6b6",
   "metadata": {},
   "outputs": [],
   "source": [
    "# Use SeisFlows to visualize the kernel\n",
    "m = Model(path=\"OUTPUT_FILES\")\n",
    "m.plot2d(\"vs_kernel\", show=False)\n",
    "\n",
    "# NOTE: The below code snippet is repeated from Section 1, make sure that has been run\n",
    "# Plot SOURCE 1, STATION 1 and a connecting line\n",
    "plt.plot((sta_x[0], ev_x[0]), (sta_z[0], ev_z[0]), c=\"k\", ls=\":\", lw=2, zorder=1)\n",
    "plt.scatter(sta_x[0], sta_z[0], c=\"c\", marker=\"v\", s=100, edgecolor=\"k\")\n",
    "plt.scatter(ev_x[0], ev_z[0], c=\"y\", marker=\"*\", edgecolor=\"k\", s=200)"
   ]
  },
  {
   "cell_type": "markdown",
   "id": "ddcedba8-e5ae-477f-9385-6609b3196300",
   "metadata": {},
   "source": [
    "#### Understanding the event kernel\n",
    "- Constructed via the interaction between the forward wavefield and the adjoint wavefield  \n",
    "- Illuminates sections of the model that the objective function is sensitive to\n",
    "- Note that the direct ray path (dotted line) has almost zero sensitivity (white)\n",
    "- The kernel is 'fat', meaninng sensitivity extends a finite width away from the direct raypath  \n",
    "- Generated by a single source-receiver pair here, but in larger adjoint simulations, will combine many adjoint sources\n",
    "\n",
    "\n",
    "#### SPECFEM2D Adjoint Images\n",
    "\n",
    "- SPECFEM2D also produces adjoint images which document the adjoint wavefield  \n",
    "- These do not show the interaction, but rather adjoint source emanating from the receiver location (i.e. column 2 in Tape et al. Fig 5)  "
   ]
  },
  {
   "cell_type": "code",
   "execution_count": null,
   "id": "d0177239-51a8-4063-8241-a847ef7d5a48",
   "metadata": {},
   "outputs": [],
   "source": [
    "Image(\"OUTPUT_FILES/adjoint_image000000200.jpg\")"
   ]
  },
  {
   "cell_type": "code",
   "execution_count": null,
   "id": "7db8edeb-79c9-4cf3-9be5-47b567248dc5",
   "metadata": {},
   "outputs": [],
   "source": [
    "Image(\"OUTPUT_FILES/adjoint_image000000800.jpg\")"
   ]
  },
  {
   "cell_type": "markdown",
   "id": "8745913d-082f-48a1-9f41-1307b4bff930",
   "metadata": {},
   "source": [
    "----------\n",
    "## 6) Smoothing/Regularizing Kernels\n",
    "\n",
    "- The kernel above is *complicated*, lots of fringes seen away from the actual kernel  \n",
    "- Regularization is a process that changes results to be *simpler*  \n",
    "- There are many instances in which you might want to regularize a kernel:\n",
    "    - If your data is band-limited, you may know that you don't have sensitivity to small-scale perturbations, which we can remove to get at large-scale structure\n",
    "    - Due to numerical discretization, areas around the source and receiver will have very large-amplitude, high-frequency kernels that are not realistic  \n",
    "    - Smooth away these small-scale perturbations to get at large-scale structure\n",
    "    \n",
    "    \n",
    "In SPECFEM we can smooth kernels as a form of regularization\n",
    "- We use the SPECFEM executable `xsmooth_sem` to convolve our kernel with a 2D Gaussian\n",
    "- We choose the X and Z half-widths of this Gaussian"
   ]
  },
  {
   "cell_type": "markdown",
   "id": "365a47c9-5787-44b6-acaf-934e067b707c",
   "metadata": {},
   "source": [
    " The usage of `xsmooth_sem` is given as\n",
    " ```bash\n",
    " USAGE:  mpirun -np NPROC bin/xsmooth_sem SIGMA_H SIGMA_V KERNEL_NAME INPUT_DIR OUTPUT_DIR GPU_MODE\n",
    " ```\n",
    " We will need to choose values and directories to make this work\n",
    "  - `SIGMA_H`: Horizontal smoothing length [m] representing the horizontal half-width of the Gaussian  \n",
    "  - `SIGMA_Z`: Vertical smoothing length [m] representing the vertical half-width of the Gaussian  \n",
    "  - `KERNEL_NAME`: The name of the kernel we want to smooth. Must match filename, so `proc000000_vs_kernel.bin` corresponds to a matching kernel name: `vs_kernel`  \n",
    "  - `INPUT_DIR`: where SPECFEM can find the kernel files\n",
    "  - `OUTPUT_DIR`: Where SPECFEM should output the SMOOTHED kernels \n",
    "  - `GPU_MODE`: Use GPU acceleration to speed up the smoothing operation (.true. or .false.)"
   ]
  },
  {
   "cell_type": "code",
   "execution_count": null,
   "id": "4be53dce-d39c-413d-b7ed-63cefe22a6f1",
   "metadata": {},
   "outputs": [],
   "source": [
    "# Run the smoothinig operation\n",
    "! mpirun -n 1 bin/xsmooth_sem 5000 5000 vs_kernel OUTPUT_FILES/ OUTPUT_FILES/ .false.\n",
    "\n",
    "# Smoothed kernels are renamed <KERNEL_NAMEL>_smooth\n",
    "! ls OUTPUT_FILES/*kernel*.bin\n",
    "\n",
    "# Rename kernel files so we can plot the smooth version with SeisFlows\n",
    "! mv OUTPUT_FILES/proc000000_vs_kernel.bin OUTPUT_FILES/proc000000_vs_kernel_raw.bin\n",
    "! mv OUTPUT_FILES/proc000000_vs_kernel_smooth.bin OUTPUT_FILES/proc000000_vs_kernel.bin\n",
    "\n",
    "# Use SeisFlows to visualize the kernel\n",
    "m = Model(\"OUTPUT_FILES\")\n",
    "m.plot2d(\"vs_kernel\", show=False)\n",
    "\n",
    "# Plot source and receiver on the kernel figure\n",
    "plt.plot((sta_x[0], ev_x[0]), (sta_z[0], ev_z[0]), c=\"k\", ls=\":\", lw=2, zorder=1)\n",
    "plt.scatter(sta_x[0], sta_z[0], c=\"c\", marker=\"v\", s=100, edgecolor=\"k\")\n",
    "plt.scatter(ev_x[0], ev_z[0], c=\"y\", marker=\"*\", edgecolor=\"k\", s=200)"
   ]
  },
  {
   "cell_type": "markdown",
   "id": "dab78391-c2ce-40f2-ac8e-cd4321d61661",
   "metadata": {},
   "source": [
    "#### Comparing RAW and SMOOTHED kernels\n",
    "\n",
    "- The amplitudes of the smoothed kernel are **smaller** than the raw kernel\n",
    "- The smoothed kernel looks visibly smoother (of course!)\n",
    "- Much more of the domain in the smoothed kernel shows amplitude of 0 (small-scale fringes removed)"
   ]
  }
 ],
 "metadata": {
  "kernelspec": {
   "display_name": "Python 3 (ipykernel)",
   "language": "python",
   "name": "python3"
  },
  "language_info": {
   "codemirror_mode": {
    "name": "ipython",
    "version": 3
   },
   "file_extension": ".py",
   "mimetype": "text/x-python",
   "name": "python",
   "nbconvert_exporter": "python",
   "pygments_lexer": "ipython3",
   "version": "3.12.3"
  }
 },
 "nbformat": 4,
 "nbformat_minor": 5
}
