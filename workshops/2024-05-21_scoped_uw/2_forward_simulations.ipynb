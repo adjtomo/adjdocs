{
 "cells": [
  {
   "cell_type": "markdown",
   "id": "347bc0f7-6dbe-454c-a95a-8469d8efe1c2",
   "metadata": {},
   "source": [
    "# 2024 SCOPED Workshop — Wavefield Simulations Using SPECFEM\n",
    "## Notebook 2: Forward Simulations\n",
    "\n",
    "- Here we build upon material learned in Notebook 1\n",
    "- This notebook allows Users to play around with their own SPECFEM2D homogeneous halfspace example in an exercise  \n",
    "- **Objective:** Familiarize Users with setting `SOURCE` and `STATION` attributes, adjusting velocity model parameters, and assessing simulation results.\n",
    "- These instructions should be run from inside a Docker container, using Jupyter Lab (see instructions [here](https://github.com/adjtomo/adjdocs/blob/main/readmes/docker_image_install.md)).  \n",
    "\n",
    "-----------\n",
    "\n",
    "**Relevant Links:** \n",
    "- This Notebook: https://github.com/adjtomo/adjdocs/blob/main/workshops/2024-5-21_scoped_uw/2_forward_simulations.ipynb\n",
    "\n",
    "**Jupyter Quick Tips:**\n",
    "\n",
    "- **Run cells** one-by-one by hitting the $\\blacktriangleright$ button at the top, or by hitting `Shift + Enter`\n",
    "- **Run all cells** by hitting the $\\blacktriangleright\\blacktriangleright$ button at the top, or by running `Run -> Run All Cells`\n",
    "- **Currently running cells** that are still processing will have a `[*]` symbol next to them\n",
    "- **Finished cells** will have a `[1]` symbol next to them. The number inside the brackets represents what order this cell has been run in.\n",
    "- Commands that start with `!` are Bash commands (i.e., commands you would run from the terminal)\n",
    "- Commands that start with `%` are Jupyter Magic commands.\n",
    "- To time a task, put a `%time` before the command (e.g., `%time ! ls`)\n"
   ]
  },
  {
   "cell_type": "markdown",
   "id": "17fed39d-3309-4957-b254-66c67ca131be",
   "metadata": {},
   "source": [
    "------\n",
    "## 1) Set Up a SPECFEM Working Directory\n",
    "\n",
    "- It is often desireable to run SPECFEM outside of the cloned repository, in order to keep files and outputs manageable  \n",
    "- The trick here is that SPECFEM **only** requires 3 compenents for a sucessful simulation: `bin/`, `DATA/`, and `OUTPUT_FILES/`  "
   ]
  },
  {
   "cell_type": "code",
   "execution_count": null,
   "id": "112187f5-8bbc-400a-ae1e-2e73927b8832",
   "metadata": {},
   "outputs": [],
   "source": [
    "# Python packages required for this notebook\n",
    "import numpy as np\n",
    "import matplotlib.pyplot as plt\n",
    "from IPython.display import Image"
   ]
  },
  {
   "cell_type": "code",
   "execution_count": null,
   "id": "a7c386f6-0c75-4d44-b532-a1455eefd1cc",
   "metadata": {},
   "outputs": [],
   "source": [
    "# Create the correct dir. and move there\n",
    "! mkdir -p /home/scoped/work/specfem2d_workdir\n",
    "%cd /home/scoped/work/specfem2d_workdir\n",
    "\n",
    "# Symlink the executables, copy example DATA/, create empty OUTPUT_FILES\n",
    "! ln -s /home/scoped/specfem2d/bin .\n",
    "! cp -r /home/scoped/specfem2d/EXAMPLES/Tape2007/DATA .\n",
    "! mkdir OUTPUT_FILES\n",
    "\n",
    "! ls"
   ]
  },
  {
   "cell_type": "markdown",
   "id": "e6404755-a37c-40bf-aab5-377f46f57e9d",
   "metadata": {},
   "source": [
    "----------\n",
    "## 2) Experimental Setup: Tape et al. 2007 Example Problem\n",
    "\n",
    "- We will be working with an Example problem from the [Tape et al. 2007 GJI publication](https://academic.oup.com/gji/article/168/3/1105/929373)\n",
    "- [GitHub repository location of the example problem](https://github.com/geodynamics/specfem2d/tree/devel/EXAMPLES/Tape2007)\n",
    "- This example pre-defines two models (homogeneous halfspace, checkerboard), multiple (25) seismic sources, and multiple (132) stations  \n",
    "- In this section we will use the homogeneous halfspace model  \n"
   ]
  },
  {
   "cell_type": "code",
   "execution_count": null,
   "id": "1a6f77cb-7fe9-4904-8b67-9c4cc01fa5c2",
   "metadata": {},
   "outputs": [],
   "source": [
    "! ls DATA/"
   ]
  },
  {
   "cell_type": "markdown",
   "id": "5d25b21b-88bd-49ad-a004-2546a25033c7",
   "metadata": {},
   "source": [
    "#### DATA/ Directory\n",
    "- `Par_file` for a homogeneous halfspace model in `Par_file_Tape2007_onerec`\n",
    "- `Par_file` for a checkerboard model in `Par_file_Tape2007_132rec_checker`\n",
    "- `Mesh` files in: *interfaces_Tape2007.dat* and the `Par_file_*`\n",
    "- `Model` files in: *model_velocity.dat_checker*\n",
    "- `Source` files in: the 25 *SOURCE_???* files\n",
    "- `Stations`: in the *STATIONS_checker* file"
   ]
  },
  {
   "cell_type": "markdown",
   "id": "45306979-343e-4c4e-b789-883b68f9c13d",
   "metadata": {},
   "source": [
    "### 2a) The Homogeneous Halfspace Model\n",
    "\n",
    "- The homogeneous halfspace model in this example is defined internally, in the `Par_file`\n",
    "- A homogeneous halfspace defines single set of properties for the entire domain  \n",
    "- We can also use the utility `seisflows sempar velocity_model` command to look at model values  "
   ]
  },
  {
   "cell_type": "code",
   "execution_count": null,
   "id": "750276b8-24a9-48df-98f9-fdfee1ccbc68",
   "metadata": {},
   "outputs": [],
   "source": [
    "# Bash commands to look at the Par_file\n",
    "! head -287 DATA/Par_file_Tape2007_onerec | tail -16\n",
    "! echo \"...\"\n",
    "\n",
    "# SeisFlows utility function to look at the Par_file\n",
    "! seisflows sempar -P DATA/Par_file_Tape2007_onerec velocity_model"
   ]
  },
  {
   "cell_type": "markdown",
   "id": "60e680ca-b9d9-4782-8e75-12cf3f8ecc7a",
   "metadata": {},
   "source": [
    "#### Understanding the Velocity Model \n",
    "According to the `Par_file` comments, the model parameter values represent the following:  \n",
    "\n",
    "```bash\n",
    "model_number 1 rho Vp Vs 0 0 QKappa Qmu  0 0 0 0 0 0\n",
    "1 1 2600.d0 5800.d0 3500.0d0 0 0 10.d0 10.d0 0 0 0 0 0 0\n",
    "```\n",
    "\n",
    "- The homogeneous halfspace model defines a region with P-wave velocity $V_p=5.8$km/s and S-wave velocity $V_s=3.5$km/s.\n",
    "- The halfspace is also defined by density and attenuation\n",
    "- We can understand the structure of the mesh by looking at the `Par_file` and the `interfaces_Tape2007.dat` file. "
   ]
  },
  {
   "cell_type": "code",
   "execution_count": null,
   "id": "d37b7b2c-f83c-4719-9ce1-ffd50656f1eb",
   "metadata": {},
   "outputs": [],
   "source": [
    "# Look at Mesh parameters to view the size of the domain\n",
    "! head -306 DATA/Par_file_Tape2007_onerec | tail -n 15"
   ]
  },
  {
   "cell_type": "code",
   "execution_count": null,
   "id": "782e1f9f-58df-4f81-b744-dbd67896f806",
   "metadata": {},
   "outputs": [],
   "source": [
    "# Look at interface parameters \n",
    "! cat DATA/interfaces_Tape2007.dat"
   ]
  },
  {
   "cell_type": "markdown",
   "id": "3f1ed3bc-e50a-4942-89be-34acd56077ea",
   "metadata": {},
   "source": [
    "#### Understanding the Mesh parameters\n",
    "\n",
    "- From the files above, we can see that the X and Z dimensions of our mesh range from 0 to 480000.0m\n",
    "- Each dimension is separated into 40 elements (defined by `nxmin`, `nxmax` etc. in the `Par_file` and defined by the layer numbers in the interfaces file)  \n",
    "- That means each spectral element in our 2D mesh spans: 480000m / 40 elements = 12000m / element  (or 12km / element)\n",
    "- Also note that above we previously learned that the $V_s$ model has a homogeneous value of 3.5 km/s\n",
    "\n",
    "#### Visualizing the Model\n",
    "We can make a simple plot using Matplotlib to illustrate what our mesh might look like"
   ]
  },
  {
   "cell_type": "code",
   "execution_count": null,
   "id": "0e8a6c6c-373b-431a-a3ca-5e7e3915d5df",
   "metadata": {},
   "outputs": [],
   "source": [
    "def plot_homogeneous_halfspace():\n",
    "    \"\"\"Plots a representation of the SPECFEM2D homogeneous halfspace model\"\"\"\n",
    "    # Sets the X and Z dimensions of our mesh\n",
    "    x = np.arange(0, 480001, 4000)\n",
    "    z = np.arange(0, 480001, 4000)\n",
    "    \n",
    "    # Reformat the 1D arrays into 2D\n",
    "    xv, zv = np.meshgrid(x, z)\n",
    "\n",
    "    # Set a homogeneous value of Vs=3.5km/s \n",
    "    vs = 3.5 * np.ones(np.shape(xv))\n",
    "\n",
    "    # Plot the arrays as a homogeneous halfspace\n",
    "    plt.tricontourf(xv.flatten(), zv.flatten(), vs.flatten(), cmap=\"seismic_r\", vmin=3.1, vmax=4.)\n",
    "    plt.colorbar(label=\"Vs [km/s]\", format=\"%.1f\")\n",
    "    plt.title(\"2D Homogeneous Halfspace Model\\n Vs=3.5km/s\")\n",
    "    \n",
    "# Calls the function we just defined\n",
    "plot_homogeneous_halfspace()\n",
    "\n",
    "# Plot grid lines representing each of the spectral elements\n",
    "for i in range(12000, 480000, 12000):\n",
    "    plt.axvline(i, c=\"k\", lw=0.5)\n",
    "    plt.axhline(i, c=\"k\", lw=0.5)"
   ]
  },
  {
   "cell_type": "markdown",
   "id": "7dbbfc22-a140-4160-87b0-bda887572f8f",
   "metadata": {},
   "source": [
    "### 2b) Visualizing Source-Receiver Geometry\n",
    "\n",
    "- We can similarly plot the SOURCES and STATIONS available to see what the experiemental setup looks like  \n",
    "- This is the same Python-based approach we took in the Day 1A notebook"
   ]
  },
  {
   "cell_type": "code",
   "execution_count": null,
   "id": "b771c1f0-d11f-4087-9206-f9e146857106",
   "metadata": {},
   "outputs": [],
   "source": [
    "# Grab coordinates from STATIONS file\n",
    "sta_x, sta_z = np.genfromtxt(\"DATA/STATIONS_checker\", dtype=float, usecols=[2, 3]).T\n",
    "\n",
    "# Grab coordinates from each SOURCE file\n",
    "ev_x, ev_z = [], []\n",
    "for i in range(1, 26):\n",
    "    source_file = f\"DATA/SOURCE_{i:0>3}\"\n",
    "    with open(source_file, \"r\") as f:\n",
    "        lines = f.readlines()\n",
    "    # Trying to break apart the following line\n",
    "    # 'xs = 299367.72      # source location x in meters\\n'\n",
    "    xs = float(lines[2].split(\"=\")[1].split(\"#\")[0].strip())\n",
    "    zs = float(lines[3].split(\"=\")[1].split(\"#\")[0].strip())\n",
    "    \n",
    "    ev_x.append(xs)\n",
    "    ev_z.append(zs)\n",
    "    \n",
    "# Plot SOURCES and STATIONS together. Annotate names\n",
    "plot_homogeneous_halfspace()\n",
    "plt.scatter(ev_x, ev_z, c=\"y\", marker=\"*\", s=100, edgecolor=\"k\")\n",
    "plt.scatter(sta_x, sta_z, c=\"c\", marker=\"v\", s=20, edgecolor=\"k\")\n",
    "plt.title(\"SOURCE-RECEIVER GEOMETRY\")"
   ]
  },
  {
   "cell_type": "code",
   "execution_count": null,
   "id": "b3fc21b9-2d3b-448e-894a-e5b24613b492",
   "metadata": {},
   "outputs": [],
   "source": [
    "# Plot SOURCES next to source names\n",
    "plot_homogeneous_halfspace()\n",
    "for i, (x, z) in enumerate(zip(ev_x, ev_z)):\n",
    "    plt.scatter(ev_x, ev_z, c=\"y\", marker=\"*\", s=100, edgecolor=\"k\")\n",
    "    plt.text(x, z, f\"{i+1:0>3}\")  # SOURCE numbering starts at 1\n",
    "plt.title(f\"SOURCES; N={len(ev_x)}\")"
   ]
  },
  {
   "cell_type": "code",
   "execution_count": null,
   "id": "76bbb1fc-143b-465c-a602-fecf18db2577",
   "metadata": {
    "tags": []
   },
   "outputs": [],
   "source": [
    "# Plot STATIONS with their names\n",
    "# Because STATIONS are so close, numbers will be jumbled.\n",
    "plot_homogeneous_halfspace()\n",
    "for i, (x, z) in enumerate(zip(sta_x, sta_z)):\n",
    "    plt.scatter(x, z, c=\"c\", marker=\"v\", s=12, edgecolor=\"k\")\n",
    "    plt.text(x, z, f\"{i:0>3}\", fontsize=9)\n",
    "plt.title(f\"STATIONS; N={len(sta_x)}\")"
   ]
  },
  {
   "cell_type": "markdown",
   "id": "608f10cc-ec85-4ef3-af58-6d272595a6e7",
   "metadata": {},
   "source": [
    "- Upside-down blue triangles represent the 132 receivers in this example\n",
    "- The 25 yellow stars are the sources. "
   ]
  },
  {
   "cell_type": "markdown",
   "id": "311aa16b-ea8b-4e4d-963f-be0f2934befd",
   "metadata": {},
   "source": [
    "----------\n",
    "## 3) Running SPECFEM2D\n",
    "\n",
    "- Before we run the example, we need to do some organizational bookkeeping  \n",
    "- We will choose ONE of our source files to act as our source\n",
    "- We will choose ONE stations to act as our station file  "
   ]
  },
  {
   "cell_type": "markdown",
   "id": "3a108d69-3f38-4957-84a4-a1524cf2e363",
   "metadata": {},
   "source": [
    "### 3a) Choosing a Source file\n",
    "\n",
    "- SPECFEM2D will look for a file named `SOURCE` in the *DATA/* directory to define its source"
   ]
  },
  {
   "cell_type": "code",
   "execution_count": null,
   "id": "ec99617a-eceb-47bb-a6dd-d1250baeb9d0",
   "metadata": {},
   "outputs": [],
   "source": [
    "# Choose SOURCE_001 as our SOURCE File\n",
    "! cp -f DATA/SOURCE_001 DATA/SOURCE\n",
    "\n",
    "# > Make sure that the SOURCE name printed below matches choice\n",
    "! head -1 DATA/SOURCE"
   ]
  },
  {
   "cell_type": "markdown",
   "id": "8128b017-4b09-471e-82e1-e870163fdc4c",
   "metadata": {},
   "source": [
    "### 3b) Choosing Stations\n",
    "\n",
    "- SPECFEM2D will look for a file named `STATIONS` in the *DATA/* directory to define its stations\n",
    "- The `STATIONS_checker` file defines 132 different station locations, we only want **one**  \n",
    "- *Remember*: Individual synthetic seismograms simply extract the simulated wavefield at a location, i.e., computational expense is not tied to the number of stations. "
   ]
  },
  {
   "cell_type": "code",
   "execution_count": null,
   "id": "820a30c4-995a-40f4-af31-d191df9de2a3",
   "metadata": {},
   "outputs": [],
   "source": [
    "# Write out a NEW stations file by choosing station numbers\n",
    "! head -1 DATA/STATIONS_checker > DATA/STATIONS\n",
    "! cat DATA/STATIONS"
   ]
  },
  {
   "cell_type": "markdown",
   "id": "434e7b88-c8df-445a-8b27-4aeca090ab79",
   "metadata": {},
   "source": [
    "### 3c) Setting up the `Par_file`\n",
    "\n",
    "- SPECFEM2D will look for a file called `Par_file` in the *DATA/* directory to set its parameters\n",
    "- We will copy over the `Par_file_Tape2007_onerec` to define our parameter file  \n",
    "- We need to change a few key parameters in the `Par_file` to run SPECFEM2D with desired behavior    \n",
    "- We use the `seisflows sempar` command to make the changes but this can be done with a text editor, Bash etc.  "
   ]
  },
  {
   "cell_type": "code",
   "execution_count": null,
   "id": "bd334756-1b7f-42ee-9ab7-d5dfe4885924",
   "metadata": {},
   "outputs": [],
   "source": [
    "# Copy in the Example parameter file\n",
    "! cp -f DATA/Par_file_Tape2007_onerec DATA/Par_file\n",
    "\n",
    "# Set some necessary parameters for later in the Par_file\n",
    "! seisflows sempar -P DATA/Par_file nproc 4\n",
    "! seisflows sempar -P DATA/Par_file use_existing_stations .true."
   ]
  },
  {
   "cell_type": "markdown",
   "id": "33f9725e-7961-4bfb-8e03-8c6fe182558a",
   "metadata": {},
   "source": [
    "#### Understanding Parameter Changes\n",
    "\n",
    "`NPROC`: Sets the number of MPI processors to partition the mesh and run the simulation with. This **must** match the value following `-n` in the MPI      \n",
    "`use_existing_STATIONS`: Use the STATIONS file we created, as opposed to the `Par_file` definition of stations  "
   ]
  },
  {
   "cell_type": "markdown",
   "id": "b4e4902b-4f80-4649-8310-239c09160b7c",
   "metadata": {},
   "source": [
    "### 3d) Run SPECFEM\n",
    "\n",
    "- Now that we have set the `Par_file`, the `SOURCE` and `STATIONS` file, we are able to run `xmeshfem2D` and `xspecfem2D` to run our forward simulation.\n",
    "- We use 4 MPI processes to run this homogeneous halfspace simulation\n",
    "- We expect only **one** synthetic seismogram to be output from this simulation  "
   ]
  },
  {
   "cell_type": "code",
   "execution_count": null,
   "id": "a7e9f27d-b9c7-4973-94b6-d70c18bb507d",
   "metadata": {},
   "outputs": [],
   "source": [
    "# Ensures we're running with a clean OUTPUT directory\n",
    "! rm -rf OUTPUT_FILES\n",
    "! mkdir OUTPUT_FILES\n",
    "\n",
    "! mpirun -n 4 bin/xmeshfem2D > OUTPUT_FILES/output_meshfem.txt\n",
    "! mpirun -n 4 bin/xspecfem2D > OUTPUT_FILES/output_solver.txt\n",
    "\n",
    "! tail OUTPUT_FILES/output_solver.txt"
   ]
  },
  {
   "cell_type": "markdown",
   "id": "137539fe-a4ea-43de-a2dc-b5b9ba0efcee",
   "metadata": {},
   "source": [
    "### 3e) Examine Output Files\n",
    "\n",
    "- Let's confirm that we have created **one** displacement seismogram\n",
    "- Then we'll look at the forward simulation figures to see if things make sense\n"
   ]
  },
  {
   "cell_type": "code",
   "execution_count": null,
   "id": "12fa8c43-0427-4e3e-a362-ff8b74bc49f9",
   "metadata": {},
   "outputs": [],
   "source": [
    "! ls OUTPUT_FILES/\n",
    "! echo\n",
    "! ls OUTPUT_FILES/*.semd"
   ]
  },
  {
   "cell_type": "code",
   "execution_count": null,
   "id": "d6c7c0be-dc4a-40e8-b90c-b11a95a62b5e",
   "metadata": {},
   "outputs": [],
   "source": [
    "# We can use SeisFlows to plot our waveform\n",
    "! seisflows plotst OUTPUT_FILES/AA.S000000.BXY.semd --savefig AA.S000000.BXY.png\n",
    "Image(\"AA.S000000.BXY.png\")"
   ]
  },
  {
   "cell_type": "code",
   "execution_count": null,
   "id": "ab3583a6-d390-4935-90ae-9daea4173032",
   "metadata": {},
   "outputs": [],
   "source": [
    "# We can also look at the wavefield snapshots\n",
    "Image(\"OUTPUT_FILES/forward_image000000800.jpg\")"
   ]
  },
  {
   "cell_type": "code",
   "execution_count": null,
   "id": "10c412a1-4e03-479b-84f8-5fdbdf0a2815",
   "metadata": {},
   "outputs": [],
   "source": [
    "# We can also look at the wavefield snapshots\n",
    "Image(\"OUTPUT_FILES/forward_image000001200.jpg\")"
   ]
  },
  {
   "cell_type": "code",
   "execution_count": null,
   "id": "c9ecc03a-4c45-412e-95ac-a8fe8cedc248",
   "metadata": {},
   "outputs": [],
   "source": [
    "# We can also look at the wavefield snapshots\n",
    "Image(\"OUTPUT_FILES/forward_image000002200.jpg\")"
   ]
  },
  {
   "cell_type": "markdown",
   "id": "6fcefb08-43e0-4599-b98f-96bdab8e0f24",
   "metadata": {},
   "source": [
    "---------------------\n",
    "## 4) Forward Simulation Exercise\n",
    "\n",
    "- Participants will now be asked to edit simulation parameters to run their own simulation  \n",
    "- Some things that you are asked to try include:\n",
    "    1) Change the parameters of the homogeneous halfspace model defined in the `Par_file` \n",
    "    2) Define a *STATIONS* file with a uniform grid of stations to record synthetics throughout the domain\n",
    "    3) Choose a different source, or increase the energy released by the source (using the moment tensor)\n",
    "    4) Re-run the mesher and solver to get new synthetics\n",
    "    5) Analyze the new results in comparison to the old results\n",
    "- First we set up a working directory for you  "
   ]
  },
  {
   "cell_type": "code",
   "execution_count": null,
   "id": "6b9a5277-4a40-42aa-8fca-9b8046f0e84a",
   "metadata": {},
   "outputs": [],
   "source": [
    "! rm -rf /home/scoped/work/exercise_1\n",
    "! mkdir -p /home/scoped/work/exercise_1\n",
    "%cd /home/scoped/work/exercise_1\n",
    "\n",
    "# Symlink the executables, copy example DATA/, create empty OUTPUT_FILES\n",
    "! ln -s /home/scoped/specfem2d/bin .\n",
    "! cp -r /home/scoped/specfem2d/EXAMPLES/Tape2007/DATA .\n",
    "! mkdir OUTPUT_FILES\n",
    "\n",
    "# Set the Par_file\n",
    "! cp DATA/Par_file_Tape2007_onerec DATA/Par_file\n",
    "\n",
    "! ls"
   ]
  },
  {
   "cell_type": "markdown",
   "id": "8cd26365-87e4-40bd-800f-868afbd69676",
   "metadata": {
    "tags": []
   },
   "source": [
    "#### Task 1: Edit the Velocity Model\n",
    "- Change the velocity model parameters in the homogeneous halfspace model\n",
    "- Remember, the velocity model is defined in the `Par_file`\n",
    "- Try **increasing** seismic velocity (Vp and Vs) by 10\\%\n",
    "- You can use Python, Bash, `seisflows sempar` or a Text Editor to do this  "
   ]
  },
  {
   "cell_type": "code",
   "execution_count": null,
   "id": "652544c7-a0aa-4865-b55c-e47d879a99d4",
   "metadata": {},
   "outputs": [],
   "source": []
  },
  {
   "cell_type": "markdown",
   "id": "6c61455a-91a7-49fd-a1c4-68da1576bd64",
   "metadata": {},
   "source": [
    "#### Task 2: Create a New STATIONS File\n",
    "- Define a STATIONS file that covers the **entire** domain with a uniform grid spacing of: \n",
    "    - dx = 80km \n",
    "    - dz = 80km\n",
    "    - x_start = 0km\n",
    "    - z_start = 0km\n",
    "- **Or** Create your own station configuration. Some examples: spiral, concentric rings, dense linear array (like DAS)\n",
    "- You can find the X and Z dimensions of the mesh in the `Par_file` and the `interfaces` file, respectively  \n",
    "- Use Python/NumPy to loop values, or simply write out a text file manually with the text editor\n",
    "- *Look* at *DATA/STATIONS_checker* for an example of how the file should look\n",
    "- **NOTE**: The last two columns (burial, elevation) can be set to 0  "
   ]
  },
  {
   "cell_type": "code",
   "execution_count": null,
   "id": "f3994090-d1cd-40e4-8533-f859af509020",
   "metadata": {},
   "outputs": [],
   "source": []
  },
  {
   "cell_type": "markdown",
   "id": "b1b6e9be-74d5-4362-9fe6-ab424f2a47c6",
   "metadata": {},
   "source": [
    "#### Task 3: Choose and edit a SOURCE file\n",
    "\n",
    "- Use one of the original sources as a template for your new source\n",
    "- **Set** the location of your source in the exact **middle** of your domain (or a location of your choice!)  \n",
    "- **Set** the moment tensor (Mxx, Mzz, Mxz) of your event to make this an **explosive** source (or a mechanism of your choice!)  \n",
    "- Don't change the scaling on the moment tensor  "
   ]
  },
  {
   "cell_type": "code",
   "execution_count": null,
   "id": "95d2adb6-09f0-4a01-91f9-958c3c94907c",
   "metadata": {},
   "outputs": [],
   "source": []
  },
  {
   "cell_type": "markdown",
   "id": "c5f9886a-46bf-4834-8a5f-099c9da6aefd",
   "metadata": {},
   "source": [
    "#### Task 4: Run the Solver and Analyze Outputs\n",
    "\n",
    "- Run the mesher and solver with your new experimental setup and 4 MPI processes  \n",
    "- **Remember** to tell SPECFEM to use your `STATIONS` file and not its internal representation of stations\n",
    "- **Remember** to tell SPECFEM that we want to run this with 4 processors\n",
    "- Look at the source images to see if your explosion makes sense\n",
    "- Plot waveforms output from your gridded stations"
   ]
  },
  {
   "cell_type": "code",
   "execution_count": null,
   "id": "eb64e05c-d47a-49eb-a2a8-95df8e9189ae",
   "metadata": {},
   "outputs": [],
   "source": []
  }
 ],
 "metadata": {
  "kernelspec": {
   "display_name": "Python 3 (ipykernel)",
   "language": "python",
   "name": "python3"
  },
  "language_info": {
   "codemirror_mode": {
    "name": "ipython",
    "version": 3
   },
   "file_extension": ".py",
   "mimetype": "text/x-python",
   "name": "python",
   "nbconvert_exporter": "python",
   "pygments_lexer": "ipython3",
   "version": "3.12.3"
  }
 },
 "nbformat": 4,
 "nbformat_minor": 5
}
